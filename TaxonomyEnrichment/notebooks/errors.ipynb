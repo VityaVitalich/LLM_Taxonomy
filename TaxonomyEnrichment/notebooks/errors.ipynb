{
 "cells": [
  {
   "cell_type": "code",
   "execution_count": 1,
   "metadata": {},
   "outputs": [
    {
     "name": "stderr",
     "output_type": "stream",
     "text": [
      "[nltk_data] Downloading package wordnet to /root/nltk_data...\n",
      "[nltk_data]   Package wordnet is already up-to-date!\n"
     ]
    }
   ],
   "source": [
    "import networkx as nx\n",
    "from tqdm import tqdm\n",
    "import random\n",
    "import numpy as np\n",
    "import pickle\n",
    "import os\n",
    "import glob\n",
    "import nltk\n",
    "nltk.download('wordnet')\n",
    "from nltk.corpus import wordnet as wn\n",
    "\n",
    "\n",
    "seed = 42\n",
    "random.seed(seed)\n",
    "np.random.seed(seed)"
   ]
  },
  {
   "cell_type": "code",
   "execution_count": 2,
   "metadata": {},
   "outputs": [],
   "source": [
    "G = nx.DiGraph()\n",
    "for synset in (wn.all_synsets('n')):\n",
    "    name = synset.name()\n",
    "    G.add_node(name)\n",
    "    hyponyms = synset.hyponyms()\n",
    "\n",
    "    for hypo in hyponyms:\n",
    "        new_name = hypo.name()\n",
    "        G.add_node(new_name)\n",
    "        G.add_edge(name, new_name)\n",
    "\n",
    "for synset in (wn.all_synsets('v')):\n",
    "    name = synset.name()\n",
    "    G.add_node(name)\n",
    "    hyponyms = synset.hyponyms()\n",
    "\n",
    "    for hypo in hyponyms:\n",
    "        new_name = hypo.name()\n",
    "        G.add_node(new_name)\n",
    "        G.add_edge(name, new_name)\n"
   ]
  },
  {
   "cell_type": "code",
   "execution_count": 39,
   "metadata": {},
   "outputs": [],
   "source": [
    "with open('../data/psychology/test_nodes.pickle', 'rb') as f:\n",
    "    test = pickle.load(f)"
   ]
  },
  {
   "cell_type": "code",
   "execution_count": 40,
   "metadata": {},
   "outputs": [],
   "source": [
    "total_parents = 0\n",
    "parents_in_wnet = 0 \n",
    "child_in_wnet = 0\n",
    "found_child = []\n",
    "\n",
    "for child, parents in test:\n",
    "    child = child.replace(' ', '_')\n",
    "    for i in range(10):\n",
    "        true_name = f'{child}.n.0{i}'\n",
    "        if true_name in G.nodes():\n",
    "            child_in_wnet += 1\n",
    "            found_child.append((child, parents))\n",
    "            break\n",
    "    \n",
    "    for parent in parents:\n",
    "        total_parents += 1\n",
    "        parent = parent.replace(' ', '_')\n",
    "        for i in range(10):\n",
    "            true_name = f'{parent}.n.0{i}'\n",
    "            if true_name in G.nodes():\n",
    "                parents_in_wnet += 1\n",
    "                break"
   ]
  },
  {
   "cell_type": "code",
   "execution_count": 41,
   "metadata": {},
   "outputs": [
    {
     "data": {
      "text/plain": [
       "(1286, 801, 55, 55)"
      ]
     },
     "execution_count": 41,
     "metadata": {},
     "output_type": "execute_result"
    }
   ],
   "source": [
    "total_parents, parents_in_wnet, child_in_wnet, len(found_child)"
   ]
  },
  {
   "cell_type": "code",
   "execution_count": 42,
   "metadata": {},
   "outputs": [],
   "source": [
    "found_parents = []\n",
    "for child, parents in found_child:\n",
    "    found = False\n",
    "    for parent in parents:\n",
    "        total_parents += 1\n",
    "        parent = parent.replace(' ', '_')\n",
    "        if not found:\n",
    "            for i in range(10):\n",
    "                true_name = f'{parent}.n.0{i}'\n",
    "                if true_name in G.nodes():\n",
    "                    found_parents.append((child, parents))\n",
    "                    found = True\n",
    "                    break"
   ]
  },
  {
   "cell_type": "code",
   "execution_count": 43,
   "metadata": {},
   "outputs": [
    {
     "data": {
      "text/plain": [
       "42"
      ]
     },
     "execution_count": 43,
     "metadata": {},
     "output_type": "execute_result"
    }
   ],
   "source": [
    "len(found_parents)"
   ]
  },
  {
   "cell_type": "code",
   "execution_count": 44,
   "metadata": {},
   "outputs": [
    {
     "data": {
      "text/plain": [
       "('physiological_nystagmus', ['eye movement'])"
      ]
     },
     "execution_count": 44,
     "metadata": {},
     "output_type": "execute_result"
    }
   ],
   "source": [
    "found_parents[2]"
   ]
  },
  {
   "cell_type": "code",
   "execution_count": 45,
   "metadata": {},
   "outputs": [],
   "source": [
    "paths = []\n",
    "cp = []\n",
    "for child, parents in found_parents:\n",
    "    child = child.replace(' ', '_')\n",
    "    for i in range(10):\n",
    "        child_true_name = f'{child}.n.0{i}'\n",
    "        if child_true_name in G.nodes():\n",
    "            for parent in parents:\n",
    "                total_parents += 1\n",
    "                parent = parent.replace(' ', '_')\n",
    "                for i in range(10):\n",
    "                    true_name = f'{parent}.n.0{i}'\n",
    "                    if true_name in G.nodes():\n",
    "                        try:\n",
    "                            paths.append(nx.shortest_path_length(G, true_name, child_true_name))\n",
    "                        except nx.NetworkXNoPath:\n",
    "                            paths.append(-1)\n",
    "\n",
    "                        cp.append((true_name, child_true_name))\n",
    "                        break\n",
    "            break"
   ]
  },
  {
   "cell_type": "code",
   "execution_count": 46,
   "metadata": {},
   "outputs": [],
   "source": [
    "for c, p in test:\n",
    "    if c == 'afterimage':\n",
    "        print(c, p)"
   ]
  },
  {
   "cell_type": "code",
   "execution_count": 47,
   "metadata": {},
   "outputs": [
    {
     "data": {
      "text/plain": [
       "(array([False,  True, False, False,  True, False, False, False, False,\n",
       "         True, False, False, False, False, False, False, False, False,\n",
       "        False, False, False, False, False, False,  True, False, False,\n",
       "        False, False]),\n",
       " ('anticonvulsant.n.01', 'ethosuximide.n.01'))"
      ]
     },
     "execution_count": 47,
     "metadata": {},
     "output_type": "execute_result"
    }
   ],
   "source": [
    "(np.array(paths) != -1)[28:], cp[29]"
   ]
  },
  {
   "cell_type": "code",
   "execution_count": 48,
   "metadata": {},
   "outputs": [
    {
     "data": {
      "text/plain": [
       "2"
      ]
     },
     "execution_count": 48,
     "metadata": {},
     "output_type": "execute_result"
    }
   ],
   "source": [
    "nx.shortest_path_length(G, 'ant.n.01', 'formica_fusca.n.01')"
   ]
  },
  {
   "cell_type": "code",
   "execution_count": 49,
   "metadata": {},
   "outputs": [
    {
     "data": {
      "text/plain": [
       "(array([2, 2, 1, 0, 1, 4]), 1.6666666666666667, 51, 57)"
      ]
     },
     "execution_count": 49,
     "metadata": {},
     "output_type": "execute_result"
    }
   ],
   "source": [
    "np.array(paths)[(np.array(paths) != -1)], np.array(paths)[(np.array(paths) != -1)].mean(), (np.array(paths) == -1).sum(), len(paths), "
   ]
  },
  {
   "cell_type": "code",
   "execution_count": 50,
   "metadata": {},
   "outputs": [],
   "source": [
    "mag = nx.read_edgelist('../data/psychology/all.edgelist', create_using=nx.DiGraph, delimiter='\\t')"
   ]
  },
  {
   "cell_type": "code",
   "execution_count": 51,
   "metadata": {},
   "outputs": [],
   "source": [
    "total_parents = 0\n",
    "parents_in_wnet = 0 \n",
    "child_in_wnet = 0\n",
    "found_child = []\n",
    "\n",
    "for node in mag.nodes():\n",
    "    child = node.replace(' ', '_')\n",
    "    parents = list(mag.predecessors(node))\n",
    "\n",
    "    for i in range(10):\n",
    "        true_name = f'{child}.n.0{i}'\n",
    "        if true_name in G.nodes():\n",
    "            child_in_wnet += 1\n",
    "            found_child.append((child, parents))\n",
    "            break\n",
    "    \n",
    "    for parent in parents:\n",
    "        total_parents += 1\n",
    "        parent = parent.replace(' ', '_')\n",
    "        for i in range(10):\n",
    "            true_name = f'{parent}.n.0{i}'\n",
    "            if true_name in G.nodes():\n",
    "                parents_in_wnet += 1\n",
    "                break"
   ]
  },
  {
   "cell_type": "code",
   "execution_count": 52,
   "metadata": {},
   "outputs": [
    {
     "data": {
      "text/plain": [
       "(30032, 18989, 1173, 1173)"
      ]
     },
     "execution_count": 52,
     "metadata": {},
     "output_type": "execute_result"
    }
   ],
   "source": [
    "total_parents, parents_in_wnet, child_in_wnet, len(found_child)"
   ]
  },
  {
   "cell_type": "code",
   "execution_count": 53,
   "metadata": {},
   "outputs": [
    {
     "data": {
      "text/plain": [
       "(23156, 30032)"
      ]
     },
     "execution_count": 53,
     "metadata": {},
     "output_type": "execute_result"
    }
   ],
   "source": [
    "len(mag.nodes()), len(mag.edges())"
   ]
  },
  {
   "cell_type": "code",
   "execution_count": 54,
   "metadata": {},
   "outputs": [
    {
     "data": {
      "text/plain": [
       "('perphenazine', ['psychiatry'])"
      ]
     },
     "execution_count": 54,
     "metadata": {},
     "output_type": "execute_result"
    }
   ],
   "source": [
    "found_child[0]"
   ]
  },
  {
   "cell_type": "code",
   "execution_count": 55,
   "metadata": {},
   "outputs": [],
   "source": [
    "found_parents = []\n",
    "for child, parents in found_child:\n",
    "    found = False\n",
    "    for parent in parents:\n",
    "        total_parents += 1\n",
    "        parent = parent.replace(' ', '_')\n",
    "        if not found:\n",
    "            for i in range(10):\n",
    "                true_name = f'{parent}.n.0{i}'\n",
    "                if true_name in G.nodes():\n",
    "                    found_parents.append((child, parents))\n",
    "                    found = True\n",
    "                    break"
   ]
  },
  {
   "cell_type": "code",
   "execution_count": 56,
   "metadata": {},
   "outputs": [
    {
     "data": {
      "text/plain": [
       "1008"
      ]
     },
     "execution_count": 56,
     "metadata": {},
     "output_type": "execute_result"
    }
   ],
   "source": [
    "len(found_parents)"
   ]
  },
  {
   "cell_type": "code",
   "execution_count": 59,
   "metadata": {},
   "outputs": [],
   "source": [
    "paths = []\n",
    "for child, parents in found_parents:\n",
    "    child = child.replace(' ', '_')\n",
    "    for i in range(10):\n",
    "        child_true_name = f'{child}.n.0{i}'\n",
    "        if child_true_name in G.nodes():\n",
    "            for parent in parents:\n",
    "                total_parents += 1\n",
    "                parent = parent.replace(' ', '_')\n",
    "                for i in range(10):\n",
    "                    true_name = f'{parent}.n.0{i}'\n",
    "                    if true_name in G.nodes():\n",
    "                        try:\n",
    "                            paths.append(nx.shortest_path_length(G, true_name, child_true_name))\n",
    "                        except nx.NetworkXNoPath:\n",
    "                            paths.append(-1)\n",
    "                        break\n",
    "            break"
   ]
  },
  {
   "cell_type": "code",
   "execution_count": 60,
   "metadata": {},
   "outputs": [
    {
     "data": {
      "text/plain": [
       "(105, 1.7142857142857142, 1241, 1346)"
      ]
     },
     "execution_count": 60,
     "metadata": {},
     "output_type": "execute_result"
    }
   ],
   "source": [
    "len(np.array(paths)[(np.array(paths) != -1)]), np.array(paths)[(np.array(paths) != -1)].mean(), (np.array(paths) == -1).sum(), len(paths)"
   ]
  },
  {
   "cell_type": "code",
   "execution_count": 61,
   "metadata": {},
   "outputs": [
    {
     "data": {
      "text/plain": [
       "10"
      ]
     },
     "execution_count": 61,
     "metadata": {},
     "output_type": "execute_result"
    }
   ],
   "source": [
    "(np.array(paths) == 0).sum()"
   ]
  },
  {
   "cell_type": "code",
   "execution_count": null,
   "metadata": {},
   "outputs": [],
   "source": []
  }
 ],
 "metadata": {
  "kernelspec": {
   "display_name": "Python 3",
   "language": "python",
   "name": "python3"
  },
  "language_info": {
   "codemirror_mode": {
    "name": "ipython",
    "version": 3
   },
   "file_extension": ".py",
   "mimetype": "text/x-python",
   "name": "python",
   "nbconvert_exporter": "python",
   "pygments_lexer": "ipython3",
   "version": "3.10.12"
  }
 },
 "nbformat": 4,
 "nbformat_minor": 2
}
