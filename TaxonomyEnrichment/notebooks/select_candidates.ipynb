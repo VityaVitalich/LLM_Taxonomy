{
 "cells": [
  {
   "cell_type": "code",
   "execution_count": 1,
   "metadata": {},
   "outputs": [],
   "source": [
    "import pickle\n",
    "import networkx as nx \n",
    "import numpy as np\n",
    "from sklearn.neighbors import NearestNeighbors\n",
    "from tqdm import tqdm"
   ]
  },
  {
   "cell_type": "code",
   "execution_count": 8,
   "metadata": {},
   "outputs": [],
   "source": [
    "with open('../data/MAG_CS/embeddings_bert.pickle', 'rb') as f:\n",
    "    embeddings = pickle.load(f)\n",
    "\n",
    "with open('../data/MAG_CS/test_nodes.pickle', 'rb') as f:\n",
    "    test_nodes = pickle.load(f)\n",
    "\n",
    "G_gold = nx.read_edgelist('../data/MAG_CS/all.edgelist', create_using=nx.DiGraph, delimiter='\\t')"
   ]
  },
  {
   "cell_type": "code",
   "execution_count": 9,
   "metadata": {},
   "outputs": [],
   "source": [
    "word_names = list(embeddings.keys())\n",
    "values = np.vstack(list(embeddings.values()))"
   ]
  },
  {
   "cell_type": "code",
   "execution_count": 10,
   "metadata": {},
   "outputs": [
    {
     "data": {
      "text/plain": [
       "(29484, 1000)"
      ]
     },
     "execution_count": 10,
     "metadata": {},
     "output_type": "execute_result"
    }
   ],
   "source": [
    "len(word_names), len(test_nodes)"
   ]
  },
  {
   "cell_type": "code",
   "execution_count": 11,
   "metadata": {},
   "outputs": [
    {
     "name": "stderr",
     "output_type": "stream",
     "text": [
      "100%|██████████| 1000/1000 [00:17<00:00, 56.00it/s]"
     ]
    },
    {
     "name": "stdout",
     "output_type": "stream",
     "text": [
      "325 26.747017758134565 0.026747017758134563 77.848\n"
     ]
    },
    {
     "name": "stderr",
     "output_type": "stream",
     "text": [
      "\n"
     ]
    }
   ],
   "source": [
    "total_found = 0\n",
    "mrr = 0\n",
    "mr = 0\n",
    "for i in tqdm(range(1000)):\n",
    "    child, parents = test_nodes[i]\n",
    "\n",
    "    child_embedding = embeddings[child]\n",
    "    nn = NearestNeighbors(n_neighbors=1000, metric='euclidean', algorithm='brute').fit(values)\n",
    "    dists, idxs = nn.kneighbors(child_embedding[np.newaxis,:])\n",
    "\n",
    "    predicted_names = []\n",
    "    for idx in idxs[0]:\n",
    "        predicted_names.append(word_names[idx])\n",
    "\n",
    "    found = 0\n",
    "    for gt in parents:\n",
    "        found += (gt in predicted_names)\n",
    "\n",
    "    if found == 0:\n",
    "       # print(child, ': not found')\n",
    "        mrr += 0\n",
    "\n",
    "    else:\n",
    "        best_pos = 1000\n",
    "        for gt in parents:\n",
    "            if (gt in predicted_names):\n",
    "                pos = predicted_names.index(gt)\n",
    "                if pos < best_pos:\n",
    "                    best_pos = pos\n",
    "     #   print(child, ': found', '; best pos = ', best_pos)\n",
    "\n",
    "        mrr += 1/ (best_pos + 1)\n",
    "        mr += (best_pos + 1)\n",
    "        total_found += 1\n",
    "\n",
    "print(total_found, mrr, mrr / 1000, mr / 1000)"
   ]
  },
  {
   "cell_type": "code",
   "execution_count": 21,
   "metadata": {},
   "outputs": [],
   "source": [
    "i = 0\n",
    "child, parents = test_nodes[i]\n",
    "\n",
    "child_embedding = embeddings[child]\n",
    "nn = NearestNeighbors(n_neighbors=5000, metric='euclidean', algorithm='brute').fit(values)\n",
    "dists, idxs = nn.kneighbors(child_embedding[np.newaxis,:])\n",
    "\n",
    "predicted_names = []\n",
    "for idx in idxs[0]:\n",
    "    predicted_names.append(word_names[idx])"
   ]
  },
  {
   "cell_type": "code",
   "execution_count": 22,
   "metadata": {},
   "outputs": [
    {
     "data": {
      "text/plain": [
       "['spanish verbs',\n",
       " 'french verbs',\n",
       " 'german verbs',\n",
       " 'english verbs',\n",
       " 'arabic verbs']"
      ]
     },
     "execution_count": 22,
     "metadata": {},
     "output_type": "execute_result"
    }
   ],
   "source": [
    "predicted_names[:5]"
   ]
  },
  {
   "cell_type": "code",
   "execution_count": 25,
   "metadata": {},
   "outputs": [
    {
     "name": "stdout",
     "output_type": "stream",
     "text": [
      "277\n"
     ]
    }
   ],
   "source": [
    "if parents[0] in predicted_names:\n",
    "    print(predicted_names.index(parents[0]))"
   ]
  },
  {
   "cell_type": "code",
   "execution_count": 54,
   "metadata": {},
   "outputs": [
    {
     "name": "stdout",
     "output_type": "stream",
     "text": [
      "True\n"
     ]
    }
   ],
   "source": []
  },
  {
   "cell_type": "code",
   "execution_count": 5,
   "metadata": {},
   "outputs": [
    {
     "data": {
      "text/plain": [
       "AtlasView({'bispherical coordinates': {}, 'horizontal coordinate system': {}, 'bipolar cylindrical coordinates': {}, 'conical coordinates': {}, 'toroidal coordinates': {}, 'skew coordinates': {}, 'paraboloidal coordinates': {}, 'coordinate rotations and reflections': {}, 'elliptic cylindrical coordinates': {}})"
      ]
     },
     "execution_count": 5,
     "metadata": {},
     "output_type": "execute_result"
    }
   ],
   "source": [
    "def nearest_neighbors(values, all_values, nbr_neighbors=10):\n",
    "    nn = NearestNeighbors(nbr_neighbors, metric='cosine', algorithm='brute').fit(all_values)\n",
    "    dists, idxs = nn.kneighbors(values)"
   ]
  },
  {
   "cell_type": "code",
   "execution_count": 6,
   "metadata": {},
   "outputs": [],
   "source": [
    "test_gt = []\n",
    "\n",
    "for node in test_nodes:\n",
    "    parents = list(G_gold.predecessors(node))\n",
    "    test_gt.append((node, parents))"
   ]
  },
  {
   "cell_type": "code",
   "execution_count": 7,
   "metadata": {},
   "outputs": [
    {
     "data": {
      "text/plain": [
       "('effective transmission rate', ['channel', 'wireless'])"
      ]
     },
     "execution_count": 7,
     "metadata": {},
     "output_type": "execute_result"
    }
   ],
   "source": [
    "test_gt[1]"
   ]
  },
  {
   "cell_type": "code",
   "execution_count": null,
   "metadata": {},
   "outputs": [],
   "source": [
    "with open('../data/MAG_CS/test_nodes.pickle', 'wb') as f:\n",
    "    "
   ]
  }
 ],
 "metadata": {
  "kernelspec": {
   "display_name": "Python 3",
   "language": "python",
   "name": "python3"
  },
  "language_info": {
   "codemirror_mode": {
    "name": "ipython",
    "version": 3
   },
   "file_extension": ".py",
   "mimetype": "text/x-python",
   "name": "python",
   "nbconvert_exporter": "python",
   "pygments_lexer": "ipython3",
   "version": "3.10.12"
  }
 },
 "nbformat": 4,
 "nbformat_minor": 2
}
