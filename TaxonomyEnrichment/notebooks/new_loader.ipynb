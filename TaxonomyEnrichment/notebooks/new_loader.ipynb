{
 "cells": [
  {
   "cell_type": "code",
   "execution_count": 1,
   "metadata": {},
   "outputs": [],
   "source": [
    "import pickle\n",
    "import networkx as nx\n",
    "import random\n",
    "from torch.utils.data import Dataset, DataLoader\n",
    "from transformers import DataCollatorWithPadding, DefaultDataCollator\n",
    "import itertools\n",
    "import torch\n"
   ]
  },
  {
   "cell_type": "code",
   "execution_count": 2,
   "metadata": {},
   "outputs": [],
   "source": [
    "class TripletDataset(Dataset):\n",
    "    def __init__(self, graph):\n",
    "        self.graph = graph\n",
    "\n",
    "    def __len__(self):\n",
    "        return sum(1 for _ in self.generate_triplets())\n",
    "\n",
    "    def __getitem__(self, idx):\n",
    "        return next(t for i, t in enumerate(self.generate_triplets()) if i == idx)\n",
    "\n",
    "    def generate_triplets(self):\n",
    "\n",
    "        for node, degree in self.graph.out_degree():\n",
    "            if (\n",
    "                degree >= 1\n",
    "                and len(node) > 1\n",
    "            ):\n",
    "                for child in self.graph.successors(node):\n",
    "                        grandchildren = list(self.graph.successors(child))\n",
    "                        if grandchildren:\n",
    "                            for gch in grandchildren:\n",
    "                                yield (node, child, gch)\n",
    "                        else:\n",
    "                            continue\n"
   ]
  },
  {
   "cell_type": "code",
   "execution_count": 36,
   "metadata": {},
   "outputs": [],
   "source": [
    "class GraphDataCollator(DefaultDataCollator):\n",
    "    def __init__(self, lengths):\n",
    "        super().__init__()\n",
    "        self.lengths = lengths\n",
    "\n",
    "    def __call__(self, features):\n",
    "\n",
    "        suitable_triplets = []\n",
    "        for triplet in features:\n",
    "            flag = True\n",
    "            # suitable_triplets.append(triplet)\n",
    "            for second_tr in features:\n",
    "                if triplet != second_tr:\n",
    "                    result = self.check_neighbour(self.lengths, triplet, second_tr)\n",
    "                    if not result:\n",
    "                        flag = False\n",
    "                        break\n",
    "            if flag:\n",
    "\n",
    "                suitable_triplets.append(triplet)\n",
    "\n",
    "        return suitable_triplets\n",
    "    \n",
    "    def check_neighbour(self, lengths, triplet1, triplet2):\n",
    "        pairs = [(triplet1[0], triplet2[0]), (triplet1[0], triplet2[2]), (triplet1[2], triplet2[0]), (triplet1[2], triplet2[2])]\n",
    "        for pair in pairs:\n",
    "            try:\n",
    "                if lengths[pair[0]][pair[1]] < 2:\n",
    "                    return False\n",
    "            except:\n",
    "                continue\n",
    "        return True\n"
   ]
  },
  {
   "cell_type": "code",
   "execution_count": 3,
   "metadata": {},
   "outputs": [],
   "source": [
    "G=nx.read_edgelist('../data/noun/all.edgelist', create_using=nx.DiGraph)"
   ]
  },
  {
   "cell_type": "code",
   "execution_count": 7,
   "metadata": {},
   "outputs": [],
   "source": [
    "lengths = {}\n",
    "leng = list(nx.shortest_path_length(G))\n",
    "for i in leng:\n",
    "    lengths[i[0]] = i[1]"
   ]
  },
  {
   "cell_type": "code",
   "execution_count": 4,
   "metadata": {},
   "outputs": [],
   "source": [
    "dataset = TripletDataset(G)"
   ]
  },
  {
   "cell_type": "code",
   "execution_count": 37,
   "metadata": {},
   "outputs": [],
   "source": [
    "dataloader = DataLoader(dataset=dataset, batch_size=1024, collate_fn=GraphDataCollator(lengths), shuffle=True)"
   ]
  },
  {
   "cell_type": "code",
   "execution_count": 38,
   "metadata": {},
   "outputs": [
    {
     "name": "stdout",
     "output_type": "stream",
     "text": [
      "[('power_saw.n.01', 'circular_saw.n.01', 'portable_circular_saw.n.01'), ('communicator.n.01', 'signaler.n.01', 'toller.n.01'), ('opening.n.10', 'hole.n.02', 'loophole.n.02'), ('bone.n.01', 'carpal_bone.n.01', 'triquetral.n.01'), ('generosity.n.01', 'unselfishness.n.01', 'altruism.n.01'), ('command.n.01', 'order.n.01', 'summons.n.02'), ('irrigation.n.02', 'enema.n.01', 'barium_enema.n.01'), ('trade.n.02', 'handicraft.n.02', 'needlework.n.02'), ('nerve_cell.n.01', 'brain_cell.n.01', \"golgi's_cell.n.01\"), ('truck.n.01', 'van.n.05', 'delivery_truck.n.01'), ('agent.n.03', 'bleaching_agent.n.01', 'sodium_hypochlorite.n.01'), ('linear_unit.n.01', 'metric_linear_unit.n.01', 'kilometer.n.01'), ('barbiturate.n.01', 'amobarbital.n.01', 'amobarbital_sodium.n.01'), ('eye_operation.n.01', 'keratotomy.n.01', 'radial_keratotomy.n.01'), ('line.n.04', 'curve.n.01', 'spiral.n.01'), ('transportation.n.02', 'delivery.n.01', 'post.n.11'), ('improvement.n.01', 'adjustment.n.01', 'domestication.n.03'), ('currency.n.01', 'paper_money.n.01', 'bill.n.03'), ('elite.n.01', 'nobility.n.01', 'baronetage.n.01'), ('organization.n.06', 'listing.n.02', 'inventory.n.05'), ('mark.n.10', 'diacritical_mark.n.01', 'cedilla.n.01'), ('time.n.03', 'moment.n.02', 'blink_of_an_eye.n.01'), ('axis.n.06', 'pivot.n.02', 'fulcrum.n.01'), ('calmness.n.03', 'tranquillity.n.02', 'peace.n.03'), ('sealing_material.n.01', 'filler.n.01', 'mastic.n.02'), ('sac.n.04', 'pouch.n.03', 'gizzard.n.01'), ('support.n.02', 'blessing.n.01', 'adoption.n.01'), ('musician.n.01', 'singer.n.01', 'soprano.n.01'), ('obstruction.n.01', 'barrier.n.01', 'roadblock.n.02'), ('shrew.n.02', 'water_shrew.n.01', 'european_water_shrew.n.01'), ('christian_holy_day.n.01', 'holy_day_of_obligation.n.01', 'immaculate_conception.n.01'), ('fence.n.01', 'wall.n.07', 'retaining_wall.n.01'), ('plasma_protein.n.01', 'coagulation_factor.n.01', 'thromboplastin.n.01'), ('educational_program.n.01', 'training_program.n.01', 'biofeedback.n.01'), ('diuretic_drug.n.01', 'thiazide.n.01', 'trichlormethiazide.n.01'), ('removal.n.01', 'withdrawal.n.02', 'train.withdef.390'), ('stringed_instrument.n.01', 'bowed_stringed_instrument.n.01', 'viola.n.03'), ('fir.n.02', 'silver_fir.n.01', 'alpine_fir.n.01'), ('constriction.n.04', 'spasm.n.02', 'laryngismus.n.01'), ('durables.n.01', 'appliance.n.02', 'home_appliance.n.01'), ('greco-roman_deity.n.01', 'nymph.n.01', 'pleiades.n.01'), ('character_printer.n.01', 'typewriter.n.01', 'portable.n.01'), ('sporting_dog.n.01', 'retriever.n.01', 'curly-coated_retriever.n.01'), ('bottom.n.01', 'heel.n.01', 'wedge_heel.n.01'), ('disapproval.n.02', 'criticism.n.01', 'slating.n.02'), ('toxin.n.01', 'plant_toxin.n.01', 'tubocurarine.n.01'), ('flight.n.02', 'glide.n.03', 'parasailing.n.01'), ('pea.n.01', 'green_pea.n.01', 'sugar_snap_pea.n.02'), ('communication.n.01', 'transmission.n.02', 'conveyance.n.02'), ('simple_protein.n.01', 'globulin.n.01', 'serum_globulin.n.01'), ('card.n.01', 'playing_card.n.01', 'joker.n.04'), ('homosexuality.n.01', 'lesbianism.n.01', 'tribadism.n.01'), ('ordering.n.01', 'series.n.01', 'progression.n.01'), ('weight_unit.n.02', 'troy_unit.n.01', 'ounce.n.01'), ('floor_cover.n.01', 'rug.n.01', 'runner.n.08'), ('male.n.02', 'man.n.01', 'peter_pan.n.01'), ('coneflower.n.01', 'cutleaved_coneflower.n.01', 'golden_glow.n.01'), ('situation.n.01', 'environment.n.01', 'sphere.n.01'), ('place.n.02', 'sanctuary.n.01', 'tabernacle.n.02'), ('gallinaceous_bird.n.01', 'columbiform_bird.n.01', 'pigeon.n.01'), ('track.n.10', 'trail.n.02', 'cattle_trail.n.01'), ('infectious_disease.n.01', 'hepatitis.n.01', 'hepatitis_delta.n.01'), ('record.n.05', 'logbook.n.01', 'bell_book.n.01'), ('doctor.n.01', 'specialist.n.02', 'obstetrician.n.01'), ('sea_turtle.n.01', 'ridley.n.01', 'atlantic_ridley.n.01'), ('sociality.n.01', 'sociability.n.01', 'gregariousness.n.01'), ('block.n.01', 'nut.n.03', 'wing_nut.n.02'), ('blow.n.01', 'kick.n.01', 'dropkick.n.01'), ('order.n.11', 'augustinian_order.n.01', 'augustinian_canons.n.01'), ('emblem.n.01', 'flag.n.01', 'banner.n.01'), ('social_event.n.01', 'contest.n.01', 'series.n.04'), ('bombing_run.n.01', 'loft_bombing.n.01', 'over-the-shoulder_bombing.n.01'), ('salt.n.01', 'phosphate.n.01', 'calcium_phosphate.n.01'), ('holiday.n.02', 'legal_holiday.n.01', 'christmas.n.02'), ('metabolic_disorder.n.01', 'lipidosis.n.01', 'abetalipoproteinemia.n.01'), ('performance.n.02', 'magic_trick.n.01', 'card_trick.n.01'), ('departure.n.01', 'withdrawal.n.03', 'receding.n.02'), ('space.n.01', 'mathematical_space.n.01', 'null_space.n.01'), ('limb.n.01', 'leg.n.01', 'pin.n.05'), ('opening.n.01', 'crack.n.01', 'chap.n.03'), ('trustworthiness.n.01', 'responsibility.n.03', 'accountability.n.01'), ('track.n.03', 'railroad_track.n.01', 'siding.n.01'), ('attractiveness.n.02', 'appeal.n.02', 'winsomeness.n.01'), ('note.n.03', 'chord.n.02', 'test.test.180'), ('scale_insect.n.01', 'armored_scale.n.01', 'san_jose_scale.n.01'), ('unusualness.n.01', 'unfamiliarity.n.01', 'outlandishness.n.01'), ('religious.n.01', 'monk.n.01', 'test.test.560'), ('fennic.n.01', 'permic.n.01', 'udmurt.n.02'), ('reef.n.01', 'coral_reef.n.01', 'atoll.n.01'), ('game_equipment.n.01', 'goal.n.03', 'basket.n.03'), ('aggression.n.03', 'violence.n.01', 'riot.n.01'), ('electromagnetic_unit.n.01', 'inductance_unit.n.01', 'abhenry.n.01'), ('confinement.n.02', 'imprisonment.n.03', 'lockdown.n.01'), ('leporid.n.01', 'hare.n.01', 'leveret.n.01'), ('homicide.n.01', 'murder.n.01', 'bloodshed.n.01'), ('education.n.01', 'course.n.01', 'orientation_course.n.01'), ('low_explosive.n.01', 'firework.n.01', 'torpedo.n.04'), ('indicator.n.03', 'level.n.05', \"mason's_level.n.01\"), ('strain.n.04', 'tension.n.01', 'breaking_point.n.01'), ('defect.n.01', 'birth_defect.n.01', 'amelia.n.01'), ('unit.n.05', 'molecule.n.01', 'dipole_molecule.n.01'), ('grave.n.02', 'burial_chamber.n.01', 'crypt.n.01'), ('succulent.n.01', 'cactus.n.01', 'crab_cactus.n.01'), ('greeting.n.01', 'welcome.n.02', 'inhospitality.n.01'), ('cerebral_artery.n.01', 'temporal_artery.n.01', 'intermediate_temporal_artery.n.01'), ('millet.n.01', 'sorghum.n.01', 'broomcorn.n.01'), ('electro-acoustic_transducer.n.01', 'loudspeaker.n.01', 'squawk_box.n.01'), ('flatfish.n.02', 'righteye_flounder.n.01', 'plaice.n.02'), ('transaction.n.01', 'deal.n.01', 'penny_ante.n.01'), ('authority.n.03', 'adviser.n.01', 'fashion_consultant.n.01'), ('difficulty.n.03', 'problem.n.01', 'balance-of-payments_problem.n.01'), ('psychological_state.n.01', 'cognitive_state.n.01', 'morbidity.n.02'), ('crossing.n.05', 'pedestrian_crossing.n.01', 'pelican_crossing.n.01'), ('cargo_ship.n.01', 'oil_tanker.n.01', 'supertanker.n.01'), ('imagination.n.01', 'imaginary_place.n.01', 'hell.n.04'), ('era.n.01', 'historic_period.n.01', 'golden_age.n.02'), ('carnivore.n.01', 'bear.n.01', 'bear_cub.n.01'), ('mathematics.n.01', 'pure_mathematics.n.01', 'numerical_analysis.n.01'), ('product.n.02', 'movie.n.01', 'final_cut.n.01'), ('catostomid.n.01', 'sucker.n.07', 'redhorse.n.01'), ('white.n.01', 'semite.n.01', 'aramean.n.01'), ('timepiece.n.01', 'watch.n.01', 'wristwatch.n.01'), ('aristocrat.n.01', 'female_aristocrat.n.01', 'czarina.n.01'), ('component.n.03', 'heating_element.n.01', 'burner.n.02'), ('termination.n.05', 'killing.n.02', 'death.n.08'), ('damage.n.01', 'detriment.n.01', 'expense.n.02'), ('characteristic.n.02', 'point.n.23', 'selling_point.n.01'), ('seabird.n.01', 'coastal_diving_bird.n.01', 'jaeger.n.01'), ('inactivity.n.03', 'pause.n.02', 'freeze.n.03'), ('carboxylic_acid.n.01', 'acetic_acid.n.01', 'acetum.n.01'), ('anthropology.n.01', 'archeology.n.01', 'paletiology.n.01'), ('jurisdiction.n.02', 'diocese.n.01', 'train.withdef.374'), ('performing_arts.n.01', 'dancing.n.01', 'pavane.n.02'), ('farming.n.01', 'hydroponics.n.01', 'drip_culture.n.01'), ('classical_music.n.01', 'concerto.n.01', 'concerto_grosso.n.01'), ('gear.n.04', 'kit.n.02', 'sewing_kit.n.01'), ('movable_barrier.n.01', 'hatch.n.03', 'cargo_hatch.n.01'), ('noble_metal.n.01', 'gold.n.03', 'green_gold.n.01'), ('flower_arrangement.n.01', 'flower_chain.n.01', 'festoon.n.03'), ('academician.n.03', 'professor.n.01', 'full_professor.n.01'), ('beginning.n.05', 'first_step.n.01', 'first_base.n.03'), ('entertainment.n.01', 'show.n.01', 'ice_show.n.01'), ('anthropologist.n.01', 'archeologist.n.01', 'pothunter.n.01'), ('greed.n.01', 'acquisitiveness.n.01', 'bibliomania.n.01'), ('overgarment.n.01', 'cloak.n.02', 'dolman.n.02'), ('ape.n.01', 'anthropoid_ape.n.01', 'great_ape.n.01'), ('federal_department.n.01', 'executive_department.n.01', 'department_of_state.n.01'), ('self-propelled_vehicle.n.01', 'tracked_vehicle.n.01', 'half_track.n.01'), ('assets.n.01', 'share.n.01', 'profit_sharing.n.01'), ('indiscipline.n.01', 'unrestraint.n.01', 'abandon.n.01'), ('cancer.n.01', 'sarcoma.n.01', 'chondrosarcoma.n.01'), ('contact.n.04', 'touch.n.01', 'stroke.n.04'), ('indulgence.n.03', 'intemperance.n.03', 'profligacy.n.02'), ('document.n.02', 'letter.n.01', 'letter_of_intent.n.01'), ('uninterestingness.n.01', 'dullness.n.02', 'boringness.n.01'), ('gem.n.02', 'transparent_gem.n.01', 'morganite.n.01'), ('political_unit.n.01', 'union.n.07', 'confederation.n.02'), ('pole.n.01', 'spar.n.02', 'boom.n.05'), ('system_of_measurement.n.01', 'standard.n.01', 'benchmark.n.01'), ('diapsid.n.01', 'crocodilian_reptile.n.01', 'alligator.n.02'), ('asexual_reproduction.n.01', 'budding.n.01', 'test.test.230'), ('place_of_worship.n.01', 'church.n.02', 'cathedral.n.01'), ('shaking.n.02', 'tremor.n.03', 'essential_tremor.n.01'), ('agent.n.02', 'secret_agent.n.01', 'foot.n.08'), ('inclination.n.01', 'impartiality.n.01', 'disinterestedness.n.01'), ('computer_circuit.n.01', 'gate.n.02', 'and_circuit.n.01'), ('area.n.03', 'cortical_area.n.01', 'motor_area.n.01'), ('camp.n.05', 'prison_camp.n.01', 'gulag.n.01'), ('mathematical_relation.n.01', 'function.n.01', 'train.withdef.137'), ('debt_instrument.n.01', 'note.n.09', 'municipal_note.n.01'), ('journey.n.01', 'tour.n.01', 'walkabout.n.01'), ('deficiency_disease.n.01', 'malnutrition.n.01', 'kwashiorkor.n.01'), ('choice.n.02', 'vote.n.01', 'split_ticket.n.01'), ('wind_instrument.n.01', 'free-reed_instrument.n.01', 'harmonium.n.01'), ('harp.n.01', 'lyre.n.01', 'trigon.n.03'), ('unthoughtfulness.n.01', 'recklessness.n.01', 'desperation.n.02'), ('joint.n.05', 'mortise_joint.n.02', 'tongue_and_groove_joint.n.01'), ('edible_nut.n.01', 'walnut.n.01', 'english_walnut.n.02'), ('dye.n.01', 'azo_dye.n.01', 'methyl_orange.n.01'), ('persecution.n.01', 'torture.n.05', 'rack.n.06'), ('size.n.01', 'largeness.n.03', 'bulkiness.n.01'), ('parametric_statistic.n.01', 'correlation_coefficient.n.01', 'split-half_correlation.n.01'), ('businessman.n.01', 'owner.n.01', 'saloon_keeper.n.01'), ('function_word.n.01', 'determiner.n.02', 'article.n.04'), ('game.n.04', 'game_bird.n.01', 'tinamou.n.01'), ('mover.n.03', 'hitter.n.02', 'slapper.n.01'), ('description.n.01', 'word_picture.n.01', 'epithet.n.02'), ('chemoreceptor.n.01', 'nose.n.01', 'snout.n.03'), ('holder.n.02', 'tenant.n.02', 'life_tenant.n.01'), ('fielder.n.01', 'outfielder.n.01', 'center_fielder.n.01'), ('anger.n.01', 'annoyance.n.02', 'pique.n.02'), ('soil.n.02', 'mud.n.01', 'mud_pie.n.01'), ('altaic.n.02', 'tungusic.n.02', 'tungus.n.02'), ('precipitation.n.03', 'rain.n.01', 'downpour.n.01'), ('soldier.n.01', 'cavalryman.n.02', 'hussar.n.01'), ('water_softener.n.01', 'zeolite.n.01', 'heulandite.n.01'), ('electronic_countermeasures.n.01', 'jamming.n.01', 'spot_jamming.n.01'), ('copper-base_alloy.n.01', 'bronze.n.01', 'gunmetal.n.01'), ('evidence.n.02', 'argument.n.01', 'test.test.369'), ('mediator.n.01', 'moderator.n.04', 'modifier.n.02'), ('creating_from_raw_materials.n.01', 'fabrication.n.03', 'prefabrication.n.01'), ('saturniid.n.01', 'giant_silkworm_moth.n.01', 'atlas_moth.n.01'), ('plate.n.14', 'armor_plate.n.01', 'knee_piece.n.01'), ('body.n.04', 'mass.n.05', 'pulp.n.01'), ('preserver.n.03', 'defender.n.01', 'patron_saint.n.01'), ('blemish.n.01', 'birthmark.n.01', 'port-wine_stain.n.01'), ('pin.n.01', 'brooch.n.01', 'sunburst.n.03'), ('nail.n.01', 'fingernail.n.01', 'thumbnail.n.01'), ('connection.n.03', 'junction.n.04', 'contact.n.07'), ('order.n.03', 'harmony.n.03', 'comity.n.01'), ('condiment.n.01', 'dip.n.04', 'bean_dip.n.01'), ('consulting_service.n.01', 'attestation_service.n.01', 'financial_audit.n.01'), ('open-end_credit.n.01', 'credit_account.n.01', 'revolving_charge_account.n.01'), ('proceeding.n.01', 'legal_action.n.01', 'prosecution.n.01'), ('extremity.n.05', 'hand.n.01', 'left.n.03'), ('horse-drawn_vehicle.n.01', 'carriage.n.02', 'brougham.n.01'), ('list.n.01', 'schedule.n.02', 'network_programming.n.01'), ('superior.n.01', 'supervisor.n.01', 'bell_captain.n.01'), ('fast_day.n.01', 'minor_fast_day.n.01', 'fast_of_tevet.n.01'), ('supporting_structure.n.01', 'framework.n.03', 'grill.n.02'), ('artificial_language.n.01', 'programming_language.n.01', 'stratified_language.n.01'), ('imprudence.n.01', 'heedlessness.n.02', 'lightheadedness.n.02'), ('gastropod.n.01', 'abalone.n.01', 'ormer.n.01'), ('airplane.n.01', 'bomber.n.01', 'dive_bomber.n.01'), ('assembly.n.06', 'mobilization.n.02', 'economic_mobilization.n.01'), ('news.n.02', 'newscast.n.01', 'sportscast.n.01'), ('snack_food.n.01', 'sandwich.n.01', 'bomber.n.03'), ('socialist.n.01', 'communist.n.02', 'apparatchik.n.02'), ('animal_skin.n.01', 'leather.n.01', 'roan.n.01'), ('starches.n.01', 'bread.n.01', 'cracker.n.01'), ('building_complex.n.01', 'plant.n.01', 'saltworks.n.01'), ('set.n.13', 'transmitter.n.03', 'satellite_transmitter.n.01'), ('agreement.n.01', 'written_agreement.n.01', 'submission.n.05'), ('metric_unit.n.01', 'metric_linear_unit.n.01', 'femtometer.n.01'), ('glycoside.n.01', 'nucleoside.n.01', 'deoxythymidine.n.01'), ('text.n.01', 'letter.n.01', 'pastoral.n.02'), ('fiduciary.n.01', 'steward.n.01', 'chamberlain.n.03'), ('bodily_property.n.01', 'physiological_property.n.01', 'sex.n.04'), ('reference_book.n.01', 'encyclopedia.n.01', 'book_of_knowledge.n.01'), ('romance.n.03', 'italian.n.02', 'old_italian.n.01'), ('interstitial_tissue.n.01', 'neuroglia.n.01', 'astroglia.n.01'), ('tunic.n.01', 'albuginea.n.01', 'sclera.n.01'), ('pistol.n.01', 'revolver.n.01', 'colt.n.02'), ('indo-european.n.02', 'germanic.n.01', 'scandinavian.n.02'), ('arrangement.n.03', 'distribution.n.01', 'frequency_distribution.n.01'), ('rank.n.02', 'grade.n.02', 'college_level.n.01'), ('wine.n.01', 'red_wine.n.01', 'zinfandel.n.02'), ('imagination.n.02', 'vision.n.01', 'retrovision.n.01'), ('knowledge_domain.n.01', 'discipline.n.01', 'graphology.n.01'), ('timidity.n.01', 'diffidence.n.01', 'hesitance.n.01'), ('spiritual_being.n.01', 'spirit.n.04', 'numen.n.01'), ('vegetable.n.01', 'greens.n.01', 'wild_spinach.n.03'), ('inclined_plane.n.01', 'wedge.n.06', 'colter.n.01'), ('mouse.n.01', 'wood_mouse.n.01', 'white-footed_mouse.n.01'), ('change_of_integrity.n.01', 'damage.n.03', 'wound.n.04'), ('houseplant.n.01', 'anthurium.n.01', 'flamingo_flower.n.01'), ('seizure.n.04', 'confiscation.n.01', 'expropriation.n.01'), ('antenna.n.01', 'omnidirectional_antenna.n.01', 'radio_antenna.n.01'), ('feature.n.01', 'aspect.n.01', 'side.n.06'), ('fortune.n.04', 'failure.n.03', 'bankruptcy.n.01'), ('pathology.n.02', 'gangrene.n.01', 'gas_gangrene.n.01'), ('drive.n.09', 'hypoxia.n.01', 'anemic_hypoxia.n.01'), ('board.n.01', 'advisory_board.n.01', 'cabinet.n.02'), ('estate.n.02', 'plantation.n.01', 'orangery.n.01'), ('concept.n.01', 'law.n.04', \"stevens'_law.n.01\"), ('propulsion.n.02', 'shooting.n.01', 'countershot.n.01'), ('training.n.01', 'exercise.n.03', 'rehearsal.n.02'), ('racer.n.04', 'blacksnake.n.02', 'blue_racer.n.01'), ('recompense.n.01', 'compensation.n.01', 'reparation.n.01'), ('military_censorship.n.01', 'armed_forces_censorship.n.01', 'primary_censorship.n.01'), ('tank.n.02', 'reservoir.n.03', 'cistern.n.03'), ('position.n.09', 'back.n.09', 'linebacker.n.02'), ('dwelling.n.01', 'house.n.01', 'dollhouse.n.01'), ('card_game.n.01', 'rummy.n.02', 'canasta.n.01'), ('set.n.01', 'core.n.01', 'cadre.n.02'), ('cathode-ray_tube.n.01', 'kinescope.n.01', 'color_tube.n.01'), ('movement.n.04', 'reform_movement.n.01', 'enlightenment.n.03'), ('quantitative_analysis.n.01', 'volumetric_analysis.n.02', 'titration.n.01'), ('aquatic_plant.n.01', 'marsh_plant.n.01', 'skunk_cabbage.n.01'), ('copy.n.02', 'cast.n.06', 'engine_block.n.01'), ('weed.n.01', 'thistle.n.01', 'field_thistle.n.01'), ('unsaturated_fatty_acid.n.01', 'polyunsaturated_fatty_acid.n.01', 'omega-6_fatty_acid.n.01'), ('public_transport.n.01', 'train.n.01', 'streamliner.n.01'), ('dairy_product.n.01', 'milk.n.01', 'semi-skimmed_milk.n.01'), ('assignment.n.01', 'mission.n.03', \"fool's_errand.n.01\"), ('theory.n.01', 'scientific_theory.n.01', 'theory_of_indicators.n.01'), ('protoctist.n.01', 'protozoan.n.01', 'sarcodinian.n.01'), ('flow.n.01', 'flush.n.06', 'springtide.n.01'), ('collection.n.02', 'anthology.n.01', 'omnibus.n.01'), ('exercise.n.01', 'gymnastic_exercise.n.01', 'crucifix.n.02'), ('sports_equipment.n.01', 'baseball_equipment.n.01', \"catcher's_mask.n.01\"), ('political_orientation.n.01', 'conservatism.n.01', 'neoconservatism.n.01'), ('physical_property.n.01', 'mass.n.01', 'molecular_weight.n.01'), ('intelligence.n.01', 'shrewdness.n.01', 'knowingness.n.02'), ('analysis.n.01', 'chemical_analysis.n.01', 'scatology.n.02'), ('seafood.n.01', 'saltwater_fish.n.01', 'whiting.n.02'), ('trouser.n.01', 'short_pants.n.01', 'bermuda_shorts.n.01'), ('ligament.n.02', 'chain.n.03', 'bicycle_chain.n.01'), ('binary_compound.n.01', 'water.n.01', 'tap_water.n.01'), ('layer.n.02', 'snow.n.02', 'crud.n.01'), ('organic_process.n.01', 'growth.n.01', 'infructescence.n.01'), ('system.n.01', 'scaffolding.n.01', 'test.test.55'), ('commercial_enterprise.n.02', 'transportation.n.05', 'express.n.03'), ('social_dancing.n.01', 'ballroom_dancing.n.01', 'round_dance.n.02'), ('line.n.18', 'strand.n.02', 'ply.n.01'), ('ablation.n.01', 'lithotomy.n.01', 'cholelithotomy.n.01'), ('whiskey.n.01', 'irish.n.02', 'poteen.n.01'), ('natural_fiber.n.01', 'plant_fiber.n.01', 'jute.n.01'), ('working_dog.n.01', 'watchdog.n.02', 'housedog.n.01'), ('polysaccharide.n.01', 'starch.n.01', 'cornstarch.n.01'), ('depression.n.08', 'groove.n.01', 'dado.n.03'), ('social_welfare.n.01', 'social_insurance.n.01', 'unemployment_compensation.n.01'), ('transferred_property.n.01', 'loss.n.01', 'sacrifice.n.03'), ('muscle.n.01', 'skeletal_muscle.n.01', 'axial_muscle.n.01'), ('birth_control.n.01', 'natural_family_planning.n.01', 'basal_body_temperature_method_of_family_planning.n.01'), ('conduit.n.01', 'tube.n.01', 'siphon.n.01'), ('mercantile_establishment.n.01', 'shop.n.01', 'boutique.n.01'), ('proportion.n.01', 'percentage.n.01', 'unemployment_rate.n.01'), ('moment.n.05', 'dipole_moment.n.01', 'electric_dipole_moment.n.01'), ('fractionation.n.01', 'destructive_distillation.n.01', 'carbonization.n.01')]\n"
     ]
    }
   ],
   "source": [
    "for batch in dataloader:\n",
    "    print(batch)\n",
    "    break"
   ]
  },
  {
   "cell_type": "code",
   "execution_count": 39,
   "metadata": {},
   "outputs": [
    {
     "data": {
      "text/plain": [
       "320"
      ]
     },
     "execution_count": 39,
     "metadata": {},
     "output_type": "execute_result"
    }
   ],
   "source": [
    "len(batch)"
   ]
  },
  {
   "cell_type": "code",
   "execution_count": null,
   "metadata": {},
   "outputs": [],
   "source": []
  }
 ],
 "metadata": {
  "kernelspec": {
   "display_name": "Python 3 (ipykernel)",
   "language": "python",
   "name": "python3"
  },
  "language_info": {
   "codemirror_mode": {
    "name": "ipython",
    "version": 3
   },
   "file_extension": ".py",
   "mimetype": "text/x-python",
   "name": "python",
   "nbconvert_exporter": "python",
   "pygments_lexer": "ipython3",
   "version": "3.10.9"
  },
  "orig_nbformat": 4
 },
 "nbformat": 4,
 "nbformat_minor": 2
}
