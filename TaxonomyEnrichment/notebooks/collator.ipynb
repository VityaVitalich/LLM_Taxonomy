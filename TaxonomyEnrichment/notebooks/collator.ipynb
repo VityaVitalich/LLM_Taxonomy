{
 "cells": [
  {
   "cell_type": "code",
   "execution_count": 7,
   "metadata": {},
   "outputs": [],
   "source": [
    "import pickle\n",
    "import networkx as nx\n",
    "import random"
   ]
  },
  {
   "cell_type": "code",
   "execution_count": 36,
   "metadata": {},
   "outputs": [],
   "source": [
    "G=nx.read_edgelist('/Users/eneminova/LLM_Taxonomy/TaxonomyEnrichment/data/noun/all.edgelist', create_using=nx.DiGraph)"
   ]
  },
  {
   "cell_type": "code",
   "execution_count": 67,
   "metadata": {},
   "outputs": [
    {
     "name": "stdout",
     "output_type": "stream",
     "text": [
      "[('lot.n.02', 'tract.n.01', 'geographical_area.n.01')]\n",
      "('city.n.03', 'municipality.n.02', 'gathering.n.01')\n"
     ]
    },
    {
     "ename": "NetworkXNoPath",
     "evalue": "No path between geographical_area.n.01 and city.n.03.",
     "output_type": "error",
     "traceback": [
      "\u001b[0;31m---------------------------------------------------------------------------\u001b[0m",
      "\u001b[0;31mNetworkXNoPath\u001b[0m                            Traceback (most recent call last)",
      "Cell \u001b[0;32mIn[67], line 75\u001b[0m\n\u001b[1;32m     72\u001b[0m batch_size \u001b[39m=\u001b[39m \u001b[39m32\u001b[39m\n\u001b[1;32m     74\u001b[0m \u001b[39m# Создаем датасет\u001b[39;00m\n\u001b[0;32m---> 75\u001b[0m dataset \u001b[39m=\u001b[39m GraphDataset(G, num_triplets)\n\u001b[1;32m     77\u001b[0m \u001b[39m# Создаем DataLoader и DataCollator\u001b[39;00m\n\u001b[1;32m     78\u001b[0m data_loader \u001b[39m=\u001b[39m DataLoader(dataset, batch_size\u001b[39m=\u001b[39mbatch_size, collate_fn\u001b[39m=\u001b[39mGraphDataCollator())\n",
      "Cell \u001b[0;32mIn[67], line 9\u001b[0m, in \u001b[0;36mGraphDataset.__init__\u001b[0;34m(self, graph, num_triplets)\u001b[0m\n\u001b[1;32m      7\u001b[0m \u001b[39mself\u001b[39m\u001b[39m.\u001b[39mgraph \u001b[39m=\u001b[39m graph\n\u001b[1;32m      8\u001b[0m \u001b[39mself\u001b[39m\u001b[39m.\u001b[39mnum_triplets \u001b[39m=\u001b[39m num_triplets\n\u001b[0;32m----> 9\u001b[0m \u001b[39mself\u001b[39m\u001b[39m.\u001b[39mtriplets \u001b[39m=\u001b[39m \u001b[39mself\u001b[39;49m\u001b[39m.\u001b[39;49mgenerate_triplets()\n",
      "Cell \u001b[0;32mIn[67], line 24\u001b[0m, in \u001b[0;36mGraphDataset.generate_triplets\u001b[0;34m(self)\u001b[0m\n\u001b[1;32m     22\u001b[0m triplet \u001b[39m=\u001b[39m (child, parent, grandparent)\n\u001b[1;32m     23\u001b[0m \u001b[39mif\u001b[39;00m triplets:\n\u001b[0;32m---> 24\u001b[0m     \u001b[39mif\u001b[39;00m \u001b[39mself\u001b[39;49m\u001b[39m.\u001b[39;49mensure_distance(triplets, triplet):\n\u001b[1;32m     25\u001b[0m         triplets\u001b[39m.\u001b[39mappend(triplet)\n\u001b[1;32m     26\u001b[0m         \u001b[39mprint\u001b[39m(triplets)\n",
      "Cell \u001b[0;32mIn[67], line 35\u001b[0m, in \u001b[0;36mGraphDataset.ensure_distance\u001b[0;34m(self, triplets, potential_triplet)\u001b[0m\n\u001b[1;32m     33\u001b[0m \u001b[39mprint\u001b[39m(triplets)\n\u001b[1;32m     34\u001b[0m \u001b[39mprint\u001b[39m(potential_triplet)\n\u001b[0;32m---> 35\u001b[0m \u001b[39mif\u001b[39;00m \u001b[39mlen\u001b[39m(nx\u001b[39m.\u001b[39;49mbidirectional_shortest_path(\u001b[39mself\u001b[39;49m\u001b[39m.\u001b[39;49mgraph, triplets[\u001b[39m-\u001b[39;49m\u001b[39m1\u001b[39;49m][\u001b[39m2\u001b[39;49m], potential_triplet[\u001b[39m0\u001b[39;49m])) \u001b[39m>\u001b[39m \u001b[39m1\u001b[39m:\n\u001b[1;32m     36\u001b[0m     \u001b[39mif\u001b[39;00m \u001b[39mlen\u001b[39m(nx\u001b[39m.\u001b[39mbidirectional_shortest_path(\u001b[39mself\u001b[39m\u001b[39m.\u001b[39mgraph, potential_triplet[\u001b[39m2\u001b[39m], triplets[\u001b[39m-\u001b[39m\u001b[39m1\u001b[39m][\u001b[39m0\u001b[39m])) \u001b[39m>\u001b[39m \u001b[39m1\u001b[39m:\n\u001b[1;32m     37\u001b[0m         \u001b[39mreturn\u001b[39;00m \u001b[39mTrue\u001b[39;00m\n",
      "File \u001b[0;32m~/miniconda3/lib/python3.10/site-packages/networkx/algorithms/shortest_paths/unweighted.py:240\u001b[0m, in \u001b[0;36mbidirectional_shortest_path\u001b[0;34m(G, source, target)\u001b[0m\n\u001b[1;32m    237\u001b[0m     \u001b[39mraise\u001b[39;00m nx\u001b[39m.\u001b[39mNodeNotFound(msg)\n\u001b[1;32m    239\u001b[0m \u001b[39m# call helper to do the real work\u001b[39;00m\n\u001b[0;32m--> 240\u001b[0m results \u001b[39m=\u001b[39m _bidirectional_pred_succ(G, source, target)\n\u001b[1;32m    241\u001b[0m pred, succ, w \u001b[39m=\u001b[39m results\n\u001b[1;32m    243\u001b[0m \u001b[39m# build path from pred+w+succ\u001b[39;00m\n",
      "File \u001b[0;32m~/miniconda3/lib/python3.10/site-packages/networkx/algorithms/shortest_paths/unweighted.py:308\u001b[0m, in \u001b[0;36m_bidirectional_pred_succ\u001b[0;34m(G, source, target)\u001b[0m\n\u001b[1;32m    305\u001b[0m                 \u001b[39mif\u001b[39;00m w \u001b[39min\u001b[39;00m pred:  \u001b[39m# found path\u001b[39;00m\n\u001b[1;32m    306\u001b[0m                     \u001b[39mreturn\u001b[39;00m pred, succ, w\n\u001b[0;32m--> 308\u001b[0m \u001b[39mraise\u001b[39;00m nx\u001b[39m.\u001b[39mNetworkXNoPath(\u001b[39mf\u001b[39m\u001b[39m\"\u001b[39m\u001b[39mNo path between \u001b[39m\u001b[39m{\u001b[39;00msource\u001b[39m}\u001b[39;00m\u001b[39m and \u001b[39m\u001b[39m{\u001b[39;00mtarget\u001b[39m}\u001b[39;00m\u001b[39m.\u001b[39m\u001b[39m\"\u001b[39m)\n",
      "\u001b[0;31mNetworkXNoPath\u001b[0m: No path between geographical_area.n.01 and city.n.03."
     ]
    }
   ],
   "source": [
    "from torch.utils.data import Dataset, DataLoader\n",
    "from transformers import DataCollatorWithPadding, DefaultDataCollator\n",
    "import torch\n",
    "\n",
    "class GraphDataset(Dataset):\n",
    "    def __init__(self, graph, num_triplets):\n",
    "        self.graph = graph\n",
    "        self.num_triplets = num_triplets\n",
    "        self.triplets = self.generate_triplets()\n",
    "        \n",
    "    def generate_triplets(self):\n",
    "        triplets = []\n",
    "        while len(triplets) < self.num_triplets:\n",
    "            child = random.choice(list(self.graph.nodes()))\n",
    "            # print(child)\n",
    "            parent = random.choice(list(self.graph.predecessors(child)))\n",
    "            # print(parent)\n",
    "            grandparent_candidates = list(self.graph.predecessors(parent))\n",
    "            if child in grandparent_candidates:\n",
    "                grandparent_candidates.remove(child)\n",
    "            grandparent = random.choice(grandparent_candidates)\n",
    "            triplet = (child, parent, grandparent)\n",
    "            if triplets:\n",
    "                if self.ensure_distance(triplets, triplet):\n",
    "                    triplets.append(triplet)\n",
    "                    print(triplets)\n",
    "            else:\n",
    "                triplets.append(triplet)\n",
    "            # triplets.append(triplet)\n",
    "        return triplets\n",
    "\n",
    "    def ensure_distance(self, triplets, potential_triplet):\n",
    "        print(triplets)\n",
    "        print(potential_triplet)\n",
    "        try: \n",
    "            first_len\n",
    "        if len(nx.bidirectional_shortest_path(self.graph, triplets[-1][2], potential_triplet[0])) > 1:\n",
    "            if len(nx.bidirectional_shortest_path(self.graph, potential_triplet[2], triplets[-1][0])) > 1:\n",
    "                return True\n",
    "            else:\n",
    "                return False\n",
    "        else:\n",
    "            return False\n",
    "        # for triplet in triplets:\n",
    "        #     child, parent, grandparent = triplet\n",
    "        #     if nx.has_path(self.graph, child, parent) and nx.has_path(self.graph, parent, grandparent):\n",
    "        #         continue\n",
    "        #     else:\n",
    "        #         return False\n",
    "        # return True\n",
    "\n",
    "    def __len__(self):\n",
    "        return self.num_triplets\n",
    "\n",
    "    def __getitem__(self, idx):\n",
    "        child, parent, grandparent = self.triplets[idx]\n",
    "        return (child, parent, grandparent)\n",
    "\n",
    "class GraphDataCollator(DefaultDataCollator):\n",
    "    def __call__(self, features):\n",
    "\n",
    "        final_pairs = []\n",
    "        # Разделяем каждый триплет на два дуплета\n",
    "\n",
    "        for feature in features:\n",
    "            (child, parent, grandparent) = feature\n",
    "            final_pairs.append(((child, parent), (parent, grandparent)))\n",
    "\n",
    "        return final_pairs\n",
    "\n",
    "\n",
    "# Задаем параметры\n",
    "num_triplets = 128\n",
    "batch_size = 32\n",
    "\n",
    "# Создаем датасет\n",
    "dataset = GraphDataset(G, num_triplets)\n",
    "\n",
    "# Создаем DataLoader и DataCollator\n",
    "data_loader = DataLoader(dataset, batch_size=batch_size, collate_fn=GraphDataCollator())\n",
    "\n",
    "# Пример использования DataLoader\n",
    "for batch in data_loader:\n",
    "    # print(\"Child-Parent Batch:\")\n",
    "    print(*batch, sep='\\n')\n",
    "    print(len(batch))\n",
    "    # print(\"Parent-Grandparent Batch:\")\n",
    "    # print(batch_parent_grandparent)\n"
   ]
  },
  {
   "cell_type": "code",
   "execution_count": 42,
   "metadata": {},
   "outputs": [
    {
     "data": {
      "text/plain": [
       "('kaaba.n.01', 'test.test.536')"
      ]
     },
     "execution_count": 42,
     "metadata": {},
     "output_type": "execute_result"
    }
   ],
   "source": [
    "list(G.edges())[-1]"
   ]
  },
  {
   "cell_type": "code",
   "execution_count": null,
   "metadata": {},
   "outputs": [],
   "source": []
  }
 ],
 "metadata": {
  "kernelspec": {
   "display_name": "Python 3 (ipykernel)",
   "language": "python",
   "name": "python3"
  },
  "language_info": {
   "codemirror_mode": {
    "name": "ipython",
    "version": 3
   },
   "file_extension": ".py",
   "mimetype": "text/x-python",
   "name": "python",
   "nbconvert_exporter": "python",
   "pygments_lexer": "ipython3",
   "version": "3.10.9"
  },
  "orig_nbformat": 4
 },
 "nbformat": 4,
 "nbformat_minor": 2
}
