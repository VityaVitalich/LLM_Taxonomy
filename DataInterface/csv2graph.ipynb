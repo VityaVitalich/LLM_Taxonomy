{
 "cells": [
  {
   "cell_type": "code",
   "execution_count": 18,
   "metadata": {},
   "outputs": [],
   "source": [
    "import networkx as nx\n",
    "import pandas as pd\n",
    "import os\n",
    "from nltk.corpus import wordnet as wn\n",
    "from tqdm import tqdm"
   ]
  },
  {
   "cell_type": "code",
   "execution_count": 19,
   "metadata": {},
   "outputs": [],
   "source": [
    "isa_path = \"IsA.csv\"\n",
    "\n",
    "if not os.path.exists(isa_path):\n",
    "    df = pd.read_csv(\"processed_en.csv\", index_col=0)\n",
    "    df1 = df[df[\"Relation\"] == \"IsA\"]\n",
    "    df1 = df1[~(df1[\"To\"] + df1[\"From\"]).duplicated()]\n",
    "    df1 = df1[[\"Relation\", \"To\", \"From\"]]\n",
    "    df1.drop(columns=[\"Relation\"]).to_csv(isa_path, sep=\"\\t\", header=False, index=False)"
   ]
  },
  {
   "cell_type": "code",
   "execution_count": 20,
   "metadata": {},
   "outputs": [],
   "source": [
    "G = nx.read_edgelist(\"IsA.csv\", delimiter=\"\\t\", create_using=nx.DiGraph)"
   ]
  },
  {
   "cell_type": "code",
   "execution_count": 60,
   "metadata": {},
   "outputs": [],
   "source": [
    "def detect_bad_edge(cycle):\n",
    "    pair_level = {}\n",
    "    for pair in cycle:\n",
    "        vertex, child = pair\n",
    "        all_meanings = wn.synsets(vertex)\n",
    "\n",
    "        found_in_wordnet = False\n",
    "        for level, meaning in enumerate(all_meanings):\n",
    "            all_hyponyms = meaning.hyponyms()\n",
    "            for hyponym in all_hyponyms:\n",
    "                # print(child,hyponym.lemma_names())\n",
    "                if child in hyponym.lemma_names():\n",
    "                    found_in_wordnet = True\n",
    "                    pair_level[pair] = level + 1\n",
    "                    break\n",
    "            if found_in_wordnet:\n",
    "                break\n",
    "\n",
    "        if not found_in_wordnet:\n",
    "            resulting_pair = pair\n",
    "            return resulting_pair\n",
    "\n",
    "    return sorted(pair_level.items(), key=lambda x: x[1], reverse=True)[0][0]\n",
    "\n",
    "\n",
    "def generator():\n",
    "    while not nx.is_directed_acyclic_graph(G):\n",
    "        cycle = nx.find_cycle(G)\n",
    "        yield detect_bad_edge(cycle)"
   ]
  },
  {
   "cell_type": "code",
   "execution_count": 62,
   "metadata": {},
   "outputs": [
    {
     "data": {
      "text/plain": [
       "[('ghost', 'spirit'), ('spirit', 'apparition'), ('apparition', 'ghost')]"
      ]
     },
     "execution_count": 62,
     "metadata": {},
     "output_type": "execute_result"
    }
   ],
   "source": [
    "for bad_edge in tqdm(generator()):\n",
    "    G.remove_edge(*bad_edge)"
   ]
  }
 ],
 "metadata": {
  "kernelspec": {
   "display_name": "dataload_env",
   "language": "python",
   "name": "python3"
  },
  "language_info": {
   "codemirror_mode": {
    "name": "ipython",
    "version": 3
   },
   "file_extension": ".py",
   "mimetype": "text/x-python",
   "name": "python",
   "nbconvert_exporter": "python",
   "pygments_lexer": "ipython3",
   "version": "3.10.10"
  },
  "orig_nbformat": 4
 },
 "nbformat": 4,
 "nbformat_minor": 2
}
