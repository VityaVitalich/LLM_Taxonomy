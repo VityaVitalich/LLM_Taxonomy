{
 "cells": [
  {
   "cell_type": "code",
   "execution_count": 108,
   "metadata": {},
   "outputs": [],
   "source": [
    "import pandas as pd\n",
    "import networkx as nx\n",
    "import nltk\n",
    "from nltk.corpus import wordnet as wn\n"
   ]
  },
  {
   "cell_type": "code",
   "execution_count": 21,
   "metadata": {},
   "outputs": [],
   "source": [
    "df = pd.read_csv('ru_babel_hyper.csv', sep='\\t')"
   ]
  },
  {
   "cell_type": "code",
   "execution_count": 22,
   "metadata": {},
   "outputs": [],
   "source": [
    "df1 = df[~df['WordnetKey'].isna()]"
   ]
  },
  {
   "cell_type": "code",
   "execution_count": 23,
   "metadata": {},
   "outputs": [
    {
     "data": {
      "text/html": [
       "<div>\n",
       "<style scoped>\n",
       "    .dataframe tbody tr th:only-of-type {\n",
       "        vertical-align: middle;\n",
       "    }\n",
       "\n",
       "    .dataframe tbody tr th {\n",
       "        vertical-align: top;\n",
       "    }\n",
       "\n",
       "    .dataframe thead th {\n",
       "        text-align: right;\n",
       "    }\n",
       "</style>\n",
       "<table border=\"1\" class=\"dataframe\">\n",
       "  <thead>\n",
       "    <tr style=\"text-align: right;\">\n",
       "      <th></th>\n",
       "      <th>Synset</th>\n",
       "      <th>Hypernym</th>\n",
       "      <th>WordnetKey</th>\n",
       "      <th>Definition</th>\n",
       "    </tr>\n",
       "  </thead>\n",
       "  <tbody>\n",
       "    <tr>\n",
       "      <th>0</th>\n",
       "      <td>ноль.n.1</td>\n",
       "      <td>цифра.n.1</td>\n",
       "      <td>wn:13742358n</td>\n",
       "      <td>Ноль — целое число, которое при сложении с люб...</td>\n",
       "    </tr>\n",
       "    <tr>\n",
       "      <th>1</th>\n",
       "      <td>1_(число).n.1</td>\n",
       "      <td>цифра.n.1</td>\n",
       "      <td>wn:13742573n</td>\n",
       "      <td>1 — наименьшее натуральное число, целое число ...</td>\n",
       "    </tr>\n",
       "    <tr>\n",
       "      <th>2</th>\n",
       "      <td>додеканол.n.2</td>\n",
       "      <td>спирты.n.2</td>\n",
       "      <td>wn:14930670n</td>\n",
       "      <td>Додеканол — органическое вещество, относится к...</td>\n",
       "    </tr>\n",
       "    <tr>\n",
       "      <th>3</th>\n",
       "      <td>1-нападающий.n.1</td>\n",
       "      <td>бейсбол.n.1</td>\n",
       "      <td>wn:00475142n</td>\n",
       "      <td>NaN</td>\n",
       "    </tr>\n",
       "    <tr>\n",
       "      <th>4</th>\n",
       "      <td>10_(число).n.1</td>\n",
       "      <td>большое_целое_число.n.1</td>\n",
       "      <td>wn:13746512n</td>\n",
       "      <td>10 — натуральное число, расположенное между чи...</td>\n",
       "    </tr>\n",
       "    <tr>\n",
       "      <th>...</th>\n",
       "      <td>...</td>\n",
       "      <td>...</td>\n",
       "      <td>...</td>\n",
       "      <td>...</td>\n",
       "    </tr>\n",
       "    <tr>\n",
       "      <th>63341</th>\n",
       "      <td>скуловой_отросток.n.5</td>\n",
       "      <td>придаток.n.5</td>\n",
       "      <td>wn:05546383n</td>\n",
       "      <td>NaN</td>\n",
       "    </tr>\n",
       "    <tr>\n",
       "      <th>63342</th>\n",
       "      <td>зигоспора.n.1</td>\n",
       "      <td>споры.n.1</td>\n",
       "      <td>wn:13239921n</td>\n",
       "      <td>NaN</td>\n",
       "    </tr>\n",
       "    <tr>\n",
       "      <th>63343</th>\n",
       "      <td>зиготены.n.1</td>\n",
       "      <td>NaN</td>\n",
       "      <td>wn:13575109n</td>\n",
       "      <td>NaN</td>\n",
       "    </tr>\n",
       "    <tr>\n",
       "      <th>63344</th>\n",
       "      <td>зимаза.n.1</td>\n",
       "      <td>ферменты.n.1</td>\n",
       "      <td>wn:15109586n</td>\n",
       "      <td>Зимаза</td>\n",
       "    </tr>\n",
       "    <tr>\n",
       "      <th>63345</th>\n",
       "      <td>зимология.n.1</td>\n",
       "      <td>биохимия.n.1</td>\n",
       "      <td>wn:06080361n</td>\n",
       "      <td>Зимология</td>\n",
       "    </tr>\n",
       "  </tbody>\n",
       "</table>\n",
       "<p>63346 rows × 4 columns</p>\n",
       "</div>"
      ],
      "text/plain": [
       "                      Synset                 Hypernym    WordnetKey   \n",
       "0                   ноль.n.1                цифра.n.1  wn:13742358n  \\\n",
       "1              1_(число).n.1                цифра.n.1  wn:13742573n   \n",
       "2              додеканол.n.2               спирты.n.2  wn:14930670n   \n",
       "3           1-нападающий.n.1              бейсбол.n.1  wn:00475142n   \n",
       "4             10_(число).n.1  большое_целое_число.n.1  wn:13746512n   \n",
       "...                      ...                      ...           ...   \n",
       "63341  скуловой_отросток.n.5             придаток.n.5  wn:05546383n   \n",
       "63342          зигоспора.n.1                споры.n.1  wn:13239921n   \n",
       "63343           зиготены.n.1                      NaN  wn:13575109n   \n",
       "63344             зимаза.n.1             ферменты.n.1  wn:15109586n   \n",
       "63345          зимология.n.1             биохимия.n.1  wn:06080361n   \n",
       "\n",
       "                                              Definition  \n",
       "0      Ноль — целое число, которое при сложении с люб...  \n",
       "1      1 — наименьшее натуральное число, целое число ...  \n",
       "2      Додеканол — органическое вещество, относится к...  \n",
       "3                                                    NaN  \n",
       "4      10 — натуральное число, расположенное между чи...  \n",
       "...                                                  ...  \n",
       "63341                                                NaN  \n",
       "63342                                                NaN  \n",
       "63343                                                NaN  \n",
       "63344                                            Зимаза   \n",
       "63345                                          Зимология  \n",
       "\n",
       "[63346 rows x 4 columns]"
      ]
     },
     "execution_count": 23,
     "metadata": {},
     "output_type": "execute_result"
    }
   ],
   "source": [
    "df1"
   ]
  },
  {
   "cell_type": "code",
   "execution_count": 24,
   "metadata": {},
   "outputs": [
    {
     "data": {
      "text/html": [
       "<div>\n",
       "<style scoped>\n",
       "    .dataframe tbody tr th:only-of-type {\n",
       "        vertical-align: middle;\n",
       "    }\n",
       "\n",
       "    .dataframe tbody tr th {\n",
       "        vertical-align: top;\n",
       "    }\n",
       "\n",
       "    .dataframe thead th {\n",
       "        text-align: right;\n",
       "    }\n",
       "</style>\n",
       "<table border=\"1\" class=\"dataframe\">\n",
       "  <thead>\n",
       "    <tr style=\"text-align: right;\">\n",
       "      <th></th>\n",
       "      <th>Synset</th>\n",
       "      <th>Hypernym</th>\n",
       "      <th>WordnetKey</th>\n",
       "      <th>Definition</th>\n",
       "    </tr>\n",
       "  </thead>\n",
       "  <tbody>\n",
       "    <tr>\n",
       "      <th>5118</th>\n",
       "      <td>азрег.n.1</td>\n",
       "      <td>турецкие_денежной_единицы.n.1</td>\n",
       "      <td>wn:13687420n</td>\n",
       "      <td>NaN</td>\n",
       "    </tr>\n",
       "    <tr>\n",
       "      <th>10528</th>\n",
       "      <td>helix_азрегза.n.1</td>\n",
       "      <td>Helix_aspersa.n.1</td>\n",
       "      <td>wn:01945143n</td>\n",
       "      <td>NaN</td>\n",
       "    </tr>\n",
       "  </tbody>\n",
       "</table>\n",
       "</div>"
      ],
      "text/plain": [
       "                  Synset                       Hypernym    WordnetKey   \n",
       "5118           азрег.n.1  турецкие_денежной_единицы.n.1  wn:13687420n  \\\n",
       "10528  helix_азрегза.n.1              Helix_aspersa.n.1  wn:01945143n   \n",
       "\n",
       "      Definition  \n",
       "5118         NaN  \n",
       "10528        NaN  "
      ]
     },
     "execution_count": 24,
     "metadata": {},
     "output_type": "execute_result"
    }
   ],
   "source": [
    "df1[df1['Synset'].str.contains('азрег')]"
   ]
  },
  {
   "cell_type": "code",
   "execution_count": 25,
   "metadata": {},
   "outputs": [
    {
     "data": {
      "text/html": [
       "<div>\n",
       "<style scoped>\n",
       "    .dataframe tbody tr th:only-of-type {\n",
       "        vertical-align: middle;\n",
       "    }\n",
       "\n",
       "    .dataframe tbody tr th {\n",
       "        vertical-align: top;\n",
       "    }\n",
       "\n",
       "    .dataframe thead th {\n",
       "        text-align: right;\n",
       "    }\n",
       "</style>\n",
       "<table border=\"1\" class=\"dataframe\">\n",
       "  <thead>\n",
       "    <tr style=\"text-align: right;\">\n",
       "      <th></th>\n",
       "      <th>Synset</th>\n",
       "      <th>Hypernym</th>\n",
       "      <th>WordnetKey</th>\n",
       "      <th>Definition</th>\n",
       "    </tr>\n",
       "  </thead>\n",
       "  <tbody>\n",
       "    <tr>\n",
       "      <th>52119</th>\n",
       "      <td>зарегистрируйтесь_языке.n.1</td>\n",
       "      <td>тональный_язык.n.1</td>\n",
       "      <td>wn:06905243n</td>\n",
       "      <td>NaN</td>\n",
       "    </tr>\n",
       "  </tbody>\n",
       "</table>\n",
       "</div>"
      ],
      "text/plain": [
       "                            Synset            Hypernym    WordnetKey   \n",
       "52119  зарегистрируйтесь_языке.n.1  тональный_язык.n.1  wn:06905243n  \\\n",
       "\n",
       "      Definition  \n",
       "52119        NaN  "
      ]
     },
     "execution_count": 25,
     "metadata": {},
     "output_type": "execute_result"
    }
   ],
   "source": [
    "df1[df1['Synset'].str.contains('зарегистрируйтесь')]"
   ]
  },
  {
   "cell_type": "code",
   "execution_count": 26,
   "metadata": {},
   "outputs": [
    {
     "data": {
      "text/html": [
       "<div>\n",
       "<style scoped>\n",
       "    .dataframe tbody tr th:only-of-type {\n",
       "        vertical-align: middle;\n",
       "    }\n",
       "\n",
       "    .dataframe tbody tr th {\n",
       "        vertical-align: top;\n",
       "    }\n",
       "\n",
       "    .dataframe thead th {\n",
       "        text-align: right;\n",
       "    }\n",
       "</style>\n",
       "<table border=\"1\" class=\"dataframe\">\n",
       "  <thead>\n",
       "    <tr style=\"text-align: right;\">\n",
       "      <th></th>\n",
       "      <th>Synset</th>\n",
       "      <th>Hypernym</th>\n",
       "      <th>WordnetKey</th>\n",
       "      <th>Definition</th>\n",
       "    </tr>\n",
       "  </thead>\n",
       "  <tbody>\n",
       "    <tr>\n",
       "      <th>17452</th>\n",
       "      <td>контур_языке.n.1</td>\n",
       "      <td>тональный_язык.n.1</td>\n",
       "      <td>wn:06905141n</td>\n",
       "      <td>NaN</td>\n",
       "    </tr>\n",
       "  </tbody>\n",
       "</table>\n",
       "</div>"
      ],
      "text/plain": [
       "                 Synset            Hypernym    WordnetKey Definition\n",
       "17452  контур_языке.n.1  тональный_язык.n.1  wn:06905141n        NaN"
      ]
     },
     "execution_count": 26,
     "metadata": {},
     "output_type": "execute_result"
    }
   ],
   "source": [
    "df1[df1['Synset'].str.contains('контур_языке')]"
   ]
  },
  {
   "cell_type": "code",
   "execution_count": 27,
   "metadata": {},
   "outputs": [
    {
     "data": {
      "text/html": [
       "<div>\n",
       "<style scoped>\n",
       "    .dataframe tbody tr th:only-of-type {\n",
       "        vertical-align: middle;\n",
       "    }\n",
       "\n",
       "    .dataframe tbody tr th {\n",
       "        vertical-align: top;\n",
       "    }\n",
       "\n",
       "    .dataframe thead th {\n",
       "        text-align: right;\n",
       "    }\n",
       "</style>\n",
       "<table border=\"1\" class=\"dataframe\">\n",
       "  <thead>\n",
       "    <tr style=\"text-align: right;\">\n",
       "      <th></th>\n",
       "      <th>Synset</th>\n",
       "      <th>Hypernym</th>\n",
       "      <th>WordnetKey</th>\n",
       "      <th>Definition</th>\n",
       "    </tr>\n",
       "  </thead>\n",
       "  <tbody>\n",
       "    <tr>\n",
       "      <th>18773</th>\n",
       "      <td>criollo_людей.n.1</td>\n",
       "      <td>испаноамериканцы.n.1</td>\n",
       "      <td>wn:09978697n</td>\n",
       "      <td>NaN</td>\n",
       "    </tr>\n",
       "  </tbody>\n",
       "</table>\n",
       "</div>"
      ],
      "text/plain": [
       "                  Synset              Hypernym    WordnetKey Definition\n",
       "18773  criollo_людей.n.1  испаноамериканцы.n.1  wn:09978697n        NaN"
      ]
     },
     "execution_count": 27,
     "metadata": {},
     "output_type": "execute_result"
    }
   ],
   "source": [
    "df1[df1['Synset'].str.contains('criollo')]"
   ]
  },
  {
   "cell_type": "code",
   "execution_count": 28,
   "metadata": {},
   "outputs": [
    {
     "data": {
      "text/html": [
       "<div>\n",
       "<style scoped>\n",
       "    .dataframe tbody tr th:only-of-type {\n",
       "        vertical-align: middle;\n",
       "    }\n",
       "\n",
       "    .dataframe tbody tr th {\n",
       "        vertical-align: top;\n",
       "    }\n",
       "\n",
       "    .dataframe thead th {\n",
       "        text-align: right;\n",
       "    }\n",
       "</style>\n",
       "<table border=\"1\" class=\"dataframe\">\n",
       "  <thead>\n",
       "    <tr style=\"text-align: right;\">\n",
       "      <th></th>\n",
       "      <th>Synset</th>\n",
       "      <th>Hypernym</th>\n",
       "      <th>WordnetKey</th>\n",
       "      <th>Definition</th>\n",
       "    </tr>\n",
       "  </thead>\n",
       "  <tbody>\n",
       "    <tr>\n",
       "      <th>21344</th>\n",
       "      <td>dimensión.n.1</td>\n",
       "      <td>величина_(математика).n.1</td>\n",
       "      <td>wn:05093581n</td>\n",
       "      <td>NaN</td>\n",
       "    </tr>\n",
       "  </tbody>\n",
       "</table>\n",
       "</div>"
      ],
      "text/plain": [
       "              Synset                   Hypernym    WordnetKey Definition\n",
       "21344  dimensión.n.1  величина_(математика).n.1  wn:05093581n        NaN"
      ]
     },
     "execution_count": 28,
     "metadata": {},
     "output_type": "execute_result"
    }
   ],
   "source": [
    "df1[df1['Synset'].str.contains('dimensión')]"
   ]
  },
  {
   "cell_type": "code",
   "execution_count": 32,
   "metadata": {},
   "outputs": [],
   "source": [
    "df2 = df1[~df1['Definition'].isna()]"
   ]
  },
  {
   "cell_type": "code",
   "execution_count": 30,
   "metadata": {},
   "outputs": [
    {
     "data": {
      "text/html": [
       "<div>\n",
       "<style scoped>\n",
       "    .dataframe tbody tr th:only-of-type {\n",
       "        vertical-align: middle;\n",
       "    }\n",
       "\n",
       "    .dataframe tbody tr th {\n",
       "        vertical-align: top;\n",
       "    }\n",
       "\n",
       "    .dataframe thead th {\n",
       "        text-align: right;\n",
       "    }\n",
       "</style>\n",
       "<table border=\"1\" class=\"dataframe\">\n",
       "  <thead>\n",
       "    <tr style=\"text-align: right;\">\n",
       "      <th></th>\n",
       "      <th>Synset</th>\n",
       "      <th>Hypernym</th>\n",
       "      <th>WordnetKey</th>\n",
       "      <th>Definition</th>\n",
       "    </tr>\n",
       "  </thead>\n",
       "  <tbody>\n",
       "    <tr>\n",
       "      <th>29546</th>\n",
       "      <td>gempylus.n.1</td>\n",
       "      <td>рыба_рода.n.1</td>\n",
       "      <td>wn:02622130n</td>\n",
       "      <td>NaN</td>\n",
       "    </tr>\n",
       "    <tr>\n",
       "      <th>11208</th>\n",
       "      <td>жиря́нка.n.1</td>\n",
       "      <td>насекомоядные_растения.n.1</td>\n",
       "      <td>wn:12872914n</td>\n",
       "      <td>NaN</td>\n",
       "    </tr>\n",
       "    <tr>\n",
       "      <th>26919</th>\n",
       "      <td>оболочки_оплодотворения.n.2</td>\n",
       "      <td>мембрана.n.2</td>\n",
       "      <td>wn:05319419n</td>\n",
       "      <td>NaN</td>\n",
       "    </tr>\n",
       "    <tr>\n",
       "      <th>43107</th>\n",
       "      <td>недостойное_поведение.n.2</td>\n",
       "      <td>виновными_действиями.n.2</td>\n",
       "      <td>wn:00735936n</td>\n",
       "      <td>NaN</td>\n",
       "    </tr>\n",
       "    <tr>\n",
       "      <th>9550</th>\n",
       "      <td>ха́мство.n.1</td>\n",
       "      <td>неэлегантность.n.1</td>\n",
       "      <td>wn:04817788n</td>\n",
       "      <td>NaN</td>\n",
       "    </tr>\n",
       "    <tr>\n",
       "      <th>6426</th>\n",
       "      <td>Baiomys_taylori.n.1</td>\n",
       "      <td>лесная_мышь.n.1</td>\n",
       "      <td>wn:02337598n</td>\n",
       "      <td>NaN</td>\n",
       "    </tr>\n",
       "    <tr>\n",
       "      <th>53973</th>\n",
       "      <td>бросить_ковер.n.1</td>\n",
       "      <td>ковёр.n.1</td>\n",
       "      <td>wn:04144539n</td>\n",
       "      <td>NaN</td>\n",
       "    </tr>\n",
       "    <tr>\n",
       "      <th>59863</th>\n",
       "      <td>помощник_шерифа.n.5</td>\n",
       "      <td>NaN</td>\n",
       "      <td>wn:07267795n</td>\n",
       "      <td>NaN</td>\n",
       "    </tr>\n",
       "    <tr>\n",
       "      <th>39464</th>\n",
       "      <td>разрешение_учащегося.n.1</td>\n",
       "      <td>лицензия.n.1</td>\n",
       "      <td>wn:06550763n</td>\n",
       "      <td>NaN</td>\n",
       "    </tr>\n",
       "    <tr>\n",
       "      <th>25806</th>\n",
       "      <td>fistulariidae.n.1</td>\n",
       "      <td>рыба_семья.n.1</td>\n",
       "      <td>wn:01454260n</td>\n",
       "      <td>NaN</td>\n",
       "    </tr>\n",
       "  </tbody>\n",
       "</table>\n",
       "</div>"
      ],
      "text/plain": [
       "                            Synset                    Hypernym    WordnetKey   \n",
       "29546                 gempylus.n.1               рыба_рода.n.1  wn:02622130n  \\\n",
       "11208                 жиря́нка.n.1  насекомоядные_растения.n.1  wn:12872914n   \n",
       "26919  оболочки_оплодотворения.n.2                мембрана.n.2  wn:05319419n   \n",
       "43107    недостойное_поведение.n.2    виновными_действиями.n.2  wn:00735936n   \n",
       "9550                  ха́мство.n.1          неэлегантность.n.1  wn:04817788n   \n",
       "6426           Baiomys_taylori.n.1             лесная_мышь.n.1  wn:02337598n   \n",
       "53973            бросить_ковер.n.1                   ковёр.n.1  wn:04144539n   \n",
       "59863          помощник_шерифа.n.5                         NaN  wn:07267795n   \n",
       "39464     разрешение_учащегося.n.1                лицензия.n.1  wn:06550763n   \n",
       "25806            fistulariidae.n.1              рыба_семья.n.1  wn:01454260n   \n",
       "\n",
       "      Definition  \n",
       "29546        NaN  \n",
       "11208        NaN  \n",
       "26919        NaN  \n",
       "43107        NaN  \n",
       "9550         NaN  \n",
       "6426         NaN  \n",
       "53973        NaN  \n",
       "59863        NaN  \n",
       "39464        NaN  \n",
       "25806        NaN  "
      ]
     },
     "execution_count": 30,
     "metadata": {},
     "output_type": "execute_result"
    }
   ],
   "source": [
    "df1[df1['Definition'].isna()].sample(10)"
   ]
  },
  {
   "cell_type": "code",
   "execution_count": 33,
   "metadata": {},
   "outputs": [
    {
     "data": {
      "text/html": [
       "<div>\n",
       "<style scoped>\n",
       "    .dataframe tbody tr th:only-of-type {\n",
       "        vertical-align: middle;\n",
       "    }\n",
       "\n",
       "    .dataframe tbody tr th {\n",
       "        vertical-align: top;\n",
       "    }\n",
       "\n",
       "    .dataframe thead th {\n",
       "        text-align: right;\n",
       "    }\n",
       "</style>\n",
       "<table border=\"1\" class=\"dataframe\">\n",
       "  <thead>\n",
       "    <tr style=\"text-align: right;\">\n",
       "      <th></th>\n",
       "      <th>Synset</th>\n",
       "      <th>Hypernym</th>\n",
       "      <th>WordnetKey</th>\n",
       "      <th>Definition</th>\n",
       "    </tr>\n",
       "  </thead>\n",
       "  <tbody>\n",
       "    <tr>\n",
       "      <th>0</th>\n",
       "      <td>ноль.n.1</td>\n",
       "      <td>цифра.n.1</td>\n",
       "      <td>wn:13742358n</td>\n",
       "      <td>Ноль — целое число, которое при сложении с люб...</td>\n",
       "    </tr>\n",
       "    <tr>\n",
       "      <th>1</th>\n",
       "      <td>1_(число).n.1</td>\n",
       "      <td>цифра.n.1</td>\n",
       "      <td>wn:13742573n</td>\n",
       "      <td>1 — наименьшее натуральное число, целое число ...</td>\n",
       "    </tr>\n",
       "    <tr>\n",
       "      <th>2</th>\n",
       "      <td>додеканол.n.2</td>\n",
       "      <td>спирты.n.2</td>\n",
       "      <td>wn:14930670n</td>\n",
       "      <td>Додеканол — органическое вещество, относится к...</td>\n",
       "    </tr>\n",
       "    <tr>\n",
       "      <th>4</th>\n",
       "      <td>10_(число).n.1</td>\n",
       "      <td>большое_целое_число.n.1</td>\n",
       "      <td>wn:13746512n</td>\n",
       "      <td>10 — натуральное число, расположенное между чи...</td>\n",
       "    </tr>\n",
       "    <tr>\n",
       "      <th>5</th>\n",
       "      <td>100_(число).n.1</td>\n",
       "      <td>большое_целое_число.n.1</td>\n",
       "      <td>wn:13750415n</td>\n",
       "      <td>100 — натуральное и круглое число между 99 и 1...</td>\n",
       "    </tr>\n",
       "    <tr>\n",
       "      <th>...</th>\n",
       "      <td>...</td>\n",
       "      <td>...</td>\n",
       "      <td>...</td>\n",
       "      <td>...</td>\n",
       "    </tr>\n",
       "    <tr>\n",
       "      <th>63337</th>\n",
       "      <td>зуни_(народ).n.1</td>\n",
       "      <td>pueblo.n.1</td>\n",
       "      <td>wn:09673232n</td>\n",
       "      <td>Зу́ни, зу́ньи</td>\n",
       "    </tr>\n",
       "    <tr>\n",
       "      <th>63338</th>\n",
       "      <td>зурванизм.n.1</td>\n",
       "      <td>ересь.n.1\\tбогословское_учение.n.1</td>\n",
       "      <td>wn:06251553n</td>\n",
       "      <td>Зурванизм — предположительно философское течен...</td>\n",
       "    </tr>\n",
       "    <tr>\n",
       "      <th>63339</th>\n",
       "      <td>зайдеко.n.1</td>\n",
       "      <td>кантри.n.1</td>\n",
       "      <td>wn:07062550n</td>\n",
       "      <td>За́йдеко (англ.</td>\n",
       "    </tr>\n",
       "    <tr>\n",
       "      <th>63344</th>\n",
       "      <td>зимаза.n.1</td>\n",
       "      <td>ферменты.n.1</td>\n",
       "      <td>wn:15109586n</td>\n",
       "      <td>Зимаза</td>\n",
       "    </tr>\n",
       "    <tr>\n",
       "      <th>63345</th>\n",
       "      <td>зимология.n.1</td>\n",
       "      <td>биохимия.n.1</td>\n",
       "      <td>wn:06080361n</td>\n",
       "      <td>Зимология</td>\n",
       "    </tr>\n",
       "  </tbody>\n",
       "</table>\n",
       "<p>25434 rows × 4 columns</p>\n",
       "</div>"
      ],
      "text/plain": [
       "                 Synset                            Hypernym    WordnetKey   \n",
       "0              ноль.n.1                           цифра.n.1  wn:13742358n  \\\n",
       "1         1_(число).n.1                           цифра.n.1  wn:13742573n   \n",
       "2         додеканол.n.2                          спирты.n.2  wn:14930670n   \n",
       "4        10_(число).n.1             большое_целое_число.n.1  wn:13746512n   \n",
       "5       100_(число).n.1             большое_целое_число.n.1  wn:13750415n   \n",
       "...                 ...                                 ...           ...   \n",
       "63337  зуни_(народ).n.1                          pueblo.n.1  wn:09673232n   \n",
       "63338     зурванизм.n.1  ересь.n.1\\tбогословское_учение.n.1  wn:06251553n   \n",
       "63339       зайдеко.n.1                          кантри.n.1  wn:07062550n   \n",
       "63344        зимаза.n.1                        ферменты.n.1  wn:15109586n   \n",
       "63345     зимология.n.1                        биохимия.n.1  wn:06080361n   \n",
       "\n",
       "                                              Definition  \n",
       "0      Ноль — целое число, которое при сложении с люб...  \n",
       "1      1 — наименьшее натуральное число, целое число ...  \n",
       "2      Додеканол — органическое вещество, относится к...  \n",
       "4      10 — натуральное число, расположенное между чи...  \n",
       "5      100 — натуральное и круглое число между 99 и 1...  \n",
       "...                                                  ...  \n",
       "63337                                     Зу́ни, зу́ньи   \n",
       "63338  Зурванизм — предположительно философское течен...  \n",
       "63339                                    За́йдеко (англ.  \n",
       "63344                                            Зимаза   \n",
       "63345                                          Зимология  \n",
       "\n",
       "[25434 rows x 4 columns]"
      ]
     },
     "execution_count": 33,
     "metadata": {},
     "output_type": "execute_result"
    }
   ],
   "source": [
    "df2"
   ]
  },
  {
   "cell_type": "code",
   "execution_count": 66,
   "metadata": {},
   "outputs": [],
   "source": [
    "G = nx.from_pandas_edgelist(df2, 'Hypernym', 'Synset', create_using=nx.DiGraph)"
   ]
  },
  {
   "cell_type": "code",
   "execution_count": 95,
   "metadata": {},
   "outputs": [],
   "source": [
    "def create_all_edges(parents, children):\n",
    "    res = []\n",
    "    \n",
    "    for parent in parents:\n",
    "        for child in children:\n",
    "            res.append((parent, child))\n",
    "\n",
    "    return res\n",
    "\n",
    "nodes_to_add = []\n",
    "edges_to_add = []\n",
    "nodes_to_delete = []\n",
    "\n",
    "for node in G:\n",
    "    if len(str(node).split('\\t')) > 1:\n",
    "        nodes_to_add.extend((str(node).split('\\t')))\n",
    "        edges_to_add.extend(create_all_edges(str(node).split('\\t'), list(G[node])))\n",
    "        nodes_to_delete.append(node)"
   ]
  },
  {
   "cell_type": "code",
   "execution_count": 98,
   "metadata": {},
   "outputs": [],
   "source": [
    "G.add_nodes_from(nodes_to_add)\n",
    "G.add_edges_from(edges_to_add)"
   ]
  },
  {
   "cell_type": "code",
   "execution_count": 99,
   "metadata": {},
   "outputs": [],
   "source": [
    "G.remove_nodes_from(nodes_to_delete)"
   ]
  },
  {
   "cell_type": "code",
   "execution_count": 114,
   "metadata": {},
   "outputs": [
    {
     "data": {
      "text/plain": [
       "[('цифра.n.1', 'цифра.n.1')]"
      ]
     },
     "execution_count": 114,
     "metadata": {},
     "output_type": "execute_result"
    }
   ],
   "source": [
    "nx.find_cycle(G)"
   ]
  },
  {
   "cell_type": "code",
   "execution_count": 112,
   "metadata": {},
   "outputs": [
    {
     "data": {
      "text/plain": [
       "[Synset('number.n.01'),\n",
       " Synset('number.n.02'),\n",
       " Synset('act.n.04'),\n",
       " Synset('phone_number.n.01'),\n",
       " Synset('numeral.n.01'),\n",
       " Synset('issue.n.02'),\n",
       " Synset('number.n.07'),\n",
       " Synset('number.n.08'),\n",
       " Synset('number.n.09'),\n",
       " Synset('number.n.10'),\n",
       " Synset('number.n.11'),\n",
       " Synset('total.v.01'),\n",
       " Synset('number.v.02'),\n",
       " Synset('number.v.03'),\n",
       " Synset('count.v.05'),\n",
       " Synset('count.v.01'),\n",
       " Synset('number.v.06')]"
      ]
     },
     "execution_count": 112,
     "metadata": {},
     "output_type": "execute_result"
    }
   ],
   "source": [
    "wn.synsets('number')"
   ]
  },
  {
   "cell_type": "code",
   "execution_count": 110,
   "metadata": {},
   "outputs": [
    {
     "data": {
      "text/plain": [
       "[]"
      ]
     },
     "execution_count": 110,
     "metadata": {},
     "output_type": "execute_result"
    }
   ],
   "source": [
    "all_meanings"
   ]
  },
  {
   "cell_type": "code",
   "execution_count": 92,
   "metadata": {},
   "outputs": [
    {
     "data": {
      "text/plain": [
       "[('австрали́ец.n.1', 'Аборигены_Австралии.n.1'),\n",
       " ('этническая_группа.n.1', 'Аборигены_Австралии.n.1')]"
      ]
     },
     "execution_count": 92,
     "metadata": {},
     "output_type": "execute_result"
    }
   ],
   "source": [
    "create_all_edges(str(node).split('\\t'), list(G[node]))"
   ]
  },
  {
   "cell_type": "code",
   "execution_count": 48,
   "metadata": {},
   "outputs": [
    {
     "data": {
      "text/plain": [
       "5"
      ]
     },
     "execution_count": 48,
     "metadata": {},
     "output_type": "execute_result"
    }
   ],
   "source": [
    "df2['Hypernym'].apply(lambda x: len(str(x).split('\\t'))).max()"
   ]
  },
  {
   "cell_type": "code",
   "execution_count": 93,
   "metadata": {},
   "outputs": [],
   "source": [
    "G.remove_node(node)"
   ]
  },
  {
   "cell_type": "code",
   "execution_count": 115,
   "metadata": {},
   "outputs": [],
   "source": [
    "nx.write_edgelist(G, 'test_graph.edgelist', delimiter='\\t', data=True )"
   ]
  },
  {
   "cell_type": "code",
   "execution_count": 118,
   "metadata": {},
   "outputs": [
    {
     "data": {
      "text/plain": [
       "AtlasView({})"
      ]
     },
     "execution_count": 118,
     "metadata": {},
     "output_type": "execute_result"
    }
   ],
   "source": [
    "G['диаспора.n.2']"
   ]
  },
  {
   "cell_type": "code",
   "execution_count": 119,
   "metadata": {},
   "outputs": [],
   "source": [
    "G = nx.read_edgelist(\"test_graph.edgelist\", delimiter=\"\\t\", create_using=nx.DiGraph)"
   ]
  },
  {
   "cell_type": "code",
   "execution_count": 121,
   "metadata": {},
   "outputs": [
    {
     "data": {
      "text/plain": [
       "26087"
      ]
     },
     "execution_count": 121,
     "metadata": {},
     "output_type": "execute_result"
    }
   ],
   "source": [
    "G.number_of_edges()"
   ]
  },
  {
   "cell_type": "code",
   "execution_count": null,
   "metadata": {},
   "outputs": [],
   "source": []
  }
 ],
 "metadata": {
  "kernelspec": {
   "display_name": "dataload_env",
   "language": "python",
   "name": "python3"
  },
  "language_info": {
   "codemirror_mode": {
    "name": "ipython",
    "version": 3
   },
   "file_extension": ".py",
   "mimetype": "text/x-python",
   "name": "python",
   "nbconvert_exporter": "python",
   "pygments_lexer": "ipython3",
   "version": "3.10.10"
  },
  "orig_nbformat": 4
 },
 "nbformat": 4,
 "nbformat_minor": 2
}
