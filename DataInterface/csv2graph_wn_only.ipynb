{
 "cells": [
  {
   "cell_type": "code",
   "execution_count": 1,
   "metadata": {},
   "outputs": [
    {
     "name": "stderr",
     "output_type": "stream",
     "text": [
      "[nltk_data] Downloading package wordnet to /home/victor/nltk_data...\n",
      "[nltk_data]   Package wordnet is already up-to-date!\n",
      "[nltk_data] Downloading package omw to /home/victor/nltk_data...\n",
      "[nltk_data]   Package omw is already up-to-date!\n"
     ]
    }
   ],
   "source": [
    "import pandas as pd\n",
    "import networkx as nx\n",
    "import nltk\n",
    "from nltk.corpus import wordnet as wn\n",
    "from tqdm import tqdm\n",
    "import os\n",
    "import glob\n",
    "import numpy as np\n",
    "import nltk\n",
    "from ruwordnet import RuWordNet\n",
    "nltk.download('wordnet')\n",
    "nltk.download('omw')\n",
    "nltk.download('omw-1.4')\n",
    "from nltk.corpus import wordnet as wn\n",
    "from odenet import *\n"
   ]
  },
  {
   "cell_type": "code",
   "execution_count": 42,
   "metadata": {},
   "outputs": [],
   "source": [
    "def clean_ru(word):\n",
    "    #word = word.split('.')[0].replace('_', ' ')\n",
    "   # word = word.replace('_', ' ')\n",
    "    word = word.replace('а́', 'а')\n",
    "    word = word.replace('ё', \"е\")\n",
    "    word = word.replace('у́', 'у')\n",
    "    word = word.replace('о́', 'о')\n",
    "    word = word.replace('и́', \"и\")\n",
    "    word = word.replace('е́', \"е\")\n",
    "    word = word.replace('я́', \"я\")\n",
    "\n",
    "    if '(' in word and ')' in word:\n",
    "        lb = word.find('(')\n",
    "        rb = word.find(')')\n",
    "        word = word[:lb-1] + word[rb+1:]\n",
    "        word = word.strip()\n",
    "\n",
    "\n",
    "    return word\n",
    "\n",
    "def clean_dataset(df, clean_fn):\n",
    "    for i, synset in tqdm(enumerate(df['Synset'])):\n",
    "        df['Synset'][i] = clean_fn(df['Synset'][i])\n",
    "        all_hypernyms = df['Hypernym'][i]\n",
    "\n",
    "        if not pd.isna(all_hypernyms):\n",
    "\n",
    "            hyps = []\n",
    "            for hyp in all_hypernyms.split('\\t'):\n",
    "                hyps.append(clean_fn(hyp)) \n",
    "\n",
    "            df['Hypernym'][i] = '\\t'.join(hyps)\n",
    "\n",
    "def filter_with_wn_ru(df, lang=None):\n",
    "    wn = RuWordNet()   \n",
    "\n",
    "    valid_idx = []\n",
    "    for i, word in tqdm(enumerate(df['Synset']), total=len(df)):\n",
    "        word = word.split('.')[0].replace('_', ' ')\n",
    "        if len(wn.get_synsets(word)) > 0:\n",
    "            valid_idx.append(i)\n",
    "\n",
    "    filtered_wn = df.loc[valid_idx]\n",
    "\n",
    "    filtered_wn.index = list(range(len(filtered_wn)))\n",
    "\n",
    "    valid_idx = []\n",
    "    for i, hyp in tqdm(enumerate(filtered_wn['Hypernym']), total=len(filtered_wn)):\n",
    "        if pd.isna(hyp):\n",
    "            continue\n",
    "        for word in hyp.split('\\t'):\n",
    "            word = word.split('.')[0].replace('_', ' ') \n",
    "            if len(wn.get_synsets(word)) > 0:\n",
    "                valid_idx.append(i)\n",
    "\n",
    "    fil2 = filtered_wn.loc[valid_idx]\n",
    "    fil2.index = list(range(len(fil2)))\n",
    "    fil3 = fil2[(fil2['Synset'] != fil2['Hypernym'])]\n",
    "\n",
    "    return fil3\n",
    "\n",
    "def filter_with_wn_de(df, lang=None):\n",
    "\n",
    "    valid_idx = []\n",
    "    for i, word in tqdm(enumerate(df['Synset']), total=len(df)):\n",
    "        word = word.split('.')[0].replace('_', ' ')\n",
    "        if OdeNet.word_id(word):\n",
    "            valid_idx.append(i)\n",
    "\n",
    "    filtered_wn = df.loc[valid_idx]\n",
    "\n",
    "    filtered_wn.index = list(range(len(filtered_wn)))\n",
    "\n",
    "    valid_idx = []\n",
    "    for i, hyp in tqdm(enumerate(filtered_wn['Hypernym']), total=len(filtered_wn)):\n",
    "        if pd.isna(hyp):\n",
    "            continue\n",
    "        for word in hyp.split('\\t'):\n",
    "            word = word.split('.')[0].replace('_', ' ') \n",
    "            if OdeNet.word_id(word):\n",
    "                valid_idx.append(i)\n",
    "\n",
    "    fil2 = filtered_wn.loc[valid_idx]\n",
    "    fil2.index = list(range(len(fil2)))\n",
    "    fil3 = fil2[(fil2['Synset'] != fil2['Hypernym'])]\n",
    "\n",
    "    return fil3\n",
    "def filter_with_wn(df, lang):   \n",
    "\n",
    "    valid_idx = []\n",
    "    for i, word in tqdm(enumerate(df['Synset']), total=len(df)):\n",
    "        word = word.split('.')[0].replace('_', ' ')\n",
    "        if len(wn.synsets(word, lang=lang)) > 0:\n",
    "            valid_idx.append(i)\n",
    "\n",
    "    filtered_wn = df.loc[valid_idx]\n",
    "\n",
    "    filtered_wn.index = list(range(len(filtered_wn)))\n",
    "\n",
    "    valid_idx = []\n",
    "    for i, hyp in tqdm(enumerate(filtered_wn['Hypernym']), total=len(filtered_wn)):\n",
    "        if pd.isna(hyp):\n",
    "            continue\n",
    "        for word in hyp.split('\\t'):\n",
    "            word = word.split('.')[0].replace('_', ' ') \n",
    "            if len(wn.synsets(word, lang=lang)) > 0:\n",
    "                valid_idx.append(i)\n",
    "\n",
    "    fil2 = filtered_wn.loc[valid_idx]\n",
    "    fil2.index = list(range(len(fil2)))\n",
    "    fil3 = fil2[(fil2['Synset'] != fil2['Hypernym'])]\n",
    "\n",
    "    return fil3\n",
    "    \n",
    "\n",
    "def create_all_edges(parents, children):\n",
    "    res = []\n",
    "    \n",
    "    for parent in parents:\n",
    "        for child in children:\n",
    "            res.append((parent, child))\n",
    "\n",
    "    return res\n",
    "\n",
    "def generator(G):\n",
    "    while not nx.is_directed_acyclic_graph(G):\n",
    "        cycle = nx.find_cycle(G)\n",
    "        yield cycle[0]\n",
    "        \n",
    "def make_clean_graph(in_path, out_path, filter_fn, lang, clean_fn=None):\n",
    "    df = pd.read_csv(in_path, sep='\\t')\n",
    "    df1 = df[~df['WordnetKey'].isna()]\n",
    "    if clean_fn:\n",
    "        clean_dataset(df1, clean_fn)\n",
    "   # df2 = df1[~df1['Definition'].isna()] # do not use it anymore\n",
    "    filtered_df = filter_fn(df1, lang=lang)\n",
    "    print(len(filtered_df))\n",
    "    G = nx.from_pandas_edgelist(filtered_df, 'Hypernym',\n",
    "                                 'Synset', create_using=nx.DiGraph)\n",
    "\n",
    "    nodes_to_add = []\n",
    "    edges_to_add = []\n",
    "    nodes_to_delete = []\n",
    "\n",
    "    for node in G:\n",
    "        if len(str(node).split('\\t')) > 1:\n",
    "            nodes_to_add.extend((str(node).split('\\t')))\n",
    "            edges_to_add.extend(create_all_edges(str(node).split('\\t'), list(G[node])))\n",
    "            nodes_to_delete.append(node)\n",
    "\n",
    "    G.add_nodes_from(nodes_to_add)\n",
    "    G.add_edges_from(edges_to_add)\n",
    "    G.remove_nodes_from(nodes_to_delete)\n",
    "\n",
    "    for bad_edge in tqdm(generator(G)):\n",
    "        G.remove_edge(*bad_edge)\n",
    "\n",
    "    nx.write_edgelist(G, out_path, delimiter='\\t')"
   ]
  },
  {
   "cell_type": "code",
   "execution_count": 43,
   "metadata": {},
   "outputs": [
    {
     "name": "stderr",
     "output_type": "stream",
     "text": [
      "  5%|▌         | 3388/63842 [02:16<1:15:20, 13.37it/s]"
     ]
    }
   ],
   "source": [
    "in_path = 'data/full_babel/de_babel_hyper.csv'\n",
    "save_path = 'data/filtered_wnet/de_isa.edgelist'\n",
    "make_clean_graph(in_path, save_path, filter_with_wn_de, 'de')"
   ]
  },
  {
   "cell_type": "code",
   "execution_count": 4,
   "metadata": {},
   "outputs": [],
   "source": [
    "# global_train = []\n",
    "# global_test = []\n",
    "\n",
    "# all_data = glob.glob(os.path.join(\"data/full_babel/\", \"*babel_hyper.csv\"))\n",
    "# for path in tqdm(all_data):\n",
    "#     lang = path.split(\"/\")[-1].replace(\"_babel_hyper.csv\", \"\")\n",
    "#     save_path = 'data/wnet_babel/{}_isa.edgelist'.format(lang)\n",
    "\n",
    "#     make_clean_graph(path, save_path)"
   ]
  },
  {
   "cell_type": "code",
   "execution_count": 25,
   "metadata": {},
   "outputs": [],
   "source": []
  },
  {
   "cell_type": "code",
   "execution_count": 39,
   "metadata": {},
   "outputs": [],
   "source": [
    "OdeNet.word_id(\"tisch\")"
   ]
  },
  {
   "cell_type": "code",
   "execution_count": 40,
   "metadata": {},
   "outputs": [],
   "source": [
    "df = pd.read_csv('data/full_babel/de_babel_hyper.csv', sep='\\t')"
   ]
  },
  {
   "cell_type": "code",
   "execution_count": 41,
   "metadata": {},
   "outputs": [
    {
     "data": {
      "text/html": [
       "<div>\n",
       "<style scoped>\n",
       "    .dataframe tbody tr th:only-of-type {\n",
       "        vertical-align: middle;\n",
       "    }\n",
       "\n",
       "    .dataframe tbody tr th {\n",
       "        vertical-align: top;\n",
       "    }\n",
       "\n",
       "    .dataframe thead th {\n",
       "        text-align: right;\n",
       "    }\n",
       "</style>\n",
       "<table border=\"1\" class=\"dataframe\">\n",
       "  <thead>\n",
       "    <tr style=\"text-align: right;\">\n",
       "      <th></th>\n",
       "      <th>Synset</th>\n",
       "      <th>Hypernym</th>\n",
       "      <th>WordnetKey</th>\n",
       "      <th>Definition</th>\n",
       "    </tr>\n",
       "  </thead>\n",
       "  <tbody>\n",
       "    <tr>\n",
       "      <th>0</th>\n",
       "      <td>Null.n.1</td>\n",
       "      <td>zahl.n.1</td>\n",
       "      <td>wn:13742358n</td>\n",
       "      <td>Die Zahl Null ist die Anzahl der Elemente in e...</td>\n",
       "    </tr>\n",
       "    <tr>\n",
       "      <th>1</th>\n",
       "      <td>Eins.n.1</td>\n",
       "      <td>zahl.n.1</td>\n",
       "      <td>wn:13742573n</td>\n",
       "      <td>Die Eins ist die natürliche Zahl zwischen null...</td>\n",
       "    </tr>\n",
       "    <tr>\n",
       "      <th>2</th>\n",
       "      <td>1-Dodecanol.n.2</td>\n",
       "      <td>Alkohol.n.2</td>\n",
       "      <td>wn:14930670n</td>\n",
       "      <td>Dodecanol, auch 1-Dodecanol, Dodecan-1-ol oder...</td>\n",
       "    </tr>\n",
       "    <tr>\n",
       "      <th>3</th>\n",
       "      <td>1-hitter.n.1</td>\n",
       "      <td>Baseball.n.1</td>\n",
       "      <td>wn:00475142n</td>\n",
       "      <td>NaN</td>\n",
       "    </tr>\n",
       "    <tr>\n",
       "      <th>4</th>\n",
       "      <td>Zehn.n.1</td>\n",
       "      <td>großen_integer.n.1</td>\n",
       "      <td>wn:13746512n</td>\n",
       "      <td>Die Zehn ist die natürliche Zahl zwischen Neun...</td>\n",
       "    </tr>\n",
       "    <tr>\n",
       "      <th>...</th>\n",
       "      <td>...</td>\n",
       "      <td>...</td>\n",
       "      <td>...</td>\n",
       "      <td>...</td>\n",
       "    </tr>\n",
       "    <tr>\n",
       "      <th>72646</th>\n",
       "      <td>Donnie_Sadler.n.1</td>\n",
       "      <td>Utility-Player.n.1</td>\n",
       "      <td>NaN</td>\n",
       "      <td>NaN</td>\n",
       "    </tr>\n",
       "    <tr>\n",
       "      <th>72647</th>\n",
       "      <td>Francis_Joseph_Christian.n.1</td>\n",
       "      <td>Bischof.n.1\\tTitularbischof.n.1</td>\n",
       "      <td>NaN</td>\n",
       "      <td>Francis Joseph Christian ist Weihbischof in Ma...</td>\n",
       "    </tr>\n",
       "    <tr>\n",
       "      <th>72648</th>\n",
       "      <td>John_Brendan_McCormack.n.1</td>\n",
       "      <td>Prälat.n.1</td>\n",
       "      <td>NaN</td>\n",
       "      <td>John Brendan McCormack ist Altbischof von Manc...</td>\n",
       "    </tr>\n",
       "    <tr>\n",
       "      <th>72649</th>\n",
       "      <td>Valley_of_the_Dolls.n.6</td>\n",
       "      <td>Anrede.n.6</td>\n",
       "      <td>NaN</td>\n",
       "      <td>Album von Dionne Warwick</td>\n",
       "    </tr>\n",
       "    <tr>\n",
       "      <th>72650</th>\n",
       "      <td>Wo_die_Liebe_hinfällt.n.1</td>\n",
       "      <td>Anthologie.n.1</td>\n",
       "      <td>NaN</td>\n",
       "      <td>US-amerikanische Fernsehserie</td>\n",
       "    </tr>\n",
       "  </tbody>\n",
       "</table>\n",
       "<p>72651 rows × 4 columns</p>\n",
       "</div>"
      ],
      "text/plain": [
       "                             Synset                         Hypernym   \n",
       "0                          Null.n.1                         zahl.n.1  \\\n",
       "1                          Eins.n.1                         zahl.n.1   \n",
       "2                   1-Dodecanol.n.2                      Alkohol.n.2   \n",
       "3                      1-hitter.n.1                     Baseball.n.1   \n",
       "4                          Zehn.n.1               großen_integer.n.1   \n",
       "...                             ...                              ...   \n",
       "72646             Donnie_Sadler.n.1               Utility-Player.n.1   \n",
       "72647  Francis_Joseph_Christian.n.1  Bischof.n.1\\tTitularbischof.n.1   \n",
       "72648    John_Brendan_McCormack.n.1                       Prälat.n.1   \n",
       "72649       Valley_of_the_Dolls.n.6                       Anrede.n.6   \n",
       "72650     Wo_die_Liebe_hinfällt.n.1                   Anthologie.n.1   \n",
       "\n",
       "         WordnetKey                                         Definition  \n",
       "0      wn:13742358n  Die Zahl Null ist die Anzahl der Elemente in e...  \n",
       "1      wn:13742573n  Die Eins ist die natürliche Zahl zwischen null...  \n",
       "2      wn:14930670n  Dodecanol, auch 1-Dodecanol, Dodecan-1-ol oder...  \n",
       "3      wn:00475142n                                                NaN  \n",
       "4      wn:13746512n  Die Zehn ist die natürliche Zahl zwischen Neun...  \n",
       "...             ...                                                ...  \n",
       "72646           NaN                                                NaN  \n",
       "72647           NaN  Francis Joseph Christian ist Weihbischof in Ma...  \n",
       "72648           NaN  John Brendan McCormack ist Altbischof von Manc...  \n",
       "72649           NaN                           Album von Dionne Warwick  \n",
       "72650           NaN                      US-amerikanische Fernsehserie  \n",
       "\n",
       "[72651 rows x 4 columns]"
      ]
     },
     "execution_count": 41,
     "metadata": {},
     "output_type": "execute_result"
    }
   ],
   "source": [
    "df"
   ]
  },
  {
   "cell_type": "code",
   "execution_count": 15,
   "metadata": {},
   "outputs": [],
   "source": [
    "df1 = df[~df['WordnetKey'].isna()]"
   ]
  },
  {
   "cell_type": "code",
   "execution_count": 16,
   "metadata": {},
   "outputs": [
    {
     "data": {
      "text/html": [
       "<div>\n",
       "<style scoped>\n",
       "    .dataframe tbody tr th:only-of-type {\n",
       "        vertical-align: middle;\n",
       "    }\n",
       "\n",
       "    .dataframe tbody tr th {\n",
       "        vertical-align: top;\n",
       "    }\n",
       "\n",
       "    .dataframe thead th {\n",
       "        text-align: right;\n",
       "    }\n",
       "</style>\n",
       "<table border=\"1\" class=\"dataframe\">\n",
       "  <thead>\n",
       "    <tr style=\"text-align: right;\">\n",
       "      <th></th>\n",
       "      <th>Synset</th>\n",
       "      <th>Hypernym</th>\n",
       "      <th>WordnetKey</th>\n",
       "      <th>Definition</th>\n",
       "    </tr>\n",
       "  </thead>\n",
       "  <tbody>\n",
       "    <tr>\n",
       "      <th>26728</th>\n",
       "      <td>equilibrio_ley.n.4</td>\n",
       "      <td>ley.n.4</td>\n",
       "      <td>wn:05877412n</td>\n",
       "      <td>NaN</td>\n",
       "    </tr>\n",
       "    <tr>\n",
       "      <th>35376</th>\n",
       "      <td>bien.n.1</td>\n",
       "      <td>ventaja.n.1</td>\n",
       "      <td>wn:05159725n</td>\n",
       "      <td>NaN</td>\n",
       "    </tr>\n",
       "    <tr>\n",
       "      <th>22599</th>\n",
       "      <td>plan.n.3</td>\n",
       "      <td>organización.n.3</td>\n",
       "      <td>wn:05728678n</td>\n",
       "      <td>NaN</td>\n",
       "    </tr>\n",
       "    <tr>\n",
       "      <th>60489</th>\n",
       "      <td>tímido.n.1</td>\n",
       "      <td>lanzamiento.n.1</td>\n",
       "      <td>wn:00106888n</td>\n",
       "      <td>NaN</td>\n",
       "    </tr>\n",
       "    <tr>\n",
       "      <th>12510</th>\n",
       "      <td>préstamo_a_la_vista.n.1</td>\n",
       "      <td>préstamo.n.1</td>\n",
       "      <td>wn:13399275n</td>\n",
       "      <td>NaN</td>\n",
       "    </tr>\n",
       "    <tr>\n",
       "      <th>65341</th>\n",
       "      <td>impresión_del_pulgar.n.1</td>\n",
       "      <td>huella_dactilar.n.1</td>\n",
       "      <td>wn:06644916n</td>\n",
       "      <td>NaN</td>\n",
       "    </tr>\n",
       "    <tr>\n",
       "      <th>23044</th>\n",
       "      <td>analizador_diferencial.n.1</td>\n",
       "      <td>computadora_analógica.n.1</td>\n",
       "      <td>wn:03194170n</td>\n",
       "      <td>El Analizador diferencial fue un computador an...</td>\n",
       "    </tr>\n",
       "    <tr>\n",
       "      <th>11999</th>\n",
       "      <td>buteno.n.2</td>\n",
       "      <td>gas.n.2</td>\n",
       "      <td>wn:14787093n</td>\n",
       "      <td>El buteno o butileno es un alqueno.</td>\n",
       "    </tr>\n",
       "    <tr>\n",
       "      <th>40645</th>\n",
       "      <td>cámara_de_ionización.n.1</td>\n",
       "      <td>instrumento_de_medición.n.1</td>\n",
       "      <td>wn:03583621n</td>\n",
       "      <td>Una cámara de ionización es un dispositivo usa...</td>\n",
       "    </tr>\n",
       "    <tr>\n",
       "      <th>26732</th>\n",
       "      <td>línea_de_tormenta.n.1</td>\n",
       "      <td>tormenta.n.1</td>\n",
       "      <td>wn:11501864n</td>\n",
       "      <td>NaN</td>\n",
       "    </tr>\n",
       "    <tr>\n",
       "      <th>6456</th>\n",
       "      <td>Bromus_inermis.n.1</td>\n",
       "      <td>bromo.n.1</td>\n",
       "      <td>wn:12111043n</td>\n",
       "      <td>Bromus inermis es una especie fanerógama perte...</td>\n",
       "    </tr>\n",
       "    <tr>\n",
       "      <th>57019</th>\n",
       "      <td>depositario.n.1</td>\n",
       "      <td>confidente.n.1</td>\n",
       "      <td>wn:10521928n</td>\n",
       "      <td>Persona a quien se le confía un secreto.</td>\n",
       "    </tr>\n",
       "    <tr>\n",
       "      <th>3619</th>\n",
       "      <td>pata.n.2</td>\n",
       "      <td>NaN</td>\n",
       "      <td>wn:02464327n</td>\n",
       "      <td>NaN</td>\n",
       "    </tr>\n",
       "    <tr>\n",
       "      <th>30085</th>\n",
       "      <td>vagón_plataforma.n.1</td>\n",
       "      <td>coche_de_carga.n.1</td>\n",
       "      <td>wn:03360731n</td>\n",
       "      <td>Un vagón plataforma es un vehículo ferroviario...</td>\n",
       "    </tr>\n",
       "    <tr>\n",
       "      <th>15038</th>\n",
       "      <td>new_world_charla.n.1</td>\n",
       "      <td>Phylloscopus_sibilatrix.n.1</td>\n",
       "      <td>wn:01569836n</td>\n",
       "      <td>NaN</td>\n",
       "    </tr>\n",
       "    <tr>\n",
       "      <th>33336</th>\n",
       "      <td>nageia.n.1</td>\n",
       "      <td>gimnospermas.n.1</td>\n",
       "      <td>wn:11657314n</td>\n",
       "      <td>Nageia es un género de coníferas perteneciente...</td>\n",
       "    </tr>\n",
       "    <tr>\n",
       "      <th>69237</th>\n",
       "      <td>ñame.n.1</td>\n",
       "      <td>enredadera.n.1</td>\n",
       "      <td>wn:12087961n</td>\n",
       "      <td>Ñame o yam[1]​ es el nombre dado a un grupo de...</td>\n",
       "    </tr>\n",
       "    <tr>\n",
       "      <th>43503</th>\n",
       "      <td>agua_de_cal.n.1</td>\n",
       "      <td>agua.n.1</td>\n",
       "      <td>wn:14937093n</td>\n",
       "      <td>NaN</td>\n",
       "    </tr>\n",
       "    <tr>\n",
       "      <th>43026</th>\n",
       "      <td>lente_cápsula.n.5</td>\n",
       "      <td>cápsula.n.5</td>\n",
       "      <td>wn:05326200n</td>\n",
       "      <td>NaN</td>\n",
       "    </tr>\n",
       "    <tr>\n",
       "      <th>53488</th>\n",
       "      <td>pluvioso.n.1</td>\n",
       "      <td>calendario_republicano.n.1</td>\n",
       "      <td>wn:15176630n</td>\n",
       "      <td>Pluvioso es el nombre del quinto mes del calen...</td>\n",
       "    </tr>\n",
       "  </tbody>\n",
       "</table>\n",
       "</div>"
      ],
      "text/plain": [
       "                           Synset                     Hypernym    WordnetKey   \n",
       "26728          equilibrio_ley.n.4                      ley.n.4  wn:05877412n  \\\n",
       "35376                    bien.n.1                  ventaja.n.1  wn:05159725n   \n",
       "22599                    plan.n.3             organización.n.3  wn:05728678n   \n",
       "60489                  tímido.n.1              lanzamiento.n.1  wn:00106888n   \n",
       "12510     préstamo_a_la_vista.n.1                 préstamo.n.1  wn:13399275n   \n",
       "65341    impresión_del_pulgar.n.1          huella_dactilar.n.1  wn:06644916n   \n",
       "23044  analizador_diferencial.n.1    computadora_analógica.n.1  wn:03194170n   \n",
       "11999                  buteno.n.2                      gas.n.2  wn:14787093n   \n",
       "40645    cámara_de_ionización.n.1  instrumento_de_medición.n.1  wn:03583621n   \n",
       "26732       línea_de_tormenta.n.1                 tormenta.n.1  wn:11501864n   \n",
       "6456           Bromus_inermis.n.1                    bromo.n.1  wn:12111043n   \n",
       "57019             depositario.n.1               confidente.n.1  wn:10521928n   \n",
       "3619                     pata.n.2                          NaN  wn:02464327n   \n",
       "30085        vagón_plataforma.n.1           coche_de_carga.n.1  wn:03360731n   \n",
       "15038        new_world_charla.n.1  Phylloscopus_sibilatrix.n.1  wn:01569836n   \n",
       "33336                  nageia.n.1             gimnospermas.n.1  wn:11657314n   \n",
       "69237                    ñame.n.1               enredadera.n.1  wn:12087961n   \n",
       "43503             agua_de_cal.n.1                     agua.n.1  wn:14937093n   \n",
       "43026           lente_cápsula.n.5                  cápsula.n.5  wn:05326200n   \n",
       "53488                pluvioso.n.1   calendario_republicano.n.1  wn:15176630n   \n",
       "\n",
       "                                              Definition  \n",
       "26728                                                NaN  \n",
       "35376                                                NaN  \n",
       "22599                                                NaN  \n",
       "60489                                                NaN  \n",
       "12510                                                NaN  \n",
       "65341                                                NaN  \n",
       "23044  El Analizador diferencial fue un computador an...  \n",
       "11999                El buteno o butileno es un alqueno.  \n",
       "40645  Una cámara de ionización es un dispositivo usa...  \n",
       "26732                                                NaN  \n",
       "6456   Bromus inermis es una especie fanerógama perte...  \n",
       "57019           Persona a quien se le confía un secreto.  \n",
       "3619                                                 NaN  \n",
       "30085  Un vagón plataforma es un vehículo ferroviario...  \n",
       "15038                                                NaN  \n",
       "33336  Nageia es un género de coníferas perteneciente...  \n",
       "69237  Ñame o yam[1]​ es el nombre dado a un grupo de...  \n",
       "43503                                                NaN  \n",
       "43026                                                NaN  \n",
       "53488  Pluvioso es el nombre del quinto mes del calen...  "
      ]
     },
     "execution_count": 16,
     "metadata": {},
     "output_type": "execute_result"
    }
   ],
   "source": [
    "df1.sample(20)"
   ]
  },
  {
   "cell_type": "code",
   "execution_count": 18,
   "metadata": {},
   "outputs": [
    {
     "data": {
      "text/plain": [
       "'pata.n.2'"
      ]
     },
     "execution_count": 18,
     "metadata": {},
     "output_type": "execute_result"
    }
   ],
   "source": [
    "df1['Synset'][3619]"
   ]
  },
  {
   "cell_type": "code",
   "execution_count": 1,
   "metadata": {},
   "outputs": [],
   "source": [
    "from nltk.corpus import wordnet as wn\n",
    "import nltk"
   ]
  },
  {
   "cell_type": "code",
   "execution_count": 8,
   "metadata": {},
   "outputs": [],
   "source": [
    "from nltk.corpus import wordnet as wn\n"
   ]
  },
  {
   "cell_type": "code",
   "execution_count": 2,
   "metadata": {},
   "outputs": [
    {
     "data": {
      "text/plain": [
       "['eng']"
      ]
     },
     "execution_count": 2,
     "metadata": {},
     "output_type": "execute_result"
    }
   ],
   "source": [
    "wn.langs()"
   ]
  },
  {
   "cell_type": "code",
   "execution_count": 12,
   "metadata": {},
   "outputs": [
    {
     "name": "stderr",
     "output_type": "stream",
     "text": [
      "100%|██████████| 63346/63346 [00:26<00:00, 2432.00it/s]\n"
     ]
    }
   ],
   "source": [
    "found = 0\n",
    "valid_idx = []\n",
    "invalid_idx = []\n",
    "for i, word in tqdm(enumerate(df1['Synset']), total=len(df1)):\n",
    "    word = word.split('.')[0].replace('_', ' ')\n",
    "    \n",
    "    if len(wn.get_synsets(word)) > 0:\n",
    "    # try:\n",
    "    #     wn[word]\n",
    "        \n",
    "        valid_idx.append(i)\n",
    "    else:\n",
    "        invalid_idx.append(i)\n",
    "    # except KeyError:\n",
    "    #     continue\n"
   ]
  },
  {
   "cell_type": "code",
   "execution_count": 13,
   "metadata": {},
   "outputs": [
    {
     "data": {
      "text/plain": [
       "15753"
      ]
     },
     "execution_count": 13,
     "metadata": {},
     "output_type": "execute_result"
    }
   ],
   "source": [
    "len(valid_idx)"
   ]
  },
  {
   "cell_type": "code",
   "execution_count": 14,
   "metadata": {},
   "outputs": [],
   "source": [
    "anti_filtered_wn = df1.loc[invalid_idx]"
   ]
  },
  {
   "cell_type": "code",
   "execution_count": 28,
   "metadata": {},
   "outputs": [
    {
     "data": {
      "text/html": [
       "<div>\n",
       "<style scoped>\n",
       "    .dataframe tbody tr th:only-of-type {\n",
       "        vertical-align: middle;\n",
       "    }\n",
       "\n",
       "    .dataframe tbody tr th {\n",
       "        vertical-align: top;\n",
       "    }\n",
       "\n",
       "    .dataframe thead th {\n",
       "        text-align: right;\n",
       "    }\n",
       "</style>\n",
       "<table border=\"1\" class=\"dataframe\">\n",
       "  <thead>\n",
       "    <tr style=\"text-align: right;\">\n",
       "      <th></th>\n",
       "      <th>Synset</th>\n",
       "      <th>Hypernym</th>\n",
       "      <th>WordnetKey</th>\n",
       "      <th>Definition</th>\n",
       "    </tr>\n",
       "  </thead>\n",
       "  <tbody>\n",
       "    <tr>\n",
       "      <th>10928</th>\n",
       "      <td>Бюро_переписи_населения_США.n.1</td>\n",
       "      <td>орган_публичной_власти.n.1</td>\n",
       "      <td>wn:08129621n</td>\n",
       "      <td>Бюро переписи населения США</td>\n",
       "    </tr>\n",
       "    <tr>\n",
       "      <th>9986</th>\n",
       "      <td>тормоза.n.1</td>\n",
       "      <td>механический_тормоз.n.1</td>\n",
       "      <td>wn:02891188n</td>\n",
       "      <td>NaN</td>\n",
       "    </tr>\n",
       "    <tr>\n",
       "      <th>28806</th>\n",
       "      <td>sutura_лобной.n.1</td>\n",
       "      <td>sutura.n.1</td>\n",
       "      <td>wn:05544078n</td>\n",
       "      <td>NaN</td>\n",
       "    </tr>\n",
       "    <tr>\n",
       "      <th>32</th>\n",
       "      <td>1780.n.1</td>\n",
       "      <td>десятилетие.n.1</td>\n",
       "      <td>wn:15151175n</td>\n",
       "      <td>NaN</td>\n",
       "    </tr>\n",
       "    <tr>\n",
       "      <th>37217</th>\n",
       "      <td>внутреннее_сгорание.n.1</td>\n",
       "      <td>горение.n.1</td>\n",
       "      <td>wn:13501261n</td>\n",
       "      <td>NaN</td>\n",
       "    </tr>\n",
       "    <tr>\n",
       "      <th>51142</th>\n",
       "      <td>рабочий_карьера.n.1</td>\n",
       "      <td>NaN</td>\n",
       "      <td>wn:10498551n</td>\n",
       "      <td>NaN</td>\n",
       "    </tr>\n",
       "    <tr>\n",
       "      <th>38792</th>\n",
       "      <td>Губно‐зубные_согласные.n.1</td>\n",
       "      <td>согласные.n.1</td>\n",
       "      <td>wn:07117193n</td>\n",
       "      <td>Губно-зубны́е согласные</td>\n",
       "    </tr>\n",
       "    <tr>\n",
       "      <th>57382</th>\n",
       "      <td>паровое_отопление.n.1</td>\n",
       "      <td>отопление.n.1</td>\n",
       "      <td>wn:04309682n</td>\n",
       "      <td>NaN</td>\n",
       "    </tr>\n",
       "    <tr>\n",
       "      <th>31303</th>\n",
       "      <td>pyralis.n.1</td>\n",
       "      <td>членистоногих_рода.n.1</td>\n",
       "      <td>wn:02289061n</td>\n",
       "      <td>NaN</td>\n",
       "    </tr>\n",
       "    <tr>\n",
       "      <th>57288</th>\n",
       "      <td>звездный_свет.n.1</td>\n",
       "      <td>свет.n.1</td>\n",
       "      <td>wn:11485186n</td>\n",
       "      <td>Звёздный свет или Свет звёзд</td>\n",
       "    </tr>\n",
       "    <tr>\n",
       "      <th>39902</th>\n",
       "      <td>Либфраумильх.n.1</td>\n",
       "      <td>Рейнвейн.n.1</td>\n",
       "      <td>wn:07897600n</td>\n",
       "      <td>Либфраумильх</td>\n",
       "    </tr>\n",
       "    <tr>\n",
       "      <th>56832</th>\n",
       "      <td>шпинат_упадок.n.2</td>\n",
       "      <td>NaN</td>\n",
       "      <td>wn:14218717n</td>\n",
       "      <td>NaN</td>\n",
       "    </tr>\n",
       "    <tr>\n",
       "      <th>19723</th>\n",
       "      <td>дагеротипия.n.1</td>\n",
       "      <td>фотография.n.1</td>\n",
       "      <td>wn:03159331n</td>\n",
       "      <td>Дагероти́пия — ранний фотографический процесс,...</td>\n",
       "    </tr>\n",
       "    <tr>\n",
       "      <th>29833</th>\n",
       "      <td>род_космос.n.1</td>\n",
       "      <td>asterid_двудольных_рода.n.1</td>\n",
       "      <td>wn:11957912n</td>\n",
       "      <td>NaN</td>\n",
       "    </tr>\n",
       "    <tr>\n",
       "      <th>9774</th>\n",
       "      <td>бюргеры_Шри-Ланки.n.1</td>\n",
       "      <td>массы.n.1</td>\n",
       "      <td>wn:09869830n</td>\n",
       "      <td>Бюргеры Шри-Ланки</td>\n",
       "    </tr>\n",
       "    <tr>\n",
       "      <th>28055</th>\n",
       "      <td>трубадуры.n.1</td>\n",
       "      <td>вокалист.n.1</td>\n",
       "      <td>wn:10099093n</td>\n",
       "      <td>Трубаду́ры</td>\n",
       "    </tr>\n",
       "    <tr>\n",
       "      <th>33705</th>\n",
       "      <td>гемагглютинации.n.1</td>\n",
       "      <td>агглютинация.n.1</td>\n",
       "      <td>wn:13492136n</td>\n",
       "      <td>NaN</td>\n",
       "    </tr>\n",
       "    <tr>\n",
       "      <th>4560</th>\n",
       "      <td>арра.n.1</td>\n",
       "      <td>залог.n.1</td>\n",
       "      <td>wn:13350322n</td>\n",
       "      <td>Арра — термин римского права, соответствующий ...</td>\n",
       "    </tr>\n",
       "    <tr>\n",
       "      <th>62890</th>\n",
       "      <td>воллемия.n.1</td>\n",
       "      <td>хвойное_дерево.n.1</td>\n",
       "      <td>wn:11645590n</td>\n",
       "      <td>Волле́мия</td>\n",
       "    </tr>\n",
       "    <tr>\n",
       "      <th>39405</th>\n",
       "      <td>этилированного_бронзовые.n.1</td>\n",
       "      <td>бронза.n.1</td>\n",
       "      <td>wn:14933569n</td>\n",
       "      <td>NaN</td>\n",
       "    </tr>\n",
       "    <tr>\n",
       "      <th>27763</th>\n",
       "      <td>американский_клювач.n.1</td>\n",
       "      <td>аистовые.n.1</td>\n",
       "      <td>wn:02004855n</td>\n",
       "      <td>Американский клювач</td>\n",
       "    </tr>\n",
       "    <tr>\n",
       "      <th>52449</th>\n",
       "      <td>ограничение_фрагмент.n.1</td>\n",
       "      <td>NaN</td>\n",
       "      <td>wn:09408105n</td>\n",
       "      <td>NaN</td>\n",
       "    </tr>\n",
       "    <tr>\n",
       "      <th>28982</th>\n",
       "      <td>гриб_порядкеn.12</td>\n",
       "      <td>отрядn.12</td>\n",
       "      <td>wn:11594676n</td>\n",
       "      <td>NaN</td>\n",
       "    </tr>\n",
       "    <tr>\n",
       "      <th>39219</th>\n",
       "      <td>скрытая_враждебность.n.2</td>\n",
       "      <td>вражды.n.2</td>\n",
       "      <td>wn:13980596n</td>\n",
       "      <td>NaN</td>\n",
       "    </tr>\n",
       "    <tr>\n",
       "      <th>46554</th>\n",
       "      <td>вытеснению.n.2</td>\n",
       "      <td>изгнание.n.2</td>\n",
       "      <td>wn:00208797n</td>\n",
       "      <td>NaN</td>\n",
       "    </tr>\n",
       "    <tr>\n",
       "      <th>49355</th>\n",
       "      <td>комиссар_полиции.n.1</td>\n",
       "      <td>комиссар.n.1</td>\n",
       "      <td>wn:10448834n</td>\n",
       "      <td>NaN</td>\n",
       "    </tr>\n",
       "    <tr>\n",
       "      <th>2927</th>\n",
       "      <td>амфисбены.n.1</td>\n",
       "      <td>рептилий_родом.n.1</td>\n",
       "      <td>wn:01683036n</td>\n",
       "      <td>NaN</td>\n",
       "    </tr>\n",
       "    <tr>\n",
       "      <th>44596</th>\n",
       "      <td>идентификация_с_отрицательным_результатом.n.2</td>\n",
       "      <td>идентификация.n.2</td>\n",
       "      <td>wn:06885906n</td>\n",
       "      <td>NaN</td>\n",
       "    </tr>\n",
       "    <tr>\n",
       "      <th>38591</th>\n",
       "      <td>кп.n.1</td>\n",
       "      <td>размещения_человек.n.1</td>\n",
       "      <td>wn:10237556n</td>\n",
       "      <td>NaN</td>\n",
       "    </tr>\n",
       "    <tr>\n",
       "      <th>26482</th>\n",
       "      <td>xantusiidae.n.1</td>\n",
       "      <td>рептилия_семьи.n.1</td>\n",
       "      <td>wn:01683428n</td>\n",
       "      <td>NaN</td>\n",
       "    </tr>\n",
       "  </tbody>\n",
       "</table>\n",
       "</div>"
      ],
      "text/plain": [
       "                                              Synset   \n",
       "10928                Бюро_переписи_населения_США.n.1  \\\n",
       "9986                                     тормоза.n.1   \n",
       "28806                              sutura_лобной.n.1   \n",
       "32                                          1780.n.1   \n",
       "37217                        внутреннее_сгорание.n.1   \n",
       "51142                            рабочий_карьера.n.1   \n",
       "38792                     Губно‐зубные_согласные.n.1   \n",
       "57382                          паровое_отопление.n.1   \n",
       "31303                                    pyralis.n.1   \n",
       "57288                              звездный_свет.n.1   \n",
       "39902                               Либфраумильх.n.1   \n",
       "56832                              шпинат_упадок.n.2   \n",
       "19723                                дагеротипия.n.1   \n",
       "29833                                 род_космос.n.1   \n",
       "9774                           бюргеры_Шри-Ланки.n.1   \n",
       "28055                                  трубадуры.n.1   \n",
       "33705                            гемагглютинации.n.1   \n",
       "4560                                        арра.n.1   \n",
       "62890                                   воллемия.n.1   \n",
       "39405                   этилированного_бронзовые.n.1   \n",
       "27763                        американский_клювач.n.1   \n",
       "52449                       ограничение_фрагмент.n.1   \n",
       "28982                               гриб_порядкеn.12   \n",
       "39219                       скрытая_враждебность.n.2   \n",
       "46554                                 вытеснению.n.2   \n",
       "49355                           комиссар_полиции.n.1   \n",
       "2927                                   амфисбены.n.1   \n",
       "44596  идентификация_с_отрицательным_результатом.n.2   \n",
       "38591                                         кп.n.1   \n",
       "26482                                xantusiidae.n.1   \n",
       "\n",
       "                          Hypernym    WordnetKey   \n",
       "10928   орган_публичной_власти.n.1  wn:08129621n  \\\n",
       "9986       механический_тормоз.n.1  wn:02891188n   \n",
       "28806                   sutura.n.1  wn:05544078n   \n",
       "32                 десятилетие.n.1  wn:15151175n   \n",
       "37217                  горение.n.1  wn:13501261n   \n",
       "51142                          NaN  wn:10498551n   \n",
       "38792                согласные.n.1  wn:07117193n   \n",
       "57382                отопление.n.1  wn:04309682n   \n",
       "31303       членистоногих_рода.n.1  wn:02289061n   \n",
       "57288                     свет.n.1  wn:11485186n   \n",
       "39902                 Рейнвейн.n.1  wn:07897600n   \n",
       "56832                          NaN  wn:14218717n   \n",
       "19723               фотография.n.1  wn:03159331n   \n",
       "29833  asterid_двудольных_рода.n.1  wn:11957912n   \n",
       "9774                     массы.n.1  wn:09869830n   \n",
       "28055                 вокалист.n.1  wn:10099093n   \n",
       "33705             агглютинация.n.1  wn:13492136n   \n",
       "4560                     залог.n.1  wn:13350322n   \n",
       "62890           хвойное_дерево.n.1  wn:11645590n   \n",
       "39405                   бронза.n.1  wn:14933569n   \n",
       "27763                 аистовые.n.1  wn:02004855n   \n",
       "52449                          NaN  wn:09408105n   \n",
       "28982                    отрядn.12  wn:11594676n   \n",
       "39219                   вражды.n.2  wn:13980596n   \n",
       "46554                 изгнание.n.2  wn:00208797n   \n",
       "49355                 комиссар.n.1  wn:10448834n   \n",
       "2927            рептилий_родом.n.1  wn:01683036n   \n",
       "44596            идентификация.n.2  wn:06885906n   \n",
       "38591       размещения_человек.n.1  wn:10237556n   \n",
       "26482           рептилия_семьи.n.1  wn:01683428n   \n",
       "\n",
       "                                              Definition  \n",
       "10928                       Бюро переписи населения США   \n",
       "9986                                                 NaN  \n",
       "28806                                                NaN  \n",
       "32                                                   NaN  \n",
       "37217                                                NaN  \n",
       "51142                                                NaN  \n",
       "38792                           Губно-зубны́е согласные   \n",
       "57382                                                NaN  \n",
       "31303                                                NaN  \n",
       "57288                       Звёздный свет или Свет звёзд  \n",
       "39902                                       Либфраумильх  \n",
       "56832                                                NaN  \n",
       "19723  Дагероти́пия — ранний фотографический процесс,...  \n",
       "29833                                                NaN  \n",
       "9774                                  Бюргеры Шри-Ланки   \n",
       "28055                                        Трубаду́ры   \n",
       "33705                                                NaN  \n",
       "4560   Арра — термин римского права, соответствующий ...  \n",
       "62890                                         Волле́мия   \n",
       "39405                                                NaN  \n",
       "27763                               Американский клювач   \n",
       "52449                                                NaN  \n",
       "28982                                                NaN  \n",
       "39219                                                NaN  \n",
       "46554                                                NaN  \n",
       "49355                                                NaN  \n",
       "2927                                                 NaN  \n",
       "44596                                                NaN  \n",
       "38591                                                NaN  \n",
       "26482                                                NaN  "
      ]
     },
     "execution_count": 28,
     "metadata": {},
     "output_type": "execute_result"
    }
   ],
   "source": [
    "anti_filtered_wn.sample(30)"
   ]
  },
  {
   "cell_type": "code",
   "execution_count": 27,
   "metadata": {},
   "outputs": [
    {
     "data": {
      "text/plain": [
       "[Sense(id=\"146593-N-103459\", name=\"ДУБ\"),\n",
       " Sense(id=\"5442-N-103459\", name=\"ДУБ\")]"
      ]
     },
     "execution_count": 27,
     "metadata": {},
     "output_type": "execute_result"
    }
   ],
   "source": [
    "wn['дуб']"
   ]
  },
  {
   "cell_type": "code",
   "execution_count": 40,
   "metadata": {},
   "outputs": [],
   "source": [
    "filtered_wn = df1.loc[valid_idx]"
   ]
  },
  {
   "cell_type": "code",
   "execution_count": 41,
   "metadata": {},
   "outputs": [
    {
     "data": {
      "text/html": [
       "<div>\n",
       "<style scoped>\n",
       "    .dataframe tbody tr th:only-of-type {\n",
       "        vertical-align: middle;\n",
       "    }\n",
       "\n",
       "    .dataframe tbody tr th {\n",
       "        vertical-align: top;\n",
       "    }\n",
       "\n",
       "    .dataframe thead th {\n",
       "        text-align: right;\n",
       "    }\n",
       "</style>\n",
       "<table border=\"1\" class=\"dataframe\">\n",
       "  <thead>\n",
       "    <tr style=\"text-align: right;\">\n",
       "      <th></th>\n",
       "      <th>Synset</th>\n",
       "      <th>Hypernym</th>\n",
       "      <th>WordnetKey</th>\n",
       "      <th>Definition</th>\n",
       "    </tr>\n",
       "  </thead>\n",
       "  <tbody>\n",
       "    <tr>\n",
       "      <th>25132</th>\n",
       "      <td>событие.n.1</td>\n",
       "      <td>физическое_явление.n.1</td>\n",
       "      <td>wn:11453860n</td>\n",
       "      <td>Собы́тие в теории относительности — моментальн...</td>\n",
       "    </tr>\n",
       "    <tr>\n",
       "      <th>21623</th>\n",
       "      <td>дисциплина.n.1</td>\n",
       "      <td>тренинг.n.1</td>\n",
       "      <td>wn:00893836n</td>\n",
       "      <td>Дисципли́на</td>\n",
       "    </tr>\n",
       "    <tr>\n",
       "      <th>36429</th>\n",
       "      <td>недопустимость.n.1</td>\n",
       "      <td>недопустимость.n.1</td>\n",
       "      <td>wn:04794408n</td>\n",
       "      <td>NaN</td>\n",
       "    </tr>\n",
       "    <tr>\n",
       "      <th>15524</th>\n",
       "      <td>восхождение.n.2</td>\n",
       "      <td>восходящий.n.2</td>\n",
       "      <td>wn:00325110n</td>\n",
       "      <td>NaN</td>\n",
       "    </tr>\n",
       "    <tr>\n",
       "      <th>29062</th>\n",
       "      <td>табун.n.1</td>\n",
       "      <td>агент_фосфорорганическими_нерва.n.1</td>\n",
       "      <td>wn:15066125n</td>\n",
       "      <td>Табу́н</td>\n",
       "    </tr>\n",
       "    <tr>\n",
       "      <th>43779</th>\n",
       "      <td>моцарелла.n.1</td>\n",
       "      <td>сыр.n.1</td>\n",
       "      <td>wn:07854184n</td>\n",
       "      <td>Моцаре́лла, моццаре́лла</td>\n",
       "    </tr>\n",
       "    <tr>\n",
       "      <th>19327</th>\n",
       "      <td>сокращение.n.4</td>\n",
       "      <td>сбережения.n.4</td>\n",
       "      <td>wn:00192910n</td>\n",
       "      <td>NaN</td>\n",
       "    </tr>\n",
       "    <tr>\n",
       "      <th>3665</th>\n",
       "      <td>антропология.n.1</td>\n",
       "      <td>общественные_науки.n.1</td>\n",
       "      <td>wn:06143546n</td>\n",
       "      <td>Антрополо́гия</td>\n",
       "    </tr>\n",
       "    <tr>\n",
       "      <th>20275</th>\n",
       "      <td>акт.n.1</td>\n",
       "      <td>юридический_документ.n.1</td>\n",
       "      <td>wn:06545137n</td>\n",
       "      <td>Юридически оформленное дело, часто сделка</td>\n",
       "    </tr>\n",
       "    <tr>\n",
       "      <th>13905</th>\n",
       "      <td>задание.n.1</td>\n",
       "      <td>задание.n.1</td>\n",
       "      <td>wn:00731222n</td>\n",
       "      <td>NaN</td>\n",
       "    </tr>\n",
       "    <tr>\n",
       "      <th>37200</th>\n",
       "      <td>перевод.n.1</td>\n",
       "      <td>письменный_отчет.n.1</td>\n",
       "      <td>wn:06536389n</td>\n",
       "      <td>Перево́д — деятельность по интерпретации смысл...</td>\n",
       "    </tr>\n",
       "    <tr>\n",
       "      <th>20806</th>\n",
       "      <td>спуск.n.6</td>\n",
       "      <td>ход.n.6</td>\n",
       "      <td>wn:00326440n</td>\n",
       "      <td>NaN</td>\n",
       "    </tr>\n",
       "    <tr>\n",
       "      <th>27159</th>\n",
       "      <td>скоросшиватель.n.2</td>\n",
       "      <td>директория.n.2</td>\n",
       "      <td>wn:03337383n</td>\n",
       "      <td>Скоросшива́тель — папка для быстрого сбора док...</td>\n",
       "    </tr>\n",
       "    <tr>\n",
       "      <th>7846</th>\n",
       "      <td>ловкость.n.1</td>\n",
       "      <td>дар.n.1</td>\n",
       "      <td>wn:05624254n</td>\n",
       "      <td>NaN</td>\n",
       "    </tr>\n",
       "    <tr>\n",
       "      <th>2276</th>\n",
       "      <td>распределение.n.3</td>\n",
       "      <td>распределения.n.3</td>\n",
       "      <td>wn:01083645n</td>\n",
       "      <td>NaN</td>\n",
       "    </tr>\n",
       "    <tr>\n",
       "      <th>8663</th>\n",
       "      <td>ежевика.n.1</td>\n",
       "      <td>терновник_куста.n.1</td>\n",
       "      <td>wn:12653762n</td>\n",
       "      <td>Ежеви́ка — подрод рода Рубус семейства Розовые.</td>\n",
       "    </tr>\n",
       "    <tr>\n",
       "      <th>395</th>\n",
       "      <td>глупость.n.1</td>\n",
       "      <td>глупость.n.1</td>\n",
       "      <td>wn:04891683n</td>\n",
       "      <td>NaN</td>\n",
       "    </tr>\n",
       "    <tr>\n",
       "      <th>57329</th>\n",
       "      <td>купе.n.1</td>\n",
       "      <td>кабина.n.1</td>\n",
       "      <td>wn:04305572n</td>\n",
       "      <td>NaN</td>\n",
       "    </tr>\n",
       "    <tr>\n",
       "      <th>47802</th>\n",
       "      <td>склонность.n.1</td>\n",
       "      <td>симпатия.n.1</td>\n",
       "      <td>wn:07498210n</td>\n",
       "      <td>NaN</td>\n",
       "    </tr>\n",
       "    <tr>\n",
       "      <th>58520</th>\n",
       "      <td>мошенничество.n.1</td>\n",
       "      <td>смешанный_напиток.n.1</td>\n",
       "      <td>wn:07918706n</td>\n",
       "      <td>NaN</td>\n",
       "    </tr>\n",
       "  </tbody>\n",
       "</table>\n",
       "</div>"
      ],
      "text/plain": [
       "                   Synset                             Hypernym    WordnetKey   \n",
       "25132         событие.n.1               физическое_явление.n.1  wn:11453860n  \\\n",
       "21623      дисциплина.n.1                          тренинг.n.1  wn:00893836n   \n",
       "36429  недопустимость.n.1                   недопустимость.n.1  wn:04794408n   \n",
       "15524     восхождение.n.2                       восходящий.n.2  wn:00325110n   \n",
       "29062           табун.n.1  агент_фосфорорганическими_нерва.n.1  wn:15066125n   \n",
       "43779       моцарелла.n.1                              сыр.n.1  wn:07854184n   \n",
       "19327      сокращение.n.4                       сбережения.n.4  wn:00192910n   \n",
       "3665     антропология.n.1               общественные_науки.n.1  wn:06143546n   \n",
       "20275             акт.n.1             юридический_документ.n.1  wn:06545137n   \n",
       "13905         задание.n.1                          задание.n.1  wn:00731222n   \n",
       "37200         перевод.n.1                 письменный_отчет.n.1  wn:06536389n   \n",
       "20806           спуск.n.6                              ход.n.6  wn:00326440n   \n",
       "27159  скоросшиватель.n.2                       директория.n.2  wn:03337383n   \n",
       "7846         ловкость.n.1                              дар.n.1  wn:05624254n   \n",
       "2276    распределение.n.3                    распределения.n.3  wn:01083645n   \n",
       "8663          ежевика.n.1                  терновник_куста.n.1  wn:12653762n   \n",
       "395          глупость.n.1                         глупость.n.1  wn:04891683n   \n",
       "57329            купе.n.1                           кабина.n.1  wn:04305572n   \n",
       "47802      склонность.n.1                         симпатия.n.1  wn:07498210n   \n",
       "58520   мошенничество.n.1                смешанный_напиток.n.1  wn:07918706n   \n",
       "\n",
       "                                              Definition  \n",
       "25132  Собы́тие в теории относительности — моментальн...  \n",
       "21623                                       Дисципли́на   \n",
       "36429                                                NaN  \n",
       "15524                                                NaN  \n",
       "29062                                             Табу́н  \n",
       "43779                           Моцаре́лла, моццаре́лла   \n",
       "19327                                                NaN  \n",
       "3665                                      Антрополо́гия   \n",
       "20275          Юридически оформленное дело, часто сделка  \n",
       "13905                                                NaN  \n",
       "37200  Перево́д — деятельность по интерпретации смысл...  \n",
       "20806                                                NaN  \n",
       "27159  Скоросшива́тель — папка для быстрого сбора док...  \n",
       "7846                                                 NaN  \n",
       "2276                                                 NaN  \n",
       "8663     Ежеви́ка — подрод рода Рубус семейства Розовые.  \n",
       "395                                                  NaN  \n",
       "57329                                                NaN  \n",
       "47802                                                NaN  \n",
       "58520                                                NaN  "
      ]
     },
     "execution_count": 41,
     "metadata": {},
     "output_type": "execute_result"
    }
   ],
   "source": [
    "filtered_wn.sample(20)"
   ]
  },
  {
   "cell_type": "code",
   "execution_count": 43,
   "metadata": {},
   "outputs": [],
   "source": []
  },
  {
   "cell_type": "code",
   "execution_count": 46,
   "metadata": {},
   "outputs": [
    {
     "name": "stderr",
     "output_type": "stream",
     "text": [
      "  0%|          | 41/15753 [00:00<00:39, 400.76it/s]"
     ]
    },
    {
     "name": "stderr",
     "output_type": "stream",
     "text": [
      "100%|██████████| 15753/15753 [00:10<00:00, 1569.07it/s]\n"
     ]
    }
   ],
   "source": [
    "filtered_wn.index = list(range(len(filtered_wn)))\n",
    "\n",
    "found = 0\n",
    "valid_idx = []\n",
    "for i, hyp in tqdm(enumerate(filtered_wn['Hypernym']), total=len(filtered_wn)):\n",
    "    if pd.isna(hyp):\n",
    "        continue\n",
    "    for word in hyp.split('\\t'):\n",
    "        word = word.split('.')[0].replace('_', ' ')\n",
    "        \n",
    "        if len(wn.get_synsets(word)) > 0:\n",
    "        # try:\n",
    "        #     wn[word]\n",
    "            \n",
    "            valid_idx.append(i)\n",
    "            found += 1\n",
    "        # except KeyError:\n",
    "        #     continue\n",
    "\n",
    "fil2 = filtered_wn.loc[valid_idx]\n",
    "fil2.index = list(range(len(fil2)))\n",
    "fil3 = fil2[(fil2['Synset'] != fil2['Hypernym'])]"
   ]
  },
  {
   "cell_type": "code",
   "execution_count": 51,
   "metadata": {},
   "outputs": [],
   "source": []
  },
  {
   "cell_type": "code",
   "execution_count": 59,
   "metadata": {},
   "outputs": [],
   "source": []
  },
  {
   "cell_type": "code",
   "execution_count": 61,
   "metadata": {},
   "outputs": [
    {
     "data": {
      "text/plain": [
       "7961"
      ]
     },
     "execution_count": 61,
     "metadata": {},
     "output_type": "execute_result"
    }
   ],
   "source": [
    "len(fil3)"
   ]
  },
  {
   "cell_type": "code",
   "execution_count": 60,
   "metadata": {},
   "outputs": [
    {
     "name": "stderr",
     "output_type": "stream",
     "text": [
      "35it [00:01, 21.04it/s]\n"
     ]
    }
   ],
   "source": [
    "out_path = 'test_ru_filter.edgelist'\n",
    "G = nx.from_pandas_edgelist(fil3, 'Hypernym',\n",
    "                                 'Synset', create_using=nx.DiGraph)\n",
    "\n",
    "nodes_to_add = []\n",
    "edges_to_add = []\n",
    "nodes_to_delete = []\n",
    "\n",
    "for node in G:\n",
    "    if len(str(node).split('\\t')) > 1:\n",
    "        nodes_to_add.extend((str(node).split('\\t')))\n",
    "        edges_to_add.extend(create_all_edges(str(node).split('\\t'), list(G[node])))\n",
    "        nodes_to_delete.append(node)\n",
    "\n",
    "G.add_nodes_from(nodes_to_add)\n",
    "G.add_edges_from(edges_to_add)\n",
    "G.remove_nodes_from(nodes_to_delete)\n",
    "\n",
    "for bad_edge in tqdm(generator(G)):\n",
    "    G.remove_edge(*bad_edge)\n",
    "\n",
    "nx.write_edgelist(G, out_path, delimiter='\\t')"
   ]
  },
  {
   "cell_type": "code",
   "execution_count": 87,
   "metadata": {},
   "outputs": [
    {
     "name": "stdout",
     "output_type": "stream",
     "text": [
      "пас \n"
     ]
    }
   ],
   "source": [
    "a = a.replace('_', ' ')\n",
    "lb = a.find('(')\n",
    "rb = a.find(')')\n",
    "\n",
    "print(a[:lb] + a[rb+1:])"
   ]
  },
  {
   "cell_type": "code",
   "execution_count": 82,
   "metadata": {},
   "outputs": [
    {
     "data": {
      "text/plain": [
       "[Synset(id=\"127461-N\", title=\"ПЕРЕДАЧА ПАСА\")]"
      ]
     },
     "execution_count": 82,
     "metadata": {},
     "output_type": "execute_result"
    }
   ],
   "source": [
    "wn.get_synsets('пас')"
   ]
  },
  {
   "cell_type": "code",
   "execution_count": 43,
   "metadata": {},
   "outputs": [
    {
     "data": {
      "text/plain": [
       "([WNSense(key=\"apprisal%1:10:00::\", name=\"apprisal\")],\n",
       " [WNSense(key=\"language%1:10:03::\", name=\"language\"),\n",
       "  WNSense(key=\"language%1:10:01::\", name=\"language\"),\n",
       "  WNSense(key=\"language%1:10:00::\", name=\"language\"),\n",
       "  WNSense(key=\"language%1:09:00::\", name=\"language\")],\n",
       " [WNSense(key=\"zombie%1:18:00::\", name=\"zombie\")])"
      ]
     },
     "execution_count": 43,
     "metadata": {},
     "output_type": "execute_result"
    }
   ],
   "source": [
    "wn['apprisal'], wn['language'], wn['zombie']"
   ]
  },
  {
   "cell_type": "code",
   "execution_count": 15,
   "metadata": {},
   "outputs": [
    {
     "data": {
      "text/html": [
       "<div>\n",
       "<style scoped>\n",
       "    .dataframe tbody tr th:only-of-type {\n",
       "        vertical-align: middle;\n",
       "    }\n",
       "\n",
       "    .dataframe tbody tr th {\n",
       "        vertical-align: top;\n",
       "    }\n",
       "\n",
       "    .dataframe thead th {\n",
       "        text-align: right;\n",
       "    }\n",
       "</style>\n",
       "<table border=\"1\" class=\"dataframe\">\n",
       "  <thead>\n",
       "    <tr style=\"text-align: right;\">\n",
       "      <th></th>\n",
       "      <th>Synset</th>\n",
       "      <th>Hypernym</th>\n",
       "      <th>WordnetKey</th>\n",
       "      <th>Definition</th>\n",
       "    </tr>\n",
       "  </thead>\n",
       "  <tbody>\n",
       "    <tr>\n",
       "      <th>5118</th>\n",
       "      <td>азрег.n.1</td>\n",
       "      <td>турецкие_денежной_единицы.n.1</td>\n",
       "      <td>wn:13687420n</td>\n",
       "      <td>NaN</td>\n",
       "    </tr>\n",
       "    <tr>\n",
       "      <th>10528</th>\n",
       "      <td>helix_азрегза.n.1</td>\n",
       "      <td>Helix_aspersa.n.1</td>\n",
       "      <td>wn:01945143n</td>\n",
       "      <td>NaN</td>\n",
       "    </tr>\n",
       "  </tbody>\n",
       "</table>\n",
       "</div>"
      ],
      "text/plain": [
       "                  Synset                       Hypernym    WordnetKey  \\\n",
       "5118           азрег.n.1  турецкие_денежной_единицы.n.1  wn:13687420n   \n",
       "10528  helix_азрегза.n.1              Helix_aspersa.n.1  wn:01945143n   \n",
       "\n",
       "      Definition  \n",
       "5118         NaN  \n",
       "10528        NaN  "
      ]
     },
     "execution_count": 15,
     "metadata": {},
     "output_type": "execute_result"
    }
   ],
   "source": [
    "df1[df1['Synset'].str.contains('азрег')]"
   ]
  },
  {
   "cell_type": "code",
   "execution_count": 16,
   "metadata": {},
   "outputs": [
    {
     "data": {
      "text/html": [
       "<div>\n",
       "<style scoped>\n",
       "    .dataframe tbody tr th:only-of-type {\n",
       "        vertical-align: middle;\n",
       "    }\n",
       "\n",
       "    .dataframe tbody tr th {\n",
       "        vertical-align: top;\n",
       "    }\n",
       "\n",
       "    .dataframe thead th {\n",
       "        text-align: right;\n",
       "    }\n",
       "</style>\n",
       "<table border=\"1\" class=\"dataframe\">\n",
       "  <thead>\n",
       "    <tr style=\"text-align: right;\">\n",
       "      <th></th>\n",
       "      <th>Synset</th>\n",
       "      <th>Hypernym</th>\n",
       "      <th>WordnetKey</th>\n",
       "      <th>Definition</th>\n",
       "    </tr>\n",
       "  </thead>\n",
       "  <tbody>\n",
       "    <tr>\n",
       "      <th>52119</th>\n",
       "      <td>зарегистрируйтесь_языке.n.1</td>\n",
       "      <td>тональный_язык.n.1</td>\n",
       "      <td>wn:06905243n</td>\n",
       "      <td>NaN</td>\n",
       "    </tr>\n",
       "  </tbody>\n",
       "</table>\n",
       "</div>"
      ],
      "text/plain": [
       "                            Synset            Hypernym    WordnetKey  \\\n",
       "52119  зарегистрируйтесь_языке.n.1  тональный_язык.n.1  wn:06905243n   \n",
       "\n",
       "      Definition  \n",
       "52119        NaN  "
      ]
     },
     "execution_count": 16,
     "metadata": {},
     "output_type": "execute_result"
    }
   ],
   "source": [
    "df1[df1['Synset'].str.contains('зарегистрируйтесь')]"
   ]
  },
  {
   "cell_type": "code",
   "execution_count": 17,
   "metadata": {},
   "outputs": [
    {
     "data": {
      "text/html": [
       "<div>\n",
       "<style scoped>\n",
       "    .dataframe tbody tr th:only-of-type {\n",
       "        vertical-align: middle;\n",
       "    }\n",
       "\n",
       "    .dataframe tbody tr th {\n",
       "        vertical-align: top;\n",
       "    }\n",
       "\n",
       "    .dataframe thead th {\n",
       "        text-align: right;\n",
       "    }\n",
       "</style>\n",
       "<table border=\"1\" class=\"dataframe\">\n",
       "  <thead>\n",
       "    <tr style=\"text-align: right;\">\n",
       "      <th></th>\n",
       "      <th>Synset</th>\n",
       "      <th>Hypernym</th>\n",
       "      <th>WordnetKey</th>\n",
       "      <th>Definition</th>\n",
       "    </tr>\n",
       "  </thead>\n",
       "  <tbody>\n",
       "    <tr>\n",
       "      <th>17452</th>\n",
       "      <td>контур_языке.n.1</td>\n",
       "      <td>тональный_язык.n.1</td>\n",
       "      <td>wn:06905141n</td>\n",
       "      <td>NaN</td>\n",
       "    </tr>\n",
       "  </tbody>\n",
       "</table>\n",
       "</div>"
      ],
      "text/plain": [
       "                 Synset            Hypernym    WordnetKey Definition\n",
       "17452  контур_языке.n.1  тональный_язык.n.1  wn:06905141n        NaN"
      ]
     },
     "execution_count": 17,
     "metadata": {},
     "output_type": "execute_result"
    }
   ],
   "source": [
    "df1[df1['Synset'].str.contains('контур_языке')]"
   ]
  },
  {
   "cell_type": "code",
   "execution_count": 18,
   "metadata": {},
   "outputs": [
    {
     "data": {
      "text/html": [
       "<div>\n",
       "<style scoped>\n",
       "    .dataframe tbody tr th:only-of-type {\n",
       "        vertical-align: middle;\n",
       "    }\n",
       "\n",
       "    .dataframe tbody tr th {\n",
       "        vertical-align: top;\n",
       "    }\n",
       "\n",
       "    .dataframe thead th {\n",
       "        text-align: right;\n",
       "    }\n",
       "</style>\n",
       "<table border=\"1\" class=\"dataframe\">\n",
       "  <thead>\n",
       "    <tr style=\"text-align: right;\">\n",
       "      <th></th>\n",
       "      <th>Synset</th>\n",
       "      <th>Hypernym</th>\n",
       "      <th>WordnetKey</th>\n",
       "      <th>Definition</th>\n",
       "    </tr>\n",
       "  </thead>\n",
       "  <tbody>\n",
       "    <tr>\n",
       "      <th>18773</th>\n",
       "      <td>criollo_людей.n.1</td>\n",
       "      <td>испаноамериканцы.n.1</td>\n",
       "      <td>wn:09978697n</td>\n",
       "      <td>NaN</td>\n",
       "    </tr>\n",
       "  </tbody>\n",
       "</table>\n",
       "</div>"
      ],
      "text/plain": [
       "                  Synset              Hypernym    WordnetKey Definition\n",
       "18773  criollo_людей.n.1  испаноамериканцы.n.1  wn:09978697n        NaN"
      ]
     },
     "execution_count": 18,
     "metadata": {},
     "output_type": "execute_result"
    }
   ],
   "source": [
    "df1[df1['Synset'].str.contains('criollo')]"
   ]
  },
  {
   "cell_type": "code",
   "execution_count": 19,
   "metadata": {},
   "outputs": [
    {
     "data": {
      "text/html": [
       "<div>\n",
       "<style scoped>\n",
       "    .dataframe tbody tr th:only-of-type {\n",
       "        vertical-align: middle;\n",
       "    }\n",
       "\n",
       "    .dataframe tbody tr th {\n",
       "        vertical-align: top;\n",
       "    }\n",
       "\n",
       "    .dataframe thead th {\n",
       "        text-align: right;\n",
       "    }\n",
       "</style>\n",
       "<table border=\"1\" class=\"dataframe\">\n",
       "  <thead>\n",
       "    <tr style=\"text-align: right;\">\n",
       "      <th></th>\n",
       "      <th>Synset</th>\n",
       "      <th>Hypernym</th>\n",
       "      <th>WordnetKey</th>\n",
       "      <th>Definition</th>\n",
       "    </tr>\n",
       "  </thead>\n",
       "  <tbody>\n",
       "    <tr>\n",
       "      <th>21344</th>\n",
       "      <td>dimensión.n.1</td>\n",
       "      <td>величина_(математика).n.1</td>\n",
       "      <td>wn:05093581n</td>\n",
       "      <td>NaN</td>\n",
       "    </tr>\n",
       "  </tbody>\n",
       "</table>\n",
       "</div>"
      ],
      "text/plain": [
       "              Synset                   Hypernym    WordnetKey Definition\n",
       "21344  dimensión.n.1  величина_(математика).n.1  wn:05093581n        NaN"
      ]
     },
     "execution_count": 19,
     "metadata": {},
     "output_type": "execute_result"
    }
   ],
   "source": [
    "df1[df1['Synset'].str.contains('dimensión')]"
   ]
  },
  {
   "cell_type": "code",
   "execution_count": 52,
   "metadata": {},
   "outputs": [],
   "source": [
    "df2 = df1[~df1['Definition'].isna()]"
   ]
  },
  {
   "cell_type": "code",
   "execution_count": 53,
   "metadata": {},
   "outputs": [
    {
     "data": {
      "text/plain": [
       "25434"
      ]
     },
     "execution_count": 53,
     "metadata": {},
     "output_type": "execute_result"
    }
   ],
   "source": [
    "len(df2)"
   ]
  },
  {
   "cell_type": "code",
   "execution_count": 21,
   "metadata": {},
   "outputs": [
    {
     "data": {
      "text/html": [
       "<div>\n",
       "<style scoped>\n",
       "    .dataframe tbody tr th:only-of-type {\n",
       "        vertical-align: middle;\n",
       "    }\n",
       "\n",
       "    .dataframe tbody tr th {\n",
       "        vertical-align: top;\n",
       "    }\n",
       "\n",
       "    .dataframe thead th {\n",
       "        text-align: right;\n",
       "    }\n",
       "</style>\n",
       "<table border=\"1\" class=\"dataframe\">\n",
       "  <thead>\n",
       "    <tr style=\"text-align: right;\">\n",
       "      <th></th>\n",
       "      <th>Synset</th>\n",
       "      <th>Hypernym</th>\n",
       "      <th>WordnetKey</th>\n",
       "      <th>Definition</th>\n",
       "    </tr>\n",
       "  </thead>\n",
       "  <tbody>\n",
       "    <tr>\n",
       "      <th>60526</th>\n",
       "      <td>племенное_общество.n.1</td>\n",
       "      <td>общество.n.1</td>\n",
       "      <td>wn:08288390n</td>\n",
       "      <td>NaN</td>\n",
       "    </tr>\n",
       "    <tr>\n",
       "      <th>20850</th>\n",
       "      <td>желание.n.3</td>\n",
       "      <td>NaN</td>\n",
       "      <td>wn:04945057n</td>\n",
       "      <td>NaN</td>\n",
       "    </tr>\n",
       "    <tr>\n",
       "      <th>4589</th>\n",
       "      <td>вооруженный_разбой.n.1</td>\n",
       "      <td>грабёж.n.1</td>\n",
       "      <td>wn:00781912n</td>\n",
       "      <td>NaN</td>\n",
       "    </tr>\n",
       "    <tr>\n",
       "      <th>54566</th>\n",
       "      <td>городского_управления.n.1</td>\n",
       "      <td>выборного_должностного_лица.n.1</td>\n",
       "      <td>wn:10576676n</td>\n",
       "      <td>NaN</td>\n",
       "    </tr>\n",
       "    <tr>\n",
       "      <th>54408</th>\n",
       "      <td>ожо́г_второ́й_сте́пени.n.3</td>\n",
       "      <td>ожог.n.3</td>\n",
       "      <td>wn:14291295n</td>\n",
       "      <td>NaN</td>\n",
       "    </tr>\n",
       "    <tr>\n",
       "      <th>51781</th>\n",
       "      <td>переоценка.n.1</td>\n",
       "      <td>NaN</td>\n",
       "      <td>wn:05747582n</td>\n",
       "      <td>NaN</td>\n",
       "    </tr>\n",
       "    <tr>\n",
       "      <th>24607</th>\n",
       "      <td>eragrostis.n.1</td>\n",
       "      <td>liliopsid_рода.n.1</td>\n",
       "      <td>wn:12119947n</td>\n",
       "      <td>NaN</td>\n",
       "    </tr>\n",
       "    <tr>\n",
       "      <th>23963</th>\n",
       "      <td>Emilia.n.1</td>\n",
       "      <td>asterid_двудольных_рода.n.1</td>\n",
       "      <td>wn:11963158n</td>\n",
       "      <td>NaN</td>\n",
       "    </tr>\n",
       "    <tr>\n",
       "      <th>16234</th>\n",
       "      <td>колледж_мальчик.n.1</td>\n",
       "      <td>студент.n.1</td>\n",
       "      <td>wn:09937056n</td>\n",
       "      <td>NaN</td>\n",
       "    </tr>\n",
       "    <tr>\n",
       "      <th>6233</th>\n",
       "      <td>вернуться_имеет_значения.n.6</td>\n",
       "      <td>NaN</td>\n",
       "      <td>wn:06390805n</td>\n",
       "      <td>NaN</td>\n",
       "    </tr>\n",
       "  </tbody>\n",
       "</table>\n",
       "</div>"
      ],
      "text/plain": [
       "                             Synset                         Hypernym  \\\n",
       "60526        племенное_общество.n.1                     общество.n.1   \n",
       "20850                   желание.n.3                              NaN   \n",
       "4589         вооруженный_разбой.n.1                       грабёж.n.1   \n",
       "54566     городского_управления.n.1  выборного_должностного_лица.n.1   \n",
       "54408    ожо́г_второ́й_сте́пени.n.3                         ожог.n.3   \n",
       "51781                переоценка.n.1                              NaN   \n",
       "24607                eragrostis.n.1               liliopsid_рода.n.1   \n",
       "23963                    Emilia.n.1      asterid_двудольных_рода.n.1   \n",
       "16234           колледж_мальчик.n.1                      студент.n.1   \n",
       "6233   вернуться_имеет_значения.n.6                              NaN   \n",
       "\n",
       "         WordnetKey Definition  \n",
       "60526  wn:08288390n        NaN  \n",
       "20850  wn:04945057n        NaN  \n",
       "4589   wn:00781912n        NaN  \n",
       "54566  wn:10576676n        NaN  \n",
       "54408  wn:14291295n        NaN  \n",
       "51781  wn:05747582n        NaN  \n",
       "24607  wn:12119947n        NaN  \n",
       "23963  wn:11963158n        NaN  \n",
       "16234  wn:09937056n        NaN  \n",
       "6233   wn:06390805n        NaN  "
      ]
     },
     "execution_count": 21,
     "metadata": {},
     "output_type": "execute_result"
    }
   ],
   "source": [
    "df1[df1['Definition'].isna()].sample(10)"
   ]
  },
  {
   "cell_type": "code",
   "execution_count": 26,
   "metadata": {},
   "outputs": [
    {
     "data": {
      "text/html": [
       "<div>\n",
       "<style scoped>\n",
       "    .dataframe tbody tr th:only-of-type {\n",
       "        vertical-align: middle;\n",
       "    }\n",
       "\n",
       "    .dataframe tbody tr th {\n",
       "        vertical-align: top;\n",
       "    }\n",
       "\n",
       "    .dataframe thead th {\n",
       "        text-align: right;\n",
       "    }\n",
       "</style>\n",
       "<table border=\"1\" class=\"dataframe\">\n",
       "  <thead>\n",
       "    <tr style=\"text-align: right;\">\n",
       "      <th></th>\n",
       "      <th>Synset</th>\n",
       "      <th>Hypernym</th>\n",
       "      <th>WordnetKey</th>\n",
       "      <th>Definition</th>\n",
       "    </tr>\n",
       "  </thead>\n",
       "  <tbody>\n",
       "    <tr>\n",
       "      <th>0</th>\n",
       "      <td>ноль.n.1</td>\n",
       "      <td>цифра.n.1</td>\n",
       "      <td>wn:13742358n</td>\n",
       "      <td>Ноль — целое число, которое при сложении с люб...</td>\n",
       "    </tr>\n",
       "    <tr>\n",
       "      <th>1</th>\n",
       "      <td>1_(число).n.1</td>\n",
       "      <td>цифра.n.1</td>\n",
       "      <td>wn:13742573n</td>\n",
       "      <td>1 — наименьшее натуральное число, целое число ...</td>\n",
       "    </tr>\n",
       "    <tr>\n",
       "      <th>2</th>\n",
       "      <td>додеканол.n.2</td>\n",
       "      <td>спирты.n.2</td>\n",
       "      <td>wn:14930670n</td>\n",
       "      <td>Додеканол — органическое вещество, относится к...</td>\n",
       "    </tr>\n",
       "    <tr>\n",
       "      <th>4</th>\n",
       "      <td>10_(число).n.1</td>\n",
       "      <td>большое_целое_число.n.1</td>\n",
       "      <td>wn:13746512n</td>\n",
       "      <td>10 — натуральное число, расположенное между чи...</td>\n",
       "    </tr>\n",
       "    <tr>\n",
       "      <th>5</th>\n",
       "      <td>100_(число).n.1</td>\n",
       "      <td>большое_целое_число.n.1</td>\n",
       "      <td>wn:13750415n</td>\n",
       "      <td>100 — натуральное и круглое число между 99 и 1...</td>\n",
       "    </tr>\n",
       "    <tr>\n",
       "      <th>...</th>\n",
       "      <td>...</td>\n",
       "      <td>...</td>\n",
       "      <td>...</td>\n",
       "      <td>...</td>\n",
       "    </tr>\n",
       "    <tr>\n",
       "      <th>63337</th>\n",
       "      <td>зуни_(народ).n.1</td>\n",
       "      <td>pueblo.n.1</td>\n",
       "      <td>wn:09673232n</td>\n",
       "      <td>Зу́ни, зу́ньи</td>\n",
       "    </tr>\n",
       "    <tr>\n",
       "      <th>63338</th>\n",
       "      <td>зурванизм.n.1</td>\n",
       "      <td>ересь.n.1\\tбогословское_учение.n.1</td>\n",
       "      <td>wn:06251553n</td>\n",
       "      <td>Зурванизм — предположительно философское течен...</td>\n",
       "    </tr>\n",
       "    <tr>\n",
       "      <th>63339</th>\n",
       "      <td>зайдеко.n.1</td>\n",
       "      <td>кантри.n.1</td>\n",
       "      <td>wn:07062550n</td>\n",
       "      <td>За́йдеко (англ.</td>\n",
       "    </tr>\n",
       "    <tr>\n",
       "      <th>63344</th>\n",
       "      <td>зимаза.n.1</td>\n",
       "      <td>ферменты.n.1</td>\n",
       "      <td>wn:15109586n</td>\n",
       "      <td>Зимаза</td>\n",
       "    </tr>\n",
       "    <tr>\n",
       "      <th>63345</th>\n",
       "      <td>зимология.n.1</td>\n",
       "      <td>биохимия.n.1</td>\n",
       "      <td>wn:06080361n</td>\n",
       "      <td>Зимология</td>\n",
       "    </tr>\n",
       "  </tbody>\n",
       "</table>\n",
       "<p>25434 rows × 4 columns</p>\n",
       "</div>"
      ],
      "text/plain": [
       "                 Synset                            Hypernym    WordnetKey  \\\n",
       "0              ноль.n.1                           цифра.n.1  wn:13742358n   \n",
       "1         1_(число).n.1                           цифра.n.1  wn:13742573n   \n",
       "2         додеканол.n.2                          спирты.n.2  wn:14930670n   \n",
       "4        10_(число).n.1             большое_целое_число.n.1  wn:13746512n   \n",
       "5       100_(число).n.1             большое_целое_число.n.1  wn:13750415n   \n",
       "...                 ...                                 ...           ...   \n",
       "63337  зуни_(народ).n.1                          pueblo.n.1  wn:09673232n   \n",
       "63338     зурванизм.n.1  ересь.n.1\\tбогословское_учение.n.1  wn:06251553n   \n",
       "63339       зайдеко.n.1                          кантри.n.1  wn:07062550n   \n",
       "63344        зимаза.n.1                        ферменты.n.1  wn:15109586n   \n",
       "63345     зимология.n.1                        биохимия.n.1  wn:06080361n   \n",
       "\n",
       "                                              Definition  \n",
       "0      Ноль — целое число, которое при сложении с люб...  \n",
       "1      1 — наименьшее натуральное число, целое число ...  \n",
       "2      Додеканол — органическое вещество, относится к...  \n",
       "4      10 — натуральное число, расположенное между чи...  \n",
       "5      100 — натуральное и круглое число между 99 и 1...  \n",
       "...                                                  ...  \n",
       "63337                                     Зу́ни, зу́ньи   \n",
       "63338  Зурванизм — предположительно философское течен...  \n",
       "63339                                    За́йдеко (англ.  \n",
       "63344                                            Зимаза   \n",
       "63345                                          Зимология  \n",
       "\n",
       "[25434 rows x 4 columns]"
      ]
     },
     "execution_count": 26,
     "metadata": {},
     "output_type": "execute_result"
    }
   ],
   "source": [
    "df2"
   ]
  },
  {
   "cell_type": "code",
   "execution_count": 23,
   "metadata": {},
   "outputs": [],
   "source": [
    "G = nx.from_pandas_edgelist(df2, 'Hypernym', 'Synset', create_using=nx.DiGraph)"
   ]
  },
  {
   "cell_type": "code",
   "execution_count": 24,
   "metadata": {},
   "outputs": [],
   "source": [
    "def create_all_edges(parents, children):\n",
    "    res = []\n",
    "    \n",
    "    for parent in parents:\n",
    "        for child in children:\n",
    "            res.append((parent, child))\n",
    "\n",
    "    return res\n",
    "\n",
    "nodes_to_add = []\n",
    "edges_to_add = []\n",
    "nodes_to_delete = []\n",
    "\n",
    "for node in G:\n",
    "    if len(str(node).split('\\t')) > 1:\n",
    "        nodes_to_add.extend((str(node).split('\\t')))\n",
    "        edges_to_add.extend(create_all_edges(str(node).split('\\t'), list(G[node])))\n",
    "        nodes_to_delete.append(node)"
   ]
  },
  {
   "cell_type": "code",
   "execution_count": 25,
   "metadata": {},
   "outputs": [],
   "source": [
    "G.add_nodes_from(nodes_to_add)\n",
    "G.add_edges_from(edges_to_add)\n",
    "G.remove_nodes_from(nodes_to_delete)"
   ]
  },
  {
   "cell_type": "code",
   "execution_count": 26,
   "metadata": {},
   "outputs": [
    {
     "data": {
      "text/plain": [
       "[('цифра.n.1', 'цифра.n.1')]"
      ]
     },
     "execution_count": 26,
     "metadata": {},
     "output_type": "execute_result"
    }
   ],
   "source": [
    "nx.find_cycle(G)"
   ]
  },
  {
   "cell_type": "code",
   "execution_count": 27,
   "metadata": {},
   "outputs": [],
   "source": []
  },
  {
   "cell_type": "code",
   "execution_count": 29,
   "metadata": {},
   "outputs": [],
   "source": [
    "gen = generator()"
   ]
  },
  {
   "cell_type": "code",
   "execution_count": 31,
   "metadata": {},
   "outputs": [
    {
     "data": {
      "text/plain": [
       "('цифра.n.1', 'цифра.n.1')"
      ]
     },
     "execution_count": 31,
     "metadata": {},
     "output_type": "execute_result"
    }
   ],
   "source": [
    "next(gen)"
   ]
  },
  {
   "cell_type": "code",
   "execution_count": 32,
   "metadata": {},
   "outputs": [
    {
     "name": "stderr",
     "output_type": "stream",
     "text": [
      "0it [00:00, ?it/s]"
     ]
    },
    {
     "name": "stderr",
     "output_type": "stream",
     "text": [
      "2it [00:00, 13.51it/s]"
     ]
    },
    {
     "name": "stdout",
     "output_type": "stream",
     "text": [
      "('цифра.n.1', 'цифра.n.1')\n",
      "('кран.n.1', 'кран.n.1')\n",
      "('голубика.n.1', 'голубика.n.1')\n"
     ]
    },
    {
     "name": "stderr",
     "output_type": "stream",
     "text": [
      "6it [00:00, 12.73it/s]"
     ]
    },
    {
     "name": "stdout",
     "output_type": "stream",
     "text": [
      "('роза.n.1', 'роза.n.1')\n",
      "('лещ.n.2', 'лещ.n.2')\n",
      "('полынь_горькая.n.1', 'полынь_горькая.n.1')\n"
     ]
    },
    {
     "name": "stderr",
     "output_type": "stream",
     "text": [
      "8it [00:00, 12.80it/s]"
     ]
    },
    {
     "name": "stdout",
     "output_type": "stream",
     "text": [
      "('относительная_плотность.n.1', 'относительная_плотность.n.1')\n",
      "('лауреат.n.1', 'лауреат.n.1')\n",
      "('скорость.n.1', 'скорость.n.1')\n"
     ]
    },
    {
     "name": "stderr",
     "output_type": "stream",
     "text": [
      "10it [00:00, 12.14it/s]"
     ]
    },
    {
     "name": "stdout",
     "output_type": "stream",
     "text": [
      "('вазелин.n.1', 'вазелин.n.1')\n",
      "('пар.n.1', 'пар.n.1')\n"
     ]
    },
    {
     "name": "stderr",
     "output_type": "stream",
     "text": [
      "12it [00:01, 10.99it/s]"
     ]
    },
    {
     "name": "stdout",
     "output_type": "stream",
     "text": [
      "('адвокат.n.1', 'адвокат.n.1')\n",
      "('суффикс.n.1', 'суффикс.n.1')\n"
     ]
    },
    {
     "name": "stderr",
     "output_type": "stream",
     "text": [
      "14it [00:01,  9.78it/s]"
     ]
    },
    {
     "name": "stdout",
     "output_type": "stream",
     "text": [
      "('реактивный_двигатель.n.1', 'реактивный_двигатель.n.1')\n",
      "('часы.n.1', 'часы.n.1')\n"
     ]
    },
    {
     "name": "stderr",
     "output_type": "stream",
     "text": [
      "17it [00:01,  8.40it/s]"
     ]
    },
    {
     "name": "stdout",
     "output_type": "stream",
     "text": [
      "('авитаминоз.n.1', 'недоедание.n.1')\n",
      "('болезнь.n.1', 'болезнь.n.1')\n"
     ]
    },
    {
     "name": "stderr",
     "output_type": "stream",
     "text": [
      "19it [00:01,  7.54it/s]"
     ]
    },
    {
     "name": "stdout",
     "output_type": "stream",
     "text": [
      "('Трёхглавая_мышца_плеча.n.1', 'Трёхглавая_мышца_плеча.n.1')\n",
      "('краситель.n.1', 'краситель.n.1')\n"
     ]
    },
    {
     "name": "stderr",
     "output_type": "stream",
     "text": [
      "21it [00:02,  7.02it/s]"
     ]
    },
    {
     "name": "stdout",
     "output_type": "stream",
     "text": [
      "('тренер.n.1', 'тренер.n.1')\n",
      "('мизинец.n.1', 'мизинец.n.1')\n"
     ]
    },
    {
     "name": "stderr",
     "output_type": "stream",
     "text": [
      "23it [00:02,  6.73it/s]"
     ]
    },
    {
     "name": "stdout",
     "output_type": "stream",
     "text": [
      "('псевдоним.n.1', 'псевдоним.n.1')\n",
      "('ноздря.n.1', 'ноздря.n.1')\n"
     ]
    },
    {
     "name": "stderr",
     "output_type": "stream",
     "text": [
      "25it [00:02,  6.38it/s]"
     ]
    },
    {
     "name": "stdout",
     "output_type": "stream",
     "text": [
      "('тля.n.1', 'тля.n.1')\n",
      "('вера.n.1', 'вера.n.1')\n"
     ]
    },
    {
     "name": "stderr",
     "output_type": "stream",
     "text": [
      "27it [00:03,  6.12it/s]"
     ]
    },
    {
     "name": "stdout",
     "output_type": "stream",
     "text": [
      "('при́ступ.n.7', 'при́ступ.n.7')\n",
      "('джем.n.1', 'джем.n.1')\n"
     ]
    },
    {
     "name": "stderr",
     "output_type": "stream",
     "text": [
      "29it [00:03,  5.85it/s]"
     ]
    },
    {
     "name": "stdout",
     "output_type": "stream",
     "text": [
      "('Камнешарки.n.1', 'Камнешарки.n.1')\n",
      "('подразделение.n.4', 'подразделение.n.4')\n"
     ]
    },
    {
     "name": "stderr",
     "output_type": "stream",
     "text": [
      "31it [00:03,  5.74it/s]"
     ]
    },
    {
     "name": "stdout",
     "output_type": "stream",
     "text": [
      "('афалина.n.1', 'афалина.n.1')\n",
      "('дефект_межпредсердной_перегородки.n.1', 'дефект_межпредсердной_перегородки.n.1')\n"
     ]
    },
    {
     "name": "stderr",
     "output_type": "stream",
     "text": [
      "33it [00:04,  5.76it/s]"
     ]
    },
    {
     "name": "stdout",
     "output_type": "stream",
     "text": [
      "('боулинг.n.1', 'боулинг.n.1')\n",
      "('понятие.n.1', 'понятие.n.1')\n"
     ]
    },
    {
     "name": "stderr",
     "output_type": "stream",
     "text": [
      "35it [00:04,  5.70it/s]"
     ]
    },
    {
     "name": "stdout",
     "output_type": "stream",
     "text": [
      "('грузовой_поезд.n.1', 'грузовой_поезд.n.1')\n",
      "('хобби.n.1', 'хобби.n.1')\n"
     ]
    },
    {
     "name": "stderr",
     "output_type": "stream",
     "text": [
      "37it [00:05,  5.59it/s]"
     ]
    },
    {
     "name": "stdout",
     "output_type": "stream",
     "text": [
      "('пожар.n.1', 'пожар.n.1')\n",
      "('земельный_участок.n.1', 'земельный_участок.n.1')\n"
     ]
    },
    {
     "name": "stderr",
     "output_type": "stream",
     "text": [
      "39it [00:05,  5.43it/s]"
     ]
    },
    {
     "name": "stdout",
     "output_type": "stream",
     "text": [
      "('торт.n.3', 'торт.n.3')\n",
      "('падчерица.n.1', 'падчерица.n.1')\n"
     ]
    },
    {
     "name": "stderr",
     "output_type": "stream",
     "text": [
      "41it [00:05,  5.29it/s]"
     ]
    },
    {
     "name": "stdout",
     "output_type": "stream",
     "text": [
      "('метла.n.1', 'метла.n.1')\n",
      "('треуголка.n.1', 'треуголка.n.1')\n"
     ]
    },
    {
     "name": "stderr",
     "output_type": "stream",
     "text": [
      "42it [00:06,  5.19it/s]"
     ]
    },
    {
     "name": "stdout",
     "output_type": "stream",
     "text": [
      "('кузнецn.10', 'кузнецn.10')\n"
     ]
    },
    {
     "name": "stderr",
     "output_type": "stream",
     "text": [
      "43it [00:06,  5.07it/s]"
     ]
    },
    {
     "name": "stdout",
     "output_type": "stream",
     "text": [
      "('режущий_инструмент.n.1', 'режущий_инструмент.n.1')\n",
      "('обвинение.n.1', 'обвинение.n.1')\n"
     ]
    },
    {
     "name": "stderr",
     "output_type": "stream",
     "text": [
      "45it [00:06,  4.94it/s]"
     ]
    },
    {
     "name": "stdout",
     "output_type": "stream",
     "text": [
      "('кастрюля.n.1', 'кастрюля.n.1')\n",
      "('комбинезон.n.1', 'комбинезон.n.1')\n"
     ]
    },
    {
     "name": "stderr",
     "output_type": "stream",
     "text": [
      "47it [00:07,  4.92it/s]"
     ]
    },
    {
     "name": "stdout",
     "output_type": "stream",
     "text": [
      "('волнистый_попугайчик.n.1', 'волнистый_попугайчик.n.1')\n"
     ]
    },
    {
     "name": "stderr",
     "output_type": "stream",
     "text": [
      "48it [00:07,  4.86it/s]"
     ]
    },
    {
     "name": "stdout",
     "output_type": "stream",
     "text": [
      "('водитель.n.1', 'водитель.n.1')\n"
     ]
    },
    {
     "name": "stderr",
     "output_type": "stream",
     "text": [
      "49it [00:07,  4.83it/s]"
     ]
    },
    {
     "name": "stdout",
     "output_type": "stream",
     "text": [
      "('исполнительный_директор.n.1', 'исполнительный_директор.n.1')\n"
     ]
    },
    {
     "name": "stderr",
     "output_type": "stream",
     "text": [
      "50it [00:07,  4.75it/s]"
     ]
    },
    {
     "name": "stdout",
     "output_type": "stream",
     "text": [
      "('растительное_масло.n.1', 'пищевые_жиры.n.1')\n"
     ]
    },
    {
     "name": "stderr",
     "output_type": "stream",
     "text": [
      "51it [00:07,  4.68it/s]"
     ]
    },
    {
     "name": "stdout",
     "output_type": "stream",
     "text": [
      "('проезжая_часть.n.1', 'проезжая_часть.n.1')\n"
     ]
    },
    {
     "name": "stderr",
     "output_type": "stream",
     "text": [
      "52it [00:08,  4.57it/s]"
     ]
    },
    {
     "name": "stdout",
     "output_type": "stream",
     "text": [
      "('морская_свинка.n.1', 'морская_свинка.n.1')\n"
     ]
    },
    {
     "name": "stderr",
     "output_type": "stream",
     "text": [
      "53it [00:08,  4.51it/s]"
     ]
    },
    {
     "name": "stdout",
     "output_type": "stream",
     "text": [
      "('комод.n.1', 'комод.n.1')\n"
     ]
    },
    {
     "name": "stderr",
     "output_type": "stream",
     "text": [
      "54it [00:08,  4.46it/s]"
     ]
    },
    {
     "name": "stdout",
     "output_type": "stream",
     "text": [
      "('хор.n.2', 'хор.n.2')\n"
     ]
    },
    {
     "name": "stderr",
     "output_type": "stream",
     "text": [
      "55it [00:08,  4.43it/s]"
     ]
    },
    {
     "name": "stdout",
     "output_type": "stream",
     "text": [
      "('де́рзость.n.3', 'де́рзость.n.3')\n"
     ]
    },
    {
     "name": "stderr",
     "output_type": "stream",
     "text": [
      "56it [00:09,  4.37it/s]"
     ]
    },
    {
     "name": "stdout",
     "output_type": "stream",
     "text": [
      "('заклинание.n.4', 'заклинание.n.4')\n"
     ]
    },
    {
     "name": "stderr",
     "output_type": "stream",
     "text": [
      "57it [00:09,  4.33it/s]"
     ]
    },
    {
     "name": "stdout",
     "output_type": "stream",
     "text": [
      "('ложь.n.1', 'ложь.n.1')\n"
     ]
    },
    {
     "name": "stderr",
     "output_type": "stream",
     "text": [
      "58it [00:09,  4.28it/s]"
     ]
    },
    {
     "name": "stdout",
     "output_type": "stream",
     "text": [
      "('реверанс.n.3', 'реверанс.n.3')\n"
     ]
    },
    {
     "name": "stderr",
     "output_type": "stream",
     "text": [
      "59it [00:09,  4.17it/s]"
     ]
    },
    {
     "name": "stdout",
     "output_type": "stream",
     "text": [
      "('оптический_микроскоп.n.1', 'лупа.n.1')\n"
     ]
    },
    {
     "name": "stderr",
     "output_type": "stream",
     "text": [
      "60it [00:10,  4.07it/s]"
     ]
    },
    {
     "name": "stdout",
     "output_type": "stream",
     "text": [
      "('декольте.n.1', 'декольте.n.1')\n"
     ]
    },
    {
     "name": "stderr",
     "output_type": "stream",
     "text": [
      "61it [00:10,  4.05it/s]"
     ]
    },
    {
     "name": "stdout",
     "output_type": "stream",
     "text": [
      "('размагничивание.n.1', 'размагничивание.n.1')\n"
     ]
    },
    {
     "name": "stderr",
     "output_type": "stream",
     "text": [
      "62it [00:10,  4.05it/s]"
     ]
    },
    {
     "name": "stdout",
     "output_type": "stream",
     "text": [
      "('сейф.n.1', 'сейф.n.1')\n"
     ]
    },
    {
     "name": "stderr",
     "output_type": "stream",
     "text": [
      "63it [00:10,  4.07it/s]"
     ]
    },
    {
     "name": "stdout",
     "output_type": "stream",
     "text": [
      "('дезинформация.n.1', 'дезинформация.n.1')\n"
     ]
    },
    {
     "name": "stderr",
     "output_type": "stream",
     "text": [
      "64it [00:11,  4.05it/s]"
     ]
    },
    {
     "name": "stdout",
     "output_type": "stream",
     "text": [
      "('диван.n.1', 'диван.n.1')\n"
     ]
    },
    {
     "name": "stderr",
     "output_type": "stream",
     "text": [
      "65it [00:11,  4.06it/s]"
     ]
    },
    {
     "name": "stdout",
     "output_type": "stream",
     "text": [
      "('врач.n.1', 'врач.n.1')\n"
     ]
    },
    {
     "name": "stderr",
     "output_type": "stream",
     "text": [
      "66it [00:11,  4.06it/s]"
     ]
    },
    {
     "name": "stdout",
     "output_type": "stream",
     "text": [
      "('бекас.n.1', 'бекас.n.1')\n"
     ]
    },
    {
     "name": "stderr",
     "output_type": "stream",
     "text": [
      "67it [00:11,  4.02it/s]"
     ]
    },
    {
     "name": "stdout",
     "output_type": "stream",
     "text": [
      "('лох_узколистный.n.1', 'лох_узколистный.n.1')\n"
     ]
    },
    {
     "name": "stderr",
     "output_type": "stream",
     "text": [
      "68it [00:12,  3.98it/s]"
     ]
    },
    {
     "name": "stdout",
     "output_type": "stream",
     "text": [
      "('гальванический_элемент.n.3', 'гальванический_элемент.n.3')\n"
     ]
    },
    {
     "name": "stderr",
     "output_type": "stream",
     "text": [
      "69it [00:12,  3.91it/s]"
     ]
    },
    {
     "name": "stdout",
     "output_type": "stream",
     "text": [
      "('лестница.n.1', 'лестница.n.1')\n"
     ]
    },
    {
     "name": "stderr",
     "output_type": "stream",
     "text": [
      "70it [00:12,  3.83it/s]"
     ]
    },
    {
     "name": "stdout",
     "output_type": "stream",
     "text": [
      "('щука.n.5', 'щука.n.5')\n"
     ]
    },
    {
     "name": "stderr",
     "output_type": "stream",
     "text": [
      "71it [00:12,  3.84it/s]"
     ]
    },
    {
     "name": "stdout",
     "output_type": "stream",
     "text": [
      "('сорока.n.1', 'сорока.n.1')\n"
     ]
    },
    {
     "name": "stderr",
     "output_type": "stream",
     "text": [
      "72it [00:13,  3.81it/s]"
     ]
    },
    {
     "name": "stdout",
     "output_type": "stream",
     "text": [
      "('допрос.n.1', 'допрос.n.1')\n"
     ]
    },
    {
     "name": "stderr",
     "output_type": "stream",
     "text": [
      "73it [00:13,  3.83it/s]"
     ]
    },
    {
     "name": "stdout",
     "output_type": "stream",
     "text": [
      "('копировальный_аппарат.n.1', 'копировальный_аппарат.n.1')\n"
     ]
    },
    {
     "name": "stderr",
     "output_type": "stream",
     "text": [
      "74it [00:13,  3.86it/s]"
     ]
    },
    {
     "name": "stdout",
     "output_type": "stream",
     "text": [
      "('фехтованиеn.17', 'фехтованиеn.17')\n"
     ]
    },
    {
     "name": "stderr",
     "output_type": "stream",
     "text": [
      "75it [00:13,  3.86it/s]"
     ]
    },
    {
     "name": "stdout",
     "output_type": "stream",
     "text": [
      "('катание_на_коньках.n.1', 'катание_на_коньках.n.1')\n"
     ]
    },
    {
     "name": "stderr",
     "output_type": "stream",
     "text": [
      "76it [00:14,  3.89it/s]"
     ]
    },
    {
     "name": "stdout",
     "output_type": "stream",
     "text": [
      "('сценарист.n.1', 'сценарист.n.1')\n"
     ]
    },
    {
     "name": "stderr",
     "output_type": "stream",
     "text": [
      "77it [00:14,  3.96it/s]"
     ]
    },
    {
     "name": "stdout",
     "output_type": "stream",
     "text": [
      "('сад.n.1', 'сад.n.1')\n"
     ]
    },
    {
     "name": "stderr",
     "output_type": "stream",
     "text": [
      "78it [00:14,  4.01it/s]"
     ]
    },
    {
     "name": "stdout",
     "output_type": "stream",
     "text": [
      "('лист.n.2', 'лист.n.2')\n"
     ]
    },
    {
     "name": "stderr",
     "output_type": "stream",
     "text": [
      "79it [00:14,  3.97it/s]"
     ]
    },
    {
     "name": "stdout",
     "output_type": "stream",
     "text": [
      "('склад.n.1', 'склад.n.1')\n"
     ]
    },
    {
     "name": "stderr",
     "output_type": "stream",
     "text": [
      "80it [00:15,  3.99it/s]"
     ]
    },
    {
     "name": "stdout",
     "output_type": "stream",
     "text": [
      "('зубчатая_передача.n.1', 'зубчатая_передача.n.1')\n"
     ]
    },
    {
     "name": "stderr",
     "output_type": "stream",
     "text": [
      "81it [00:15,  3.77it/s]"
     ]
    },
    {
     "name": "stdout",
     "output_type": "stream",
     "text": [
      "('анатомически_современный_человек.n.1', 'анатомически_современный_человек.n.1')\n"
     ]
    },
    {
     "name": "stderr",
     "output_type": "stream",
     "text": [
      "82it [00:15,  3.74it/s]"
     ]
    },
    {
     "name": "stdout",
     "output_type": "stream",
     "text": [
      "('крик.n.1', 'крик.n.1')\n"
     ]
    },
    {
     "name": "stderr",
     "output_type": "stream",
     "text": [
      "83it [00:15,  3.70it/s]"
     ]
    },
    {
     "name": "stdout",
     "output_type": "stream",
     "text": [
      "('песочные_часы.n.1', 'песочные_часы.n.1')\n"
     ]
    },
    {
     "name": "stderr",
     "output_type": "stream",
     "text": [
      "84it [00:16,  3.66it/s]"
     ]
    },
    {
     "name": "stdout",
     "output_type": "stream",
     "text": [
      "('влажность.n.1', 'влажность.n.1')\n"
     ]
    },
    {
     "name": "stderr",
     "output_type": "stream",
     "text": [
      "85it [00:16,  3.64it/s]"
     ]
    },
    {
     "name": "stdout",
     "output_type": "stream",
     "text": [
      "('каток.n.1', 'каток.n.1')\n"
     ]
    },
    {
     "name": "stderr",
     "output_type": "stream",
     "text": [
      "86it [00:16,  3.63it/s]"
     ]
    },
    {
     "name": "stdout",
     "output_type": "stream",
     "text": [
      "('репеллент.n.2', 'репеллент.n.2')\n"
     ]
    },
    {
     "name": "stderr",
     "output_type": "stream",
     "text": [
      "87it [00:17,  3.06it/s]"
     ]
    },
    {
     "name": "stdout",
     "output_type": "stream",
     "text": [
      "('общественный_транспорт.n.1', 'общественный_транспорт.n.1')\n"
     ]
    },
    {
     "name": "stderr",
     "output_type": "stream",
     "text": [
      "88it [00:17,  3.25it/s]"
     ]
    },
    {
     "name": "stdout",
     "output_type": "stream",
     "text": [
      "('пернициозная_анемия.n.1', 'пернициозная_анемия.n.1')\n"
     ]
    },
    {
     "name": "stderr",
     "output_type": "stream",
     "text": [
      "89it [00:17,  3.41it/s]"
     ]
    },
    {
     "name": "stdout",
     "output_type": "stream",
     "text": [
      "('мезальянс.n.1', 'мезальянс.n.1')\n"
     ]
    },
    {
     "name": "stderr",
     "output_type": "stream",
     "text": [
      "90it [00:18,  3.49it/s]"
     ]
    },
    {
     "name": "stdout",
     "output_type": "stream",
     "text": [
      "('нервное_расстройство.n.1', 'нервное_расстройство.n.1')\n"
     ]
    },
    {
     "name": "stderr",
     "output_type": "stream",
     "text": [
      "91it [00:18,  3.59it/s]"
     ]
    },
    {
     "name": "stdout",
     "output_type": "stream",
     "text": [
      "('колготки.n.1', 'колготки.n.1')\n"
     ]
    },
    {
     "name": "stderr",
     "output_type": "stream",
     "text": [
      "92it [00:18,  3.64it/s]"
     ]
    },
    {
     "name": "stdout",
     "output_type": "stream",
     "text": [
      "('копилка.n.2', 'копилка.n.2')\n"
     ]
    },
    {
     "name": "stderr",
     "output_type": "stream",
     "text": [
      "93it [00:18,  3.69it/s]"
     ]
    },
    {
     "name": "stdout",
     "output_type": "stream",
     "text": [
      "('хризолит.n.1', 'хризолит.n.1')\n"
     ]
    },
    {
     "name": "stderr",
     "output_type": "stream",
     "text": [
      "94it [00:19,  3.71it/s]"
     ]
    },
    {
     "name": "stdout",
     "output_type": "stream",
     "text": [
      "('позёр.n.2', 'позёр.n.2')\n"
     ]
    },
    {
     "name": "stderr",
     "output_type": "stream",
     "text": [
      "95it [00:19,  3.66it/s]"
     ]
    },
    {
     "name": "stdout",
     "output_type": "stream",
     "text": [
      "('ремень_безопасности.n.1', 'ремень_безопасности.n.1')\n"
     ]
    },
    {
     "name": "stderr",
     "output_type": "stream",
     "text": [
      "96it [00:19,  3.63it/s]"
     ]
    },
    {
     "name": "stdout",
     "output_type": "stream",
     "text": [
      "('тень.n.1', 'тень.n.1')\n"
     ]
    },
    {
     "name": "stderr",
     "output_type": "stream",
     "text": [
      "97it [00:19,  3.61it/s]"
     ]
    },
    {
     "name": "stdout",
     "output_type": "stream",
     "text": [
      "('деформация.n.2', 'деформация.n.2')\n"
     ]
    },
    {
     "name": "stderr",
     "output_type": "stream",
     "text": [
      "98it [00:20,  3.60it/s]"
     ]
    },
    {
     "name": "stdout",
     "output_type": "stream",
     "text": [
      "('магнитофон.n.1', 'магнитофон.n.1')\n"
     ]
    },
    {
     "name": "stderr",
     "output_type": "stream",
     "text": [
      "99it [00:20,  4.82it/s]"
     ]
    },
    {
     "name": "stdout",
     "output_type": "stream",
     "text": [
      "('ксеродерма.n.1', 'ксеродерма.n.1')\n"
     ]
    },
    {
     "name": "stderr",
     "output_type": "stream",
     "text": [
      "\n"
     ]
    }
   ],
   "source": [
    "for bad_edge in tqdm(generator()):\n",
    "    G.remove_edge(*bad_edge)\n",
    "    print(bad_edge)"
   ]
  },
  {
   "cell_type": "code",
   "execution_count": 92,
   "metadata": {},
   "outputs": [
    {
     "data": {
      "text/plain": [
       "[('австрали́ец.n.1', 'Аборигены_Австралии.n.1'),\n",
       " ('этническая_группа.n.1', 'Аборигены_Австралии.n.1')]"
      ]
     },
     "execution_count": 92,
     "metadata": {},
     "output_type": "execute_result"
    }
   ],
   "source": [
    "create_all_edges(str(node).split('\\t'), list(G[node]))"
   ]
  },
  {
   "cell_type": "code",
   "execution_count": 48,
   "metadata": {},
   "outputs": [
    {
     "data": {
      "text/plain": [
       "5"
      ]
     },
     "execution_count": 48,
     "metadata": {},
     "output_type": "execute_result"
    }
   ],
   "source": [
    "df2['Hypernym'].apply(lambda x: len(str(x).split('\\t'))).max()"
   ]
  },
  {
   "cell_type": "code",
   "execution_count": 93,
   "metadata": {},
   "outputs": [],
   "source": [
    "G.remove_node(node)"
   ]
  },
  {
   "cell_type": "code",
   "execution_count": 115,
   "metadata": {},
   "outputs": [],
   "source": [
    "nx.write_edgelist(G, 'test_graph.edgelist', delimiter='\\t', data=True )"
   ]
  },
  {
   "cell_type": "code",
   "execution_count": 118,
   "metadata": {},
   "outputs": [
    {
     "data": {
      "text/plain": [
       "AtlasView({})"
      ]
     },
     "execution_count": 118,
     "metadata": {},
     "output_type": "execute_result"
    }
   ],
   "source": [
    "G['диаспора.n.2']"
   ]
  },
  {
   "cell_type": "code",
   "execution_count": 119,
   "metadata": {},
   "outputs": [],
   "source": [
    "G = nx.read_edgelist(\"test_graph.edgelist\", delimiter=\"\\t\", create_using=nx.DiGraph)"
   ]
  },
  {
   "cell_type": "code",
   "execution_count": 121,
   "metadata": {},
   "outputs": [
    {
     "data": {
      "text/plain": [
       "26087"
      ]
     },
     "execution_count": 121,
     "metadata": {},
     "output_type": "execute_result"
    }
   ],
   "source": [
    "G.number_of_edges()"
   ]
  },
  {
   "cell_type": "code",
   "execution_count": null,
   "metadata": {},
   "outputs": [],
   "source": []
  }
 ],
 "metadata": {
  "kernelspec": {
   "display_name": "dataload_env",
   "language": "python",
   "name": "python3"
  },
  "language_info": {
   "codemirror_mode": {
    "name": "ipython",
    "version": 3
   },
   "file_extension": ".py",
   "mimetype": "text/x-python",
   "name": "python",
   "nbconvert_exporter": "python",
   "pygments_lexer": "ipython3",
   "version": "3.10.12"
  },
  "orig_nbformat": 4
 },
 "nbformat": 4,
 "nbformat_minor": 2
}
