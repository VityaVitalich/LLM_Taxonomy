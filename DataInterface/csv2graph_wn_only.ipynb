{
 "cells": [
  {
   "cell_type": "code",
   "execution_count": 8,
   "metadata": {},
   "outputs": [],
   "source": [
    "import pandas as pd\n",
    "import networkx as nx\n",
    "import nltk\n",
    "from nltk.corpus import wordnet as wn\n",
    "from tqdm import tqdm\n",
    "import os\n",
    "import glob\n",
    "import numpy as np\n",
    "import nltk\n"
   ]
  },
  {
   "cell_type": "code",
   "execution_count": 25,
   "metadata": {},
   "outputs": [],
   "source": [
    "def clean(word):\n",
    "    #word = word.split('.')[0].replace('_', ' ')\n",
    "   # word = word.replace('_', ' ')\n",
    "    word = word.replace('а́', 'а')\n",
    "    word = word.replace('ё', \"е\")\n",
    "    word = word.replace('у́', 'у')\n",
    "    word = word.replace('о́', 'о')\n",
    "    word = word.replace('и́', \"и\")\n",
    "    word = word.replace('е́', \"е\")\n",
    "    word = word.replace('я́', \"я\")\n",
    "\n",
    "    if '(' in word and ')' in word:\n",
    "        lb = word.find('(')\n",
    "        rb = word.find(')')\n",
    "        word = word[:lb-1] + word[rb+1:]\n",
    "        word = word.strip()\n",
    "\n",
    "\n",
    "    return word\n",
    "\n",
    "def create_all_edges(parents, children):\n",
    "    res = []\n",
    "    \n",
    "    for parent in parents:\n",
    "        for child in children:\n",
    "            res.append((parent, child))\n",
    "\n",
    "    return res\n",
    "\n",
    "def generator(G):\n",
    "    while not nx.is_directed_acyclic_graph(G):\n",
    "        cycle = nx.find_cycle(G)\n",
    "        yield cycle[0]\n",
    "        \n",
    "def make_clean_graph(in_path, out_path):\n",
    "    df = pd.read_csv(in_path, sep='\\t')\n",
    "    df1 = df[~df['WordnetKey'].isna()]\n",
    "    df2 = df1[~df1['Definition'].isna()]\n",
    "\n",
    "    G = nx.from_pandas_edgelist(df2, 'Hypernym',\n",
    "                                 'Synset', create_using=nx.DiGraph)\n",
    "\n",
    "    nodes_to_add = []\n",
    "    edges_to_add = []\n",
    "    nodes_to_delete = []\n",
    "\n",
    "    for node in G:\n",
    "        if len(str(node).split('\\t')) > 1:\n",
    "            nodes_to_add.extend((str(node).split('\\t')))\n",
    "            edges_to_add.extend(create_all_edges(str(node).split('\\t'), list(G[node])))\n",
    "            nodes_to_delete.append(node)\n",
    "\n",
    "    G.add_nodes_from(nodes_to_add)\n",
    "    G.add_edges_from(edges_to_add)\n",
    "    G.remove_nodes_from(nodes_to_delete)\n",
    "\n",
    "    for bad_edge in tqdm(generator(G)):\n",
    "        G.remove_edge(*bad_edge)\n",
    "\n",
    "    nx.write_edgelist(G, out_path, delimiter='\\t')"
   ]
  },
  {
   "cell_type": "code",
   "execution_count": 17,
   "metadata": {},
   "outputs": [],
   "source": [
    "# global_train = []\n",
    "# global_test = []\n",
    "\n",
    "# all_data = glob.glob(os.path.join(\"data/full_babel/\", \"*babel_hyper.csv\"))\n",
    "# for path in tqdm(all_data):\n",
    "#     lang = path.split(\"/\")[-1].replace(\"_babel_hyper.csv\", \"\")\n",
    "#     save_path = 'data/wnet_babel/{}_isa.edgelist'.format(lang)\n",
    "\n",
    "#     make_clean_graph(path, save_path)"
   ]
  },
  {
   "cell_type": "code",
   "execution_count": 18,
   "metadata": {},
   "outputs": [],
   "source": [
    "df = pd.read_csv('data/full_babel/ru_babel_hyper.csv', sep='\\t')"
   ]
  },
  {
   "cell_type": "code",
   "execution_count": 28,
   "metadata": {},
   "outputs": [
    {
     "name": "stderr",
     "output_type": "stream",
     "text": [
      "0it [00:00, ?it/s]"
     ]
    },
    {
     "name": "stderr",
     "output_type": "stream",
     "text": [
      "69466it [00:42, 1621.97it/s]\n"
     ]
    }
   ],
   "source": [
    "for i, synset in tqdm(enumerate(df['Synset'])):\n",
    "    df['Synset'][i] = clean(df['Synset'][i])\n",
    "    all_hypernyms = df['Hypernym'][i]\n",
    "\n",
    "    if not pd.isna(all_hypernyms):\n",
    "\n",
    "        hyps = []\n",
    "        for hyp in all_hypernyms.split('\\t'):\n",
    "            hyps.append(clean(hyp)) \n",
    "\n",
    "        df['Hypernym'][i] = '\\t'.join(hyps)"
   ]
  },
  {
   "cell_type": "code",
   "execution_count": 33,
   "metadata": {},
   "outputs": [],
   "source": [
    "df1 = df[~df['WordnetKey'].isna()]"
   ]
  },
  {
   "cell_type": "code",
   "execution_count": 34,
   "metadata": {},
   "outputs": [
    {
     "data": {
      "text/html": [
       "<div>\n",
       "<style scoped>\n",
       "    .dataframe tbody tr th:only-of-type {\n",
       "        vertical-align: middle;\n",
       "    }\n",
       "\n",
       "    .dataframe tbody tr th {\n",
       "        vertical-align: top;\n",
       "    }\n",
       "\n",
       "    .dataframe thead th {\n",
       "        text-align: right;\n",
       "    }\n",
       "</style>\n",
       "<table border=\"1\" class=\"dataframe\">\n",
       "  <thead>\n",
       "    <tr style=\"text-align: right;\">\n",
       "      <th></th>\n",
       "      <th>Synset</th>\n",
       "      <th>Hypernym</th>\n",
       "      <th>WordnetKey</th>\n",
       "      <th>Definition</th>\n",
       "    </tr>\n",
       "  </thead>\n",
       "  <tbody>\n",
       "    <tr>\n",
       "      <th>53612</th>\n",
       "      <td>солонка.n.3</td>\n",
       "      <td>NaN</td>\n",
       "      <td>wn:04131690n</td>\n",
       "      <td>NaN</td>\n",
       "    </tr>\n",
       "    <tr>\n",
       "      <th>4196</th>\n",
       "      <td>берберы.n.1</td>\n",
       "      <td>меньшинство.n.1</td>\n",
       "      <td>wn:08483500n</td>\n",
       "      <td>Бербе́ры (от греч.</td>\n",
       "    </tr>\n",
       "    <tr>\n",
       "      <th>16193</th>\n",
       "      <td>изменник.n.1</td>\n",
       "      <td>изменник.n.1</td>\n",
       "      <td>wn:09935793n</td>\n",
       "      <td>NaN</td>\n",
       "    </tr>\n",
       "    <tr>\n",
       "      <th>38043</th>\n",
       "      <td>втулка.n.6</td>\n",
       "      <td>подшипник.n.6</td>\n",
       "      <td>wn:03602686n</td>\n",
       "      <td>Втулка — деталь машины, механизма, прибора или...</td>\n",
       "    </tr>\n",
       "    <tr>\n",
       "      <th>61705</th>\n",
       "      <td>рокусьо.n.1</td>\n",
       "      <td>патина.n.1</td>\n",
       "      <td>wn:04528079n</td>\n",
       "      <td>Патина</td>\n",
       "    </tr>\n",
       "    <tr>\n",
       "      <th>32673</th>\n",
       "      <td>гольф_вдовы.n.1</td>\n",
       "      <td>жена.n.1</td>\n",
       "      <td>wn:10137498n</td>\n",
       "      <td>NaN</td>\n",
       "    </tr>\n",
       "    <tr>\n",
       "      <th>41164</th>\n",
       "      <td>магнитный_компас.n.1</td>\n",
       "      <td>компас.n.1</td>\n",
       "      <td>wn:03706229n</td>\n",
       "      <td>NaN</td>\n",
       "    </tr>\n",
       "    <tr>\n",
       "      <th>25825</th>\n",
       "      <td>gavidae.n.1</td>\n",
       "      <td>птица_семьи.n.1</td>\n",
       "      <td>wn:02048832n</td>\n",
       "      <td>NaN</td>\n",
       "    </tr>\n",
       "    <tr>\n",
       "      <th>627</th>\n",
       "      <td>туз_червей.n.2</td>\n",
       "      <td>туз.n.2</td>\n",
       "      <td>wn:02674273n</td>\n",
       "      <td>Червонный туз — это карта в колоде игральных к...</td>\n",
       "    </tr>\n",
       "    <tr>\n",
       "      <th>28835</th>\n",
       "      <td>фруктовый_бар.n.1</td>\n",
       "      <td>печенье.n.1</td>\n",
       "      <td>wn:07637737n</td>\n",
       "      <td>NaN</td>\n",
       "    </tr>\n",
       "    <tr>\n",
       "      <th>34862</th>\n",
       "      <td>провод_высокого.n.1</td>\n",
       "      <td>канату.n.1</td>\n",
       "      <td>wn:03520399n</td>\n",
       "      <td>NaN</td>\n",
       "    </tr>\n",
       "    <tr>\n",
       "      <th>54327</th>\n",
       "      <td>морской_змей.n.1</td>\n",
       "      <td>легендарное_существо.n.1</td>\n",
       "      <td>wn:09488006n</td>\n",
       "      <td>Морской змей — фантастическое существо, которо...</td>\n",
       "    </tr>\n",
       "    <tr>\n",
       "      <th>51038</th>\n",
       "      <td>древесноуксусная_кислота.n.1</td>\n",
       "      <td>NaN</td>\n",
       "      <td>wn:14863326n</td>\n",
       "      <td>NaN</td>\n",
       "    </tr>\n",
       "    <tr>\n",
       "      <th>31484</th>\n",
       "      <td>шистосомы.n.1</td>\n",
       "      <td>червь_рода.n.1</td>\n",
       "      <td>wn:01926988n</td>\n",
       "      <td>Шистосомы</td>\n",
       "    </tr>\n",
       "    <tr>\n",
       "      <th>56577</th>\n",
       "      <td>орбитальная_станция.n.1</td>\n",
       "      <td>искусственный_спутник_Земли.n.1</td>\n",
       "      <td>wn:04266162n</td>\n",
       "      <td>Орбитальная станция или космическая станция — ...</td>\n",
       "    </tr>\n",
       "    <tr>\n",
       "      <th>55669</th>\n",
       "      <td>глоток.n.2</td>\n",
       "      <td>глотание.n.2</td>\n",
       "      <td>wn:00843494n</td>\n",
       "      <td>NaN</td>\n",
       "    </tr>\n",
       "    <tr>\n",
       "      <th>29030</th>\n",
       "      <td>фузия.n.1</td>\n",
       "      <td>NaN</td>\n",
       "      <td>wn:13485767n</td>\n",
       "      <td>Фу́зия (лат.</td>\n",
       "    </tr>\n",
       "    <tr>\n",
       "      <th>51180</th>\n",
       "      <td>кватроченто.n.1</td>\n",
       "      <td>век.n.1</td>\n",
       "      <td>wn:15205880n</td>\n",
       "      <td>Кватроче́нто, также кваттроченто</td>\n",
       "    </tr>\n",
       "    <tr>\n",
       "      <th>14486</th>\n",
       "      <td>панцирные_моллюски.n.1</td>\n",
       "      <td>моллюск.n.1</td>\n",
       "      <td>wn:01955084n</td>\n",
       "      <td>Па́нцирные моллю́ски, или хитоны или полиплако...</td>\n",
       "    </tr>\n",
       "    <tr>\n",
       "      <th>24723</th>\n",
       "      <td>эритродермия.n.1</td>\n",
       "      <td>дерматоз.n.1</td>\n",
       "      <td>wn:14227218n</td>\n",
       "      <td>NaN</td>\n",
       "    </tr>\n",
       "  </tbody>\n",
       "</table>\n",
       "</div>"
      ],
      "text/plain": [
       "                             Synset                         Hypernym   \n",
       "53612                   солонка.n.3                              NaN  \\\n",
       "4196                    берберы.n.1                  меньшинство.n.1   \n",
       "16193                  изменник.n.1                     изменник.n.1   \n",
       "38043                    втулка.n.6                    подшипник.n.6   \n",
       "61705                   рокусьо.n.1                       патина.n.1   \n",
       "32673               гольф_вдовы.n.1                         жена.n.1   \n",
       "41164          магнитный_компас.n.1                       компас.n.1   \n",
       "25825                   gavidae.n.1                  птица_семьи.n.1   \n",
       "627                  туз_червей.n.2                          туз.n.2   \n",
       "28835             фруктовый_бар.n.1                      печенье.n.1   \n",
       "34862           провод_высокого.n.1                       канату.n.1   \n",
       "54327              морской_змей.n.1         легендарное_существо.n.1   \n",
       "51038  древесноуксусная_кислота.n.1                              NaN   \n",
       "31484                 шистосомы.n.1                   червь_рода.n.1   \n",
       "56577       орбитальная_станция.n.1  искусственный_спутник_Земли.n.1   \n",
       "55669                    глоток.n.2                     глотание.n.2   \n",
       "29030                     фузия.n.1                              NaN   \n",
       "51180               кватроченто.n.1                          век.n.1   \n",
       "14486        панцирные_моллюски.n.1                      моллюск.n.1   \n",
       "24723              эритродермия.n.1                     дерматоз.n.1   \n",
       "\n",
       "         WordnetKey                                         Definition  \n",
       "53612  wn:04131690n                                                NaN  \n",
       "4196   wn:08483500n                                 Бербе́ры (от греч.  \n",
       "16193  wn:09935793n                                                NaN  \n",
       "38043  wn:03602686n  Втулка — деталь машины, механизма, прибора или...  \n",
       "61705  wn:04528079n                                             Патина  \n",
       "32673  wn:10137498n                                                NaN  \n",
       "41164  wn:03706229n                                                NaN  \n",
       "25825  wn:02048832n                                                NaN  \n",
       "627    wn:02674273n  Червонный туз — это карта в колоде игральных к...  \n",
       "28835  wn:07637737n                                                NaN  \n",
       "34862  wn:03520399n                                                NaN  \n",
       "54327  wn:09488006n  Морской змей — фантастическое существо, которо...  \n",
       "51038  wn:14863326n                                                NaN  \n",
       "31484  wn:01926988n                                         Шистосомы   \n",
       "56577  wn:04266162n  Орбитальная станция или космическая станция — ...  \n",
       "55669  wn:00843494n                                                NaN  \n",
       "29030  wn:13485767n                                       Фу́зия (лат.  \n",
       "51180  wn:15205880n                  Кватроче́нто, также кваттроченто   \n",
       "14486  wn:01955084n  Па́нцирные моллю́ски, или хитоны или полиплако...  \n",
       "24723  wn:14227218n                                                NaN  "
      ]
     },
     "execution_count": 34,
     "metadata": {},
     "output_type": "execute_result"
    }
   ],
   "source": [
    "df1.sample(20)"
   ]
  },
  {
   "cell_type": "code",
   "execution_count": 35,
   "metadata": {},
   "outputs": [],
   "source": [
    "from ruwordnet import RuWordNet\n",
    "wn = RuWordNet()"
   ]
  },
  {
   "cell_type": "code",
   "execution_count": 36,
   "metadata": {},
   "outputs": [
    {
     "name": "stderr",
     "output_type": "stream",
     "text": [
      "  0%|          | 0/63346 [00:00<?, ?it/s]"
     ]
    },
    {
     "name": "stderr",
     "output_type": "stream",
     "text": [
      "100%|██████████| 63346/63346 [00:25<00:00, 2521.15it/s]\n"
     ]
    }
   ],
   "source": [
    "found = 0\n",
    "valid_idx = []\n",
    "for i, word in tqdm(enumerate(df1['Synset']), total=len(df1)):\n",
    "    word = word.split('.')[0].replace('_', ' ')\n",
    "    \n",
    "    if len(wn.get_synsets(word)) > 0:\n",
    "    # try:\n",
    "    #     wn[word]\n",
    "        \n",
    "        valid_idx.append(i)\n",
    "    # except KeyError:\n",
    "    #     continue\n"
   ]
  },
  {
   "cell_type": "code",
   "execution_count": 37,
   "metadata": {},
   "outputs": [
    {
     "data": {
      "text/plain": [
       "15753"
      ]
     },
     "execution_count": 37,
     "metadata": {},
     "output_type": "execute_result"
    }
   ],
   "source": [
    "len(valid_idx)"
   ]
  },
  {
   "cell_type": "code",
   "execution_count": 40,
   "metadata": {},
   "outputs": [],
   "source": [
    "filtered_wn = df1.loc[valid_idx]"
   ]
  },
  {
   "cell_type": "code",
   "execution_count": 41,
   "metadata": {},
   "outputs": [
    {
     "data": {
      "text/html": [
       "<div>\n",
       "<style scoped>\n",
       "    .dataframe tbody tr th:only-of-type {\n",
       "        vertical-align: middle;\n",
       "    }\n",
       "\n",
       "    .dataframe tbody tr th {\n",
       "        vertical-align: top;\n",
       "    }\n",
       "\n",
       "    .dataframe thead th {\n",
       "        text-align: right;\n",
       "    }\n",
       "</style>\n",
       "<table border=\"1\" class=\"dataframe\">\n",
       "  <thead>\n",
       "    <tr style=\"text-align: right;\">\n",
       "      <th></th>\n",
       "      <th>Synset</th>\n",
       "      <th>Hypernym</th>\n",
       "      <th>WordnetKey</th>\n",
       "      <th>Definition</th>\n",
       "    </tr>\n",
       "  </thead>\n",
       "  <tbody>\n",
       "    <tr>\n",
       "      <th>25132</th>\n",
       "      <td>событие.n.1</td>\n",
       "      <td>физическое_явление.n.1</td>\n",
       "      <td>wn:11453860n</td>\n",
       "      <td>Собы́тие в теории относительности — моментальн...</td>\n",
       "    </tr>\n",
       "    <tr>\n",
       "      <th>21623</th>\n",
       "      <td>дисциплина.n.1</td>\n",
       "      <td>тренинг.n.1</td>\n",
       "      <td>wn:00893836n</td>\n",
       "      <td>Дисципли́на</td>\n",
       "    </tr>\n",
       "    <tr>\n",
       "      <th>36429</th>\n",
       "      <td>недопустимость.n.1</td>\n",
       "      <td>недопустимость.n.1</td>\n",
       "      <td>wn:04794408n</td>\n",
       "      <td>NaN</td>\n",
       "    </tr>\n",
       "    <tr>\n",
       "      <th>15524</th>\n",
       "      <td>восхождение.n.2</td>\n",
       "      <td>восходящий.n.2</td>\n",
       "      <td>wn:00325110n</td>\n",
       "      <td>NaN</td>\n",
       "    </tr>\n",
       "    <tr>\n",
       "      <th>29062</th>\n",
       "      <td>табун.n.1</td>\n",
       "      <td>агент_фосфорорганическими_нерва.n.1</td>\n",
       "      <td>wn:15066125n</td>\n",
       "      <td>Табу́н</td>\n",
       "    </tr>\n",
       "    <tr>\n",
       "      <th>43779</th>\n",
       "      <td>моцарелла.n.1</td>\n",
       "      <td>сыр.n.1</td>\n",
       "      <td>wn:07854184n</td>\n",
       "      <td>Моцаре́лла, моццаре́лла</td>\n",
       "    </tr>\n",
       "    <tr>\n",
       "      <th>19327</th>\n",
       "      <td>сокращение.n.4</td>\n",
       "      <td>сбережения.n.4</td>\n",
       "      <td>wn:00192910n</td>\n",
       "      <td>NaN</td>\n",
       "    </tr>\n",
       "    <tr>\n",
       "      <th>3665</th>\n",
       "      <td>антропология.n.1</td>\n",
       "      <td>общественные_науки.n.1</td>\n",
       "      <td>wn:06143546n</td>\n",
       "      <td>Антрополо́гия</td>\n",
       "    </tr>\n",
       "    <tr>\n",
       "      <th>20275</th>\n",
       "      <td>акт.n.1</td>\n",
       "      <td>юридический_документ.n.1</td>\n",
       "      <td>wn:06545137n</td>\n",
       "      <td>Юридически оформленное дело, часто сделка</td>\n",
       "    </tr>\n",
       "    <tr>\n",
       "      <th>13905</th>\n",
       "      <td>задание.n.1</td>\n",
       "      <td>задание.n.1</td>\n",
       "      <td>wn:00731222n</td>\n",
       "      <td>NaN</td>\n",
       "    </tr>\n",
       "    <tr>\n",
       "      <th>37200</th>\n",
       "      <td>перевод.n.1</td>\n",
       "      <td>письменный_отчет.n.1</td>\n",
       "      <td>wn:06536389n</td>\n",
       "      <td>Перево́д — деятельность по интерпретации смысл...</td>\n",
       "    </tr>\n",
       "    <tr>\n",
       "      <th>20806</th>\n",
       "      <td>спуск.n.6</td>\n",
       "      <td>ход.n.6</td>\n",
       "      <td>wn:00326440n</td>\n",
       "      <td>NaN</td>\n",
       "    </tr>\n",
       "    <tr>\n",
       "      <th>27159</th>\n",
       "      <td>скоросшиватель.n.2</td>\n",
       "      <td>директория.n.2</td>\n",
       "      <td>wn:03337383n</td>\n",
       "      <td>Скоросшива́тель — папка для быстрого сбора док...</td>\n",
       "    </tr>\n",
       "    <tr>\n",
       "      <th>7846</th>\n",
       "      <td>ловкость.n.1</td>\n",
       "      <td>дар.n.1</td>\n",
       "      <td>wn:05624254n</td>\n",
       "      <td>NaN</td>\n",
       "    </tr>\n",
       "    <tr>\n",
       "      <th>2276</th>\n",
       "      <td>распределение.n.3</td>\n",
       "      <td>распределения.n.3</td>\n",
       "      <td>wn:01083645n</td>\n",
       "      <td>NaN</td>\n",
       "    </tr>\n",
       "    <tr>\n",
       "      <th>8663</th>\n",
       "      <td>ежевика.n.1</td>\n",
       "      <td>терновник_куста.n.1</td>\n",
       "      <td>wn:12653762n</td>\n",
       "      <td>Ежеви́ка — подрод рода Рубус семейства Розовые.</td>\n",
       "    </tr>\n",
       "    <tr>\n",
       "      <th>395</th>\n",
       "      <td>глупость.n.1</td>\n",
       "      <td>глупость.n.1</td>\n",
       "      <td>wn:04891683n</td>\n",
       "      <td>NaN</td>\n",
       "    </tr>\n",
       "    <tr>\n",
       "      <th>57329</th>\n",
       "      <td>купе.n.1</td>\n",
       "      <td>кабина.n.1</td>\n",
       "      <td>wn:04305572n</td>\n",
       "      <td>NaN</td>\n",
       "    </tr>\n",
       "    <tr>\n",
       "      <th>47802</th>\n",
       "      <td>склонность.n.1</td>\n",
       "      <td>симпатия.n.1</td>\n",
       "      <td>wn:07498210n</td>\n",
       "      <td>NaN</td>\n",
       "    </tr>\n",
       "    <tr>\n",
       "      <th>58520</th>\n",
       "      <td>мошенничество.n.1</td>\n",
       "      <td>смешанный_напиток.n.1</td>\n",
       "      <td>wn:07918706n</td>\n",
       "      <td>NaN</td>\n",
       "    </tr>\n",
       "  </tbody>\n",
       "</table>\n",
       "</div>"
      ],
      "text/plain": [
       "                   Synset                             Hypernym    WordnetKey   \n",
       "25132         событие.n.1               физическое_явление.n.1  wn:11453860n  \\\n",
       "21623      дисциплина.n.1                          тренинг.n.1  wn:00893836n   \n",
       "36429  недопустимость.n.1                   недопустимость.n.1  wn:04794408n   \n",
       "15524     восхождение.n.2                       восходящий.n.2  wn:00325110n   \n",
       "29062           табун.n.1  агент_фосфорорганическими_нерва.n.1  wn:15066125n   \n",
       "43779       моцарелла.n.1                              сыр.n.1  wn:07854184n   \n",
       "19327      сокращение.n.4                       сбережения.n.4  wn:00192910n   \n",
       "3665     антропология.n.1               общественные_науки.n.1  wn:06143546n   \n",
       "20275             акт.n.1             юридический_документ.n.1  wn:06545137n   \n",
       "13905         задание.n.1                          задание.n.1  wn:00731222n   \n",
       "37200         перевод.n.1                 письменный_отчет.n.1  wn:06536389n   \n",
       "20806           спуск.n.6                              ход.n.6  wn:00326440n   \n",
       "27159  скоросшиватель.n.2                       директория.n.2  wn:03337383n   \n",
       "7846         ловкость.n.1                              дар.n.1  wn:05624254n   \n",
       "2276    распределение.n.3                    распределения.n.3  wn:01083645n   \n",
       "8663          ежевика.n.1                  терновник_куста.n.1  wn:12653762n   \n",
       "395          глупость.n.1                         глупость.n.1  wn:04891683n   \n",
       "57329            купе.n.1                           кабина.n.1  wn:04305572n   \n",
       "47802      склонность.n.1                         симпатия.n.1  wn:07498210n   \n",
       "58520   мошенничество.n.1                смешанный_напиток.n.1  wn:07918706n   \n",
       "\n",
       "                                              Definition  \n",
       "25132  Собы́тие в теории относительности — моментальн...  \n",
       "21623                                       Дисципли́на   \n",
       "36429                                                NaN  \n",
       "15524                                                NaN  \n",
       "29062                                             Табу́н  \n",
       "43779                           Моцаре́лла, моццаре́лла   \n",
       "19327                                                NaN  \n",
       "3665                                      Антрополо́гия   \n",
       "20275          Юридически оформленное дело, часто сделка  \n",
       "13905                                                NaN  \n",
       "37200  Перево́д — деятельность по интерпретации смысл...  \n",
       "20806                                                NaN  \n",
       "27159  Скоросшива́тель — папка для быстрого сбора док...  \n",
       "7846                                                 NaN  \n",
       "2276                                                 NaN  \n",
       "8663     Ежеви́ка — подрод рода Рубус семейства Розовые.  \n",
       "395                                                  NaN  \n",
       "57329                                                NaN  \n",
       "47802                                                NaN  \n",
       "58520                                                NaN  "
      ]
     },
     "execution_count": 41,
     "metadata": {},
     "output_type": "execute_result"
    }
   ],
   "source": [
    "filtered_wn.sample(20)"
   ]
  },
  {
   "cell_type": "code",
   "execution_count": 43,
   "metadata": {},
   "outputs": [],
   "source": [
    "filtered_wn.index = list(range(len(filtered_wn)))"
   ]
  },
  {
   "cell_type": "code",
   "execution_count": 46,
   "metadata": {},
   "outputs": [
    {
     "name": "stderr",
     "output_type": "stream",
     "text": [
      "  0%|          | 41/15753 [00:00<00:39, 400.76it/s]"
     ]
    },
    {
     "name": "stderr",
     "output_type": "stream",
     "text": [
      "100%|██████████| 15753/15753 [00:10<00:00, 1569.07it/s]\n"
     ]
    }
   ],
   "source": [
    "found = 0\n",
    "valid_idx = []\n",
    "for i, hyp in tqdm(enumerate(filtered_wn['Hypernym']), total=len(filtered_wn)):\n",
    "    if pd.isna(hyp):\n",
    "        continue\n",
    "    for word in hyp.split('\\t'):\n",
    "        word = word.split('.')[0].replace('_', ' ')\n",
    "        \n",
    "        if len(wn.get_synsets(word)) > 0:\n",
    "        # try:\n",
    "        #     wn[word]\n",
    "            \n",
    "            valid_idx.append(i)\n",
    "            found += 1\n",
    "        # except KeyError:\n",
    "        #     continue\n"
   ]
  },
  {
   "cell_type": "code",
   "execution_count": 51,
   "metadata": {},
   "outputs": [],
   "source": [
    "fil2 = filtered_wn.loc[valid_idx]\n",
    "fil2.index = list(range(len(fil2)))"
   ]
  },
  {
   "cell_type": "code",
   "execution_count": 59,
   "metadata": {},
   "outputs": [],
   "source": [
    "fil3 = fil2[(fil2['Synset'] != fil2['Hypernym'])]"
   ]
  },
  {
   "cell_type": "code",
   "execution_count": 61,
   "metadata": {},
   "outputs": [
    {
     "data": {
      "text/plain": [
       "7961"
      ]
     },
     "execution_count": 61,
     "metadata": {},
     "output_type": "execute_result"
    }
   ],
   "source": [
    "len(fil3)"
   ]
  },
  {
   "cell_type": "code",
   "execution_count": 60,
   "metadata": {},
   "outputs": [
    {
     "name": "stderr",
     "output_type": "stream",
     "text": [
      "35it [00:01, 21.04it/s]\n"
     ]
    }
   ],
   "source": [
    "out_path = 'test_ru_filter.edgelist'\n",
    "G = nx.from_pandas_edgelist(fil3, 'Hypernym',\n",
    "                                 'Synset', create_using=nx.DiGraph)\n",
    "\n",
    "nodes_to_add = []\n",
    "edges_to_add = []\n",
    "nodes_to_delete = []\n",
    "\n",
    "for node in G:\n",
    "    if len(str(node).split('\\t')) > 1:\n",
    "        nodes_to_add.extend((str(node).split('\\t')))\n",
    "        edges_to_add.extend(create_all_edges(str(node).split('\\t'), list(G[node])))\n",
    "        nodes_to_delete.append(node)\n",
    "\n",
    "G.add_nodes_from(nodes_to_add)\n",
    "G.add_edges_from(edges_to_add)\n",
    "G.remove_nodes_from(nodes_to_delete)\n",
    "\n",
    "for bad_edge in tqdm(generator(G)):\n",
    "    G.remove_edge(*bad_edge)\n",
    "\n",
    "nx.write_edgelist(G, out_path, delimiter='\\t')"
   ]
  },
  {
   "cell_type": "code",
   "execution_count": 87,
   "metadata": {},
   "outputs": [
    {
     "name": "stdout",
     "output_type": "stream",
     "text": [
      "пас \n"
     ]
    }
   ],
   "source": [
    "a = a.replace('_', ' ')\n",
    "lb = a.find('(')\n",
    "rb = a.find(')')\n",
    "\n",
    "print(a[:lb] + a[rb+1:])"
   ]
  },
  {
   "cell_type": "code",
   "execution_count": 82,
   "metadata": {},
   "outputs": [
    {
     "data": {
      "text/plain": [
       "[Synset(id=\"127461-N\", title=\"ПЕРЕДАЧА ПАСА\")]"
      ]
     },
     "execution_count": 82,
     "metadata": {},
     "output_type": "execute_result"
    }
   ],
   "source": [
    "wn.get_synsets('пас')"
   ]
  },
  {
   "cell_type": "code",
   "execution_count": 43,
   "metadata": {},
   "outputs": [
    {
     "data": {
      "text/plain": [
       "([WNSense(key=\"apprisal%1:10:00::\", name=\"apprisal\")],\n",
       " [WNSense(key=\"language%1:10:03::\", name=\"language\"),\n",
       "  WNSense(key=\"language%1:10:01::\", name=\"language\"),\n",
       "  WNSense(key=\"language%1:10:00::\", name=\"language\"),\n",
       "  WNSense(key=\"language%1:09:00::\", name=\"language\")],\n",
       " [WNSense(key=\"zombie%1:18:00::\", name=\"zombie\")])"
      ]
     },
     "execution_count": 43,
     "metadata": {},
     "output_type": "execute_result"
    }
   ],
   "source": [
    "wn['apprisal'], wn['language'], wn['zombie']"
   ]
  },
  {
   "cell_type": "code",
   "execution_count": 15,
   "metadata": {},
   "outputs": [
    {
     "data": {
      "text/html": [
       "<div>\n",
       "<style scoped>\n",
       "    .dataframe tbody tr th:only-of-type {\n",
       "        vertical-align: middle;\n",
       "    }\n",
       "\n",
       "    .dataframe tbody tr th {\n",
       "        vertical-align: top;\n",
       "    }\n",
       "\n",
       "    .dataframe thead th {\n",
       "        text-align: right;\n",
       "    }\n",
       "</style>\n",
       "<table border=\"1\" class=\"dataframe\">\n",
       "  <thead>\n",
       "    <tr style=\"text-align: right;\">\n",
       "      <th></th>\n",
       "      <th>Synset</th>\n",
       "      <th>Hypernym</th>\n",
       "      <th>WordnetKey</th>\n",
       "      <th>Definition</th>\n",
       "    </tr>\n",
       "  </thead>\n",
       "  <tbody>\n",
       "    <tr>\n",
       "      <th>5118</th>\n",
       "      <td>азрег.n.1</td>\n",
       "      <td>турецкие_денежной_единицы.n.1</td>\n",
       "      <td>wn:13687420n</td>\n",
       "      <td>NaN</td>\n",
       "    </tr>\n",
       "    <tr>\n",
       "      <th>10528</th>\n",
       "      <td>helix_азрегза.n.1</td>\n",
       "      <td>Helix_aspersa.n.1</td>\n",
       "      <td>wn:01945143n</td>\n",
       "      <td>NaN</td>\n",
       "    </tr>\n",
       "  </tbody>\n",
       "</table>\n",
       "</div>"
      ],
      "text/plain": [
       "                  Synset                       Hypernym    WordnetKey  \\\n",
       "5118           азрег.n.1  турецкие_денежной_единицы.n.1  wn:13687420n   \n",
       "10528  helix_азрегза.n.1              Helix_aspersa.n.1  wn:01945143n   \n",
       "\n",
       "      Definition  \n",
       "5118         NaN  \n",
       "10528        NaN  "
      ]
     },
     "execution_count": 15,
     "metadata": {},
     "output_type": "execute_result"
    }
   ],
   "source": [
    "df1[df1['Synset'].str.contains('азрег')]"
   ]
  },
  {
   "cell_type": "code",
   "execution_count": 16,
   "metadata": {},
   "outputs": [
    {
     "data": {
      "text/html": [
       "<div>\n",
       "<style scoped>\n",
       "    .dataframe tbody tr th:only-of-type {\n",
       "        vertical-align: middle;\n",
       "    }\n",
       "\n",
       "    .dataframe tbody tr th {\n",
       "        vertical-align: top;\n",
       "    }\n",
       "\n",
       "    .dataframe thead th {\n",
       "        text-align: right;\n",
       "    }\n",
       "</style>\n",
       "<table border=\"1\" class=\"dataframe\">\n",
       "  <thead>\n",
       "    <tr style=\"text-align: right;\">\n",
       "      <th></th>\n",
       "      <th>Synset</th>\n",
       "      <th>Hypernym</th>\n",
       "      <th>WordnetKey</th>\n",
       "      <th>Definition</th>\n",
       "    </tr>\n",
       "  </thead>\n",
       "  <tbody>\n",
       "    <tr>\n",
       "      <th>52119</th>\n",
       "      <td>зарегистрируйтесь_языке.n.1</td>\n",
       "      <td>тональный_язык.n.1</td>\n",
       "      <td>wn:06905243n</td>\n",
       "      <td>NaN</td>\n",
       "    </tr>\n",
       "  </tbody>\n",
       "</table>\n",
       "</div>"
      ],
      "text/plain": [
       "                            Synset            Hypernym    WordnetKey  \\\n",
       "52119  зарегистрируйтесь_языке.n.1  тональный_язык.n.1  wn:06905243n   \n",
       "\n",
       "      Definition  \n",
       "52119        NaN  "
      ]
     },
     "execution_count": 16,
     "metadata": {},
     "output_type": "execute_result"
    }
   ],
   "source": [
    "df1[df1['Synset'].str.contains('зарегистрируйтесь')]"
   ]
  },
  {
   "cell_type": "code",
   "execution_count": 17,
   "metadata": {},
   "outputs": [
    {
     "data": {
      "text/html": [
       "<div>\n",
       "<style scoped>\n",
       "    .dataframe tbody tr th:only-of-type {\n",
       "        vertical-align: middle;\n",
       "    }\n",
       "\n",
       "    .dataframe tbody tr th {\n",
       "        vertical-align: top;\n",
       "    }\n",
       "\n",
       "    .dataframe thead th {\n",
       "        text-align: right;\n",
       "    }\n",
       "</style>\n",
       "<table border=\"1\" class=\"dataframe\">\n",
       "  <thead>\n",
       "    <tr style=\"text-align: right;\">\n",
       "      <th></th>\n",
       "      <th>Synset</th>\n",
       "      <th>Hypernym</th>\n",
       "      <th>WordnetKey</th>\n",
       "      <th>Definition</th>\n",
       "    </tr>\n",
       "  </thead>\n",
       "  <tbody>\n",
       "    <tr>\n",
       "      <th>17452</th>\n",
       "      <td>контур_языке.n.1</td>\n",
       "      <td>тональный_язык.n.1</td>\n",
       "      <td>wn:06905141n</td>\n",
       "      <td>NaN</td>\n",
       "    </tr>\n",
       "  </tbody>\n",
       "</table>\n",
       "</div>"
      ],
      "text/plain": [
       "                 Synset            Hypernym    WordnetKey Definition\n",
       "17452  контур_языке.n.1  тональный_язык.n.1  wn:06905141n        NaN"
      ]
     },
     "execution_count": 17,
     "metadata": {},
     "output_type": "execute_result"
    }
   ],
   "source": [
    "df1[df1['Synset'].str.contains('контур_языке')]"
   ]
  },
  {
   "cell_type": "code",
   "execution_count": 18,
   "metadata": {},
   "outputs": [
    {
     "data": {
      "text/html": [
       "<div>\n",
       "<style scoped>\n",
       "    .dataframe tbody tr th:only-of-type {\n",
       "        vertical-align: middle;\n",
       "    }\n",
       "\n",
       "    .dataframe tbody tr th {\n",
       "        vertical-align: top;\n",
       "    }\n",
       "\n",
       "    .dataframe thead th {\n",
       "        text-align: right;\n",
       "    }\n",
       "</style>\n",
       "<table border=\"1\" class=\"dataframe\">\n",
       "  <thead>\n",
       "    <tr style=\"text-align: right;\">\n",
       "      <th></th>\n",
       "      <th>Synset</th>\n",
       "      <th>Hypernym</th>\n",
       "      <th>WordnetKey</th>\n",
       "      <th>Definition</th>\n",
       "    </tr>\n",
       "  </thead>\n",
       "  <tbody>\n",
       "    <tr>\n",
       "      <th>18773</th>\n",
       "      <td>criollo_людей.n.1</td>\n",
       "      <td>испаноамериканцы.n.1</td>\n",
       "      <td>wn:09978697n</td>\n",
       "      <td>NaN</td>\n",
       "    </tr>\n",
       "  </tbody>\n",
       "</table>\n",
       "</div>"
      ],
      "text/plain": [
       "                  Synset              Hypernym    WordnetKey Definition\n",
       "18773  criollo_людей.n.1  испаноамериканцы.n.1  wn:09978697n        NaN"
      ]
     },
     "execution_count": 18,
     "metadata": {},
     "output_type": "execute_result"
    }
   ],
   "source": [
    "df1[df1['Synset'].str.contains('criollo')]"
   ]
  },
  {
   "cell_type": "code",
   "execution_count": 19,
   "metadata": {},
   "outputs": [
    {
     "data": {
      "text/html": [
       "<div>\n",
       "<style scoped>\n",
       "    .dataframe tbody tr th:only-of-type {\n",
       "        vertical-align: middle;\n",
       "    }\n",
       "\n",
       "    .dataframe tbody tr th {\n",
       "        vertical-align: top;\n",
       "    }\n",
       "\n",
       "    .dataframe thead th {\n",
       "        text-align: right;\n",
       "    }\n",
       "</style>\n",
       "<table border=\"1\" class=\"dataframe\">\n",
       "  <thead>\n",
       "    <tr style=\"text-align: right;\">\n",
       "      <th></th>\n",
       "      <th>Synset</th>\n",
       "      <th>Hypernym</th>\n",
       "      <th>WordnetKey</th>\n",
       "      <th>Definition</th>\n",
       "    </tr>\n",
       "  </thead>\n",
       "  <tbody>\n",
       "    <tr>\n",
       "      <th>21344</th>\n",
       "      <td>dimensión.n.1</td>\n",
       "      <td>величина_(математика).n.1</td>\n",
       "      <td>wn:05093581n</td>\n",
       "      <td>NaN</td>\n",
       "    </tr>\n",
       "  </tbody>\n",
       "</table>\n",
       "</div>"
      ],
      "text/plain": [
       "              Synset                   Hypernym    WordnetKey Definition\n",
       "21344  dimensión.n.1  величина_(математика).n.1  wn:05093581n        NaN"
      ]
     },
     "execution_count": 19,
     "metadata": {},
     "output_type": "execute_result"
    }
   ],
   "source": [
    "df1[df1['Synset'].str.contains('dimensión')]"
   ]
  },
  {
   "cell_type": "code",
   "execution_count": 52,
   "metadata": {},
   "outputs": [],
   "source": [
    "df2 = df1[~df1['Definition'].isna()]"
   ]
  },
  {
   "cell_type": "code",
   "execution_count": 53,
   "metadata": {},
   "outputs": [
    {
     "data": {
      "text/plain": [
       "25434"
      ]
     },
     "execution_count": 53,
     "metadata": {},
     "output_type": "execute_result"
    }
   ],
   "source": [
    "len(df2)"
   ]
  },
  {
   "cell_type": "code",
   "execution_count": 21,
   "metadata": {},
   "outputs": [
    {
     "data": {
      "text/html": [
       "<div>\n",
       "<style scoped>\n",
       "    .dataframe tbody tr th:only-of-type {\n",
       "        vertical-align: middle;\n",
       "    }\n",
       "\n",
       "    .dataframe tbody tr th {\n",
       "        vertical-align: top;\n",
       "    }\n",
       "\n",
       "    .dataframe thead th {\n",
       "        text-align: right;\n",
       "    }\n",
       "</style>\n",
       "<table border=\"1\" class=\"dataframe\">\n",
       "  <thead>\n",
       "    <tr style=\"text-align: right;\">\n",
       "      <th></th>\n",
       "      <th>Synset</th>\n",
       "      <th>Hypernym</th>\n",
       "      <th>WordnetKey</th>\n",
       "      <th>Definition</th>\n",
       "    </tr>\n",
       "  </thead>\n",
       "  <tbody>\n",
       "    <tr>\n",
       "      <th>60526</th>\n",
       "      <td>племенное_общество.n.1</td>\n",
       "      <td>общество.n.1</td>\n",
       "      <td>wn:08288390n</td>\n",
       "      <td>NaN</td>\n",
       "    </tr>\n",
       "    <tr>\n",
       "      <th>20850</th>\n",
       "      <td>желание.n.3</td>\n",
       "      <td>NaN</td>\n",
       "      <td>wn:04945057n</td>\n",
       "      <td>NaN</td>\n",
       "    </tr>\n",
       "    <tr>\n",
       "      <th>4589</th>\n",
       "      <td>вооруженный_разбой.n.1</td>\n",
       "      <td>грабёж.n.1</td>\n",
       "      <td>wn:00781912n</td>\n",
       "      <td>NaN</td>\n",
       "    </tr>\n",
       "    <tr>\n",
       "      <th>54566</th>\n",
       "      <td>городского_управления.n.1</td>\n",
       "      <td>выборного_должностного_лица.n.1</td>\n",
       "      <td>wn:10576676n</td>\n",
       "      <td>NaN</td>\n",
       "    </tr>\n",
       "    <tr>\n",
       "      <th>54408</th>\n",
       "      <td>ожо́г_второ́й_сте́пени.n.3</td>\n",
       "      <td>ожог.n.3</td>\n",
       "      <td>wn:14291295n</td>\n",
       "      <td>NaN</td>\n",
       "    </tr>\n",
       "    <tr>\n",
       "      <th>51781</th>\n",
       "      <td>переоценка.n.1</td>\n",
       "      <td>NaN</td>\n",
       "      <td>wn:05747582n</td>\n",
       "      <td>NaN</td>\n",
       "    </tr>\n",
       "    <tr>\n",
       "      <th>24607</th>\n",
       "      <td>eragrostis.n.1</td>\n",
       "      <td>liliopsid_рода.n.1</td>\n",
       "      <td>wn:12119947n</td>\n",
       "      <td>NaN</td>\n",
       "    </tr>\n",
       "    <tr>\n",
       "      <th>23963</th>\n",
       "      <td>Emilia.n.1</td>\n",
       "      <td>asterid_двудольных_рода.n.1</td>\n",
       "      <td>wn:11963158n</td>\n",
       "      <td>NaN</td>\n",
       "    </tr>\n",
       "    <tr>\n",
       "      <th>16234</th>\n",
       "      <td>колледж_мальчик.n.1</td>\n",
       "      <td>студент.n.1</td>\n",
       "      <td>wn:09937056n</td>\n",
       "      <td>NaN</td>\n",
       "    </tr>\n",
       "    <tr>\n",
       "      <th>6233</th>\n",
       "      <td>вернуться_имеет_значения.n.6</td>\n",
       "      <td>NaN</td>\n",
       "      <td>wn:06390805n</td>\n",
       "      <td>NaN</td>\n",
       "    </tr>\n",
       "  </tbody>\n",
       "</table>\n",
       "</div>"
      ],
      "text/plain": [
       "                             Synset                         Hypernym  \\\n",
       "60526        племенное_общество.n.1                     общество.n.1   \n",
       "20850                   желание.n.3                              NaN   \n",
       "4589         вооруженный_разбой.n.1                       грабёж.n.1   \n",
       "54566     городского_управления.n.1  выборного_должностного_лица.n.1   \n",
       "54408    ожо́г_второ́й_сте́пени.n.3                         ожог.n.3   \n",
       "51781                переоценка.n.1                              NaN   \n",
       "24607                eragrostis.n.1               liliopsid_рода.n.1   \n",
       "23963                    Emilia.n.1      asterid_двудольных_рода.n.1   \n",
       "16234           колледж_мальчик.n.1                      студент.n.1   \n",
       "6233   вернуться_имеет_значения.n.6                              NaN   \n",
       "\n",
       "         WordnetKey Definition  \n",
       "60526  wn:08288390n        NaN  \n",
       "20850  wn:04945057n        NaN  \n",
       "4589   wn:00781912n        NaN  \n",
       "54566  wn:10576676n        NaN  \n",
       "54408  wn:14291295n        NaN  \n",
       "51781  wn:05747582n        NaN  \n",
       "24607  wn:12119947n        NaN  \n",
       "23963  wn:11963158n        NaN  \n",
       "16234  wn:09937056n        NaN  \n",
       "6233   wn:06390805n        NaN  "
      ]
     },
     "execution_count": 21,
     "metadata": {},
     "output_type": "execute_result"
    }
   ],
   "source": [
    "df1[df1['Definition'].isna()].sample(10)"
   ]
  },
  {
   "cell_type": "code",
   "execution_count": 26,
   "metadata": {},
   "outputs": [
    {
     "data": {
      "text/html": [
       "<div>\n",
       "<style scoped>\n",
       "    .dataframe tbody tr th:only-of-type {\n",
       "        vertical-align: middle;\n",
       "    }\n",
       "\n",
       "    .dataframe tbody tr th {\n",
       "        vertical-align: top;\n",
       "    }\n",
       "\n",
       "    .dataframe thead th {\n",
       "        text-align: right;\n",
       "    }\n",
       "</style>\n",
       "<table border=\"1\" class=\"dataframe\">\n",
       "  <thead>\n",
       "    <tr style=\"text-align: right;\">\n",
       "      <th></th>\n",
       "      <th>Synset</th>\n",
       "      <th>Hypernym</th>\n",
       "      <th>WordnetKey</th>\n",
       "      <th>Definition</th>\n",
       "    </tr>\n",
       "  </thead>\n",
       "  <tbody>\n",
       "    <tr>\n",
       "      <th>0</th>\n",
       "      <td>ноль.n.1</td>\n",
       "      <td>цифра.n.1</td>\n",
       "      <td>wn:13742358n</td>\n",
       "      <td>Ноль — целое число, которое при сложении с люб...</td>\n",
       "    </tr>\n",
       "    <tr>\n",
       "      <th>1</th>\n",
       "      <td>1_(число).n.1</td>\n",
       "      <td>цифра.n.1</td>\n",
       "      <td>wn:13742573n</td>\n",
       "      <td>1 — наименьшее натуральное число, целое число ...</td>\n",
       "    </tr>\n",
       "    <tr>\n",
       "      <th>2</th>\n",
       "      <td>додеканол.n.2</td>\n",
       "      <td>спирты.n.2</td>\n",
       "      <td>wn:14930670n</td>\n",
       "      <td>Додеканол — органическое вещество, относится к...</td>\n",
       "    </tr>\n",
       "    <tr>\n",
       "      <th>4</th>\n",
       "      <td>10_(число).n.1</td>\n",
       "      <td>большое_целое_число.n.1</td>\n",
       "      <td>wn:13746512n</td>\n",
       "      <td>10 — натуральное число, расположенное между чи...</td>\n",
       "    </tr>\n",
       "    <tr>\n",
       "      <th>5</th>\n",
       "      <td>100_(число).n.1</td>\n",
       "      <td>большое_целое_число.n.1</td>\n",
       "      <td>wn:13750415n</td>\n",
       "      <td>100 — натуральное и круглое число между 99 и 1...</td>\n",
       "    </tr>\n",
       "    <tr>\n",
       "      <th>...</th>\n",
       "      <td>...</td>\n",
       "      <td>...</td>\n",
       "      <td>...</td>\n",
       "      <td>...</td>\n",
       "    </tr>\n",
       "    <tr>\n",
       "      <th>63337</th>\n",
       "      <td>зуни_(народ).n.1</td>\n",
       "      <td>pueblo.n.1</td>\n",
       "      <td>wn:09673232n</td>\n",
       "      <td>Зу́ни, зу́ньи</td>\n",
       "    </tr>\n",
       "    <tr>\n",
       "      <th>63338</th>\n",
       "      <td>зурванизм.n.1</td>\n",
       "      <td>ересь.n.1\\tбогословское_учение.n.1</td>\n",
       "      <td>wn:06251553n</td>\n",
       "      <td>Зурванизм — предположительно философское течен...</td>\n",
       "    </tr>\n",
       "    <tr>\n",
       "      <th>63339</th>\n",
       "      <td>зайдеко.n.1</td>\n",
       "      <td>кантри.n.1</td>\n",
       "      <td>wn:07062550n</td>\n",
       "      <td>За́йдеко (англ.</td>\n",
       "    </tr>\n",
       "    <tr>\n",
       "      <th>63344</th>\n",
       "      <td>зимаза.n.1</td>\n",
       "      <td>ферменты.n.1</td>\n",
       "      <td>wn:15109586n</td>\n",
       "      <td>Зимаза</td>\n",
       "    </tr>\n",
       "    <tr>\n",
       "      <th>63345</th>\n",
       "      <td>зимология.n.1</td>\n",
       "      <td>биохимия.n.1</td>\n",
       "      <td>wn:06080361n</td>\n",
       "      <td>Зимология</td>\n",
       "    </tr>\n",
       "  </tbody>\n",
       "</table>\n",
       "<p>25434 rows × 4 columns</p>\n",
       "</div>"
      ],
      "text/plain": [
       "                 Synset                            Hypernym    WordnetKey  \\\n",
       "0              ноль.n.1                           цифра.n.1  wn:13742358n   \n",
       "1         1_(число).n.1                           цифра.n.1  wn:13742573n   \n",
       "2         додеканол.n.2                          спирты.n.2  wn:14930670n   \n",
       "4        10_(число).n.1             большое_целое_число.n.1  wn:13746512n   \n",
       "5       100_(число).n.1             большое_целое_число.n.1  wn:13750415n   \n",
       "...                 ...                                 ...           ...   \n",
       "63337  зуни_(народ).n.1                          pueblo.n.1  wn:09673232n   \n",
       "63338     зурванизм.n.1  ересь.n.1\\tбогословское_учение.n.1  wn:06251553n   \n",
       "63339       зайдеко.n.1                          кантри.n.1  wn:07062550n   \n",
       "63344        зимаза.n.1                        ферменты.n.1  wn:15109586n   \n",
       "63345     зимология.n.1                        биохимия.n.1  wn:06080361n   \n",
       "\n",
       "                                              Definition  \n",
       "0      Ноль — целое число, которое при сложении с люб...  \n",
       "1      1 — наименьшее натуральное число, целое число ...  \n",
       "2      Додеканол — органическое вещество, относится к...  \n",
       "4      10 — натуральное число, расположенное между чи...  \n",
       "5      100 — натуральное и круглое число между 99 и 1...  \n",
       "...                                                  ...  \n",
       "63337                                     Зу́ни, зу́ньи   \n",
       "63338  Зурванизм — предположительно философское течен...  \n",
       "63339                                    За́йдеко (англ.  \n",
       "63344                                            Зимаза   \n",
       "63345                                          Зимология  \n",
       "\n",
       "[25434 rows x 4 columns]"
      ]
     },
     "execution_count": 26,
     "metadata": {},
     "output_type": "execute_result"
    }
   ],
   "source": [
    "df2"
   ]
  },
  {
   "cell_type": "code",
   "execution_count": 23,
   "metadata": {},
   "outputs": [],
   "source": [
    "G = nx.from_pandas_edgelist(df2, 'Hypernym', 'Synset', create_using=nx.DiGraph)"
   ]
  },
  {
   "cell_type": "code",
   "execution_count": 24,
   "metadata": {},
   "outputs": [],
   "source": [
    "def create_all_edges(parents, children):\n",
    "    res = []\n",
    "    \n",
    "    for parent in parents:\n",
    "        for child in children:\n",
    "            res.append((parent, child))\n",
    "\n",
    "    return res\n",
    "\n",
    "nodes_to_add = []\n",
    "edges_to_add = []\n",
    "nodes_to_delete = []\n",
    "\n",
    "for node in G:\n",
    "    if len(str(node).split('\\t')) > 1:\n",
    "        nodes_to_add.extend((str(node).split('\\t')))\n",
    "        edges_to_add.extend(create_all_edges(str(node).split('\\t'), list(G[node])))\n",
    "        nodes_to_delete.append(node)"
   ]
  },
  {
   "cell_type": "code",
   "execution_count": 25,
   "metadata": {},
   "outputs": [],
   "source": [
    "G.add_nodes_from(nodes_to_add)\n",
    "G.add_edges_from(edges_to_add)\n",
    "G.remove_nodes_from(nodes_to_delete)"
   ]
  },
  {
   "cell_type": "code",
   "execution_count": 26,
   "metadata": {},
   "outputs": [
    {
     "data": {
      "text/plain": [
       "[('цифра.n.1', 'цифра.n.1')]"
      ]
     },
     "execution_count": 26,
     "metadata": {},
     "output_type": "execute_result"
    }
   ],
   "source": [
    "nx.find_cycle(G)"
   ]
  },
  {
   "cell_type": "code",
   "execution_count": 27,
   "metadata": {},
   "outputs": [],
   "source": []
  },
  {
   "cell_type": "code",
   "execution_count": 29,
   "metadata": {},
   "outputs": [],
   "source": [
    "gen = generator()"
   ]
  },
  {
   "cell_type": "code",
   "execution_count": 31,
   "metadata": {},
   "outputs": [
    {
     "data": {
      "text/plain": [
       "('цифра.n.1', 'цифра.n.1')"
      ]
     },
     "execution_count": 31,
     "metadata": {},
     "output_type": "execute_result"
    }
   ],
   "source": [
    "next(gen)"
   ]
  },
  {
   "cell_type": "code",
   "execution_count": 32,
   "metadata": {},
   "outputs": [
    {
     "name": "stderr",
     "output_type": "stream",
     "text": [
      "0it [00:00, ?it/s]"
     ]
    },
    {
     "name": "stderr",
     "output_type": "stream",
     "text": [
      "2it [00:00, 13.51it/s]"
     ]
    },
    {
     "name": "stdout",
     "output_type": "stream",
     "text": [
      "('цифра.n.1', 'цифра.n.1')\n",
      "('кран.n.1', 'кран.n.1')\n",
      "('голубика.n.1', 'голубика.n.1')\n"
     ]
    },
    {
     "name": "stderr",
     "output_type": "stream",
     "text": [
      "6it [00:00, 12.73it/s]"
     ]
    },
    {
     "name": "stdout",
     "output_type": "stream",
     "text": [
      "('роза.n.1', 'роза.n.1')\n",
      "('лещ.n.2', 'лещ.n.2')\n",
      "('полынь_горькая.n.1', 'полынь_горькая.n.1')\n"
     ]
    },
    {
     "name": "stderr",
     "output_type": "stream",
     "text": [
      "8it [00:00, 12.80it/s]"
     ]
    },
    {
     "name": "stdout",
     "output_type": "stream",
     "text": [
      "('относительная_плотность.n.1', 'относительная_плотность.n.1')\n",
      "('лауреат.n.1', 'лауреат.n.1')\n",
      "('скорость.n.1', 'скорость.n.1')\n"
     ]
    },
    {
     "name": "stderr",
     "output_type": "stream",
     "text": [
      "10it [00:00, 12.14it/s]"
     ]
    },
    {
     "name": "stdout",
     "output_type": "stream",
     "text": [
      "('вазелин.n.1', 'вазелин.n.1')\n",
      "('пар.n.1', 'пар.n.1')\n"
     ]
    },
    {
     "name": "stderr",
     "output_type": "stream",
     "text": [
      "12it [00:01, 10.99it/s]"
     ]
    },
    {
     "name": "stdout",
     "output_type": "stream",
     "text": [
      "('адвокат.n.1', 'адвокат.n.1')\n",
      "('суффикс.n.1', 'суффикс.n.1')\n"
     ]
    },
    {
     "name": "stderr",
     "output_type": "stream",
     "text": [
      "14it [00:01,  9.78it/s]"
     ]
    },
    {
     "name": "stdout",
     "output_type": "stream",
     "text": [
      "('реактивный_двигатель.n.1', 'реактивный_двигатель.n.1')\n",
      "('часы.n.1', 'часы.n.1')\n"
     ]
    },
    {
     "name": "stderr",
     "output_type": "stream",
     "text": [
      "17it [00:01,  8.40it/s]"
     ]
    },
    {
     "name": "stdout",
     "output_type": "stream",
     "text": [
      "('авитаминоз.n.1', 'недоедание.n.1')\n",
      "('болезнь.n.1', 'болезнь.n.1')\n"
     ]
    },
    {
     "name": "stderr",
     "output_type": "stream",
     "text": [
      "19it [00:01,  7.54it/s]"
     ]
    },
    {
     "name": "stdout",
     "output_type": "stream",
     "text": [
      "('Трёхглавая_мышца_плеча.n.1', 'Трёхглавая_мышца_плеча.n.1')\n",
      "('краситель.n.1', 'краситель.n.1')\n"
     ]
    },
    {
     "name": "stderr",
     "output_type": "stream",
     "text": [
      "21it [00:02,  7.02it/s]"
     ]
    },
    {
     "name": "stdout",
     "output_type": "stream",
     "text": [
      "('тренер.n.1', 'тренер.n.1')\n",
      "('мизинец.n.1', 'мизинец.n.1')\n"
     ]
    },
    {
     "name": "stderr",
     "output_type": "stream",
     "text": [
      "23it [00:02,  6.73it/s]"
     ]
    },
    {
     "name": "stdout",
     "output_type": "stream",
     "text": [
      "('псевдоним.n.1', 'псевдоним.n.1')\n",
      "('ноздря.n.1', 'ноздря.n.1')\n"
     ]
    },
    {
     "name": "stderr",
     "output_type": "stream",
     "text": [
      "25it [00:02,  6.38it/s]"
     ]
    },
    {
     "name": "stdout",
     "output_type": "stream",
     "text": [
      "('тля.n.1', 'тля.n.1')\n",
      "('вера.n.1', 'вера.n.1')\n"
     ]
    },
    {
     "name": "stderr",
     "output_type": "stream",
     "text": [
      "27it [00:03,  6.12it/s]"
     ]
    },
    {
     "name": "stdout",
     "output_type": "stream",
     "text": [
      "('при́ступ.n.7', 'при́ступ.n.7')\n",
      "('джем.n.1', 'джем.n.1')\n"
     ]
    },
    {
     "name": "stderr",
     "output_type": "stream",
     "text": [
      "29it [00:03,  5.85it/s]"
     ]
    },
    {
     "name": "stdout",
     "output_type": "stream",
     "text": [
      "('Камнешарки.n.1', 'Камнешарки.n.1')\n",
      "('подразделение.n.4', 'подразделение.n.4')\n"
     ]
    },
    {
     "name": "stderr",
     "output_type": "stream",
     "text": [
      "31it [00:03,  5.74it/s]"
     ]
    },
    {
     "name": "stdout",
     "output_type": "stream",
     "text": [
      "('афалина.n.1', 'афалина.n.1')\n",
      "('дефект_межпредсердной_перегородки.n.1', 'дефект_межпредсердной_перегородки.n.1')\n"
     ]
    },
    {
     "name": "stderr",
     "output_type": "stream",
     "text": [
      "33it [00:04,  5.76it/s]"
     ]
    },
    {
     "name": "stdout",
     "output_type": "stream",
     "text": [
      "('боулинг.n.1', 'боулинг.n.1')\n",
      "('понятие.n.1', 'понятие.n.1')\n"
     ]
    },
    {
     "name": "stderr",
     "output_type": "stream",
     "text": [
      "35it [00:04,  5.70it/s]"
     ]
    },
    {
     "name": "stdout",
     "output_type": "stream",
     "text": [
      "('грузовой_поезд.n.1', 'грузовой_поезд.n.1')\n",
      "('хобби.n.1', 'хобби.n.1')\n"
     ]
    },
    {
     "name": "stderr",
     "output_type": "stream",
     "text": [
      "37it [00:05,  5.59it/s]"
     ]
    },
    {
     "name": "stdout",
     "output_type": "stream",
     "text": [
      "('пожар.n.1', 'пожар.n.1')\n",
      "('земельный_участок.n.1', 'земельный_участок.n.1')\n"
     ]
    },
    {
     "name": "stderr",
     "output_type": "stream",
     "text": [
      "39it [00:05,  5.43it/s]"
     ]
    },
    {
     "name": "stdout",
     "output_type": "stream",
     "text": [
      "('торт.n.3', 'торт.n.3')\n",
      "('падчерица.n.1', 'падчерица.n.1')\n"
     ]
    },
    {
     "name": "stderr",
     "output_type": "stream",
     "text": [
      "41it [00:05,  5.29it/s]"
     ]
    },
    {
     "name": "stdout",
     "output_type": "stream",
     "text": [
      "('метла.n.1', 'метла.n.1')\n",
      "('треуголка.n.1', 'треуголка.n.1')\n"
     ]
    },
    {
     "name": "stderr",
     "output_type": "stream",
     "text": [
      "42it [00:06,  5.19it/s]"
     ]
    },
    {
     "name": "stdout",
     "output_type": "stream",
     "text": [
      "('кузнецn.10', 'кузнецn.10')\n"
     ]
    },
    {
     "name": "stderr",
     "output_type": "stream",
     "text": [
      "43it [00:06,  5.07it/s]"
     ]
    },
    {
     "name": "stdout",
     "output_type": "stream",
     "text": [
      "('режущий_инструмент.n.1', 'режущий_инструмент.n.1')\n",
      "('обвинение.n.1', 'обвинение.n.1')\n"
     ]
    },
    {
     "name": "stderr",
     "output_type": "stream",
     "text": [
      "45it [00:06,  4.94it/s]"
     ]
    },
    {
     "name": "stdout",
     "output_type": "stream",
     "text": [
      "('кастрюля.n.1', 'кастрюля.n.1')\n",
      "('комбинезон.n.1', 'комбинезон.n.1')\n"
     ]
    },
    {
     "name": "stderr",
     "output_type": "stream",
     "text": [
      "47it [00:07,  4.92it/s]"
     ]
    },
    {
     "name": "stdout",
     "output_type": "stream",
     "text": [
      "('волнистый_попугайчик.n.1', 'волнистый_попугайчик.n.1')\n"
     ]
    },
    {
     "name": "stderr",
     "output_type": "stream",
     "text": [
      "48it [00:07,  4.86it/s]"
     ]
    },
    {
     "name": "stdout",
     "output_type": "stream",
     "text": [
      "('водитель.n.1', 'водитель.n.1')\n"
     ]
    },
    {
     "name": "stderr",
     "output_type": "stream",
     "text": [
      "49it [00:07,  4.83it/s]"
     ]
    },
    {
     "name": "stdout",
     "output_type": "stream",
     "text": [
      "('исполнительный_директор.n.1', 'исполнительный_директор.n.1')\n"
     ]
    },
    {
     "name": "stderr",
     "output_type": "stream",
     "text": [
      "50it [00:07,  4.75it/s]"
     ]
    },
    {
     "name": "stdout",
     "output_type": "stream",
     "text": [
      "('растительное_масло.n.1', 'пищевые_жиры.n.1')\n"
     ]
    },
    {
     "name": "stderr",
     "output_type": "stream",
     "text": [
      "51it [00:07,  4.68it/s]"
     ]
    },
    {
     "name": "stdout",
     "output_type": "stream",
     "text": [
      "('проезжая_часть.n.1', 'проезжая_часть.n.1')\n"
     ]
    },
    {
     "name": "stderr",
     "output_type": "stream",
     "text": [
      "52it [00:08,  4.57it/s]"
     ]
    },
    {
     "name": "stdout",
     "output_type": "stream",
     "text": [
      "('морская_свинка.n.1', 'морская_свинка.n.1')\n"
     ]
    },
    {
     "name": "stderr",
     "output_type": "stream",
     "text": [
      "53it [00:08,  4.51it/s]"
     ]
    },
    {
     "name": "stdout",
     "output_type": "stream",
     "text": [
      "('комод.n.1', 'комод.n.1')\n"
     ]
    },
    {
     "name": "stderr",
     "output_type": "stream",
     "text": [
      "54it [00:08,  4.46it/s]"
     ]
    },
    {
     "name": "stdout",
     "output_type": "stream",
     "text": [
      "('хор.n.2', 'хор.n.2')\n"
     ]
    },
    {
     "name": "stderr",
     "output_type": "stream",
     "text": [
      "55it [00:08,  4.43it/s]"
     ]
    },
    {
     "name": "stdout",
     "output_type": "stream",
     "text": [
      "('де́рзость.n.3', 'де́рзость.n.3')\n"
     ]
    },
    {
     "name": "stderr",
     "output_type": "stream",
     "text": [
      "56it [00:09,  4.37it/s]"
     ]
    },
    {
     "name": "stdout",
     "output_type": "stream",
     "text": [
      "('заклинание.n.4', 'заклинание.n.4')\n"
     ]
    },
    {
     "name": "stderr",
     "output_type": "stream",
     "text": [
      "57it [00:09,  4.33it/s]"
     ]
    },
    {
     "name": "stdout",
     "output_type": "stream",
     "text": [
      "('ложь.n.1', 'ложь.n.1')\n"
     ]
    },
    {
     "name": "stderr",
     "output_type": "stream",
     "text": [
      "58it [00:09,  4.28it/s]"
     ]
    },
    {
     "name": "stdout",
     "output_type": "stream",
     "text": [
      "('реверанс.n.3', 'реверанс.n.3')\n"
     ]
    },
    {
     "name": "stderr",
     "output_type": "stream",
     "text": [
      "59it [00:09,  4.17it/s]"
     ]
    },
    {
     "name": "stdout",
     "output_type": "stream",
     "text": [
      "('оптический_микроскоп.n.1', 'лупа.n.1')\n"
     ]
    },
    {
     "name": "stderr",
     "output_type": "stream",
     "text": [
      "60it [00:10,  4.07it/s]"
     ]
    },
    {
     "name": "stdout",
     "output_type": "stream",
     "text": [
      "('декольте.n.1', 'декольте.n.1')\n"
     ]
    },
    {
     "name": "stderr",
     "output_type": "stream",
     "text": [
      "61it [00:10,  4.05it/s]"
     ]
    },
    {
     "name": "stdout",
     "output_type": "stream",
     "text": [
      "('размагничивание.n.1', 'размагничивание.n.1')\n"
     ]
    },
    {
     "name": "stderr",
     "output_type": "stream",
     "text": [
      "62it [00:10,  4.05it/s]"
     ]
    },
    {
     "name": "stdout",
     "output_type": "stream",
     "text": [
      "('сейф.n.1', 'сейф.n.1')\n"
     ]
    },
    {
     "name": "stderr",
     "output_type": "stream",
     "text": [
      "63it [00:10,  4.07it/s]"
     ]
    },
    {
     "name": "stdout",
     "output_type": "stream",
     "text": [
      "('дезинформация.n.1', 'дезинформация.n.1')\n"
     ]
    },
    {
     "name": "stderr",
     "output_type": "stream",
     "text": [
      "64it [00:11,  4.05it/s]"
     ]
    },
    {
     "name": "stdout",
     "output_type": "stream",
     "text": [
      "('диван.n.1', 'диван.n.1')\n"
     ]
    },
    {
     "name": "stderr",
     "output_type": "stream",
     "text": [
      "65it [00:11,  4.06it/s]"
     ]
    },
    {
     "name": "stdout",
     "output_type": "stream",
     "text": [
      "('врач.n.1', 'врач.n.1')\n"
     ]
    },
    {
     "name": "stderr",
     "output_type": "stream",
     "text": [
      "66it [00:11,  4.06it/s]"
     ]
    },
    {
     "name": "stdout",
     "output_type": "stream",
     "text": [
      "('бекас.n.1', 'бекас.n.1')\n"
     ]
    },
    {
     "name": "stderr",
     "output_type": "stream",
     "text": [
      "67it [00:11,  4.02it/s]"
     ]
    },
    {
     "name": "stdout",
     "output_type": "stream",
     "text": [
      "('лох_узколистный.n.1', 'лох_узколистный.n.1')\n"
     ]
    },
    {
     "name": "stderr",
     "output_type": "stream",
     "text": [
      "68it [00:12,  3.98it/s]"
     ]
    },
    {
     "name": "stdout",
     "output_type": "stream",
     "text": [
      "('гальванический_элемент.n.3', 'гальванический_элемент.n.3')\n"
     ]
    },
    {
     "name": "stderr",
     "output_type": "stream",
     "text": [
      "69it [00:12,  3.91it/s]"
     ]
    },
    {
     "name": "stdout",
     "output_type": "stream",
     "text": [
      "('лестница.n.1', 'лестница.n.1')\n"
     ]
    },
    {
     "name": "stderr",
     "output_type": "stream",
     "text": [
      "70it [00:12,  3.83it/s]"
     ]
    },
    {
     "name": "stdout",
     "output_type": "stream",
     "text": [
      "('щука.n.5', 'щука.n.5')\n"
     ]
    },
    {
     "name": "stderr",
     "output_type": "stream",
     "text": [
      "71it [00:12,  3.84it/s]"
     ]
    },
    {
     "name": "stdout",
     "output_type": "stream",
     "text": [
      "('сорока.n.1', 'сорока.n.1')\n"
     ]
    },
    {
     "name": "stderr",
     "output_type": "stream",
     "text": [
      "72it [00:13,  3.81it/s]"
     ]
    },
    {
     "name": "stdout",
     "output_type": "stream",
     "text": [
      "('допрос.n.1', 'допрос.n.1')\n"
     ]
    },
    {
     "name": "stderr",
     "output_type": "stream",
     "text": [
      "73it [00:13,  3.83it/s]"
     ]
    },
    {
     "name": "stdout",
     "output_type": "stream",
     "text": [
      "('копировальный_аппарат.n.1', 'копировальный_аппарат.n.1')\n"
     ]
    },
    {
     "name": "stderr",
     "output_type": "stream",
     "text": [
      "74it [00:13,  3.86it/s]"
     ]
    },
    {
     "name": "stdout",
     "output_type": "stream",
     "text": [
      "('фехтованиеn.17', 'фехтованиеn.17')\n"
     ]
    },
    {
     "name": "stderr",
     "output_type": "stream",
     "text": [
      "75it [00:13,  3.86it/s]"
     ]
    },
    {
     "name": "stdout",
     "output_type": "stream",
     "text": [
      "('катание_на_коньках.n.1', 'катание_на_коньках.n.1')\n"
     ]
    },
    {
     "name": "stderr",
     "output_type": "stream",
     "text": [
      "76it [00:14,  3.89it/s]"
     ]
    },
    {
     "name": "stdout",
     "output_type": "stream",
     "text": [
      "('сценарист.n.1', 'сценарист.n.1')\n"
     ]
    },
    {
     "name": "stderr",
     "output_type": "stream",
     "text": [
      "77it [00:14,  3.96it/s]"
     ]
    },
    {
     "name": "stdout",
     "output_type": "stream",
     "text": [
      "('сад.n.1', 'сад.n.1')\n"
     ]
    },
    {
     "name": "stderr",
     "output_type": "stream",
     "text": [
      "78it [00:14,  4.01it/s]"
     ]
    },
    {
     "name": "stdout",
     "output_type": "stream",
     "text": [
      "('лист.n.2', 'лист.n.2')\n"
     ]
    },
    {
     "name": "stderr",
     "output_type": "stream",
     "text": [
      "79it [00:14,  3.97it/s]"
     ]
    },
    {
     "name": "stdout",
     "output_type": "stream",
     "text": [
      "('склад.n.1', 'склад.n.1')\n"
     ]
    },
    {
     "name": "stderr",
     "output_type": "stream",
     "text": [
      "80it [00:15,  3.99it/s]"
     ]
    },
    {
     "name": "stdout",
     "output_type": "stream",
     "text": [
      "('зубчатая_передача.n.1', 'зубчатая_передача.n.1')\n"
     ]
    },
    {
     "name": "stderr",
     "output_type": "stream",
     "text": [
      "81it [00:15,  3.77it/s]"
     ]
    },
    {
     "name": "stdout",
     "output_type": "stream",
     "text": [
      "('анатомически_современный_человек.n.1', 'анатомически_современный_человек.n.1')\n"
     ]
    },
    {
     "name": "stderr",
     "output_type": "stream",
     "text": [
      "82it [00:15,  3.74it/s]"
     ]
    },
    {
     "name": "stdout",
     "output_type": "stream",
     "text": [
      "('крик.n.1', 'крик.n.1')\n"
     ]
    },
    {
     "name": "stderr",
     "output_type": "stream",
     "text": [
      "83it [00:15,  3.70it/s]"
     ]
    },
    {
     "name": "stdout",
     "output_type": "stream",
     "text": [
      "('песочные_часы.n.1', 'песочные_часы.n.1')\n"
     ]
    },
    {
     "name": "stderr",
     "output_type": "stream",
     "text": [
      "84it [00:16,  3.66it/s]"
     ]
    },
    {
     "name": "stdout",
     "output_type": "stream",
     "text": [
      "('влажность.n.1', 'влажность.n.1')\n"
     ]
    },
    {
     "name": "stderr",
     "output_type": "stream",
     "text": [
      "85it [00:16,  3.64it/s]"
     ]
    },
    {
     "name": "stdout",
     "output_type": "stream",
     "text": [
      "('каток.n.1', 'каток.n.1')\n"
     ]
    },
    {
     "name": "stderr",
     "output_type": "stream",
     "text": [
      "86it [00:16,  3.63it/s]"
     ]
    },
    {
     "name": "stdout",
     "output_type": "stream",
     "text": [
      "('репеллент.n.2', 'репеллент.n.2')\n"
     ]
    },
    {
     "name": "stderr",
     "output_type": "stream",
     "text": [
      "87it [00:17,  3.06it/s]"
     ]
    },
    {
     "name": "stdout",
     "output_type": "stream",
     "text": [
      "('общественный_транспорт.n.1', 'общественный_транспорт.n.1')\n"
     ]
    },
    {
     "name": "stderr",
     "output_type": "stream",
     "text": [
      "88it [00:17,  3.25it/s]"
     ]
    },
    {
     "name": "stdout",
     "output_type": "stream",
     "text": [
      "('пернициозная_анемия.n.1', 'пернициозная_анемия.n.1')\n"
     ]
    },
    {
     "name": "stderr",
     "output_type": "stream",
     "text": [
      "89it [00:17,  3.41it/s]"
     ]
    },
    {
     "name": "stdout",
     "output_type": "stream",
     "text": [
      "('мезальянс.n.1', 'мезальянс.n.1')\n"
     ]
    },
    {
     "name": "stderr",
     "output_type": "stream",
     "text": [
      "90it [00:18,  3.49it/s]"
     ]
    },
    {
     "name": "stdout",
     "output_type": "stream",
     "text": [
      "('нервное_расстройство.n.1', 'нервное_расстройство.n.1')\n"
     ]
    },
    {
     "name": "stderr",
     "output_type": "stream",
     "text": [
      "91it [00:18,  3.59it/s]"
     ]
    },
    {
     "name": "stdout",
     "output_type": "stream",
     "text": [
      "('колготки.n.1', 'колготки.n.1')\n"
     ]
    },
    {
     "name": "stderr",
     "output_type": "stream",
     "text": [
      "92it [00:18,  3.64it/s]"
     ]
    },
    {
     "name": "stdout",
     "output_type": "stream",
     "text": [
      "('копилка.n.2', 'копилка.n.2')\n"
     ]
    },
    {
     "name": "stderr",
     "output_type": "stream",
     "text": [
      "93it [00:18,  3.69it/s]"
     ]
    },
    {
     "name": "stdout",
     "output_type": "stream",
     "text": [
      "('хризолит.n.1', 'хризолит.n.1')\n"
     ]
    },
    {
     "name": "stderr",
     "output_type": "stream",
     "text": [
      "94it [00:19,  3.71it/s]"
     ]
    },
    {
     "name": "stdout",
     "output_type": "stream",
     "text": [
      "('позёр.n.2', 'позёр.n.2')\n"
     ]
    },
    {
     "name": "stderr",
     "output_type": "stream",
     "text": [
      "95it [00:19,  3.66it/s]"
     ]
    },
    {
     "name": "stdout",
     "output_type": "stream",
     "text": [
      "('ремень_безопасности.n.1', 'ремень_безопасности.n.1')\n"
     ]
    },
    {
     "name": "stderr",
     "output_type": "stream",
     "text": [
      "96it [00:19,  3.63it/s]"
     ]
    },
    {
     "name": "stdout",
     "output_type": "stream",
     "text": [
      "('тень.n.1', 'тень.n.1')\n"
     ]
    },
    {
     "name": "stderr",
     "output_type": "stream",
     "text": [
      "97it [00:19,  3.61it/s]"
     ]
    },
    {
     "name": "stdout",
     "output_type": "stream",
     "text": [
      "('деформация.n.2', 'деформация.n.2')\n"
     ]
    },
    {
     "name": "stderr",
     "output_type": "stream",
     "text": [
      "98it [00:20,  3.60it/s]"
     ]
    },
    {
     "name": "stdout",
     "output_type": "stream",
     "text": [
      "('магнитофон.n.1', 'магнитофон.n.1')\n"
     ]
    },
    {
     "name": "stderr",
     "output_type": "stream",
     "text": [
      "99it [00:20,  4.82it/s]"
     ]
    },
    {
     "name": "stdout",
     "output_type": "stream",
     "text": [
      "('ксеродерма.n.1', 'ксеродерма.n.1')\n"
     ]
    },
    {
     "name": "stderr",
     "output_type": "stream",
     "text": [
      "\n"
     ]
    }
   ],
   "source": [
    "for bad_edge in tqdm(generator()):\n",
    "    G.remove_edge(*bad_edge)\n",
    "    print(bad_edge)"
   ]
  },
  {
   "cell_type": "code",
   "execution_count": 92,
   "metadata": {},
   "outputs": [
    {
     "data": {
      "text/plain": [
       "[('австрали́ец.n.1', 'Аборигены_Австралии.n.1'),\n",
       " ('этническая_группа.n.1', 'Аборигены_Австралии.n.1')]"
      ]
     },
     "execution_count": 92,
     "metadata": {},
     "output_type": "execute_result"
    }
   ],
   "source": [
    "create_all_edges(str(node).split('\\t'), list(G[node]))"
   ]
  },
  {
   "cell_type": "code",
   "execution_count": 48,
   "metadata": {},
   "outputs": [
    {
     "data": {
      "text/plain": [
       "5"
      ]
     },
     "execution_count": 48,
     "metadata": {},
     "output_type": "execute_result"
    }
   ],
   "source": [
    "df2['Hypernym'].apply(lambda x: len(str(x).split('\\t'))).max()"
   ]
  },
  {
   "cell_type": "code",
   "execution_count": 93,
   "metadata": {},
   "outputs": [],
   "source": [
    "G.remove_node(node)"
   ]
  },
  {
   "cell_type": "code",
   "execution_count": 115,
   "metadata": {},
   "outputs": [],
   "source": [
    "nx.write_edgelist(G, 'test_graph.edgelist', delimiter='\\t', data=True )"
   ]
  },
  {
   "cell_type": "code",
   "execution_count": 118,
   "metadata": {},
   "outputs": [
    {
     "data": {
      "text/plain": [
       "AtlasView({})"
      ]
     },
     "execution_count": 118,
     "metadata": {},
     "output_type": "execute_result"
    }
   ],
   "source": [
    "G['диаспора.n.2']"
   ]
  },
  {
   "cell_type": "code",
   "execution_count": 119,
   "metadata": {},
   "outputs": [],
   "source": [
    "G = nx.read_edgelist(\"test_graph.edgelist\", delimiter=\"\\t\", create_using=nx.DiGraph)"
   ]
  },
  {
   "cell_type": "code",
   "execution_count": 121,
   "metadata": {},
   "outputs": [
    {
     "data": {
      "text/plain": [
       "26087"
      ]
     },
     "execution_count": 121,
     "metadata": {},
     "output_type": "execute_result"
    }
   ],
   "source": [
    "G.number_of_edges()"
   ]
  },
  {
   "cell_type": "code",
   "execution_count": null,
   "metadata": {},
   "outputs": [],
   "source": []
  }
 ],
 "metadata": {
  "kernelspec": {
   "display_name": "dataload_env",
   "language": "python",
   "name": "python3"
  },
  "language_info": {
   "codemirror_mode": {
    "name": "ipython",
    "version": 3
   },
   "file_extension": ".py",
   "mimetype": "text/x-python",
   "name": "python",
   "nbconvert_exporter": "python",
   "pygments_lexer": "ipython3",
   "version": "3.10.12"
  },
  "orig_nbformat": 4
 },
 "nbformat": 4,
 "nbformat_minor": 2
}
