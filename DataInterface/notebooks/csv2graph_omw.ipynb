{
 "cells": [
  {
   "cell_type": "code",
   "execution_count": 26,
   "metadata": {},
   "outputs": [],
   "source": [
    "import pandas as pd\n",
    "import networkx as nx\n",
    "from tqdm import tqdm\n",
    "import os\n",
    "import glob"
   ]
  },
  {
   "cell_type": "code",
   "execution_count": 12,
   "metadata": {},
   "outputs": [],
   "source": [
    "def create_all_edges(parents, children):\n",
    "    res = []\n",
    "    \n",
    "    for parent in parents:\n",
    "        for child in children:\n",
    "            res.append((parent, child))\n",
    "\n",
    "    return res\n",
    "\n",
    "def generator(G):\n",
    "    while not nx.is_directed_acyclic_graph(G):\n",
    "        cycle = nx.find_cycle(G)\n",
    "        yield cycle[0]\n",
    "\n",
    "def make_clean_graph(in_path, out_path):\n",
    "    df = pd.read_csv(in_path,index_col=0)\n",
    "\n",
    "   # df2 = df1[~df1['Definition'].isna()] # do not use it anymore\n",
    "    G = nx.from_pandas_edgelist(df, 'Hypernym',\n",
    "                                 'Synset', create_using=nx.DiGraph)\n",
    "\n",
    "    nodes_to_add = []\n",
    "    edges_to_add = []\n",
    "    nodes_to_delete = []\n",
    "\n",
    "    for node in G:\n",
    "        if len(str(node).split('\\t')) > 1:\n",
    "            nodes_to_add.extend((str(node).split('\\t')))\n",
    "            edges_to_add.extend(create_all_edges(str(node).split('\\t'), list(G[node])))\n",
    "            nodes_to_delete.append(node)\n",
    "\n",
    "    G.add_nodes_from(nodes_to_add)\n",
    "    G.add_edges_from(edges_to_add)\n",
    "    G.remove_nodes_from(nodes_to_delete)\n",
    "\n",
    "    for bad_edge in tqdm(generator(G)):\n",
    "        G.remove_edge(*bad_edge)\n",
    "\n",
    "    nx.write_edgelist(G, out_path, delimiter='\\t')"
   ]
  },
  {
   "cell_type": "code",
   "execution_count": 28,
   "metadata": {},
   "outputs": [
    {
     "name": "stderr",
     "output_type": "stream",
     "text": [
      "7it [00:01,  5.73it/s]00:00<?, ?it/s]\n",
      " 20%|██        | 1/5 [00:01<00:06,  1.62s/it]"
     ]
    }
   ],
   "source": [
    "all_data = glob.glob(os.path.join(\"../data/omw/\", \"*.csv\"))\n",
    "for path in tqdm(all_data):\n",
    "    lang = path.split(\"/\")[-1].replace(\".csv\", \"\")\n",
    "    save_path = '../data/omw/{}_isa.edgelist'.format(lang)\n",
    "\n",
    "    make_clean_graph(path, save_path)"
   ]
  },
  {
   "cell_type": "code",
   "execution_count": 16,
   "metadata": {},
   "outputs": [],
   "source": [
    "G = nx.read_edgelist(out_path, delimiter=\"\\t\", create_using=nx.DiGraph)"
   ]
  },
  {
   "cell_type": "code",
   "execution_count": 22,
   "metadata": {},
   "outputs": [
    {
     "data": {
      "text/plain": [
       "31768"
      ]
     },
     "execution_count": 22,
     "metadata": {},
     "output_type": "execute_result"
    }
   ],
   "source": [
    "G.number_of_nodes()"
   ]
  },
  {
   "cell_type": "code",
   "execution_count": null,
   "metadata": {},
   "outputs": [],
   "source": []
  }
 ],
 "metadata": {
  "kernelspec": {
   "display_name": "dataload_env",
   "language": "python",
   "name": "python3"
  },
  "language_info": {
   "codemirror_mode": {
    "name": "ipython",
    "version": 3
   },
   "file_extension": ".py",
   "mimetype": "text/x-python",
   "name": "python",
   "nbconvert_exporter": "python",
   "pygments_lexer": "ipython3",
   "version": "3.10.12"
  },
  "orig_nbformat": 4
 },
 "nbformat": 4,
 "nbformat_minor": 2
}
