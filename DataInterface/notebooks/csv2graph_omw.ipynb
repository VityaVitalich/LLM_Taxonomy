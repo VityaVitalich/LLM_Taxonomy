{
 "cells": [
  {
   "cell_type": "code",
   "execution_count": 26,
   "metadata": {},
   "outputs": [],
   "source": [
    "import pandas as pd\n",
    "import networkx as nx\n",
    "from tqdm import tqdm\n",
    "import os\n",
    "import glob"
   ]
  },
  {
   "cell_type": "code",
   "execution_count": 12,
   "metadata": {},
   "outputs": [],
   "source": [
    "def create_all_edges(parents, children):\n",
    "    res = []\n",
    "    \n",
    "    for parent in parents:\n",
    "        for child in children:\n",
    "            res.append((parent, child))\n",
    "\n",
    "    return res\n",
    "\n",
    "def generator(G):\n",
    "    while not nx.is_directed_acyclic_graph(G):\n",
    "        cycle = nx.find_cycle(G)\n",
    "        yield cycle[0]\n",
    "\n",
    "def make_clean_graph(in_path, out_path):\n",
    "    df = pd.read_csv(in_path,index_col=0)\n",
    "\n",
    "   # df2 = df1[~df1['Definition'].isna()] # do not use it anymore\n",
    "    G = nx.from_pandas_edgelist(df, 'Hypernym',\n",
    "                                 'Synset', create_using=nx.DiGraph)\n",
    "\n",
    "    nodes_to_add = []\n",
    "    edges_to_add = []\n",
    "    nodes_to_delete = []\n",
    "\n",
    "    for node in G:\n",
    "        if len(str(node).split('\\t')) > 1:\n",
    "            nodes_to_add.extend((str(node).split('\\t')))\n",
    "            edges_to_add.extend(create_all_edges(str(node).split('\\t'), list(G[node])))\n",
    "            nodes_to_delete.append(node)\n",
    "\n",
    "    G.add_nodes_from(nodes_to_add)\n",
    "    G.add_edges_from(edges_to_add)\n",
    "    G.remove_nodes_from(nodes_to_delete)\n",
    "\n",
    "    for bad_edge in tqdm(generator(G)):\n",
    "        G.remove_edge(*bad_edge)\n",
    "\n",
    "    nx.write_edgelist(G, out_path, delimiter='\\t')"
   ]
  },
  {
   "cell_type": "code",
   "execution_count": 28,
   "metadata": {},
   "outputs": [
    {
     "name": "stderr",
     "output_type": "stream",
     "text": [
      "7it [00:01,  5.73it/s]00:00<?, ?it/s]\n",
      "1298it [01:28, 14.62it/s]01<00:06,  1.62s/it]\n",
      " 20%|██        | 1/5 [01:30<06:02, 90.60s/it]\n"
     ]
    },
    {
     "ename": "KeyboardInterrupt",
     "evalue": "",
     "output_type": "error",
     "traceback": [
      "\u001b[0;31m---------------------------------------------------------------------------\u001b[0m",
      "\u001b[0;31mKeyboardInterrupt\u001b[0m                         Traceback (most recent call last)",
      "Cell \u001b[0;32mIn[28], line 6\u001b[0m\n\u001b[1;32m      3\u001b[0m lang \u001b[39m=\u001b[39m path\u001b[39m.\u001b[39msplit(\u001b[39m\"\u001b[39m\u001b[39m/\u001b[39m\u001b[39m\"\u001b[39m)[\u001b[39m-\u001b[39m\u001b[39m1\u001b[39m]\u001b[39m.\u001b[39mreplace(\u001b[39m\"\u001b[39m\u001b[39m.csv\u001b[39m\u001b[39m\"\u001b[39m, \u001b[39m\"\u001b[39m\u001b[39m\"\u001b[39m)\n\u001b[1;32m      4\u001b[0m save_path \u001b[39m=\u001b[39m \u001b[39m'\u001b[39m\u001b[39m../data/omw/\u001b[39m\u001b[39m{}\u001b[39;00m\u001b[39m_isa.edgelist\u001b[39m\u001b[39m'\u001b[39m\u001b[39m.\u001b[39mformat(lang)\n\u001b[0;32m----> 6\u001b[0m make_clean_graph(path, save_path)\n",
      "Cell \u001b[0;32mIn[12], line 36\u001b[0m, in \u001b[0;36mmake_clean_graph\u001b[0;34m(in_path, out_path)\u001b[0m\n\u001b[1;32m     33\u001b[0m G\u001b[39m.\u001b[39madd_edges_from(edges_to_add)\n\u001b[1;32m     34\u001b[0m G\u001b[39m.\u001b[39mremove_nodes_from(nodes_to_delete)\n\u001b[0;32m---> 36\u001b[0m \u001b[39mfor\u001b[39;00m bad_edge \u001b[39min\u001b[39;00m tqdm(generator(G)):\n\u001b[1;32m     37\u001b[0m     G\u001b[39m.\u001b[39mremove_edge(\u001b[39m*\u001b[39mbad_edge)\n\u001b[1;32m     39\u001b[0m nx\u001b[39m.\u001b[39mwrite_edgelist(G, out_path, delimiter\u001b[39m=\u001b[39m\u001b[39m'\u001b[39m\u001b[39m\\t\u001b[39;00m\u001b[39m'\u001b[39m)\n",
      "File \u001b[0;32m~/skoltech/taxonomy/dataload_env/lib/python3.10/site-packages/tqdm/std.py:1178\u001b[0m, in \u001b[0;36mtqdm.__iter__\u001b[0;34m(self)\u001b[0m\n\u001b[1;32m   1175\u001b[0m time \u001b[39m=\u001b[39m \u001b[39mself\u001b[39m\u001b[39m.\u001b[39m_time\n\u001b[1;32m   1177\u001b[0m \u001b[39mtry\u001b[39;00m:\n\u001b[0;32m-> 1178\u001b[0m     \u001b[39mfor\u001b[39;00m obj \u001b[39min\u001b[39;00m iterable:\n\u001b[1;32m   1179\u001b[0m         \u001b[39myield\u001b[39;00m obj\n\u001b[1;32m   1180\u001b[0m         \u001b[39m# Update and possibly print the progressbar.\u001b[39;00m\n\u001b[1;32m   1181\u001b[0m         \u001b[39m# Note: does not call self.update(1) for speed optimisation.\u001b[39;00m\n",
      "Cell \u001b[0;32mIn[12], line 12\u001b[0m, in \u001b[0;36mgenerator\u001b[0;34m(G)\u001b[0m\n\u001b[1;32m     10\u001b[0m \u001b[39mdef\u001b[39;00m \u001b[39mgenerator\u001b[39m(G):\n\u001b[1;32m     11\u001b[0m     \u001b[39mwhile\u001b[39;00m \u001b[39mnot\u001b[39;00m nx\u001b[39m.\u001b[39mis_directed_acyclic_graph(G):\n\u001b[0;32m---> 12\u001b[0m         cycle \u001b[39m=\u001b[39m nx\u001b[39m.\u001b[39;49mfind_cycle(G)\n\u001b[1;32m     13\u001b[0m         \u001b[39myield\u001b[39;00m cycle[\u001b[39m0\u001b[39m]\n",
      "File \u001b[0;32m~/skoltech/taxonomy/dataload_env/lib/python3.10/site-packages/networkx/algorithms/cycles.py:968\u001b[0m, in \u001b[0;36mfind_cycle\u001b[0;34m(G, source, orientation)\u001b[0m\n\u001b[1;32m    965\u001b[0m active_nodes \u001b[39m=\u001b[39m {start_node}\n\u001b[1;32m    966\u001b[0m previous_head \u001b[39m=\u001b[39m \u001b[39mNone\u001b[39;00m\n\u001b[0;32m--> 968\u001b[0m \u001b[39mfor\u001b[39;00m edge \u001b[39min\u001b[39;00m nx\u001b[39m.\u001b[39medge_dfs(G, start_node, orientation):\n\u001b[1;32m    969\u001b[0m     \u001b[39m# Determine if this edge is a continuation of the active path.\u001b[39;00m\n\u001b[1;32m    970\u001b[0m     tail, head \u001b[39m=\u001b[39m tailhead(edge)\n\u001b[1;32m    971\u001b[0m     \u001b[39mif\u001b[39;00m head \u001b[39min\u001b[39;00m explored:\n\u001b[1;32m    972\u001b[0m         \u001b[39m# Then we've already explored it. No loop is possible.\u001b[39;00m\n",
      "File \u001b[0;32m~/skoltech/taxonomy/dataload_env/lib/python3.10/site-packages/networkx/algorithms/traversal/edgedfs.py:157\u001b[0m, in \u001b[0;36medge_dfs\u001b[0;34m(G, source, orientation)\u001b[0m\n\u001b[1;32m    155\u001b[0m current_node \u001b[39m=\u001b[39m stack[\u001b[39m-\u001b[39m\u001b[39m1\u001b[39m]\n\u001b[1;32m    156\u001b[0m \u001b[39mif\u001b[39;00m current_node \u001b[39mnot\u001b[39;00m \u001b[39min\u001b[39;00m visited_nodes:\n\u001b[0;32m--> 157\u001b[0m     edges[current_node] \u001b[39m=\u001b[39m edges_from(current_node)\n\u001b[1;32m    158\u001b[0m     visited_nodes\u001b[39m.\u001b[39madd(current_node)\n\u001b[1;32m    160\u001b[0m \u001b[39mtry\u001b[39;00m:\n",
      "File \u001b[0;32m~/skoltech/taxonomy/dataload_env/lib/python3.10/site-packages/networkx/algorithms/traversal/edgedfs.py:106\u001b[0m, in \u001b[0;36medge_dfs.<locals>.edges_from\u001b[0;34m(node)\u001b[0m\n\u001b[1;32m    105\u001b[0m \u001b[39mdef\u001b[39;00m \u001b[39medges_from\u001b[39m(node):\n\u001b[0;32m--> 106\u001b[0m     \u001b[39mreturn\u001b[39;00m \u001b[39miter\u001b[39m(G\u001b[39m.\u001b[39;49medges(node, \u001b[39m*\u001b[39;49m\u001b[39m*\u001b[39;49mkwds))\n",
      "File \u001b[0;32m~/skoltech/taxonomy/dataload_env/lib/python3.10/site-packages/networkx/classes/reportviews.py:1091\u001b[0m, in \u001b[0;36mOutEdgeView.__call__\u001b[0;34m(self, nbunch, data, default)\u001b[0m\n\u001b[1;32m   1089\u001b[0m \u001b[39mif\u001b[39;00m nbunch \u001b[39mis\u001b[39;00m \u001b[39mNone\u001b[39;00m \u001b[39mand\u001b[39;00m data \u001b[39mis\u001b[39;00m \u001b[39mFalse\u001b[39;00m:\n\u001b[1;32m   1090\u001b[0m     \u001b[39mreturn\u001b[39;00m \u001b[39mself\u001b[39m\n\u001b[0;32m-> 1091\u001b[0m \u001b[39mreturn\u001b[39;00m \u001b[39mself\u001b[39;49m\u001b[39m.\u001b[39;49mdataview(\u001b[39mself\u001b[39;49m, nbunch, data, default)\n",
      "File \u001b[0;32m~/skoltech/taxonomy/dataload_env/lib/python3.10/site-packages/networkx/classes/reportviews.py:767\u001b[0m, in \u001b[0;36mOutEdgeDataView.__init__\u001b[0;34m(self, viewer, nbunch, data, default)\u001b[0m\n\u001b[1;32m    764\u001b[0m     \u001b[39mself\u001b[39m\u001b[39m.\u001b[39m_nodes_nbrs \u001b[39m=\u001b[39m adjdict\u001b[39m.\u001b[39mitems\n\u001b[1;32m    765\u001b[0m \u001b[39melse\u001b[39;00m:\n\u001b[1;32m    766\u001b[0m     \u001b[39m# dict retains order of nodes but acts like a set\u001b[39;00m\n\u001b[0;32m--> 767\u001b[0m     nbunch \u001b[39m=\u001b[39m \u001b[39mdict\u001b[39m\u001b[39m.\u001b[39mfromkeys(viewer\u001b[39m.\u001b[39;49m_graph\u001b[39m.\u001b[39;49mnbunch_iter(nbunch))\n\u001b[1;32m    768\u001b[0m     \u001b[39mself\u001b[39m\u001b[39m.\u001b[39m_nodes_nbrs \u001b[39m=\u001b[39m \u001b[39mlambda\u001b[39;00m: [(n, adjdict[n]) \u001b[39mfor\u001b[39;00m n \u001b[39min\u001b[39;00m nbunch]\n\u001b[1;32m    769\u001b[0m \u001b[39mself\u001b[39m\u001b[39m.\u001b[39m_nbunch \u001b[39m=\u001b[39m nbunch\n",
      "File \u001b[0;32m~/skoltech/taxonomy/dataload_env/lib/python3.10/site-packages/networkx/classes/graph.py:1962\u001b[0m, in \u001b[0;36mGraph.nbunch_iter\u001b[0;34m(self, nbunch)\u001b[0m\n\u001b[1;32m   1959\u001b[0m         \u001b[39mreturn\u001b[39;00m \u001b[39m1\u001b[39m\n\u001b[1;32m   1960\u001b[0m     \u001b[39mreturn\u001b[39;00m \u001b[39m0\u001b[39m\n\u001b[0;32m-> 1962\u001b[0m \u001b[39mdef\u001b[39;00m \u001b[39mnbunch_iter\u001b[39m(\u001b[39mself\u001b[39m, nbunch\u001b[39m=\u001b[39m\u001b[39mNone\u001b[39;00m):\n\u001b[1;32m   1963\u001b[0m \u001b[39m    \u001b[39m\u001b[39m\"\"\"Returns an iterator over nodes contained in nbunch that are\u001b[39;00m\n\u001b[1;32m   1964\u001b[0m \u001b[39m    also in the graph.\u001b[39;00m\n\u001b[1;32m   1965\u001b[0m \n\u001b[0;32m   (...)\u001b[0m\n\u001b[1;32m   2000\u001b[0m \u001b[39m    nbunch is not hashable, a :exc:`NetworkXError` is raised.\u001b[39;00m\n\u001b[1;32m   2001\u001b[0m \u001b[39m    \"\"\"\u001b[39;00m\n\u001b[1;32m   2002\u001b[0m     \u001b[39mif\u001b[39;00m nbunch \u001b[39mis\u001b[39;00m \u001b[39mNone\u001b[39;00m:  \u001b[39m# include all nodes via iterator\u001b[39;00m\n",
      "\u001b[0;31mKeyboardInterrupt\u001b[0m: "
     ]
    }
   ],
   "source": [
    "all_data = glob.glob(os.path.join(\"../data/omw/\", \"*.csv\"))\n",
    "for path in tqdm(all_data):\n",
    "    lang = path.split(\"/\")[-1].replace(\".csv\", \"\")\n",
    "    save_path = '../data/omw/{}_isa.edgelist'.format(lang)\n",
    "\n",
    "    make_clean_graph(path, save_path)"
   ]
  },
  {
   "cell_type": "code",
   "execution_count": 16,
   "metadata": {},
   "outputs": [],
   "source": [
    "G = nx.read_edgelist(out_path, delimiter=\"\\t\", create_using=nx.DiGraph)"
   ]
  },
  {
   "cell_type": "code",
   "execution_count": 22,
   "metadata": {},
   "outputs": [
    {
     "data": {
      "text/plain": [
       "31768"
      ]
     },
     "execution_count": 22,
     "metadata": {},
     "output_type": "execute_result"
    }
   ],
   "source": [
    "G.number_of_nodes()"
   ]
  },
  {
   "cell_type": "code",
   "execution_count": null,
   "metadata": {},
   "outputs": [],
   "source": []
  }
 ],
 "metadata": {
  "kernelspec": {
   "display_name": "dataload_env",
   "language": "python",
   "name": "python3"
  },
  "language_info": {
   "codemirror_mode": {
    "name": "ipython",
    "version": 3
   },
   "file_extension": ".py",
   "mimetype": "text/x-python",
   "name": "python",
   "nbconvert_exporter": "python",
   "pygments_lexer": "ipython3",
   "version": "3.10.12"
  },
  "orig_nbformat": 4
 },
 "nbformat": 4,
 "nbformat_minor": 2
}
