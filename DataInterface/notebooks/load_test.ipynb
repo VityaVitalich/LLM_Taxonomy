{
 "cells": [
  {
   "cell_type": "code",
   "execution_count": 1,
   "metadata": {},
   "outputs": [],
   "source": [
    "import numpy as np\n",
    "import networkx as nx\n",
    "import pandas as pd\n",
    "from tqdm import tqdm\n",
    "import csv\n",
    "import os"
   ]
  },
  {
   "cell_type": "code",
   "execution_count": 2,
   "metadata": {},
   "outputs": [],
   "source": [
    "path = \"assertions.csv\"\n",
    "out_path = \"en.csv\""
   ]
  },
  {
   "cell_type": "code",
   "execution_count": 3,
   "metadata": {},
   "outputs": [],
   "source": [
    "def get_desired_subset(path, desired_lang=\"en\"):\n",
    "    desired = []\n",
    "    errors = []\n",
    "    k = 0\n",
    "    i = 0\n",
    "    with open(path, \"r\", encoding=\"iso-8859-15\") as f:\n",
    "        for line in tqdm(f):\n",
    "            i += 1\n",
    "            try:\n",
    "                _, relation, edge_from, edge_to, __ = line.split(\"\\t\")\n",
    "            except ValueError:\n",
    "                errors.append(line)\n",
    "                continue\n",
    "            try:\n",
    "                lang = edge_from.split(\"/\")[2]\n",
    "                word = edge_from.split(\"/\")[3]\n",
    "            except IndexError:\n",
    "                errors.append(line)\n",
    "                continue\n",
    "            if lang == desired_lang:\n",
    "                k += 1\n",
    "                desired.append((relation, edge_from, edge_to))\n",
    "            else:\n",
    "                if (not lang.isalpha()) and (lang != \"roa-opt\"):\n",
    "                    print(lang, i)\n",
    "\n",
    "    return desired, errors\n",
    "\n",
    "\n",
    "def write_to_csv(desired, out_path):\n",
    "    with open(out_path, \"w\") as out:\n",
    "        csv_out = csv.writer(out)\n",
    "        for row in desired:\n",
    "            csv_out.writerow(row)"
   ]
  },
  {
   "cell_type": "code",
   "execution_count": 4,
   "metadata": {},
   "outputs": [],
   "source": [
    "if not os.path.exists(out_path):\n",
    "    desired, errors = get_desired_subset(path, \"en\")\n",
    "    write_to_csv(desired, out_path)"
   ]
  },
  {
   "cell_type": "code",
   "execution_count": 5,
   "metadata": {},
   "outputs": [],
   "source": [
    "df = pd.read_csv(out_path, header=None)"
   ]
  },
  {
   "cell_type": "code",
   "execution_count": 6,
   "metadata": {},
   "outputs": [
    {
     "data": {
      "text/html": [
       "<div>\n",
       "<style scoped>\n",
       "    .dataframe tbody tr th:only-of-type {\n",
       "        vertical-align: middle;\n",
       "    }\n",
       "\n",
       "    .dataframe tbody tr th {\n",
       "        vertical-align: top;\n",
       "    }\n",
       "\n",
       "    .dataframe thead th {\n",
       "        text-align: right;\n",
       "    }\n",
       "</style>\n",
       "<table border=\"1\" class=\"dataframe\">\n",
       "  <thead>\n",
       "    <tr style=\"text-align: right;\">\n",
       "      <th></th>\n",
       "      <th>0</th>\n",
       "      <th>1</th>\n",
       "      <th>2</th>\n",
       "    </tr>\n",
       "  </thead>\n",
       "  <tbody>\n",
       "    <tr>\n",
       "      <th>0</th>\n",
       "      <td>/r/Antonym</td>\n",
       "      <td>/c/en/0/n</td>\n",
       "      <td>/c/en/1</td>\n",
       "    </tr>\n",
       "    <tr>\n",
       "      <th>1</th>\n",
       "      <td>/r/Antonym</td>\n",
       "      <td>/c/en/12_hour_clock/n</td>\n",
       "      <td>/c/en/24_hour_clock</td>\n",
       "    </tr>\n",
       "    <tr>\n",
       "      <th>2</th>\n",
       "      <td>/r/Antonym</td>\n",
       "      <td>/c/en/24_hour_clock/n</td>\n",
       "      <td>/c/en/12_hour_clock</td>\n",
       "    </tr>\n",
       "    <tr>\n",
       "      <th>3</th>\n",
       "      <td>/r/Antonym</td>\n",
       "      <td>/c/en/5/n</td>\n",
       "      <td>/c/en/3</td>\n",
       "    </tr>\n",
       "    <tr>\n",
       "      <th>4</th>\n",
       "      <td>/r/Antonym</td>\n",
       "      <td>/c/en/a.c/n</td>\n",
       "      <td>/c/en/d.c</td>\n",
       "    </tr>\n",
       "  </tbody>\n",
       "</table>\n",
       "</div>"
      ],
      "text/plain": [
       "            0                      1                    2\n",
       "0  /r/Antonym              /c/en/0/n              /c/en/1\n",
       "1  /r/Antonym  /c/en/12_hour_clock/n  /c/en/24_hour_clock\n",
       "2  /r/Antonym  /c/en/24_hour_clock/n  /c/en/12_hour_clock\n",
       "3  /r/Antonym              /c/en/5/n              /c/en/3\n",
       "4  /r/Antonym            /c/en/a.c/n            /c/en/d.c"
      ]
     },
     "execution_count": 6,
     "metadata": {},
     "output_type": "execute_result"
    }
   ],
   "source": [
    "df.head()"
   ]
  },
  {
   "cell_type": "code",
   "execution_count": 21,
   "metadata": {},
   "outputs": [
    {
     "data": {
      "text/plain": [
       "0                 /r/Antonym\n",
       "1    /c/en/abate/v/wikt/en_1\n",
       "2              /c/en/augment\n",
       "Name: 25, dtype: object"
      ]
     },
     "execution_count": 21,
     "metadata": {},
     "output_type": "execute_result"
    }
   ],
   "source": [
    "df.loc[25]"
   ]
  },
  {
   "cell_type": "code",
   "execution_count": 7,
   "metadata": {},
   "outputs": [],
   "source": [
    "def preprocess_df(df):\n",
    "    df[0] = df[0].str.replace(\"/r/\", \"\")\n",
    "    df = df[~(df[0] == \"ExternalURL\")]\n",
    "    df = df[~(df[0].str.startswith(\"dbpedia\"))]\n",
    "\n",
    "    df[1] = df[1].apply(lambda s: s.split(\"/\")[3])\n",
    "    df[2] = df[2].apply(lambda s: s.split(\"/\")[3])\n",
    "    df.columns = [\"Relation\", \"From\", \"To\"]\n",
    "\n",
    "    return df"
   ]
  },
  {
   "cell_type": "code",
   "execution_count": 8,
   "metadata": {},
   "outputs": [],
   "source": [
    "df = preprocess_df(df)"
   ]
  },
  {
   "cell_type": "code",
   "execution_count": 9,
   "metadata": {},
   "outputs": [
    {
     "data": {
      "text/html": [
       "<div>\n",
       "<style scoped>\n",
       "    .dataframe tbody tr th:only-of-type {\n",
       "        vertical-align: middle;\n",
       "    }\n",
       "\n",
       "    .dataframe tbody tr th {\n",
       "        vertical-align: top;\n",
       "    }\n",
       "\n",
       "    .dataframe thead th {\n",
       "        text-align: right;\n",
       "    }\n",
       "</style>\n",
       "<table border=\"1\" class=\"dataframe\">\n",
       "  <thead>\n",
       "    <tr style=\"text-align: right;\">\n",
       "      <th></th>\n",
       "      <th>Relation</th>\n",
       "      <th>From</th>\n",
       "      <th>To</th>\n",
       "    </tr>\n",
       "  </thead>\n",
       "  <tbody>\n",
       "    <tr>\n",
       "      <th>0</th>\n",
       "      <td>Antonym</td>\n",
       "      <td>0</td>\n",
       "      <td>1</td>\n",
       "    </tr>\n",
       "    <tr>\n",
       "      <th>1</th>\n",
       "      <td>Antonym</td>\n",
       "      <td>12_hour_clock</td>\n",
       "      <td>24_hour_clock</td>\n",
       "    </tr>\n",
       "    <tr>\n",
       "      <th>2</th>\n",
       "      <td>Antonym</td>\n",
       "      <td>24_hour_clock</td>\n",
       "      <td>12_hour_clock</td>\n",
       "    </tr>\n",
       "    <tr>\n",
       "      <th>3</th>\n",
       "      <td>Antonym</td>\n",
       "      <td>5</td>\n",
       "      <td>3</td>\n",
       "    </tr>\n",
       "    <tr>\n",
       "      <th>4</th>\n",
       "      <td>Antonym</td>\n",
       "      <td>a.c</td>\n",
       "      <td>d.c</td>\n",
       "    </tr>\n",
       "    <tr>\n",
       "      <th>...</th>\n",
       "      <td>...</td>\n",
       "      <td>...</td>\n",
       "      <td>...</td>\n",
       "    </tr>\n",
       "    <tr>\n",
       "      <th>6344010</th>\n",
       "      <td>UsedFor</td>\n",
       "      <td>zoom_lens</td>\n",
       "      <td>procure_better_shot</td>\n",
       "    </tr>\n",
       "    <tr>\n",
       "      <th>6344011</th>\n",
       "      <td>UsedFor</td>\n",
       "      <td>zoom_lens</td>\n",
       "      <td>see_things_bigger</td>\n",
       "    </tr>\n",
       "    <tr>\n",
       "      <th>6344012</th>\n",
       "      <td>UsedFor</td>\n",
       "      <td>zoom_lens</td>\n",
       "      <td>seeing_distant_object_more_closely</td>\n",
       "    </tr>\n",
       "    <tr>\n",
       "      <th>6344013</th>\n",
       "      <td>UsedFor</td>\n",
       "      <td>zoom_lens</td>\n",
       "      <td>take_pictures</td>\n",
       "    </tr>\n",
       "    <tr>\n",
       "      <th>6344014</th>\n",
       "      <td>UsedFor</td>\n",
       "      <td>zoom_lens</td>\n",
       "      <td>varying_camera_focal_point</td>\n",
       "    </tr>\n",
       "  </tbody>\n",
       "</table>\n",
       "<p>5110981 rows × 3 columns</p>\n",
       "</div>"
      ],
      "text/plain": [
       "        Relation           From                                  To\n",
       "0        Antonym              0                                   1\n",
       "1        Antonym  12_hour_clock                       24_hour_clock\n",
       "2        Antonym  24_hour_clock                       12_hour_clock\n",
       "3        Antonym              5                                   3\n",
       "4        Antonym            a.c                                 d.c\n",
       "...          ...            ...                                 ...\n",
       "6344010  UsedFor      zoom_lens                 procure_better_shot\n",
       "6344011  UsedFor      zoom_lens                   see_things_bigger\n",
       "6344012  UsedFor      zoom_lens  seeing_distant_object_more_closely\n",
       "6344013  UsedFor      zoom_lens                       take_pictures\n",
       "6344014  UsedFor      zoom_lens          varying_camera_focal_point\n",
       "\n",
       "[5110981 rows x 3 columns]"
      ]
     },
     "execution_count": 9,
     "metadata": {},
     "output_type": "execute_result"
    }
   ],
   "source": [
    "df"
   ]
  },
  {
   "cell_type": "code",
   "execution_count": 10,
   "metadata": {},
   "outputs": [],
   "source": [
    "df.to_csv(\"processed_en.csv\")"
   ]
  },
  {
   "cell_type": "code",
   "execution_count": null,
   "metadata": {},
   "outputs": [],
   "source": []
  }
 ],
 "metadata": {
  "kernelspec": {
   "display_name": "dataload_env",
   "language": "python",
   "name": "python3"
  },
  "language_info": {
   "codemirror_mode": {
    "name": "ipython",
    "version": 3
   },
   "file_extension": ".py",
   "mimetype": "text/x-python",
   "name": "python",
   "nbconvert_exporter": "python",
   "pygments_lexer": "ipython3",
   "version": "3.10.10"
  },
  "orig_nbformat": 4
 },
 "nbformat": 4,
 "nbformat_minor": 2
}
