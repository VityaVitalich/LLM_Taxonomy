{
 "cells": [
  {
   "cell_type": "code",
   "execution_count": 166,
   "metadata": {},
   "outputs": [
    {
     "name": "stderr",
     "output_type": "stream",
     "text": [
      "[nltk_data] Downloading package omw-1.4 to /home/victor/nltk_data...\n",
      "[nltk_data]   Package omw-1.4 is already up-to-date!\n"
     ]
    }
   ],
   "source": [
    "import nltk\n",
    "nltk.download('omw-1.4')\n",
    "from nltk.corpus import wordnet as wn\n",
    "\n",
    "import pandas as pd"
   ]
  },
  {
   "cell_type": "code",
   "execution_count": 173,
   "metadata": {},
   "outputs": [],
   "source": [
    "def make_df(out_path, lg):\n",
    "    all_synsets = list(set(s for lemma in wn.words(lang=lg) for s in wn.synsets(lemma, lang=lg, pos='n')))\n",
    "\n",
    "    all_edges = []\n",
    "\n",
    "    for synset in all_synsets:\n",
    "        hypernyms = synset.hypernyms()\n",
    "        for parent in hypernyms:\n",
    "            if parent.pos() == 'n':\n",
    "                lemmas = synset.lemmas(lang=lg)\n",
    "                lemmas_parents = parent.lemmas(lang=lg)\n",
    "                for l in lemmas:\n",
    "                    for lp in lemmas_parents:\n",
    "                        l_number = str(l).split('.')[-2]\n",
    "                        l_name = l.name() + '.n.' + l_number\n",
    "\n",
    "                        lp_number = str(lp).split('.')[-2]\n",
    "                        lp_name = lp.name() + '.n.' + lp_number\n",
    "                        all_edges.append((l_name, lp_name))\n",
    "    \n",
    "    df = pd.DataFrame(all_edges, columns=['Synset', 'Hypernym'])\n",
    "    df.to_csv(out_path)"
   ]
  },
  {
   "cell_type": "code",
   "execution_count": 177,
   "metadata": {},
   "outputs": [],
   "source": [
    "langs = ['spa', 'fra', 'eng', 'ita']\n",
    "\n",
    "for l in langs:\n",
    "    out_path = 'data/omw/' + l + '.csv'\n",
    "    make_df(out_path, l)"
   ]
  },
  {
   "cell_type": "code",
   "execution_count": null,
   "metadata": {},
   "outputs": [],
   "source": []
  }
 ],
 "metadata": {
  "kernelspec": {
   "display_name": "dataload_env",
   "language": "python",
   "name": "python3"
  },
  "language_info": {
   "codemirror_mode": {
    "name": "ipython",
    "version": 3
   },
   "file_extension": ".py",
   "mimetype": "text/x-python",
   "name": "python",
   "nbconvert_exporter": "python",
   "pygments_lexer": "ipython3",
   "version": "3.10.12"
  },
  "orig_nbformat": 4
 },
 "nbformat": 4,
 "nbformat_minor": 2
}
