{
 "cells": [
  {
   "cell_type": "code",
   "execution_count": 1,
   "metadata": {},
   "outputs": [],
   "source": [
    "import networkx as nx\n",
    "from tqdm import tqdm\n",
    "import random\n",
    "from leafer import Leafer\n",
    "import numpy as np\n",
    "import pickle\n",
    "import os\n",
    "import glob"
   ]
  },
  {
   "cell_type": "code",
   "execution_count": 44,
   "metadata": {},
   "outputs": [],
   "source": [
    "# G = nx.read_edgelist(\"./IsA_Graph2.edgelist\", delimiter=\" \", create_using=nx.DiGraph)\n",
    "G = nx.read_edgelist(\"data/filtered_wnet/it_isa.edgelist\", delimiter=\"\\t\", create_using=nx.DiGraph)"
   ]
  },
  {
   "cell_type": "code",
   "execution_count": 45,
   "metadata": {},
   "outputs": [],
   "source": [
    "l = Leafer(G)\n",
    "# iterator = l.leafs_generator()"
   ]
  },
  {
   "cell_type": "code",
   "execution_count": 46,
   "metadata": {},
   "outputs": [],
   "source": [
    "train, test = l.split_train_test(\n",
    "    generation_depth=0,  # до какого уровня в топ. сортировке идти\n",
    "    p=0.1,  # вероятность что подходящий случай уйдет в тест\n",
    "    p_divide_leafs=0.5,\n",
    "    # вероятность что листья поделим пополам трейн-тест\n",
    "    # а не засунем целый случай в трейн или в тест\n",
    "    min_to_test_rate=0.3,\n",
    "    # минимальное количество доли вершин которых не было в\n",
    "    # трейне чтобы поделить пополам на трейн-тест\n",
    "    # то есть если 6\\10 вершин были трейне то значит все 10 в трейн\n",
    "    # если 5\\10 были в трейне, то значит оставшиеся можем кинуть в тест\n",
    "    weights=[0.01, 0.49, 0.4, 0.05, 0.05],\n",
    "    # веса в соответствии\n",
    "    # один ребенок, только листья, не только листья\n",
    "    # триплеты с 2 родителями, триплеты такие что мидл нода имеет\n",
    "    # 1 ребенка\n",
    ")"
   ]
  },
  {
   "cell_type": "code",
   "execution_count": 47,
   "metadata": {},
   "outputs": [
    {
     "data": {
      "text/plain": [
       "(5784, 467)"
      ]
     },
     "execution_count": 47,
     "metadata": {},
     "output_type": "execute_result"
    }
   ],
   "source": [
    "len(train), len(test)"
   ]
  },
  {
   "cell_type": "code",
   "execution_count": 22,
   "metadata": {},
   "outputs": [
    {
     "data": {
      "text/plain": [
       "13"
      ]
     },
     "execution_count": 22,
     "metadata": {},
     "output_type": "execute_result"
    }
   ],
   "source": [
    "ls = [elem for elem in test if elem[\"case\"] == \"only_leafs_divided\"]\n",
    "len(ls)"
   ]
  },
  {
   "cell_type": "code",
   "execution_count": 23,
   "metadata": {},
   "outputs": [],
   "source": [
    "train_count = {}\n",
    "for elem in train:\n",
    "    if elem[\"case\"] in train_count.keys():\n",
    "        train_count[elem[\"case\"]] += 1\n",
    "\n",
    "    else:\n",
    "        train_count[elem[\"case\"]] = 1\n",
    "\n",
    "test_count = {}\n",
    "for elem in test:\n",
    "    if elem[\"case\"] in test_count.keys():\n",
    "        test_count[elem[\"case\"]] += 1\n",
    "\n",
    "    else:\n",
    "        test_count[elem[\"case\"]] = 1"
   ]
  },
  {
   "cell_type": "code",
   "execution_count": 24,
   "metadata": {},
   "outputs": [
    {
     "data": {
      "text/plain": [
       "({'leafs_and_no_leafs': 106,\n",
       "  'only_leafs_divided': 106,\n",
       "  'only_leafs_all': 101,\n",
       "  'simple_triplet_2parent': 376,\n",
       "  'simple_triplet_grandparent': 160,\n",
       "  'only_child_leaf': 374},\n",
       " {'leafs_and_no_leafs': 9,\n",
       "  'only_leafs_all': 14,\n",
       "  'only_leafs_divided': 13,\n",
       "  'simple_triplet_2parent': 38,\n",
       "  'simple_triplet_grandparent': 18,\n",
       "  'only_child_leaf': 34})"
      ]
     },
     "execution_count": 24,
     "metadata": {},
     "output_type": "execute_result"
    }
   ],
   "source": [
    "train_count, test_count"
   ]
  },
  {
   "cell_type": "code",
   "execution_count": 25,
   "metadata": {},
   "outputs": [
    {
     "data": {
      "text/plain": [
       "[{'children': ['Gesteinskörnung.n.1',\n",
       "   'Ballast.n.1',\n",
       "   'Bimetall.n.1',\n",
       "   'Leinwand.n.1',\n",
       "   'Damast.n.1',\n",
       "   'Denim.n.1',\n",
       "   'Drell.n.1',\n",
       "   'Boden.n.1',\n",
       "   'Gummiband.n.1',\n",
       "   'Elastomer.n.1',\n",
       "   'Filz.n.1',\n",
       "   'Füllung.n.1',\n",
       "   'Leinen.n.1',\n",
       "   'Präkursor.n.1',\n",
       "   'Gestein.n.1',\n",
       "   'Elastan.n.1',\n",
       "   'Bildwirkerei.n.1',\n",
       "   'Voile.n.1',\n",
       "   'Wolle.n.1',\n",
       "   'Frottee.n.1'],\n",
       "  'parents': 'Stoff.n.1',\n",
       "  'grandparents': None,\n",
       "  'case': 'leafs_and_no_leafs'},\n",
       " {'children': ['Sprengstoff.n.1', 'Dünger.n.1', 'Herbizid.n.1', 'Edukt.n.1'],\n",
       "  'parents': 'chemischer_Stoff.n.1',\n",
       "  'grandparents': None,\n",
       "  'case': 'leafs_and_no_leafs'},\n",
       " {'children': ['Kassiterit.n.1',\n",
       "   'Zinnober.n.1',\n",
       "   'Coltan.n.1',\n",
       "   'Kryolith.n.1',\n",
       "   'Fluorit.n.1',\n",
       "   'Pyrit.n.1',\n",
       "   'Molybdänit.n.1',\n",
       "   'Quarz.n.1',\n",
       "   'Granat.n.1'],\n",
       "  'parents': 'Mineral.n.1',\n",
       "  'grandparents': None,\n",
       "  'case': 'leafs_and_no_leafs'},\n",
       " {'children': ['Hasardeur.n.1', 'Söldner.n.1'],\n",
       "  'parents': 'Abenteurer.n.1',\n",
       "  'grandparents': None,\n",
       "  'case': 'only_leafs_all'},\n",
       " {'children': ['Adenitis.n.1',\n",
       "   'Appendizitis.n.1',\n",
       "   'Blepharitis.n.1',\n",
       "   'Bursitis.n.1',\n",
       "   'Katarrh.n.1',\n",
       "   'Enzephalitis.n.1',\n",
       "   'Cholangitis.n.1',\n",
       "   'Cholezystitis.n.1',\n",
       "   'Rhinitis.n.1',\n",
       "   'Enteritis.n.1',\n",
       "   'Epididymitis.n.1',\n",
       "   'Ösophagitis.n.1',\n",
       "   'Gastritis.n.1',\n",
       "   'Ileitis.n.1',\n",
       "   'Iritis.n.1',\n",
       "   'Keratitis.n.1',\n",
       "   'Kehlkopfentzündung.n.1',\n",
       "   'Lymphangitis.n.1',\n",
       "   'Mastitis.n.1',\n",
       "   'Myositis.n.1',\n",
       "   'Neuritis.n.1',\n",
       "   'Orchitis.n.1',\n",
       "   'Otitis.n.1',\n",
       "   'Pankreatitis.n.1',\n",
       "   'Parotitis.n.1',\n",
       "   'Peritonitis.n.1',\n",
       "   'Phlebitis.n.1',\n",
       "   'Prostatitis.n.1',\n",
       "   'Salpingitis.n.1',\n",
       "   'Sinusitis.n.1',\n",
       "   'Spondylitis.n.1',\n",
       "   'Stomatitis.n.1',\n",
       "   'Thyreoiditis.n.1',\n",
       "   'Tonsillitis.n.1',\n",
       "   'Tracheitis.n.1',\n",
       "   'Uveitis.n.1',\n",
       "   'Vulvovaginitis.n.1'],\n",
       "  'parents': 'Entzündung.n.1',\n",
       "  'grandparents': None,\n",
       "  'case': 'leafs_and_no_leafs'}]"
      ]
     },
     "execution_count": 25,
     "metadata": {},
     "output_type": "execute_result"
    }
   ],
   "source": [
    "test[:5]"
   ]
  },
  {
   "cell_type": "code",
   "execution_count": 34,
   "metadata": {},
   "outputs": [],
   "source": [
    "num_leaks = 0\n",
    "for vertex in l.collector.test_verteces:\n",
    "    if vertex in l.collector.train_verteces:\n",
    "        num_leaks += 1"
   ]
  },
  {
   "cell_type": "code",
   "execution_count": 23,
   "metadata": {},
   "outputs": [
    {
     "data": {
      "text/plain": [
       "0"
      ]
     },
     "execution_count": 23,
     "metadata": {},
     "output_type": "execute_result"
    }
   ],
   "source": [
    "num_leaks"
   ]
  },
  {
   "cell_type": "code",
   "execution_count": 24,
   "metadata": {},
   "outputs": [],
   "source": [
    "num_leaks = 0\n",
    "for vertex in l.collector.train_verteces:\n",
    "    if vertex in l.collector.test_verteces:\n",
    "        num_leaks += 1"
   ]
  },
  {
   "cell_type": "code",
   "execution_count": 25,
   "metadata": {},
   "outputs": [
    {
     "data": {
      "text/plain": [
       "0"
      ]
     },
     "execution_count": 25,
     "metadata": {},
     "output_type": "execute_result"
    }
   ],
   "source": [
    "num_leaks"
   ]
  },
  {
   "cell_type": "code",
   "execution_count": 24,
   "metadata": {},
   "outputs": [],
   "source": [
    "lang = 'en'\n",
    "name_train = \"../babel_datasets/reweighted_wnet_train_\" + lang + \"_babel.pickle\"\n",
    "name_test = \"../babel_datasets/reweighted_wnet_test_\" + lang + \"_babel.pickle\"\n",
    "\n",
    "with open(name_train, \"wb\") as handle:\n",
    "    pickle.dump(train, handle)\n",
    "\n",
    "with open(name_test, \"wb\") as handle:\n",
    "    pickle.dump(test, handle)"
   ]
  },
  {
   "cell_type": "code",
   "execution_count": 41,
   "metadata": {},
   "outputs": [
    {
     "data": {
      "text/plain": [
       "['./fr_isa.edgelist',\n",
       " './it_isa.edgelist',\n",
       " './en_isa.edgelist',\n",
       " './de_isa.edgelist',\n",
       " './es_isa.edgelist',\n",
       " './ru_isa.edgelist']"
      ]
     },
     "execution_count": 41,
     "metadata": {},
     "output_type": "execute_result"
    }
   ],
   "source": [
    "all_data = glob.glob(os.path.join(\".\", \"*isa.edgelist\"))\n",
    "all_data"
   ]
  },
  {
   "cell_type": "code",
   "execution_count": 50,
   "metadata": {},
   "outputs": [
    {
     "name": "stderr",
     "output_type": "stream",
     "text": [
      "  0%|          | 0/6 [00:00<?, ?it/s]"
     ]
    },
    {
     "name": "stderr",
     "output_type": "stream",
     "text": [
      " 17%|█▋        | 1/6 [00:02<00:11,  2.37s/it]"
     ]
    },
    {
     "name": "stdout",
     "output_type": "stream",
     "text": [
      "fr 6458 503\n"
     ]
    },
    {
     "name": "stderr",
     "output_type": "stream",
     "text": [
      " 33%|███▎      | 2/6 [00:04<00:09,  2.29s/it]"
     ]
    },
    {
     "name": "stdout",
     "output_type": "stream",
     "text": [
      "it 5810 439\n"
     ]
    },
    {
     "name": "stderr",
     "output_type": "stream",
     "text": [
      " 50%|█████     | 3/6 [00:15<00:18,  6.06s/it]"
     ]
    },
    {
     "name": "stdout",
     "output_type": "stream",
     "text": [
      "en 21761 1026\n"
     ]
    },
    {
     "name": "stderr",
     "output_type": "stream",
     "text": [
      " 67%|██████▋   | 4/6 [00:15<00:07,  3.97s/it]"
     ]
    },
    {
     "name": "stdout",
     "output_type": "stream",
     "text": [
      "de 1256 97\n"
     ]
    },
    {
     "name": "stderr",
     "output_type": "stream",
     "text": [
      " 83%|████████▎ | 5/6 [00:17<00:03,  3.08s/it]"
     ]
    },
    {
     "name": "stdout",
     "output_type": "stream",
     "text": [
      "es 5202 376\n"
     ]
    },
    {
     "name": "stderr",
     "output_type": "stream",
     "text": [
      "100%|██████████| 6/6 [00:18<00:00,  3.07s/it]"
     ]
    },
    {
     "name": "stdout",
     "output_type": "stream",
     "text": [
      "ru 1972 186\n"
     ]
    },
    {
     "name": "stderr",
     "output_type": "stream",
     "text": [
      "\n"
     ]
    }
   ],
   "source": [
    "global_train = []\n",
    "global_test = []\n",
    "\n",
    "all_data = glob.glob(os.path.join(\"data/filtered_wnet/\", \"*isa.edgelist\"))\n",
    "for path in tqdm(all_data):\n",
    "    lang = path.replace(\"data/filtered_wnet/\", \"\").replace(\"_isa.edgelist\", \"\")\n",
    "\n",
    "    G = nx.read_edgelist(path, delimiter=\"\\t\", create_using=nx.DiGraph)\n",
    "    l = Leafer(G)\n",
    "    if lang == 'en':\n",
    "        train, test = l.split_train_test(\n",
    "        generation_depth=1,  # до какого уровня в топ. сортировке идти\n",
    "        p=0.05,  # вероятность что подходящий случай уйдет в тест\n",
    "        p_divide_leafs=0.5,\n",
    "        min_to_test_rate=0.3,\n",
    "        weights=[0.01, 0.49, 0.4, 0.05, 0.05],\n",
    "    )\n",
    "    else:\n",
    "        train, test = l.split_train_test(\n",
    "        generation_depth=0,  # до какого уровня в топ. сортировке идти\n",
    "        p=0.1,  # вероятность что подходящий случай уйдет в тест\n",
    "        p_divide_leafs=0.5,\n",
    "        min_to_test_rate=0.3,\n",
    "        weights=[0.01, 0.49, 0.4, 0.05, 0.05],\n",
    "    )\n",
    "        \n",
    "    print(lang, len(train), len(test))\n",
    "\n",
    "    random.shuffle(train)\n",
    "    random.shuffle(test)\n",
    "\n",
    "    name_train = \"../babel_datasets/filtered_wnet/train_\" + lang + \"_babel.pickle\"\n",
    "    name_test = \"../babel_datasets/filtered_wnet/test_\" + lang + \"_babel.pickle\"\n",
    "\n",
    "    with open(name_train, \"wb\") as handle:\n",
    "        pickle.dump(train, handle)\n",
    "\n",
    "    with open(name_test, \"wb\") as handle:\n",
    "        pickle.dump(test, handle)\n",
    "\n",
    "    global_train.extend(train)\n",
    "    global_test.extend(test)\n",
    "\n",
    "name_train = \"../babel_datasets/filtered_wnet/global_train_babel.pickle\"\n",
    "name_test = \"../babel_datasets/filtered_wnet/global_test_babel.pickle\"\n",
    "\n",
    "\n",
    "random.shuffle(global_train)\n",
    "with open(name_train, \"wb\") as handle:\n",
    "    pickle.dump(global_train, handle)\n",
    "\n",
    "with open(name_test, \"wb\") as handle:\n",
    "    pickle.dump(global_test, handle)"
   ]
  },
  {
   "cell_type": "code",
   "execution_count": 52,
   "metadata": {},
   "outputs": [],
   "source": [
    "name_train = \"../babel_datasets/wnet_only/global_train_babel.pickle\"\n",
    "name_test = \"../babel_datasets/wnet_only/global_test_babel.pickle\"\n",
    "\n",
    "with open(name_train, \"wb\") as handle:\n",
    "    pickle.dump(global_train, handle)\n",
    "\n",
    "with open(name_test, \"wb\") as handle:\n",
    "    pickle.dump(global_test, handle)"
   ]
  },
  {
   "cell_type": "code",
   "execution_count": 48,
   "metadata": {},
   "outputs": [
    {
     "data": {
      "text/plain": [
       "(1980, 38808)"
      ]
     },
     "execution_count": 48,
     "metadata": {},
     "output_type": "execute_result"
    }
   ],
   "source": [
    "len(global_test), len(global_train)"
   ]
  },
  {
   "cell_type": "code",
   "execution_count": 49,
   "metadata": {},
   "outputs": [],
   "source": [
    "max_len = 0\n",
    "k = 0\n",
    "for vert in global_train:\n",
    "    cur_len = len(vert[\"children\"])\n",
    "    if cur_len > 50:\n",
    "        k += 1\n",
    "        max_len = cur_len\n",
    "        max_i = vert"
   ]
  },
  {
   "cell_type": "code",
   "execution_count": 51,
   "metadata": {},
   "outputs": [
    {
     "data": {
      "text/plain": [
       "{'children': 'conditions_normales_de_température_et_de_pression.n.1',\n",
       " 'parents': ['atmosphère.n.1', 'température_standard.n.1'],\n",
       " 'grandparents': None,\n",
       " 'case': 'simple_triplet_2parent'}"
      ]
     },
     "execution_count": 51,
     "metadata": {},
     "output_type": "execute_result"
    }
   ],
   "source": [
    "max_i"
   ]
  },
  {
   "cell_type": "code",
   "execution_count": 17,
   "metadata": {},
   "outputs": [],
   "source": [
    "def predict_child_with_parent_and_grandparent(elem):\n",
    "    \"\"\"\n",
    "    hyperhypenym: arthropod.n.01,\n",
    "    hypernym: insect.n.01, hyponyms:\n",
    "    (blackly)\n",
    "\n",
    "    hyperhypenym: elem['grandparents'],\n",
    "    hypernym: elem['parents'], hyponyms:\n",
    "    elem['children']\n",
    "\n",
    "    Fly is a hyponym for the word “insect\".\n",
    "    Predict hyponyms for the word “fly”. Answer:\n",
    "    \"\"\"\n",
    "\n",
    "    # transformed_term = (\n",
    "    #     \"hyperhypenym: \"\n",
    "    #     + \", \".join(elem[\"grandparents\"])\n",
    "    #     + \", hypernym: \"\n",
    "    #     + elem[\"parents\"]\n",
    "    #     + \", hyponyms:\"\n",
    "    # )\n",
    "    transformed_term = (\n",
    "        \", \".join(elem[\"grandparents\"])\n",
    "        + \" are hyponyms for the word '\"\n",
    "        + elem[\"parents\"]\n",
    "        + \"'. Predict hyponyms for the word '\"\n",
    "        + elem[\"parents\"]\n",
    "        + \"'. Answer:\"\n",
    "    )\n",
    "    return transformed_term"
   ]
  },
  {
   "cell_type": "code",
   "execution_count": null,
   "metadata": {},
   "outputs": [],
   "source": []
  }
 ],
 "metadata": {
  "kernelspec": {
   "display_name": "dataload_env",
   "language": "python",
   "name": "python3"
  },
  "language_info": {
   "codemirror_mode": {
    "name": "ipython",
    "version": 3
   },
   "file_extension": ".py",
   "mimetype": "text/x-python",
   "name": "python",
   "nbconvert_exporter": "python",
   "pygments_lexer": "ipython3",
   "version": "3.10.12"
  },
  "orig_nbformat": 4
 },
 "nbformat": 4,
 "nbformat_minor": 2
}
