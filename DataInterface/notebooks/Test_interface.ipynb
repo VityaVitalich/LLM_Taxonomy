{
 "cells": [
  {
   "cell_type": "code",
   "execution_count": 1,
   "metadata": {},
   "outputs": [],
   "source": [
    "import networkx as nx\n",
    "from tqdm import tqdm\n",
    "import random\n",
    "from leafer import Leafer\n",
    "import numpy as np\n",
    "import pickle\n",
    "import os\n",
    "import glob\n",
    "\n",
    "\n",
    "seed = 42\n",
    "random.seed(seed)\n",
    "np.random.seed(seed)"
   ]
  },
  {
   "cell_type": "code",
   "execution_count": 2,
   "metadata": {},
   "outputs": [],
   "source": [
    "# G = nx.read_edgelist(\"./IsA_Graph2.edgelist\", delimiter=\" \", create_using=nx.DiGraph)\n",
    "G = nx.read_edgelist(\"../data/only_en_wordnet.edgelist\", delimiter=\"\\t\", create_using=nx.DiGraph)"
   ]
  },
  {
   "cell_type": "code",
   "execution_count": 3,
   "metadata": {},
   "outputs": [],
   "source": [
    "l = Leafer(G)\n",
    "# iterator = l.leafs_generator()"
   ]
  },
  {
   "cell_type": "code",
   "execution_count": 4,
   "metadata": {},
   "outputs": [],
   "source": [
    "train, test = l.split_train_test(\n",
    "    generation_depth=3,  # до какого уровня в топ. сортировке идти\n",
    "    p=0.05,  # вероятность что подходящий случай уйдет в тест\n",
    "    p_divide_leafs=0.5,\n",
    "    # вероятность что листья поделим пополам трейн-тест\n",
    "    # а не засунем целый случай в трейн или в тест\n",
    "    min_to_test_rate=0.5,\n",
    "    # минимальное количество доли вершин которых не было в\n",
    "    # трейне чтобы поделить пополам на трейн-тест\n",
    "    # то есть если 6\\10 вершин были трейне то значит все 10 в трейн\n",
    "    # если 5\\10 были в трейне, то значит оставшиеся можем кинуть в тест\n",
    "    weights=[0.01, 0.49, 0.4, 0.05, 0.05],\n",
    "    # веса в соответствии\n",
    "    # один ребенок, только листья, не только листья\n",
    "    # триплеты с 2 родителями, триплеты такие что мидл нода имеет\n",
    "    # 1 ребенка,\n",
    "    p_parent=0.5\n",
    ")"
   ]
  },
  {
   "cell_type": "code",
   "execution_count": 5,
   "metadata": {},
   "outputs": [
    {
     "data": {
      "text/plain": [
       "(22340, 1057)"
      ]
     },
     "execution_count": 5,
     "metadata": {},
     "output_type": "execute_result"
    }
   ],
   "source": [
    "len(train), len(test)"
   ]
  },
  {
   "cell_type": "code",
   "execution_count": 6,
   "metadata": {},
   "outputs": [],
   "source": [
    "train_count = {}\n",
    "for elem in train:\n",
    "    if elem[\"case\"] in train_count.keys():\n",
    "        train_count[elem[\"case\"]] += 1\n",
    "\n",
    "    else:\n",
    "        train_count[elem[\"case\"]] = 1\n",
    "\n",
    "test_count = {}\n",
    "for elem in test:\n",
    "    if elem[\"case\"] in test_count.keys():\n",
    "        test_count[elem[\"case\"]] += 1\n",
    "\n",
    "    else:\n",
    "        test_count[elem[\"case\"]] = 1"
   ]
  },
  {
   "cell_type": "code",
   "execution_count": 7,
   "metadata": {},
   "outputs": [
    {
     "data": {
      "text/plain": [
       "({'only_leafs_all': 2558,\n",
       "  'leafs_and_no_leafs': 3156,\n",
       "  'only_leafs_divided': 2361,\n",
       "  'predict_hypernym': 2480,\n",
       "  'simple_triplet_2parent': 1467,\n",
       "  'simple_triplet_grandparent': 5274,\n",
       "  'only_child_leaf': 5044},\n",
       " {'only_leafs_divided': 125,\n",
       "  'predict_hypernym': 102,\n",
       "  'simple_triplet_grandparent': 279,\n",
       "  'leafs_and_no_leafs': 142,\n",
       "  'only_leafs_all': 96,\n",
       "  'simple_triplet_2parent': 41,\n",
       "  'only_child_leaf': 272})"
      ]
     },
     "execution_count": 7,
     "metadata": {},
     "output_type": "execute_result"
    }
   ],
   "source": [
    "train_count, test_count"
   ]
  },
  {
   "cell_type": "code",
   "execution_count": 8,
   "metadata": {},
   "outputs": [],
   "source": [
    "num_leaks = 0\n",
    "for vertex in l.collector.test_verteces:\n",
    "    if vertex in l.collector.train_verteces:\n",
    "        num_leaks += 1"
   ]
  },
  {
   "cell_type": "code",
   "execution_count": 9,
   "metadata": {},
   "outputs": [
    {
     "data": {
      "text/plain": [
       "0"
      ]
     },
     "execution_count": 9,
     "metadata": {},
     "output_type": "execute_result"
    }
   ],
   "source": [
    "num_leaks"
   ]
  },
  {
   "cell_type": "code",
   "execution_count": 10,
   "metadata": {},
   "outputs": [],
   "source": [
    "num_leaks = 0\n",
    "for vertex in l.collector.train_verteces:\n",
    "    if vertex in l.collector.test_verteces:\n",
    "        num_leaks += 1"
   ]
  },
  {
   "cell_type": "code",
   "execution_count": 11,
   "metadata": {},
   "outputs": [
    {
     "data": {
      "text/plain": [
       "0"
      ]
     },
     "execution_count": 11,
     "metadata": {},
     "output_type": "execute_result"
    }
   ],
   "source": [
    "num_leaks"
   ]
  },
  {
   "cell_type": "code",
   "execution_count": 12,
   "metadata": {},
   "outputs": [],
   "source": [
    "lang = 'en'\n",
    "name_train = \"../../babel_datasets/v2_wnet_train.pickle\"\n",
    "name_test = \"../../babel_datasets/v2_wnet_test.pickle\"\n",
    "\n",
    "with open(name_train, \"wb\") as handle:\n",
    "    pickle.dump(train, handle)\n",
    "\n",
    "with open(name_test, \"wb\") as handle:\n",
    "    pickle.dump(test, handle)"
   ]
  },
  {
   "cell_type": "code",
   "execution_count": 33,
   "metadata": {},
   "outputs": [
    {
     "data": {
      "text/plain": [
       "{'children': 'exile.n.1',\n",
       " 'parents': 'absentee.n.1',\n",
       " 'grandparents': None,\n",
       " 'case': 'predict_hypernym'}"
      ]
     },
     "execution_count": 33,
     "metadata": {},
     "output_type": "execute_result"
    }
   ],
   "source": [
    "test[50]"
   ]
  },
  {
   "cell_type": "code",
   "execution_count": 21,
   "metadata": {},
   "outputs": [],
   "source": [
    "import sys\n",
    "sys.path.append('../../pipeline_src')\n",
    "from dataset.prompt_schemas import predict_child_with_parent_and_grandparent, predict_parent_from_child_granparent"
   ]
  },
  {
   "cell_type": "code",
   "execution_count": 37,
   "metadata": {},
   "outputs": [],
   "source": [
    "elem = dict(test[108])"
   ]
  },
  {
   "cell_type": "code",
   "execution_count": 38,
   "metadata": {},
   "outputs": [
    {
     "data": {
      "text/plain": [
       "{'children': 'giant_conch.n.1',\n",
       " 'parents': 'conch.n.1',\n",
       " 'grandparents': 'gastropod.n.1',\n",
       " 'case': 'simple_triplet_grandparent'}"
      ]
     },
     "execution_count": 38,
     "metadata": {},
     "output_type": "execute_result"
    }
   ],
   "source": [
    "elem"
   ]
  },
  {
   "cell_type": "code",
   "execution_count": 34,
   "metadata": {},
   "outputs": [],
   "source": [
    "def clean_elem(elem, keys_to_remove_digits=[\"children\"]):\n",
    "    removes = set(keys_to_remove_digits)\n",
    "    print(removes)\n",
    "    if not \"changed\" in elem.keys():\n",
    "        for field in [\"children\", \"parents\", \"grandparents\", \"brothers\"]:\n",
    "            if field in elem.keys():\n",
    "                print(elem[field], field)\n",
    "                elem[field] = delete_techniqal(elem[field], remove=(field in removes))\n",
    "                elem[\"changed\"] = True\n",
    "    return elem\n",
    "\n",
    "\n",
    "def delete_techniqal(elem, remove):\n",
    "    if isinstance(elem, str):\n",
    "        if \".n.\" in elem and remove:\n",
    "            return elem.split(\".\")[0].replace(\"_\", \" \")\n",
    "        else:\n",
    "            return elem.replace(\"_\", \" \")\n",
    "\n",
    "    elif isinstance(elem, list):\n",
    "        new_words = []\n",
    "        for word in elem:\n",
    "            new_words.append(delete_techniqal(word, remove))\n",
    "        return new_words\n",
    "\n",
    "def predict_parent_from_child(elem):\n",
    "    \"\"\"\n",
    "    Predict the hypernym for the word “spaniel” which is hyponyms for the\n",
    "    word “hunting dog” at the same time. Answer: (sporting dog)\n",
    "    \"\"\"\n",
    "    clean = clean_elem(elem, keys_to_remove_digits=[\"parents\"])\n",
    "    # transformed_term = (\n",
    "    #     \"Predict the hypernym for the word '\"\n",
    "    #     + clean[\"children\"]\n",
    "    #     + \"' which is hyponyms for the word '\"\n",
    "    #     + clean[\"grandparents\"]\n",
    "    #     + \"' at the same time. Answer:\"\n",
    "    # )\n",
    "    transformed_term = (\n",
    "        \"hyponym: \"\n",
    "        + clean[\"children\"]\n",
    "        + \" | hypernym:\"\n",
    "    )\n",
    "    #print(clean)\n",
    "    return transformed_term, clean[\"parents\"]\n",
    "\n"
   ]
  },
  {
   "cell_type": "code",
   "execution_count": 39,
   "metadata": {},
   "outputs": [
    {
     "name": "stdout",
     "output_type": "stream",
     "text": [
      "{'parents'}\n",
      "exile.n.1 children\n",
      "absentee.n.1 parents\n",
      "None grandparents\n"
     ]
    },
    {
     "data": {
      "text/plain": [
       "('hyponym: exile.n.1 | hypernym:', 'absentee')"
      ]
     },
     "execution_count": 39,
     "metadata": {},
     "output_type": "execute_result"
    }
   ],
   "source": [
    "elem = dict(test[50])\n",
    "predict_parent_from_child(elem)"
   ]
  },
  {
   "cell_type": "code",
   "execution_count": 40,
   "metadata": {},
   "outputs": [
    {
     "data": {
      "text/plain": [
       "{'children': 'exile.n.1',\n",
       " 'parents': 'absentee',\n",
       " 'grandparents': None,\n",
       " 'case': 'predict_hypernym',\n",
       " 'changed': True}"
      ]
     },
     "execution_count": 40,
     "metadata": {},
     "output_type": "execute_result"
    }
   ],
   "source": [
    "elem"
   ]
  },
  {
   "cell_type": "markdown",
   "metadata": {},
   "source": []
  },
  {
   "cell_type": "code",
   "execution_count": 15,
   "metadata": {},
   "outputs": [
    {
     "data": {
      "text/plain": [
       "['../data/omw/ita_isa.edgelist',\n",
       " '../data/omw/ru_isa.edgelist',\n",
       " '../data/omw/fra_isa.edgelist',\n",
       " '../data/omw/eng_isa.edgelist',\n",
       " '../data/omw/spa_isa.edgelist']"
      ]
     },
     "execution_count": 15,
     "metadata": {},
     "output_type": "execute_result"
    }
   ],
   "source": [
    "all_data = glob.glob(os.path.join(\"../data/omw/\", \"*isa.edgelist\"))\n",
    "all_data"
   ]
  },
  {
   "cell_type": "code",
   "execution_count": 17,
   "metadata": {},
   "outputs": [
    {
     "name": "stderr",
     "output_type": "stream",
     "text": [
      "  0%|          | 0/5 [00:00<?, ?it/s]"
     ]
    },
    {
     "name": "stdout",
     "output_type": "stream",
     "text": [
      "ita 538158 3675\n"
     ]
    },
    {
     "name": "stderr",
     "output_type": "stream",
     "text": [
      " 40%|████      | 2/5 [02:52<03:37, 72.51s/it] "
     ]
    },
    {
     "name": "stdout",
     "output_type": "stream",
     "text": [
      "ru 26006 965\n",
      "fra 136390 3307\n"
     ]
    },
    {
     "name": "stderr",
     "output_type": "stream",
     "text": [
      " 60%|██████    | 3/5 [03:32<01:55, 57.54s/it]"
     ]
    },
    {
     "name": "stdout",
     "output_type": "stream",
     "text": [
      "eng 324610 11118\n"
     ]
    },
    {
     "name": "stderr",
     "output_type": "stream",
     "text": [
      "100%|██████████| 5/5 [05:23<00:00, 64.70s/it]"
     ]
    },
    {
     "name": "stdout",
     "output_type": "stream",
     "text": [
      "spa 55235 1242\n"
     ]
    },
    {
     "name": "stderr",
     "output_type": "stream",
     "text": [
      "\n"
     ]
    }
   ],
   "source": [
    "global_train = []\n",
    "global_test = []\n",
    "\n",
    "all_data = glob.glob(os.path.join(\"../data/omw/\", \"*isa.edgelist\"))\n",
    "for path in tqdm(all_data):\n",
    "    lang = path.replace(\"../data/omw/\", \"\").replace(\"_isa.edgelist\", \"\")\n",
    "\n",
    "    G = nx.read_edgelist(path, delimiter=\"\\t\", create_using=nx.DiGraph)\n",
    "    l = Leafer(G)\n",
    "    train, test = l.split_train_test(\n",
    "        generation_depth=3,  # до какого уровня в топ. сортировке идти\n",
    "        p=0.05,  # вероятность что подходящий случай уйдет в тест\n",
    "        p_divide_leafs=0.5,\n",
    "        min_to_test_rate=0.5,\n",
    "        weights=[0.01, 0.49, 0.4, 0.05, 0.05],\n",
    "    )\n",
    "\n",
    "        \n",
    "    print(lang, len(train), len(test))\n",
    "\n",
    "    random.shuffle(train)\n",
    "    random.shuffle(test)\n",
    "\n",
    "    name_train = \"../../omw_datasets/train_\" + lang + \".pickle\"\n",
    "    name_test = \"../../omw_datasets/test_\" + lang + \".pickle\"\n",
    "\n",
    "    with open(name_train, \"wb\") as handle:\n",
    "        pickle.dump(train, handle)\n",
    "\n",
    "    with open(name_test, \"wb\") as handle:\n",
    "        pickle.dump(test, handle)\n",
    "\n",
    "    global_train.extend(train)\n",
    "    global_test.extend(test)\n",
    "\n",
    "name_train = \"../../omw_datasets/global_train.pickle\"\n",
    "name_test = \"../../omw_datasets/global_test.pickle\"\n",
    "\n",
    "\n",
    "random.shuffle(global_train)\n",
    "with open(name_train, \"wb\") as handle:\n",
    "    pickle.dump(global_train, handle)\n",
    "\n",
    "with open(name_test, \"wb\") as handle:\n",
    "    pickle.dump(global_test, handle)"
   ]
  },
  {
   "cell_type": "code",
   "execution_count": 52,
   "metadata": {},
   "outputs": [],
   "source": [
    "name_train = \"../babel_datasets/wnet_only/global_train_babel.pickle\"\n",
    "name_test = \"../babel_datasets/wnet_only/global_test_babel.pickle\"\n",
    "\n",
    "with open(name_train, \"wb\") as handle:\n",
    "    pickle.dump(global_train, handle)\n",
    "\n",
    "with open(name_test, \"wb\") as handle:\n",
    "    pickle.dump(global_test, handle)"
   ]
  },
  {
   "cell_type": "code",
   "execution_count": 48,
   "metadata": {},
   "outputs": [
    {
     "data": {
      "text/plain": [
       "(1980, 38808)"
      ]
     },
     "execution_count": 48,
     "metadata": {},
     "output_type": "execute_result"
    }
   ],
   "source": [
    "len(global_test), len(global_train)"
   ]
  },
  {
   "cell_type": "code",
   "execution_count": 49,
   "metadata": {},
   "outputs": [],
   "source": [
    "max_len = 0\n",
    "k = 0\n",
    "for vert in global_train:\n",
    "    cur_len = len(vert[\"children\"])\n",
    "    if cur_len > 50:\n",
    "        k += 1\n",
    "        max_len = cur_len\n",
    "        max_i = vert"
   ]
  },
  {
   "cell_type": "code",
   "execution_count": 51,
   "metadata": {},
   "outputs": [
    {
     "data": {
      "text/plain": [
       "{'children': 'conditions_normales_de_température_et_de_pression.n.1',\n",
       " 'parents': ['atmosphère.n.1', 'température_standard.n.1'],\n",
       " 'grandparents': None,\n",
       " 'case': 'simple_triplet_2parent'}"
      ]
     },
     "execution_count": 51,
     "metadata": {},
     "output_type": "execute_result"
    }
   ],
   "source": [
    "max_i"
   ]
  },
  {
   "cell_type": "code",
   "execution_count": 17,
   "metadata": {},
   "outputs": [],
   "source": [
    "def predict_child_with_parent_and_grandparent(elem):\n",
    "    \"\"\"\n",
    "    hyperhypenym: arthropod.n.01,\n",
    "    hypernym: insect.n.01, hyponyms:\n",
    "    (blackly)\n",
    "\n",
    "    hyperhypenym: elem['grandparents'],\n",
    "    hypernym: elem['parents'], hyponyms:\n",
    "    elem['children']\n",
    "\n",
    "    Fly is a hyponym for the word “insect\".\n",
    "    Predict hyponyms for the word “fly”. Answer:\n",
    "    \"\"\"\n",
    "\n",
    "    # transformed_term = (\n",
    "    #     \"hyperhypenym: \"\n",
    "    #     + \", \".join(elem[\"grandparents\"])\n",
    "    #     + \", hypernym: \"\n",
    "    #     + elem[\"parents\"]\n",
    "    #     + \", hyponyms:\"\n",
    "    # )\n",
    "    transformed_term = (\n",
    "        \", \".join(elem[\"grandparents\"])\n",
    "        + \" are hyponyms for the word '\"\n",
    "        + elem[\"parents\"]\n",
    "        + \"'. Predict hyponyms for the word '\"\n",
    "        + elem[\"parents\"]\n",
    "        + \"'. Answer:\"\n",
    "    )\n",
    "    return transformed_term"
   ]
  },
  {
   "cell_type": "code",
   "execution_count": null,
   "metadata": {},
   "outputs": [],
   "source": []
  }
 ],
 "metadata": {
  "kernelspec": {
   "display_name": "dataload_env",
   "language": "python",
   "name": "python3"
  },
  "language_info": {
   "codemirror_mode": {
    "name": "ipython",
    "version": 3
   },
   "file_extension": ".py",
   "mimetype": "text/x-python",
   "name": "python",
   "nbconvert_exporter": "python",
   "pygments_lexer": "ipython3",
   "version": "3.10.12"
  },
  "orig_nbformat": 4
 },
 "nbformat": 4,
 "nbformat_minor": 2
}
