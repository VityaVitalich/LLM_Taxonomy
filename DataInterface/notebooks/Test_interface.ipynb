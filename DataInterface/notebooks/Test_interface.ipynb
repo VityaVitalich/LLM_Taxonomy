{
 "cells": [
  {
   "cell_type": "code",
   "execution_count": 1,
   "metadata": {},
   "outputs": [],
   "source": [
    "import networkx as nx\n",
    "from tqdm import tqdm\n",
    "import random\n",
    "from leafer import Leafer\n",
    "import numpy as np\n",
    "import pickle\n",
    "import os\n",
    "import glob"
   ]
  },
  {
   "cell_type": "code",
   "execution_count": 2,
   "metadata": {},
   "outputs": [],
   "source": [
    "# G = nx.read_edgelist(\"./IsA_Graph2.edgelist\", delimiter=\" \", create_using=nx.DiGraph)\n",
    "G = nx.read_edgelist(\"../data/omw/ru_isa.edgelist\", delimiter=\"\\t\", create_using=nx.DiGraph)"
   ]
  },
  {
   "cell_type": "code",
   "execution_count": 3,
   "metadata": {},
   "outputs": [],
   "source": [
    "l = Leafer(G)\n",
    "# iterator = l.leafs_generator()"
   ]
  },
  {
   "cell_type": "code",
   "execution_count": 7,
   "metadata": {},
   "outputs": [],
   "source": [
    "train, test = l.split_train_test(\n",
    "    generation_depth=3,  # до какого уровня в топ. сортировке идти\n",
    "    p=0.1,  # вероятность что подходящий случай уйдет в тест\n",
    "    p_divide_leafs=0.5,\n",
    "    # вероятность что листья поделим пополам трейн-тест\n",
    "    # а не засунем целый случай в трейн или в тест\n",
    "    min_to_test_rate=0.5,\n",
    "    # минимальное количество доли вершин которых не было в\n",
    "    # трейне чтобы поделить пополам на трейн-тест\n",
    "    # то есть если 6\\10 вершин были трейне то значит все 10 в трейн\n",
    "    # если 5\\10 были в трейне, то значит оставшиеся можем кинуть в тест\n",
    "    weights=[0.01, 0.49, 0.4, 0.05, 0.05],\n",
    "    # веса в соответствии\n",
    "    # один ребенок, только листья, не только листья\n",
    "    # триплеты с 2 родителями, триплеты такие что мидл нода имеет\n",
    "    # 1 ребенка\n",
    ")"
   ]
  },
  {
   "cell_type": "code",
   "execution_count": 8,
   "metadata": {},
   "outputs": [
    {
     "data": {
      "text/plain": [
       "(25271, 1820)"
      ]
     },
     "execution_count": 8,
     "metadata": {},
     "output_type": "execute_result"
    }
   ],
   "source": [
    "len(train), len(test)"
   ]
  },
  {
   "cell_type": "code",
   "execution_count": 9,
   "metadata": {},
   "outputs": [
    {
     "data": {
      "text/plain": [
       "116"
      ]
     },
     "execution_count": 9,
     "metadata": {},
     "output_type": "execute_result"
    }
   ],
   "source": [
    "ls = [elem for elem in test if elem[\"case\"] == \"only_leafs_divided\"]\n",
    "len(ls)"
   ]
  },
  {
   "cell_type": "code",
   "execution_count": 10,
   "metadata": {},
   "outputs": [],
   "source": [
    "train_count = {}\n",
    "for elem in train:\n",
    "    if elem[\"case\"] in train_count.keys():\n",
    "        train_count[elem[\"case\"]] += 1\n",
    "\n",
    "    else:\n",
    "        train_count[elem[\"case\"]] = 1\n",
    "\n",
    "test_count = {}\n",
    "for elem in test:\n",
    "    if elem[\"case\"] in test_count.keys():\n",
    "        test_count[elem[\"case\"]] += 1\n",
    "\n",
    "    else:\n",
    "        test_count[elem[\"case\"]] = 1"
   ]
  },
  {
   "cell_type": "code",
   "execution_count": 11,
   "metadata": {},
   "outputs": [
    {
     "data": {
      "text/plain": [
       "({'leafs_and_no_leafs': 2424,\n",
       "  'only_leafs_divided': 814,\n",
       "  'only_child_leaf': 4368,\n",
       "  'simple_triplet_grandparent': 4476,\n",
       "  'only_leafs_all': 1052,\n",
       "  'simple_triplet_2parent': 12137},\n",
       " {'only_leafs_all': 77,\n",
       "  'only_leafs_divided': 116,\n",
       "  'leafs_and_no_leafs': 134,\n",
       "  'simple_triplet_2parent': 678,\n",
       "  'simple_triplet_grandparent': 396,\n",
       "  'only_child_leaf': 419})"
      ]
     },
     "execution_count": 11,
     "metadata": {},
     "output_type": "execute_result"
    }
   ],
   "source": [
    "train_count, test_count"
   ]
  },
  {
   "cell_type": "code",
   "execution_count": 13,
   "metadata": {},
   "outputs": [
    {
     "data": {
      "text/plain": [
       "[{'children': ['закрутить гайки.n.1', 'усугубить.n.1', 'форсировать.n.1'],\n",
       "  'parents': 'усилить.n.2',\n",
       "  'grandparents': None,\n",
       "  'case': 'leafs_and_no_leafs'},\n",
       " {'children': ['засада.n.1', 'капкан.n.1'],\n",
       "  'parents': 'ловушка.n.1',\n",
       "  'grandparents': None,\n",
       "  'case': 'only_leafs_all'},\n",
       " {'children': ['сетовать.n.1', 'ныть.n.1'],\n",
       "  'parents': 'жаловаться.n.2',\n",
       "  'grandparents': None,\n",
       "  'case': 'only_leafs_all'},\n",
       " {'children': 'бушмены.n.1',\n",
       "  'parents': 'негры.n.1',\n",
       "  'grandparents': 'человек.n.1',\n",
       "  'case': 'simple_triplet_grandparent'},\n",
       " {'children': ['биотехнолог.n.1'],\n",
       "  'parents': 'микробиолог.n.1',\n",
       "  'grandparents': None,\n",
       "  'case': 'only_leafs_divided',\n",
       "  'brothers': ['бактериолог.n.1']},\n",
       " {'children': ['пробка для бутылки.n.1', 'заглушка.n.1', 'тампон.n.1'],\n",
       "  'parents': 'затычка.n.1',\n",
       "  'grandparents': None,\n",
       "  'case': 'leafs_and_no_leafs'},\n",
       " {'children': ['игровая приставка.n.1'],\n",
       "  'parents': 'игровое устройство.n.1',\n",
       "  'grandparents': None,\n",
       "  'case': 'only_leafs_divided',\n",
       "  'brothers': ['колесо рулетки.n.1']},\n",
       " {'children': ['гастроскоп.n.1',\n",
       "   'шунт.n.1',\n",
       "   'катетер.n.1',\n",
       "   'гильза.n.1',\n",
       "   'папиросная гильза.n.1',\n",
       "   'стетоскоп.n.1',\n",
       "   'мундштук духового инструмента.n.1',\n",
       "   'змеевик.n.1'],\n",
       "  'parents': 'трубка.n.1',\n",
       "  'grandparents': None,\n",
       "  'case': 'leafs_and_no_leafs'},\n",
       " {'children': ['пластификатор.n.1'],\n",
       "  'parents': 'примесь.n.2',\n",
       "  'grandparents': None,\n",
       "  'case': 'only_leafs_divided',\n",
       "  'brothers': ['присадка.n.1', 'вкрапление.n.1']},\n",
       " {'children': ['обстановка помещения.n.1', 'сервировка стола.n.1'],\n",
       "  'parents': 'убранство.n.1',\n",
       "  'grandparents': None,\n",
       "  'case': 'only_leafs_all'}]"
      ]
     },
     "execution_count": 13,
     "metadata": {},
     "output_type": "execute_result"
    }
   ],
   "source": [
    "test[55:65]"
   ]
  },
  {
   "cell_type": "code",
   "execution_count": 34,
   "metadata": {},
   "outputs": [],
   "source": [
    "num_leaks = 0\n",
    "for vertex in l.collector.test_verteces:\n",
    "    if vertex in l.collector.train_verteces:\n",
    "        num_leaks += 1"
   ]
  },
  {
   "cell_type": "code",
   "execution_count": 23,
   "metadata": {},
   "outputs": [
    {
     "data": {
      "text/plain": [
       "0"
      ]
     },
     "execution_count": 23,
     "metadata": {},
     "output_type": "execute_result"
    }
   ],
   "source": [
    "num_leaks"
   ]
  },
  {
   "cell_type": "code",
   "execution_count": 24,
   "metadata": {},
   "outputs": [],
   "source": [
    "num_leaks = 0\n",
    "for vertex in l.collector.train_verteces:\n",
    "    if vertex in l.collector.test_verteces:\n",
    "        num_leaks += 1"
   ]
  },
  {
   "cell_type": "code",
   "execution_count": 25,
   "metadata": {},
   "outputs": [
    {
     "data": {
      "text/plain": [
       "0"
      ]
     },
     "execution_count": 25,
     "metadata": {},
     "output_type": "execute_result"
    }
   ],
   "source": [
    "num_leaks"
   ]
  },
  {
   "cell_type": "code",
   "execution_count": 24,
   "metadata": {},
   "outputs": [],
   "source": [
    "lang = 'en'\n",
    "name_train = \"../babel_datasets/reweighted_wnet_train_\" + lang + \"_babel.pickle\"\n",
    "name_test = \"../babel_datasets/reweighted_wnet_test_\" + lang + \"_babel.pickle\"\n",
    "\n",
    "with open(name_train, \"wb\") as handle:\n",
    "    pickle.dump(train, handle)\n",
    "\n",
    "with open(name_test, \"wb\") as handle:\n",
    "    pickle.dump(test, handle)"
   ]
  },
  {
   "cell_type": "code",
   "execution_count": 15,
   "metadata": {},
   "outputs": [
    {
     "data": {
      "text/plain": [
       "['../data/omw/ita_isa.edgelist',\n",
       " '../data/omw/ru_isa.edgelist',\n",
       " '../data/omw/fra_isa.edgelist',\n",
       " '../data/omw/eng_isa.edgelist',\n",
       " '../data/omw/spa_isa.edgelist']"
      ]
     },
     "execution_count": 15,
     "metadata": {},
     "output_type": "execute_result"
    }
   ],
   "source": [
    "all_data = glob.glob(os.path.join(\"../data/omw/\", \"*isa.edgelist\"))\n",
    "all_data"
   ]
  },
  {
   "cell_type": "code",
   "execution_count": 17,
   "metadata": {},
   "outputs": [
    {
     "name": "stderr",
     "output_type": "stream",
     "text": [
      "  0%|          | 0/5 [00:00<?, ?it/s]"
     ]
    },
    {
     "name": "stdout",
     "output_type": "stream",
     "text": [
      "ita 538158 3675\n"
     ]
    },
    {
     "name": "stderr",
     "output_type": "stream",
     "text": [
      " 40%|████      | 2/5 [02:52<03:37, 72.51s/it] "
     ]
    },
    {
     "name": "stdout",
     "output_type": "stream",
     "text": [
      "ru 26006 965\n",
      "fra 136390 3307\n"
     ]
    },
    {
     "name": "stderr",
     "output_type": "stream",
     "text": [
      " 60%|██████    | 3/5 [03:32<01:55, 57.54s/it]"
     ]
    },
    {
     "name": "stdout",
     "output_type": "stream",
     "text": [
      "eng 324610 11118\n"
     ]
    },
    {
     "name": "stderr",
     "output_type": "stream",
     "text": [
      "100%|██████████| 5/5 [05:23<00:00, 64.70s/it]"
     ]
    },
    {
     "name": "stdout",
     "output_type": "stream",
     "text": [
      "spa 55235 1242\n"
     ]
    },
    {
     "name": "stderr",
     "output_type": "stream",
     "text": [
      "\n"
     ]
    }
   ],
   "source": [
    "global_train = []\n",
    "global_test = []\n",
    "\n",
    "all_data = glob.glob(os.path.join(\"../data/omw/\", \"*isa.edgelist\"))\n",
    "for path in tqdm(all_data):\n",
    "    lang = path.replace(\"../data/omw/\", \"\").replace(\"_isa.edgelist\", \"\")\n",
    "\n",
    "    G = nx.read_edgelist(path, delimiter=\"\\t\", create_using=nx.DiGraph)\n",
    "    l = Leafer(G)\n",
    "    train, test = l.split_train_test(\n",
    "        generation_depth=3,  # до какого уровня в топ. сортировке идти\n",
    "        p=0.05,  # вероятность что подходящий случай уйдет в тест\n",
    "        p_divide_leafs=0.5,\n",
    "        min_to_test_rate=0.5,\n",
    "        weights=[0.01, 0.49, 0.4, 0.05, 0.05],\n",
    "    )\n",
    "\n",
    "        \n",
    "    print(lang, len(train), len(test))\n",
    "\n",
    "    random.shuffle(train)\n",
    "    random.shuffle(test)\n",
    "\n",
    "    name_train = \"../../omw_datasets/train_\" + lang + \".pickle\"\n",
    "    name_test = \"../../omw_datasets/test_\" + lang + \".pickle\"\n",
    "\n",
    "    with open(name_train, \"wb\") as handle:\n",
    "        pickle.dump(train, handle)\n",
    "\n",
    "    with open(name_test, \"wb\") as handle:\n",
    "        pickle.dump(test, handle)\n",
    "\n",
    "    global_train.extend(train)\n",
    "    global_test.extend(test)\n",
    "\n",
    "name_train = \"../../omw_datasets/global_train.pickle\"\n",
    "name_test = \"../../omw_datasets/global_test.pickle\"\n",
    "\n",
    "\n",
    "random.shuffle(global_train)\n",
    "with open(name_train, \"wb\") as handle:\n",
    "    pickle.dump(global_train, handle)\n",
    "\n",
    "with open(name_test, \"wb\") as handle:\n",
    "    pickle.dump(global_test, handle)"
   ]
  },
  {
   "cell_type": "code",
   "execution_count": 52,
   "metadata": {},
   "outputs": [],
   "source": [
    "name_train = \"../babel_datasets/wnet_only/global_train_babel.pickle\"\n",
    "name_test = \"../babel_datasets/wnet_only/global_test_babel.pickle\"\n",
    "\n",
    "with open(name_train, \"wb\") as handle:\n",
    "    pickle.dump(global_train, handle)\n",
    "\n",
    "with open(name_test, \"wb\") as handle:\n",
    "    pickle.dump(global_test, handle)"
   ]
  },
  {
   "cell_type": "code",
   "execution_count": 48,
   "metadata": {},
   "outputs": [
    {
     "data": {
      "text/plain": [
       "(1980, 38808)"
      ]
     },
     "execution_count": 48,
     "metadata": {},
     "output_type": "execute_result"
    }
   ],
   "source": [
    "len(global_test), len(global_train)"
   ]
  },
  {
   "cell_type": "code",
   "execution_count": 49,
   "metadata": {},
   "outputs": [],
   "source": [
    "max_len = 0\n",
    "k = 0\n",
    "for vert in global_train:\n",
    "    cur_len = len(vert[\"children\"])\n",
    "    if cur_len > 50:\n",
    "        k += 1\n",
    "        max_len = cur_len\n",
    "        max_i = vert"
   ]
  },
  {
   "cell_type": "code",
   "execution_count": 51,
   "metadata": {},
   "outputs": [
    {
     "data": {
      "text/plain": [
       "{'children': 'conditions_normales_de_température_et_de_pression.n.1',\n",
       " 'parents': ['atmosphère.n.1', 'température_standard.n.1'],\n",
       " 'grandparents': None,\n",
       " 'case': 'simple_triplet_2parent'}"
      ]
     },
     "execution_count": 51,
     "metadata": {},
     "output_type": "execute_result"
    }
   ],
   "source": [
    "max_i"
   ]
  },
  {
   "cell_type": "code",
   "execution_count": 17,
   "metadata": {},
   "outputs": [],
   "source": [
    "def predict_child_with_parent_and_grandparent(elem):\n",
    "    \"\"\"\n",
    "    hyperhypenym: arthropod.n.01,\n",
    "    hypernym: insect.n.01, hyponyms:\n",
    "    (blackly)\n",
    "\n",
    "    hyperhypenym: elem['grandparents'],\n",
    "    hypernym: elem['parents'], hyponyms:\n",
    "    elem['children']\n",
    "\n",
    "    Fly is a hyponym for the word “insect\".\n",
    "    Predict hyponyms for the word “fly”. Answer:\n",
    "    \"\"\"\n",
    "\n",
    "    # transformed_term = (\n",
    "    #     \"hyperhypenym: \"\n",
    "    #     + \", \".join(elem[\"grandparents\"])\n",
    "    #     + \", hypernym: \"\n",
    "    #     + elem[\"parents\"]\n",
    "    #     + \", hyponyms:\"\n",
    "    # )\n",
    "    transformed_term = (\n",
    "        \", \".join(elem[\"grandparents\"])\n",
    "        + \" are hyponyms for the word '\"\n",
    "        + elem[\"parents\"]\n",
    "        + \"'. Predict hyponyms for the word '\"\n",
    "        + elem[\"parents\"]\n",
    "        + \"'. Answer:\"\n",
    "    )\n",
    "    return transformed_term"
   ]
  },
  {
   "cell_type": "code",
   "execution_count": null,
   "metadata": {},
   "outputs": [],
   "source": []
  }
 ],
 "metadata": {
  "kernelspec": {
   "display_name": "dataload_env",
   "language": "python",
   "name": "python3"
  },
  "language_info": {
   "codemirror_mode": {
    "name": "ipython",
    "version": 3
   },
   "file_extension": ".py",
   "mimetype": "text/x-python",
   "name": "python",
   "nbconvert_exporter": "python",
   "pygments_lexer": "ipython3",
   "version": "3.10.12"
  },
  "orig_nbformat": 4
 },
 "nbformat": 4,
 "nbformat_minor": 2
}
