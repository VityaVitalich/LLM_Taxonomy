{
 "cells": [
  {
   "cell_type": "code",
   "execution_count": 1,
   "metadata": {},
   "outputs": [],
   "source": [
    "import networkx as nx\n",
    "from tqdm import tqdm\n",
    "import random\n",
    "from leafer import Leafer\n",
    "import numpy as np"
   ]
  },
  {
   "cell_type": "code",
   "execution_count": 2,
   "metadata": {},
   "outputs": [],
   "source": [
    "G = nx.read_edgelist(\"./IsA_Graph2.edgelist\", delimiter=\" \", create_using=nx.DiGraph)"
   ]
  },
  {
   "cell_type": "code",
   "execution_count": 3,
   "metadata": {},
   "outputs": [],
   "source": [
    "l = Leafer(G)\n",
    "#iterator = l.leafs_generator()"
   ]
  },
  {
   "cell_type": "code",
   "execution_count": 4,
   "metadata": {},
   "outputs": [],
   "source": [
    "train, test = l.split_train_test(generation_depth=50, # до какого уровня в топ. сортировке идти\n",
    "                                 p=0.1, # вероятность что подходящий случай уйдет в тест\n",
    "                                 p_divide_leafs=0.5, \n",
    "                                 # вероятность что листья поделим пополам трейн-тест\n",
    "                                 # а не засунем целый случай в трейн или в тест\n",
    "                                 min_to_test_rate=0.5) \n",
    "                                #минимальное количество доли вершин которых не было в \n",
    "                                #трейне чтобы поделить пополам на трейн-тест\n",
    "                                #то есть если 6\\10 вершин были трейне то значит все 10 в трейн\n",
    "                                #если 5\\10 были в трейне, то значит оставшиеся можем кинуть в тест\n",
    "                                "
   ]
  },
  {
   "cell_type": "code",
   "execution_count": 5,
   "metadata": {},
   "outputs": [],
   "source": [
    "num_leaks = 0\n",
    "for vertex in l.collector.test_verteces:\n",
    "    if vertex in l.collector.train_verteces:\n",
    "        num_leaks += 1"
   ]
  },
  {
   "cell_type": "code",
   "execution_count": 6,
   "metadata": {},
   "outputs": [
    {
     "data": {
      "text/plain": [
       "0"
      ]
     },
     "execution_count": 6,
     "metadata": {},
     "output_type": "execute_result"
    }
   ],
   "source": [
    "num_leaks"
   ]
  },
  {
   "cell_type": "code",
   "execution_count": 13,
   "metadata": {},
   "outputs": [],
   "source": [
    "num_leaks = 0\n",
    "for vertex in l.collector.train_verteces:\n",
    "    if vertex in l.collector.test_verteces:\n",
    "        num_leaks += 1"
   ]
  },
  {
   "cell_type": "code",
   "execution_count": 14,
   "metadata": {},
   "outputs": [
    {
     "data": {
      "text/plain": [
       "0"
      ]
     },
     "execution_count": 14,
     "metadata": {},
     "output_type": "execute_result"
    }
   ],
   "source": [
    "num_leaks"
   ]
  },
  {
   "cell_type": "code",
   "execution_count": null,
   "metadata": {},
   "outputs": [],
   "source": []
  }
 ],
 "metadata": {
  "kernelspec": {
   "display_name": "dataload_env",
   "language": "python",
   "name": "python3"
  },
  "language_info": {
   "codemirror_mode": {
    "name": "ipython",
    "version": 3
   },
   "file_extension": ".py",
   "mimetype": "text/x-python",
   "name": "python",
   "nbconvert_exporter": "python",
   "pygments_lexer": "ipython3",
   "version": "3.8.7"
  },
  "orig_nbformat": 4
 },
 "nbformat": 4,
 "nbformat_minor": 2
}
