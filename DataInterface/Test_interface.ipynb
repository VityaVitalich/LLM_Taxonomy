{
 "cells": [
  {
   "cell_type": "code",
   "execution_count": 50,
   "metadata": {},
   "outputs": [],
   "source": [
    "import networkx as nx\n",
    "from tqdm import tqdm\n",
    "import random\n",
    "from leafer import Leafer\n",
    "import numpy as np\n",
    "import pickle"
   ]
  },
  {
   "cell_type": "code",
   "execution_count": 87,
   "metadata": {},
   "outputs": [],
   "source": [
    "#G = nx.read_edgelist(\"./IsA_Graph2.edgelist\", delimiter=\" \", create_using=nx.DiGraph)\n",
    "G = nx.read_edgelist(\"ru_isa.edgelist\", delimiter=\"\\t\", create_using=nx.DiGraph)"
   ]
  },
  {
   "cell_type": "code",
   "execution_count": 88,
   "metadata": {},
   "outputs": [],
   "source": [
    "l = Leafer(G)\n",
    "#iterator = l.leafs_generator()"
   ]
  },
  {
   "cell_type": "code",
   "execution_count": 89,
   "metadata": {},
   "outputs": [],
   "source": [
    "train, test = l.split_train_test(\n",
    "    generation_depth=1, # до какого уровня в топ. сортировке идти\n",
    "    p=0.05, # вероятность что подходящий случай уйдет в тест\n",
    "    p_divide_leafs=0.5, \n",
    "    # вероятность что листья поделим пополам трейн-тест\n",
    "    # а не засунем целый случай в трейн или в тест\n",
    "    min_to_test_rate=0.5,\n",
    "    #минимальное количество доли вершин которых не было в \n",
    "    #трейне чтобы поделить пополам на трейн-тест\n",
    "    #то есть если 6\\10 вершин были трейне то значит все 10 в трейн\n",
    "    #если 5\\10 были в трейне, то значит оставшиеся можем кинуть в тест\n",
    "    weights=[0.25, 0.3, 0.25, 0.1, 0.1], \n",
    "    #веса в соответствии \n",
    "    #один ребенок, только листья, не только листья\n",
    "    #триплеты с 2 родителями, триплеты такие что мидл нода имеет\n",
    "    # 1 ребенка\n",
    "                                )\n",
    "                                "
   ]
  },
  {
   "cell_type": "code",
   "execution_count": 90,
   "metadata": {},
   "outputs": [
    {
     "data": {
      "text/plain": [
       "(10370, 423)"
      ]
     },
     "execution_count": 90,
     "metadata": {},
     "output_type": "execute_result"
    }
   ],
   "source": [
    "len(train), len(test)"
   ]
  },
  {
   "cell_type": "code",
   "execution_count": 91,
   "metadata": {},
   "outputs": [],
   "source": [
    "train_count = {}\n",
    "for elem in train:\n",
    "    if elem['case'] in train_count.keys():\n",
    "        train_count[elem['case']] += 1\n",
    "\n",
    "    else:\n",
    "        train_count[elem['case']] = 1\n",
    "\n",
    "test_count = {}\n",
    "for elem in test:\n",
    "    if elem['case'] in test_count.keys():\n",
    "        test_count[elem['case']] += 1\n",
    "\n",
    "    else:\n",
    "        test_count[elem['case']] = 1"
   ]
  },
  {
   "cell_type": "code",
   "execution_count": 92,
   "metadata": {},
   "outputs": [
    {
     "data": {
      "text/plain": [
       "({'only_leafs_all': 2127,\n",
       "  'simple_triplet_grandparent': 1840,\n",
       "  'leafs_and_no_leafs': 1371,\n",
       "  'simple_triplet_2parent': 2925,\n",
       "  'only_child_leaf': 2052,\n",
       "  'only_leafs_divided': 55},\n",
       " {'only_leafs_all': 53,\n",
       "  'leafs_and_no_leafs': 55,\n",
       "  'only_leafs_divided': 55,\n",
       "  'only_child_leaf': 94,\n",
       "  'simple_triplet_2parent': 78,\n",
       "  'simple_triplet_grandparent': 88})"
      ]
     },
     "execution_count": 92,
     "metadata": {},
     "output_type": "execute_result"
    }
   ],
   "source": [
    "train_count, test_count"
   ]
  },
  {
   "cell_type": "code",
   "execution_count": 93,
   "metadata": {},
   "outputs": [],
   "source": [
    "name_train = '../Data/train_ru_babel.pickle'\n",
    "name_test = '../Data/test_ru_babel.pickle'\n",
    "\n",
    "with open(name_train, 'wb') as handle:\n",
    "    pickle.dump(train, handle)\n",
    "\n",
    "with open(name_test, 'wb') as handle:\n",
    "    pickle.dump(test, handle)\n"
   ]
  },
  {
   "cell_type": "code",
   "execution_count": 42,
   "metadata": {},
   "outputs": [],
   "source": [
    "num_leaks = 0\n",
    "for vertex in l.collector.test_verteces:\n",
    "    if vertex in l.collector.train_verteces:\n",
    "        num_leaks += 1"
   ]
  },
  {
   "cell_type": "code",
   "execution_count": 43,
   "metadata": {},
   "outputs": [
    {
     "data": {
      "text/plain": [
       "0"
      ]
     },
     "execution_count": 43,
     "metadata": {},
     "output_type": "execute_result"
    }
   ],
   "source": [
    "num_leaks"
   ]
  },
  {
   "cell_type": "code",
   "execution_count": 44,
   "metadata": {},
   "outputs": [],
   "source": [
    "num_leaks = 0\n",
    "for vertex in l.collector.train_verteces:\n",
    "    if vertex in l.collector.test_verteces:\n",
    "        num_leaks += 1"
   ]
  },
  {
   "cell_type": "code",
   "execution_count": 45,
   "metadata": {},
   "outputs": [
    {
     "data": {
      "text/plain": [
       "0"
      ]
     },
     "execution_count": 45,
     "metadata": {},
     "output_type": "execute_result"
    }
   ],
   "source": [
    "num_leaks"
   ]
  },
  {
   "cell_type": "code",
   "execution_count": null,
   "metadata": {},
   "outputs": [],
   "source": []
  }
 ],
 "metadata": {
  "kernelspec": {
   "display_name": "dataload_env",
   "language": "python",
   "name": "python3"
  },
  "language_info": {
   "codemirror_mode": {
    "name": "ipython",
    "version": 3
   },
   "file_extension": ".py",
   "mimetype": "text/x-python",
   "name": "python",
   "nbconvert_exporter": "python",
   "pygments_lexer": "ipython3",
   "version": "3.10.10"
  },
  "orig_nbformat": 4
 },
 "nbformat": 4,
 "nbformat_minor": 2
}
