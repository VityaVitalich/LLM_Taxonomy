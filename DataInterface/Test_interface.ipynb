{
 "cells": [
  {
   "cell_type": "code",
   "execution_count": 1,
   "metadata": {},
   "outputs": [],
   "source": [
    "import networkx as nx\n",
    "from tqdm import tqdm\n",
    "import random\n",
    "from leafer import Leafer\n",
    "import numpy as np\n",
    "import pickle\n",
    "import os\n",
    "import glob"
   ]
  },
  {
   "cell_type": "code",
   "execution_count": 2,
   "metadata": {},
   "outputs": [],
   "source": [
    "# G = nx.read_edgelist(\"./IsA_Graph2.edgelist\", delimiter=\" \", create_using=nx.DiGraph)\n",
    "G = nx.read_edgelist(\"ru_isa.edgelist\", delimiter=\"\\t\", create_using=nx.DiGraph)"
   ]
  },
  {
   "cell_type": "code",
   "execution_count": 3,
   "metadata": {},
   "outputs": [],
   "source": [
    "l = Leafer(G)\n",
    "# iterator = l.leafs_generator()"
   ]
  },
  {
   "cell_type": "code",
   "execution_count": 4,
   "metadata": {},
   "outputs": [],
   "source": [
    "train, test = l.split_train_test(\n",
    "    generation_depth=1,  # до какого уровня в топ. сортировке идти\n",
    "    p=0.05,  # вероятность что подходящий случай уйдет в тест\n",
    "    p_divide_leafs=0.6,\n",
    "    # вероятность что листья поделим пополам трейн-тест\n",
    "    # а не засунем целый случай в трейн или в тест\n",
    "    min_to_test_rate=0.5,\n",
    "    # минимальное количество доли вершин которых не было в\n",
    "    # трейне чтобы поделить пополам на трейн-тест\n",
    "    # то есть если 6\\10 вершин были трейне то значит все 10 в трейн\n",
    "    # если 5\\10 были в трейне, то значит оставшиеся можем кинуть в тест\n",
    "    weights=[0.25, 0.3, 0.25, 0.1, 0.1],\n",
    "    # веса в соответствии\n",
    "    # один ребенок, только листья, не только листья\n",
    "    # триплеты с 2 родителями, триплеты такие что мидл нода имеет\n",
    "    # 1 ребенка\n",
    ")"
   ]
  },
  {
   "cell_type": "code",
   "execution_count": 5,
   "metadata": {},
   "outputs": [
    {
     "data": {
      "text/plain": [
       "(10361, 441)"
      ]
     },
     "execution_count": 5,
     "metadata": {},
     "output_type": "execute_result"
    }
   ],
   "source": [
    "len(train), len(test)"
   ]
  },
  {
   "cell_type": "code",
   "execution_count": 6,
   "metadata": {},
   "outputs": [
    {
     "data": {
      "text/plain": [
       "66"
      ]
     },
     "execution_count": 6,
     "metadata": {},
     "output_type": "execute_result"
    }
   ],
   "source": [
    "ls = [elem for elem in test if elem[\"case\"] == \"only_leafs_divided\"]\n",
    "len(ls)"
   ]
  },
  {
   "cell_type": "code",
   "execution_count": 7,
   "metadata": {},
   "outputs": [],
   "source": [
    "train_count = {}\n",
    "for elem in train:\n",
    "    if elem[\"case\"] in train_count.keys():\n",
    "        train_count[elem[\"case\"]] += 1\n",
    "\n",
    "    else:\n",
    "        train_count[elem[\"case\"]] = 1\n",
    "\n",
    "test_count = {}\n",
    "for elem in test:\n",
    "    if elem[\"case\"] in test_count.keys():\n",
    "        test_count[elem[\"case\"]] += 1\n",
    "\n",
    "    else:\n",
    "        test_count[elem[\"case\"]] = 1"
   ]
  },
  {
   "cell_type": "code",
   "execution_count": 8,
   "metadata": {},
   "outputs": [
    {
     "data": {
      "text/plain": [
       "({'only_leafs_divided': 1233,\n",
       "  'only_child_leaf': 2034,\n",
       "  'leafs_and_no_leafs': 1371,\n",
       "  'simple_triplet_grandparent': 1836,\n",
       "  'simple_triplet_2parent': 2932,\n",
       "  'only_leafs_all': 955},\n",
       " {'simple_triplet_grandparent': 92,\n",
       "  'leafs_and_no_leafs': 55,\n",
       "  'only_leafs_divided': 66,\n",
       "  'only_child_leaf': 112,\n",
       "  'only_leafs_all': 45,\n",
       "  'simple_triplet_2parent': 71})"
      ]
     },
     "execution_count": 8,
     "metadata": {},
     "output_type": "execute_result"
    }
   ],
   "source": [
    "train_count, test_count"
   ]
  },
  {
   "cell_type": "code",
   "execution_count": 93,
   "metadata": {},
   "outputs": [],
   "source": []
  },
  {
   "cell_type": "code",
   "execution_count": 9,
   "metadata": {},
   "outputs": [],
   "source": [
    "num_leaks = 0\n",
    "for vertex in l.collector.test_verteces:\n",
    "    if vertex in l.collector.train_verteces:\n",
    "        num_leaks += 1"
   ]
  },
  {
   "cell_type": "code",
   "execution_count": 10,
   "metadata": {},
   "outputs": [
    {
     "data": {
      "text/plain": [
       "0"
      ]
     },
     "execution_count": 10,
     "metadata": {},
     "output_type": "execute_result"
    }
   ],
   "source": [
    "num_leaks"
   ]
  },
  {
   "cell_type": "code",
   "execution_count": 11,
   "metadata": {},
   "outputs": [],
   "source": [
    "num_leaks = 0\n",
    "for vertex in l.collector.train_verteces:\n",
    "    if vertex in l.collector.test_verteces:\n",
    "        num_leaks += 1"
   ]
  },
  {
   "cell_type": "code",
   "execution_count": 12,
   "metadata": {},
   "outputs": [
    {
     "data": {
      "text/plain": [
       "0"
      ]
     },
     "execution_count": 12,
     "metadata": {},
     "output_type": "execute_result"
    }
   ],
   "source": [
    "num_leaks"
   ]
  },
  {
   "cell_type": "code",
   "execution_count": 13,
   "metadata": {},
   "outputs": [
    {
     "name": "stderr",
     "output_type": "stream",
     "text": [
      "100%|██████████| 6/6 [00:11<00:00,  1.93s/it]\n"
     ]
    }
   ],
   "source": [
    "all_data = glob.glob(os.path.join(\".\", \"*isa.edgelist\"))\n",
    "for path in tqdm(all_data):\n",
    "    lang = path.replace(\"./\", \"\").replace(\"_isa.edgelist\", \"\")\n",
    "\n",
    "    G = nx.read_edgelist(path, delimiter=\"\\t\", create_using=nx.DiGraph)\n",
    "    l = Leafer(G)\n",
    "    train, test = l.split_train_test(\n",
    "        generation_depth=1,\n",
    "        p=0.05,\n",
    "        p_divide_leafs=0.5,\n",
    "        min_to_test_rate=0.5,\n",
    "        weights=[0.25, 0.3, 0.25, 0.1, 0.1],\n",
    "    )\n",
    "\n",
    "    name_train = \"../babel_datasets/train_\" + lang + \"_babel.pickle\"\n",
    "    name_test = \"../babel_datasets/test_\" + lang + \"_babel.pickle\"\n",
    "\n",
    "    with open(name_train, \"wb\") as handle:\n",
    "        pickle.dump(train, handle)\n",
    "\n",
    "    with open(name_test, \"wb\") as handle:\n",
    "        pickle.dump(test, handle)"
   ]
  },
  {
   "cell_type": "code",
   "execution_count": 14,
   "metadata": {},
   "outputs": [],
   "source": [
    "ls = [elem for elem in test if elem[\"case\"] == \"only_leafs_divided\"]"
   ]
  },
  {
   "cell_type": "code",
   "execution_count": 15,
   "metadata": {},
   "outputs": [
    {
     "data": {
      "text/plain": [
       "[{'children': ['графема.n.1'],\n",
       "  'parents': 'написанных_символов.n.1',\n",
       "  'grandparents': None,\n",
       "  'case': 'only_leafs_divided',\n",
       "  'brothers': ['Фонограмма_(лингвистика).n.1']},\n",
       " {'children': ['многоколосник_фенхельный.n.1'],\n",
       "  'parents': 'гигантский_иссоп.n.1',\n",
       "  'grandparents': None,\n",
       "  'case': 'only_leafs_divided',\n",
       "  'brothers': ['Agastache_mexicana.n.1', 'agastache_nepetoides.n.1']},\n",
       " {'children': ['аятолла.n.1'],\n",
       "  'parents': 'религиозный_лидер.n.1',\n",
       "  'grandparents': None,\n",
       "  'case': 'only_leafs_divided',\n",
       "  'brothers': ['гуру.n.1']},\n",
       " {'children': ['Херман,_Джерри.n.1', 'Glen_Phillips.n.1'],\n",
       "  'parents': 'поэт-песенник.n.1',\n",
       "  'grandparents': None,\n",
       "  'case': 'only_leafs_divided',\n",
       "  'brothers': ['Блэйз_Бэйли.n.1', 'Сигурдур_Тораринссон.n.1']},\n",
       " {'children': ['Южноафриканская_щитковая_кобра.n.1'],\n",
       "  'parents': 'старый_змей_коралловый_мир.n.1',\n",
       "  'grandparents': None,\n",
       "  'case': 'only_leafs_divided',\n",
       "  'brothers': ['азиатские_змеи_коралл.n.1', 'rhynchoelaps_australis.n.1']},\n",
       " {'children': ['частота_Найквиста.n.1'],\n",
       "  'parents': 'частота_дискретизации.n.1',\n",
       "  'grandparents': None,\n",
       "  'case': 'only_leafs_divided',\n",
       "  'brothers': ['найквиста.n.1']},\n",
       " {'children': ['альт-саксофонист.n.1'],\n",
       "  'parents': 'саксофони́ст.n.1',\n",
       "  'grandparents': None,\n",
       "  'case': 'only_leafs_divided',\n",
       "  'brothers': ['тенор-саксофон.n.1']},\n",
       " {'children': ['азотные_бактерии.n.1'],\n",
       "  'parents': 'nitrobacterium.n.1',\n",
       "  'grandparents': None,\n",
       "  'case': 'only_leafs_divided',\n",
       "  'brothers': ['закиси_бактерии.n.1']},\n",
       " {'children': ['акустических_проекции.n.1'],\n",
       "  'parents': 'акустическое_явление.n.1',\n",
       "  'grandparents': None,\n",
       "  'case': 'only_leafs_divided',\n",
       "  'brothers': ['дисторшн.n.1']},\n",
       " {'children': ['законопроект_об_ассигнованиях.n.1', 'билль_об_опале.n.1'],\n",
       "  'parents': 'законопроект.n.1',\n",
       "  'grandparents': None,\n",
       "  'case': 'only_leafs_divided',\n",
       "  'brothers': ['бутылка_законопроект.n.1',\n",
       "   'законопроект_фермы.n.1',\n",
       "   'торговая_тратта.n.1']},\n",
       " {'children': ['радиевая_терапия.n.1'],\n",
       "  'parents': 'радиотерапия.n.1',\n",
       "  'grandparents': None,\n",
       "  'case': 'only_leafs_divided',\n",
       "  'brothers': ['световой_короб.n.1', 'рентгенотерапия.n.1']},\n",
       " {'children': ['острая_почечная_недостаточность.n.1'],\n",
       "  'parents': 'почечная_недостаточность.n.1',\n",
       "  'grandparents': None,\n",
       "  'case': 'only_leafs_divided',\n",
       "  'brothers': ['хроническая_болезнь_почек.n.1']},\n",
       " {'children': ['соседнюю_комнату.n.1'],\n",
       "  'parents': 'гостиничном_номере.n.1',\n",
       "  'grandparents': None,\n",
       "  'case': 'only_leafs_divided',\n",
       "  'brothers': ['подключение_номера.n.1']},\n",
       " {'children': ['ботулизм.n.1', 'отравление_грибами.n.1'],\n",
       "  'parents': 'пищевое_отравление.n.1',\n",
       "  'grandparents': None,\n",
       "  'case': 'only_leafs_divided',\n",
       "  'brothers': ['болезни_пищевого_происхождения.n.1', 'сальмонеллёз.n.1']},\n",
       " {'children': ['иранские_динар.n.1'],\n",
       "  'parents': 'иранские_денежной_единицы.n.1',\n",
       "  'grandparents': None,\n",
       "  'case': 'only_leafs_divided',\n",
       "  'brothers': ['Иранский_риал.n.1']},\n",
       " {'children': ['югославский_динар.n.1'],\n",
       "  'parents': 'югославский_денежной_единицы.n.1',\n",
       "  'grandparents': None,\n",
       "  'case': 'only_leafs_divided',\n",
       "  'brothers': ['пара_(денежная_единица).n.1']},\n",
       " {'children': ['Mammuthus_columbi.n.1'],\n",
       "  'parents': 'мамонты.n.1',\n",
       "  'grandparents': None,\n",
       "  'case': 'only_leafs_divided',\n",
       "  'brothers': ['mammuthus_columbi.n.1', 'шерстистый_мамонт.n.1']},\n",
       " {'children': ['зелёная_ящерица.n.1'],\n",
       "  'parents': 'lacertid.n.1',\n",
       "  'grandparents': None,\n",
       "  'case': 'only_leafs_divided',\n",
       "  'brothers': ['прыткая_ящерица.n.1']},\n",
       " {'children': ['Boletellus_russellii.n.1',\n",
       "   'Моховик_трещиноватый.n.1',\n",
       "   'белый_гриб.n.1',\n",
       "   'Boletus_frostii.n.1',\n",
       "   'Дубовик_оливково-бурый.n.1',\n",
       "   'Aureoboletus_mirabilis.n.1',\n",
       "   'boletus_бледного.n.1',\n",
       "   'Боровик_прекрасный.n.1',\n",
       "   'Boletus_pulverulentus.n.1'],\n",
       "  'parents': 'белые_грибы.n.1',\n",
       "  'grandparents': None,\n",
       "  'case': 'only_leafs_divided',\n",
       "  'brothers': ['boletus_roxanae.n.1',\n",
       "   'Boletus_subvelutipes.n.1',\n",
       "   'boletus_variipes.n.1',\n",
       "   'Xerocomellus_zelleri.n.1',\n",
       "   'fuscoboletinus_paluster.n.1',\n",
       "   'fuscoboletinus_serotinus.n.1',\n",
       "   'leccinum_fibrillosum.n.1',\n",
       "   'Шишкогриб_хлопьеножковый.n.1',\n",
       "   'phylloporus_boletinoides.n.1',\n",
       "   'suillus_albivelatus.n.1']},\n",
       " {'children': ['подпись_вместо_другого_лица.n.1', 'авто́граф.n.1'],\n",
       "  'parents': 'подпись.n.1',\n",
       "  'grandparents': None,\n",
       "  'case': 'only_leafs_divided',\n",
       "  'brothers': ['контрасигнатура.n.1', 'собственноручная_подпись.n.1']},\n",
       " {'children': ['пузырьковая_камера.n.1'],\n",
       "  'parents': 'Детектор_частиц.n.1',\n",
       "  'grandparents': None,\n",
       "  'case': 'only_leafs_divided',\n",
       "  'brothers': ['камера_Вильсона.n.1', 'искровая_камера.n.1']},\n",
       " {'children': ['кольцо_вакцинации.n.1'],\n",
       "  'parents': 'вакцинации.n.1',\n",
       "  'grandparents': None,\n",
       "  'case': 'only_leafs_divided',\n",
       "  'brothers': ['вариоляция.n.1']},\n",
       " {'children': ['Сульфат_алюминия-калия.n.1'],\n",
       "  'parents': 'алюминий.n.1',\n",
       "  'grandparents': None,\n",
       "  'case': 'only_leafs_divided',\n",
       "  'brothers': ['Сульфат_алюминия-аммония.n.1']},\n",
       " {'children': ['уран-235.n.1'],\n",
       "  'parents': 'уран_(элемент).n.1',\n",
       "  'grandparents': None,\n",
       "  'case': 'only_leafs_divided',\n",
       "  'brothers': ['уран-238.n.1']},\n",
       " {'children': ['восточный_алебастр.n.1'],\n",
       "  'parents': 'кальцит.n.1',\n",
       "  'grandparents': None,\n",
       "  'case': 'only_leafs_divided',\n",
       "  'brothers': ['исландский_шпат.n.1']},\n",
       " {'children': ['пивная.n.1'],\n",
       "  'parents': 'паб.n.1',\n",
       "  'grandparents': None,\n",
       "  'case': 'only_leafs_divided',\n",
       "  'brothers': ['свободный_дом.n.1']},\n",
       " {'children': ['буровая_штанга.n.1', 'эвтектоидной_стали.n.1'],\n",
       "  'parents': 'высокоуглеродистая_сталь.n.1',\n",
       "  'grandparents': None,\n",
       "  'case': 'only_leafs_divided',\n",
       "  'brothers': ['гипер-эвтектоидной_стали.n.1', 'гипо-эвтектоидной_стали.n.1']},\n",
       " {'children': ['setaria_италийский_stramineofructa.n.1'],\n",
       "  'parents': 'могар.n.1',\n",
       "  'grandparents': None,\n",
       "  'case': 'only_leafs_divided',\n",
       "  'brothers': ['setaria_италийский_rubrofructa.n.1']},\n",
       " {'children': ['стерилизация_женщины.n.1'],\n",
       "  'parents': 'хирургическая_контрацепция.n.1',\n",
       "  'grandparents': None,\n",
       "  'case': 'only_leafs_divided',\n",
       "  'brothers': ['вазэктомия.n.1']},\n",
       " {'children': ['дилетантство.n.1', 'maladroitness.n.1'],\n",
       "  'parents': 'неумелости.n.1',\n",
       "  'grandparents': None,\n",
       "  'case': 'only_leafs_divided',\n",
       "  'brothers': ['disfluency.n.1',\n",
       "   'несогласованность.n.1',\n",
       "   'неэффективности.n.1']},\n",
       " {'children': ['Viola_labradorica.n.1',\n",
       "   'Viola_pedata.n.1',\n",
       "   'Viola_canadensis.n.1',\n",
       "   'Viola_striata.n.1',\n",
       "   'альт_шиповника.n.1'],\n",
       "  'parents': 'фиолетовый.n.1',\n",
       "  'grandparents': None,\n",
       "  'case': 'only_leafs_divided',\n",
       "  'brothers': ['Viola_pubescens.n.1',\n",
       "   'фиалка_душистая.n.1',\n",
       "   'Viola_ocellata.n.1',\n",
       "   'Viola_reichenbachiana.n.1',\n",
       "   'Viola_rostrata.n.1',\n",
       "   'Viola_blanda.n.1']},\n",
       " {'children': ['нафциллин.n.1'],\n",
       "  'parents': 'пенициллиназу_устойчивый_антибиотик.n.1',\n",
       "  'grandparents': None,\n",
       "  'case': 'only_leafs_divided',\n",
       "  'brothers': ['оксациллин.n.1']},\n",
       " {'children': ['папист.n.1'],\n",
       "  'parents': 'римо-католик.n.1',\n",
       "  'grandparents': None,\n",
       "  'case': 'only_leafs_divided',\n",
       "  'brothers': ['ультрамонта́н.n.1']},\n",
       " {'children': ['ватин_тренер.n.1'],\n",
       "  'parents': 'бейсбольный_менеджер.n.1',\n",
       "  'grandparents': None,\n",
       "  'case': 'only_leafs_divided',\n",
       "  'brothers': ['качки_тренер.n.1']},\n",
       " {'children': ['жужжальца.n.1'],\n",
       "  'parents': 'hindwing.n.1',\n",
       "  'grandparents': None,\n",
       "  'case': 'only_leafs_divided',\n",
       "  'brothers': ['надкрылья.n.1', 'переднего_крыла.n.1']},\n",
       " {'children': ['fawner.n.1'],\n",
       "  'parents': 'льстец.n.1',\n",
       "  'grandparents': None,\n",
       "  'case': 'only_leafs_divided',\n",
       "  'brothers': ['конфета.n.1']},\n",
       " {'children': ['кальдера.n.1'],\n",
       "  'parents': 'вулканический_кратер.n.1',\n",
       "  'grandparents': None,\n",
       "  'case': 'only_leafs_divided',\n",
       "  'brothers': ['маар.n.1']},\n",
       " {'children': ['интенси́вный_курс.n.1'],\n",
       "  'parents': 'учебный_план.n.1',\n",
       "  'grandparents': None,\n",
       "  'case': 'only_leafs_divided',\n",
       "  'brothers': ['степень_программы.n.1', 'программы_чтения.n.1']},\n",
       " {'children': ['наличная_корова.n.2'],\n",
       "  'parents': 'план.n.2',\n",
       "  'grandparents': None,\n",
       "  'case': 'only_leafs_divided',\n",
       "  'brothers': ['отель_плана.n.2', 'разметки.n.2']},\n",
       " {'children': ['постоянный_посетитель_театральных_премьер.n.1'],\n",
       "  'parents': 'театрал.n.1',\n",
       "  'grandparents': None,\n",
       "  'case': 'only_leafs_divided',\n",
       "  'brothers': ['низкорослое_растение.n.1']},\n",
       " {'children': ['авгур.n.1'],\n",
       "  'parents': 'предсказатель.n.1',\n",
       "  'grandparents': None,\n",
       "  'case': 'only_leafs_divided',\n",
       "  'brothers': ['пророчица.n.1', 'сивилла.n.1']},\n",
       " {'children': ['парус_atricapillus.n.1'],\n",
       "  'parents': 'синица-гаичка.n.1',\n",
       "  'grandparents': None,\n",
       "  'case': 'only_leafs_divided',\n",
       "  'brothers': ['Poecile_carolinensis.n.1']},\n",
       " {'children': ['промашка.n.1', 'грубый_промах.n.1', 'беста́ктность.n.1'],\n",
       "  'parents': 'ляп.n.1',\n",
       "  'grandparents': None,\n",
       "  'case': 'only_leafs_divided',\n",
       "  'brothers': ['опло́шность.n.1',\n",
       "   'фамбл_(американский_футбол).n.1',\n",
       "   'оплошность.n.1',\n",
       "   'путаница.n.1']},\n",
       " {'children': ['выделенный_сервер_файлов.n.1'],\n",
       "  'parents': 'файловый_сервер.n.1',\n",
       "  'grandparents': None,\n",
       "  'case': 'only_leafs_divided',\n",
       "  'brothers': ['не-выделенный_файл-сервер.n.1']},\n",
       " {'children': ['висит_лету.n.1'],\n",
       "  'parents': 'mecopteran.n.1',\n",
       "  'grandparents': None,\n",
       "  'case': 'only_leafs_divided',\n",
       "  'brothers': ['скорпион_лету.n.1']},\n",
       " {'children': ['внутримозговое_кровоизлияние.n.1',\n",
       "   'носовое_кровотечение.n.1',\n",
       "   'геморрагический_инсульт.n.1'],\n",
       "  'parents': 'кровотечение.n.1',\n",
       "  'grandparents': None,\n",
       "  'case': 'only_leafs_divided',\n",
       "  'brothers': ['гифема.n.1', 'метроррагия.n.1', 'ulemorrhagia.n.1']},\n",
       " {'children': ['капсюль-детонатор.n.1'],\n",
       "  'parents': 'детонатор.n.1',\n",
       "  'grandparents': None,\n",
       "  'case': 'only_leafs_divided',\n",
       "  'brothers': ['пистон.n.1']},\n",
       " {'children': ['коньяк_стропа.n.1'],\n",
       "  'parents': 'коктейль.n.1',\n",
       "  'grandparents': None,\n",
       "  'case': 'only_leafs_divided',\n",
       "  'brothers': ['Сингапурский_слинг.n.1', 'ром_стропа.n.1']},\n",
       " {'children': ['золотая_рыбка.n.1',\n",
       "   'золотой_карась.n.1',\n",
       "   'карп.n.1',\n",
       "   'голавль.n.1',\n",
       "   'елец_(рыба).n.1'],\n",
       "  'parents': 'карповых.n.1',\n",
       "  'grandparents': None,\n",
       "  'case': 'only_leafs_divided',\n",
       "  'brothers': ['обыкновенный_пескарь.n.1',\n",
       "   'обыкновенный_гольян.n.1',\n",
       "   'обыкновенная_плотва.n.1',\n",
       "   'краснопёрка.n.1',\n",
       "   'синяк.n.1',\n",
       "   'линь.n.1']},\n",
       " {'children': ['dayboy.n.1'],\n",
       "  'parents': 'полупансионер.n.1',\n",
       "  'grandparents': None,\n",
       "  'case': 'only_leafs_divided',\n",
       "  'brothers': ['daygirl.n.1']},\n",
       " {'children': ['enl.n.1', 'Многоформная_экссудативная_эритема.n.1'],\n",
       "  'parents': 'эритема.n.1',\n",
       "  'grandparents': None,\n",
       "  'case': 'only_leafs_divided',\n",
       "  'brothers': ['со́лнечный_ожо́г.n.1', 'засос.n.1', 'обветренность_лица.n.1']},\n",
       " {'children': ['портативность.n.1'],\n",
       "  'parents': 'movableness.n.1',\n",
       "  'grandparents': None,\n",
       "  'case': 'only_leafs_divided',\n",
       "  'brothers': ['ricketiness.n.1']},\n",
       " {'children': ['Дэниел,_Прайс.n.1',\n",
       "   'Тураджонзода,_Ходжи_Акбар.n.1',\n",
       "   'James_Abourezk.n.1'],\n",
       "  'parents': 'Сенат_США.n.1',\n",
       "  'grandparents': None,\n",
       "  'case': 'only_leafs_divided',\n",
       "  'brothers': ['Ross_Bass.n.1', 'Тьюн,_Джон.n.1']}]"
      ]
     },
     "execution_count": 15,
     "metadata": {},
     "output_type": "execute_result"
    }
   ],
   "source": [
    "ls"
   ]
  },
  {
   "cell_type": "code",
   "execution_count": 17,
   "metadata": {},
   "outputs": [],
   "source": [
    "def predict_child_with_parent_and_grandparent(elem):\n",
    "    \"\"\"\n",
    "    hyperhypenym: arthropod.n.01,\n",
    "    hypernym: insect.n.01, hyponyms:\n",
    "    (blackly)\n",
    "\n",
    "    hyperhypenym: elem['grandparents'],\n",
    "    hypernym: elem['parents'], hyponyms:\n",
    "    elem['children']\n",
    "\n",
    "    Fly is a hyponym for the word “insect\".\n",
    "    Predict hyponyms for the word “fly”. Answer:\n",
    "    \"\"\"\n",
    "\n",
    "    # transformed_term = (\n",
    "    #     \"hyperhypenym: \"\n",
    "    #     + \", \".join(elem[\"grandparents\"])\n",
    "    #     + \", hypernym: \"\n",
    "    #     + elem[\"parents\"]\n",
    "    #     + \", hyponyms:\"\n",
    "    # )\n",
    "    transformed_term = (\n",
    "        \", \".join(elem[\"grandparents\"])\n",
    "        + \" are hyponyms for the word '\"\n",
    "        + elem[\"parents\"]\n",
    "        + \"'. Predict hyponyms for the word '\"\n",
    "        + elem[\"parents\"]\n",
    "        + \"'. Answer:\"\n",
    "    )\n",
    "    return transformed_term"
   ]
  },
  {
   "cell_type": "code",
   "execution_count": null,
   "metadata": {},
   "outputs": [],
   "source": []
  }
 ],
 "metadata": {
  "kernelspec": {
   "display_name": "dataload_env",
   "language": "python",
   "name": "python3"
  },
  "language_info": {
   "codemirror_mode": {
    "name": "ipython",
    "version": 3
   },
   "file_extension": ".py",
   "mimetype": "text/x-python",
   "name": "python",
   "nbconvert_exporter": "python",
   "pygments_lexer": "ipython3",
   "version": "3.10.10"
  },
  "orig_nbformat": 4
 },
 "nbformat": 4,
 "nbformat_minor": 2
}
