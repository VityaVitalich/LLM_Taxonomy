{
 "cells": [
  {
   "cell_type": "code",
   "execution_count": 1,
   "metadata": {
    "tags": []
   },
   "outputs": [],
   "source": [
    "import networkx as nx\n",
    "from tqdm import tqdm\n",
    "from leafer import Leafer\n",
    "\n",
    "import pandas as pd"
   ]
  },
  {
   "cell_type": "code",
   "execution_count": 2,
   "metadata": {
    "tags": []
   },
   "outputs": [
    {
     "data": {
      "text/plain": [
       "'/home/jovyan/work/DataInterface'"
      ]
     },
     "execution_count": 2,
     "metadata": {},
     "output_type": "execute_result"
    }
   ],
   "source": [
    "pwd"
   ]
  },
  {
   "cell_type": "code",
   "execution_count": 3,
   "metadata": {
    "tags": []
   },
   "outputs": [],
   "source": [
    "G = nx.read_edgelist(\"IsA_Graph2.edgelist\", delimiter=\" \", create_using=nx.DiGraph)\n",
    "\n",
    "l = Leafer(G)\n",
    "iterator = l.leafs_generator()"
   ]
  },
  {
   "cell_type": "code",
   "execution_count": 4,
   "metadata": {
    "tags": []
   },
   "outputs": [
    {
     "data": {
      "text/plain": [
       "('allograph',\n",
       " {0: {'character', 'signature'},\n",
       "  1: {'adult',\n",
       "   'attribute',\n",
       "   'character_string_token_inscribed',\n",
       "   'hand_written_document',\n",
       "   'icon',\n",
       "   'name',\n",
       "   'portrayal',\n",
       "   'primitive_type',\n",
       "   'recommendation',\n",
       "   'repute',\n",
       "   'sheet',\n",
       "   'spiritual_strength',\n",
       "   'trait',\n",
       "   'tune',\n",
       "   'what_in_dark',\n",
       "   'work_of_aesthetic_interest',\n",
       "   'written_symbol'}})"
      ]
     },
     "execution_count": 4,
     "metadata": {},
     "output_type": "execute_result"
    }
   ],
   "source": [
    "next(iterator)"
   ]
  },
  {
   "cell_type": "markdown",
   "metadata": {},
   "source": [
    "### DataSet"
   ]
  },
  {
   "cell_type": "code",
   "execution_count": 5,
   "metadata": {
    "tags": []
   },
   "outputs": [],
   "source": [
    "def get_hyper(word, relation):\n",
    "\n",
    "    zero_lvl = [hyper.replace('_', ' ') for hyper in relation[0]]\n",
    "    one_lvl = [hyper.replace('_', ' ') for hyper in relation[1]]\n",
    "    \n",
    "    output_one = [[word.replace('_', ' '), '\\t'.join(zero_lvl + one_lvl)]]\n",
    "    return pd.DataFrame(output_one, columns=['word', 'hypernym'])"
   ]
  },
  {
   "cell_type": "code",
   "execution_count": 6,
   "metadata": {
    "tags": []
   },
   "outputs": [],
   "source": [
    "DATASET = pd.DataFrame(columns=['word', 'hypernym'])"
   ]
  },
  {
   "cell_type": "code",
   "execution_count": 7,
   "metadata": {
    "tags": []
   },
   "outputs": [],
   "source": [
    "G = nx.read_edgelist(\"IsA_Graph2.edgelist\", delimiter=\" \", create_using=nx.DiGraph)\n",
    "\n",
    "l = Leafer(G)\n",
    "iterator = l.leafs_generator()"
   ]
  },
  {
   "cell_type": "code",
   "execution_count": null,
   "metadata": {
    "tags": []
   },
   "outputs": [],
   "source": [
    "while 1:\n",
    "    try:\n",
    "        word, relation = next(iterator)\n",
    "        DATASET = pd.concat([DATASET, get_hyper(word, relation)])\n",
    "        DATASET.to_csv('custom_dataset.csv', index=False)\n",
    "                \n",
    "    except StopIteration:\n",
    "        break"
   ]
  },
  {
   "cell_type": "code",
   "execution_count": 14,
   "metadata": {
    "tags": []
   },
   "outputs": [
    {
     "data": {
      "text/html": [
       "<div>\n",
       "<style scoped>\n",
       "    .dataframe tbody tr th:only-of-type {\n",
       "        vertical-align: middle;\n",
       "    }\n",
       "\n",
       "    .dataframe tbody tr th {\n",
       "        vertical-align: top;\n",
       "    }\n",
       "\n",
       "    .dataframe thead th {\n",
       "        text-align: right;\n",
       "    }\n",
       "</style>\n",
       "<table border=\"1\" class=\"dataframe\">\n",
       "  <thead>\n",
       "    <tr style=\"text-align: right;\">\n",
       "      <th></th>\n",
       "      <th>word</th>\n",
       "      <th>hypernym</th>\n",
       "    </tr>\n",
       "  </thead>\n",
       "  <tbody>\n",
       "    <tr>\n",
       "      <th>0</th>\n",
       "      <td>allograph</td>\n",
       "      <td>character\\tsignature\\tportrayal\\trecommendatio...</td>\n",
       "    </tr>\n",
       "    <tr>\n",
       "      <th>1</th>\n",
       "      <td>asterisk</td>\n",
       "      <td>character\\tsoftware\\tlabour intensive enterpri...</td>\n",
       "    </tr>\n",
       "    <tr>\n",
       "      <th>2</th>\n",
       "      <td>check character</td>\n",
       "      <td>character\\tportrayal\\trecommendation\\tattribut...</td>\n",
       "    </tr>\n",
       "    <tr>\n",
       "      <th>3</th>\n",
       "      <td>double dagger</td>\n",
       "      <td>character\\tportrayal\\trecommendation\\tattribut...</td>\n",
       "    </tr>\n",
       "    <tr>\n",
       "      <th>4</th>\n",
       "      <td>every person</td>\n",
       "      <td>character\\tchild of two people\\tportrayal\\trec...</td>\n",
       "    </tr>\n",
       "    <tr>\n",
       "      <th>...</th>\n",
       "      <td>...</td>\n",
       "      <td>...</td>\n",
       "    </tr>\n",
       "    <tr>\n",
       "      <th>89345</th>\n",
       "      <td>xml schema datatype int</td>\n",
       "      <td>xml schema datatype long\\tinteger extent</td>\n",
       "    </tr>\n",
       "    <tr>\n",
       "      <th>89346</th>\n",
       "      <td>yemeni fils</td>\n",
       "      <td>yemeni monetary unit\\tmonetary unit</td>\n",
       "    </tr>\n",
       "    <tr>\n",
       "      <th>89347</th>\n",
       "      <td>yugo gv</td>\n",
       "      <td>yugo\\tyugoslavian car\\tcar</td>\n",
       "    </tr>\n",
       "    <tr>\n",
       "      <th>89348</th>\n",
       "      <td>zip code nine digit</td>\n",
       "      <td>zip code\\tnumber string\\tcode\\tpostal code</td>\n",
       "    </tr>\n",
       "    <tr>\n",
       "      <th>89349</th>\n",
       "      <td>zubovskia banatica</td>\n",
       "      <td>zubovskia\\tgrasshopper</td>\n",
       "    </tr>\n",
       "  </tbody>\n",
       "</table>\n",
       "<p>89350 rows × 2 columns</p>\n",
       "</div>"
      ],
      "text/plain": [
       "                          word  \\\n",
       "0                    allograph   \n",
       "1                     asterisk   \n",
       "2              check character   \n",
       "3                double dagger   \n",
       "4                 every person   \n",
       "...                        ...   \n",
       "89345  xml schema datatype int   \n",
       "89346              yemeni fils   \n",
       "89347                  yugo gv   \n",
       "89348      zip code nine digit   \n",
       "89349       zubovskia banatica   \n",
       "\n",
       "                                                hypernym  \n",
       "0      character\\tsignature\\tportrayal\\trecommendatio...  \n",
       "1      character\\tsoftware\\tlabour intensive enterpri...  \n",
       "2      character\\tportrayal\\trecommendation\\tattribut...  \n",
       "3      character\\tportrayal\\trecommendation\\tattribut...  \n",
       "4      character\\tchild of two people\\tportrayal\\trec...  \n",
       "...                                                  ...  \n",
       "89345           xml schema datatype long\\tinteger extent  \n",
       "89346                yemeni monetary unit\\tmonetary unit  \n",
       "89347                         yugo\\tyugoslavian car\\tcar  \n",
       "89348         zip code\\tnumber string\\tcode\\tpostal code  \n",
       "89349                             zubovskia\\tgrasshopper  \n",
       "\n",
       "[89350 rows x 2 columns]"
      ]
     },
     "execution_count": 14,
     "metadata": {},
     "output_type": "execute_result"
    }
   ],
   "source": [
    "df = pd.read_csv('custom_dataset.csv')\n",
    "df"
   ]
  },
  {
   "cell_type": "code",
   "execution_count": 37,
   "metadata": {
    "tags": []
   },
   "outputs": [],
   "source": [
    "import re \n",
    "patter = re.compile('[A-Za-z ]')\n",
    "\n",
    "bad_words_mask = df.word.apply(lambda x: len(re.sub(r\"[A-Za-z0-9',. ]+\", '', x)) > 0)"
   ]
  },
  {
   "cell_type": "code",
   "execution_count": 38,
   "metadata": {
    "tags": []
   },
   "outputs": [
    {
     "data": {
      "text/html": [
       "<div>\n",
       "<style scoped>\n",
       "    .dataframe tbody tr th:only-of-type {\n",
       "        vertical-align: middle;\n",
       "    }\n",
       "\n",
       "    .dataframe tbody tr th {\n",
       "        vertical-align: top;\n",
       "    }\n",
       "\n",
       "    .dataframe thead th {\n",
       "        text-align: right;\n",
       "    }\n",
       "</style>\n",
       "<table border=\"1\" class=\"dataframe\">\n",
       "  <thead>\n",
       "    <tr style=\"text-align: right;\">\n",
       "      <th></th>\n",
       "      <th>word</th>\n",
       "      <th>hypernym</th>\n",
       "    </tr>\n",
       "  </thead>\n",
       "  <tbody>\n",
       "    <tr>\n",
       "      <th>2074</th>\n",
       "      <td>dihomo Î³ linolenic acid</td>\n",
       "      <td>chemical compound\\tfacet collection\\tchemical ...</td>\n",
       "    </tr>\n",
       "    <tr>\n",
       "      <th>2276</th>\n",
       "      <td>frÃ©my's salt</td>\n",
       "      <td>chemical compound\\tfacet collection\\tchemical ...</td>\n",
       "    </tr>\n",
       "    <tr>\n",
       "      <th>4264</th>\n",
       "      <td>Ã©lysÃ©e palace</td>\n",
       "      <td>building\\twhere people might live\\tcreation\\tr...</td>\n",
       "    </tr>\n",
       "    <tr>\n",
       "      <th>4463</th>\n",
       "      <td>dÃ©classÃ©e</td>\n",
       "      <td>film\\twebsite\\tway of recording moving images\\...</td>\n",
       "    </tr>\n",
       "    <tr>\n",
       "      <th>6905</th>\n",
       "      <td>15 Â° c calorie</td>\n",
       "      <td>calorie\\twork unit\\tunit of energy</td>\n",
       "    </tr>\n",
       "    <tr>\n",
       "      <th>...</th>\n",
       "      <td>...</td>\n",
       "      <td>...</td>\n",
       "    </tr>\n",
       "    <tr>\n",
       "      <th>82448</th>\n",
       "      <td>drÃšents</td>\n",
       "      <td>dutch low saxon\\tlow german</td>\n",
       "    </tr>\n",
       "    <tr>\n",
       "      <th>82580</th>\n",
       "      <td>dÃ¶hle body</td>\n",
       "      <td>inclusion body\\tbody</td>\n",
       "    </tr>\n",
       "    <tr>\n",
       "      <th>86682</th>\n",
       "      <td>kÃ¶lsch</td>\n",
       "      <td>ripuarian\\tcentral franconian</td>\n",
       "    </tr>\n",
       "    <tr>\n",
       "      <th>88097</th>\n",
       "      <td>Ï</td>\n",
       "      <td>ordinal\\tlimit ordinal\\tinfinity\\tnon gradable...</td>\n",
       "    </tr>\n",
       "    <tr>\n",
       "      <th>89264</th>\n",
       "      <td>tupinambÃ¡</td>\n",
       "      <td>tupi\\ttupi guarani\\tsouth american</td>\n",
       "    </tr>\n",
       "  </tbody>\n",
       "</table>\n",
       "<p>238 rows × 2 columns</p>\n",
       "</div>"
      ],
      "text/plain": [
       "                           word  \\\n",
       "2074   dihomo Î³ linolenic acid   \n",
       "2276              frÃ©my's salt   \n",
       "4264            Ã©lysÃ©e palace   \n",
       "4463                dÃ©classÃ©e   \n",
       "6905            15 Â° c calorie   \n",
       "...                         ...   \n",
       "82448                  drÃšents   \n",
       "82580               dÃ¶hle body   \n",
       "86682                   kÃ¶lsch   \n",
       "88097                        Ï   \n",
       "89264                tupinambÃ¡   \n",
       "\n",
       "                                                hypernym  \n",
       "2074   chemical compound\\tfacet collection\\tchemical ...  \n",
       "2276   chemical compound\\tfacet collection\\tchemical ...  \n",
       "4264   building\\twhere people might live\\tcreation\\tr...  \n",
       "4463   film\\twebsite\\tway of recording moving images\\...  \n",
       "6905                  calorie\\twork unit\\tunit of energy  \n",
       "...                                                  ...  \n",
       "82448                        dutch low saxon\\tlow german  \n",
       "82580                               inclusion body\\tbody  \n",
       "86682                      ripuarian\\tcentral franconian  \n",
       "88097  ordinal\\tlimit ordinal\\tinfinity\\tnon gradable...  \n",
       "89264                 tupi\\ttupi guarani\\tsouth american  \n",
       "\n",
       "[238 rows x 2 columns]"
      ]
     },
     "execution_count": 38,
     "metadata": {},
     "output_type": "execute_result"
    }
   ],
   "source": [
    "df.loc[bad_words_mask, :]"
   ]
  },
  {
   "cell_type": "code",
   "execution_count": 43,
   "metadata": {
    "tags": []
   },
   "outputs": [],
   "source": [
    "bad_hyper_mask = df.hypernym.apply(lambda x: len(re.sub(r\"[A-Za-z0-9',.\\t ]+\", '', x)) > 0)"
   ]
  },
  {
   "cell_type": "code",
   "execution_count": 44,
   "metadata": {
    "tags": []
   },
   "outputs": [
    {
     "data": {
      "text/html": [
       "<div>\n",
       "<style scoped>\n",
       "    .dataframe tbody tr th:only-of-type {\n",
       "        vertical-align: middle;\n",
       "    }\n",
       "\n",
       "    .dataframe tbody tr th {\n",
       "        vertical-align: top;\n",
       "    }\n",
       "\n",
       "    .dataframe thead th {\n",
       "        text-align: right;\n",
       "    }\n",
       "</style>\n",
       "<table border=\"1\" class=\"dataframe\">\n",
       "  <thead>\n",
       "    <tr style=\"text-align: right;\">\n",
       "      <th></th>\n",
       "      <th>word</th>\n",
       "      <th>hypernym</th>\n",
       "    </tr>\n",
       "  </thead>\n",
       "  <tbody>\n",
       "    <tr>\n",
       "      <th>880</th>\n",
       "      <td>onion bulb</td>\n",
       "      <td>living thing\\tonion\\tlayered thing\\tbulb\\ttang...</td>\n",
       "    </tr>\n",
       "    <tr>\n",
       "      <th>3952</th>\n",
       "      <td>peppermint</td>\n",
       "      <td>plant kingdom\\tplant\\tmint\\talbum\\tactor\\tplan...</td>\n",
       "    </tr>\n",
       "    <tr>\n",
       "      <th>14551</th>\n",
       "      <td>coriander</td>\n",
       "      <td>spice\\therb\\tplant\\therb plant\\therbaceous pla...</td>\n",
       "    </tr>\n",
       "    <tr>\n",
       "      <th>16153</th>\n",
       "      <td>spearmint</td>\n",
       "      <td>plant\\tmint\\tcandy\\tactor\\tbuilding complex\\tf...</td>\n",
       "    </tr>\n",
       "    <tr>\n",
       "      <th>17977</th>\n",
       "      <td>chaste tree</td>\n",
       "      <td>tree\\tè§£è¡šè¥\\tfigure\\tliving thing\\tfixed o...</td>\n",
       "    </tr>\n",
       "    <tr>\n",
       "      <th>...</th>\n",
       "      <td>...</td>\n",
       "      <td>...</td>\n",
       "    </tr>\n",
       "    <tr>\n",
       "      <th>78800</th>\n",
       "      <td>variegated horsetail</td>\n",
       "      <td>horsetail\\tfern ally\\therb\\tè§£è¡šè¥</td>\n",
       "    </tr>\n",
       "    <tr>\n",
       "      <th>78801</th>\n",
       "      <td>wood horsetail</td>\n",
       "      <td>horsetail\\tfern ally\\therb\\tè§£è¡šè¥</td>\n",
       "    </tr>\n",
       "    <tr>\n",
       "      <th>83115</th>\n",
       "      <td>mahuang</td>\n",
       "      <td>ephedra\\tshrub\\tgnetophytes\\tè§£è¡šè¥</td>\n",
       "    </tr>\n",
       "    <tr>\n",
       "      <th>83777</th>\n",
       "      <td>when engaged significant other</td>\n",
       "      <td>fiance\\tfiancÃ©\\tbetrothed</td>\n",
       "    </tr>\n",
       "    <tr>\n",
       "      <th>86489</th>\n",
       "      <td>jigglypuff</td>\n",
       "      <td>pokÃ©mon\\tanime</td>\n",
       "    </tr>\n",
       "  </tbody>\n",
       "</table>\n",
       "<p>87 rows × 2 columns</p>\n",
       "</div>"
      ],
      "text/plain": [
       "                                 word  \\\n",
       "880                        onion bulb   \n",
       "3952                       peppermint   \n",
       "14551                       coriander   \n",
       "16153                       spearmint   \n",
       "17977                     chaste tree   \n",
       "...                               ...   \n",
       "78800            variegated horsetail   \n",
       "78801                  wood horsetail   \n",
       "83115                         mahuang   \n",
       "83777  when engaged significant other   \n",
       "86489                      jigglypuff   \n",
       "\n",
       "                                                hypernym  \n",
       "880    living thing\\tonion\\tlayered thing\\tbulb\\ttang...  \n",
       "3952   plant kingdom\\tplant\\tmint\\talbum\\tactor\\tplan...  \n",
       "14551  spice\\therb\\tplant\\therb plant\\therbaceous pla...  \n",
       "16153  plant\\tmint\\tcandy\\tactor\\tbuilding complex\\tf...  \n",
       "17977  tree\\tè§£è¡šè¥\\tfigure\\tliving thing\\tfixed o...  \n",
       "...                                                  ...  \n",
       "78800              horsetail\\tfern ally\\therb\\tè§£è¡šè¥  \n",
       "78801              horsetail\\tfern ally\\therb\\tè§£è¡šè¥  \n",
       "83115             ephedra\\tshrub\\tgnetophytes\\tè§£è¡šè¥  \n",
       "83777                         fiance\\tfiancÃ©\\tbetrothed  \n",
       "86489                                    pokÃ©mon\\tanime  \n",
       "\n",
       "[87 rows x 2 columns]"
      ]
     },
     "execution_count": 44,
     "metadata": {},
     "output_type": "execute_result"
    }
   ],
   "source": [
    "df.loc[bad_hyper_mask, :]"
   ]
  },
  {
   "cell_type": "code",
   "execution_count": 53,
   "metadata": {
    "tags": []
   },
   "outputs": [],
   "source": [
    "final_mask = (bad_words_mask) | (bad_hyper_mask)"
   ]
  },
  {
   "cell_type": "code",
   "execution_count": 55,
   "metadata": {
    "tags": []
   },
   "outputs": [],
   "source": [
    "df[~final_mask].to_csv('dataset.csv', index=False)"
   ]
  },
  {
   "cell_type": "code",
   "execution_count": 58,
   "metadata": {
    "tags": []
   },
   "outputs": [],
   "source": [
    "dataset = pd.read_csv('dataset.csv')"
   ]
  },
  {
   "cell_type": "code",
   "execution_count": 60,
   "metadata": {
    "tags": []
   },
   "outputs": [
    {
     "data": {
      "text/html": [
       "<div>\n",
       "<style scoped>\n",
       "    .dataframe tbody tr th:only-of-type {\n",
       "        vertical-align: middle;\n",
       "    }\n",
       "\n",
       "    .dataframe tbody tr th {\n",
       "        vertical-align: top;\n",
       "    }\n",
       "\n",
       "    .dataframe thead th {\n",
       "        text-align: right;\n",
       "    }\n",
       "</style>\n",
       "<table border=\"1\" class=\"dataframe\">\n",
       "  <thead>\n",
       "    <tr style=\"text-align: right;\">\n",
       "      <th></th>\n",
       "      <th>word</th>\n",
       "      <th>hypernym</th>\n",
       "    </tr>\n",
       "  </thead>\n",
       "  <tbody>\n",
       "    <tr>\n",
       "      <th>0</th>\n",
       "      <td>allograph</td>\n",
       "      <td>character\\tsignature\\tportrayal\\trecommendatio...</td>\n",
       "    </tr>\n",
       "    <tr>\n",
       "      <th>1</th>\n",
       "      <td>asterisk</td>\n",
       "      <td>character\\tsoftware\\tlabour intensive enterpri...</td>\n",
       "    </tr>\n",
       "    <tr>\n",
       "      <th>2</th>\n",
       "      <td>check character</td>\n",
       "      <td>character\\tportrayal\\trecommendation\\tattribut...</td>\n",
       "    </tr>\n",
       "    <tr>\n",
       "      <th>3</th>\n",
       "      <td>double dagger</td>\n",
       "      <td>character\\tportrayal\\trecommendation\\tattribut...</td>\n",
       "    </tr>\n",
       "    <tr>\n",
       "      <th>4</th>\n",
       "      <td>every person</td>\n",
       "      <td>character\\tchild of two people\\tportrayal\\trec...</td>\n",
       "    </tr>\n",
       "    <tr>\n",
       "      <th>...</th>\n",
       "      <td>...</td>\n",
       "      <td>...</td>\n",
       "    </tr>\n",
       "    <tr>\n",
       "      <th>89021</th>\n",
       "      <td>xml schema datatype int</td>\n",
       "      <td>xml schema datatype long\\tinteger extent</td>\n",
       "    </tr>\n",
       "    <tr>\n",
       "      <th>89022</th>\n",
       "      <td>yemeni fils</td>\n",
       "      <td>yemeni monetary unit\\tmonetary unit</td>\n",
       "    </tr>\n",
       "    <tr>\n",
       "      <th>89023</th>\n",
       "      <td>yugo gv</td>\n",
       "      <td>yugo\\tyugoslavian car\\tcar</td>\n",
       "    </tr>\n",
       "    <tr>\n",
       "      <th>89024</th>\n",
       "      <td>zip code nine digit</td>\n",
       "      <td>zip code\\tnumber string\\tcode\\tpostal code</td>\n",
       "    </tr>\n",
       "    <tr>\n",
       "      <th>89025</th>\n",
       "      <td>zubovskia banatica</td>\n",
       "      <td>zubovskia\\tgrasshopper</td>\n",
       "    </tr>\n",
       "  </tbody>\n",
       "</table>\n",
       "<p>89026 rows × 2 columns</p>\n",
       "</div>"
      ],
      "text/plain": [
       "                          word  \\\n",
       "0                    allograph   \n",
       "1                     asterisk   \n",
       "2              check character   \n",
       "3                double dagger   \n",
       "4                 every person   \n",
       "...                        ...   \n",
       "89021  xml schema datatype int   \n",
       "89022              yemeni fils   \n",
       "89023                  yugo gv   \n",
       "89024      zip code nine digit   \n",
       "89025       zubovskia banatica   \n",
       "\n",
       "                                                hypernym  \n",
       "0      character\\tsignature\\tportrayal\\trecommendatio...  \n",
       "1      character\\tsoftware\\tlabour intensive enterpri...  \n",
       "2      character\\tportrayal\\trecommendation\\tattribut...  \n",
       "3      character\\tportrayal\\trecommendation\\tattribut...  \n",
       "4      character\\tchild of two people\\tportrayal\\trec...  \n",
       "...                                                  ...  \n",
       "89021           xml schema datatype long\\tinteger extent  \n",
       "89022                yemeni monetary unit\\tmonetary unit  \n",
       "89023                         yugo\\tyugoslavian car\\tcar  \n",
       "89024         zip code\\tnumber string\\tcode\\tpostal code  \n",
       "89025                             zubovskia\\tgrasshopper  \n",
       "\n",
       "[89026 rows x 2 columns]"
      ]
     },
     "execution_count": 60,
     "metadata": {},
     "output_type": "execute_result"
    }
   ],
   "source": [
    "dataset"
   ]
  },
  {
   "cell_type": "code",
   "execution_count": 4,
   "metadata": {
    "tags": []
   },
   "outputs": [],
   "source": [
    "dataset = pd.read_csv('dataset.csv')"
   ]
  },
  {
   "cell_type": "code",
   "execution_count": 29,
   "metadata": {
    "tags": []
   },
   "outputs": [],
   "source": [
    "dataset = dataset.sample(frac=1).reset_index(drop=True)"
   ]
  },
  {
   "cell_type": "code",
   "execution_count": 24,
   "metadata": {
    "tags": []
   },
   "outputs": [],
   "source": [
    "from sklearn.model_selection import train_test_split"
   ]
  },
  {
   "cell_type": "code",
   "execution_count": 34,
   "metadata": {
    "tags": []
   },
   "outputs": [],
   "source": [
    "train_val = dataset[:-1000].copy()"
   ]
  },
  {
   "cell_type": "code",
   "execution_count": 43,
   "metadata": {
    "tags": []
   },
   "outputs": [],
   "source": [
    "X_train, X_test, y_train, y_test = train_test_split(train_val.word, \n",
    "                                                    train_val.hypernym, \n",
    "                                                    test_size=0.3, \n",
    "                                                    random_state=42)"
   ]
  },
  {
   "cell_type": "code",
   "execution_count": 51,
   "metadata": {
    "tags": []
   },
   "outputs": [],
   "source": [
    "import os\n",
    "os.mkdir('data')"
   ]
  },
  {
   "cell_type": "code",
   "execution_count": 53,
   "metadata": {
    "tags": []
   },
   "outputs": [],
   "source": [
    "train = pd.concat([X_train, y_train], axis=1).reset_index(drop=True)\n",
    "train.to_csv('data/train.csv', index=False)"
   ]
  },
  {
   "cell_type": "code",
   "execution_count": 52,
   "metadata": {
    "tags": []
   },
   "outputs": [],
   "source": [
    "validation = pd.concat([X_test, y_test], axis=1).reset_index(drop=True)\n",
    "validation.to_csv('data/validation.csv', index=False)"
   ]
  },
  {
   "cell_type": "code",
   "execution_count": 54,
   "metadata": {
    "tags": []
   },
   "outputs": [],
   "source": [
    "test = dataset[-1000:].reset_index(drop=True).copy()\n",
    "test.to_csv('data/test.csv', index=False)"
   ]
  }
 ],
 "metadata": {
  "kernelspec": {
   "display_name": "Python 3 (ipykernel)",
   "language": "python",
   "name": "python3"
  },
  "language_info": {
   "codemirror_mode": {
    "name": "ipython",
    "version": 3
   },
   "file_extension": ".py",
   "mimetype": "text/x-python",
   "name": "python",
   "nbconvert_exporter": "python",
   "pygments_lexer": "ipython3",
   "version": "3.10.9"
  }
 },
 "nbformat": 4,
 "nbformat_minor": 4
}
