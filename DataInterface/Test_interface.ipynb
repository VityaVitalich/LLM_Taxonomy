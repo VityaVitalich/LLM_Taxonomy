{
 "cells": [
  {
   "cell_type": "code",
   "execution_count": 1,
   "metadata": {},
   "outputs": [],
   "source": [
    "import networkx as nx\n",
    "from tqdm import tqdm\n",
    "import random\n",
    "from leafer import Leafer\n",
    "import numpy as np\n",
    "import pickle\n",
    "import os\n",
    "import glob"
   ]
  },
  {
   "cell_type": "code",
   "execution_count": 2,
   "metadata": {},
   "outputs": [],
   "source": [
    "# G = nx.read_edgelist(\"./IsA_Graph2.edgelist\", delimiter=\" \", create_using=nx.DiGraph)\n",
    "G = nx.read_edgelist(\"only_en_wordnet.edgelist\", delimiter=\"\\t\", create_using=nx.DiGraph)"
   ]
  },
  {
   "cell_type": "code",
   "execution_count": 3,
   "metadata": {},
   "outputs": [],
   "source": [
    "l = Leafer(G)\n",
    "# iterator = l.leafs_generator()"
   ]
  },
  {
   "cell_type": "code",
   "execution_count": 15,
   "metadata": {},
   "outputs": [],
   "source": [
    "train, test = l.split_train_test(\n",
    "    generation_depth=5,  # до какого уровня в топ. сортировке идти\n",
    "    p=0.05,  # вероятность что подходящий случай уйдет в тест\n",
    "    p_divide_leafs=0.5,\n",
    "    # вероятность что листья поделим пополам трейн-тест\n",
    "    # а не засунем целый случай в трейн или в тест\n",
    "    min_to_test_rate=0.3,\n",
    "    # минимальное количество доли вершин которых не было в\n",
    "    # трейне чтобы поделить пополам на трейн-тест\n",
    "    # то есть если 6\\10 вершин были трейне то значит все 10 в трейн\n",
    "    # если 5\\10 были в трейне, то значит оставшиеся можем кинуть в тест\n",
    "    weights=[0.01, 0.49, 0.4, 0.05, 0.05],\n",
    "    # веса в соответствии\n",
    "    # один ребенок, только листья, не только листья\n",
    "    # триплеты с 2 родителями, триплеты такие что мидл нода имеет\n",
    "    # 1 ребенка\n",
    ")"
   ]
  },
  {
   "cell_type": "code",
   "execution_count": 16,
   "metadata": {},
   "outputs": [
    {
     "data": {
      "text/plain": [
       "(15538, 766)"
      ]
     },
     "execution_count": 16,
     "metadata": {},
     "output_type": "execute_result"
    }
   ],
   "source": [
    "len(train), len(test)"
   ]
  },
  {
   "cell_type": "code",
   "execution_count": 17,
   "metadata": {},
   "outputs": [
    {
     "data": {
      "text/plain": [
       "87"
      ]
     },
     "execution_count": 17,
     "metadata": {},
     "output_type": "execute_result"
    }
   ],
   "source": [
    "ls = [elem for elem in test if elem[\"case\"] == \"only_leafs_divided\"]\n",
    "len(ls)"
   ]
  },
  {
   "cell_type": "code",
   "execution_count": 18,
   "metadata": {},
   "outputs": [],
   "source": [
    "train_count = {}\n",
    "for elem in train:\n",
    "    if elem[\"case\"] in train_count.keys():\n",
    "        train_count[elem[\"case\"]] += 1\n",
    "\n",
    "    else:\n",
    "        train_count[elem[\"case\"]] = 1\n",
    "\n",
    "test_count = {}\n",
    "for elem in test:\n",
    "    if elem[\"case\"] in test_count.keys():\n",
    "        test_count[elem[\"case\"]] += 1\n",
    "\n",
    "    else:\n",
    "        test_count[elem[\"case\"]] = 1"
   ]
  },
  {
   "cell_type": "code",
   "execution_count": 19,
   "metadata": {},
   "outputs": [
    {
     "data": {
      "text/plain": [
       "({'only_leafs_all': 2036,\n",
       "  'only_leafs_divided': 1864,\n",
       "  'leafs_and_no_leafs': 2646,\n",
       "  'simple_triplet_2parent': 1366,\n",
       "  'only_child_leaf': 4086,\n",
       "  'simple_triplet_grandparent': 3540},\n",
       " {'leafs_and_no_leafs': 128,\n",
       "  'only_leafs_all': 96,\n",
       "  'only_leafs_divided': 87,\n",
       "  'simple_triplet_grandparent': 186,\n",
       "  'simple_triplet_2parent': 49,\n",
       "  'only_child_leaf': 220})"
      ]
     },
     "execution_count": 19,
     "metadata": {},
     "output_type": "execute_result"
    }
   ],
   "source": [
    "train_count, test_count"
   ]
  },
  {
   "cell_type": "code",
   "execution_count": 36,
   "metadata": {},
   "outputs": [
    {
     "data": {
      "text/plain": [
       "[{'children': ['three-dimensional_radar.n.1', 'Doppler_radar.n.1'],\n",
       "  'parents': 'radar.n.1',\n",
       "  'grandparents': None,\n",
       "  'case': 'only_leafs_divided',\n",
       "  'brothers': ['early_warning_radar.n.1', 'weather_radar.n.1']},\n",
       " {'children': ['cabbage_palm.n.2',\n",
       "   'cabbage_palm.n.3',\n",
       "   'cabbage_palm.n.4',\n",
       "   'coconut.n.3',\n",
       "   'corozo.n.1',\n",
       "   'fishtail_palm.n.1',\n",
       "   'nipa_palm.n.1',\n",
       "   'royal_palm.n.1'],\n",
       "  'parents': 'palm.n.3',\n",
       "  'grandparents': None,\n",
       "  'case': 'leafs_and_no_leafs'},\n",
       " {'children': 'Western.n.1',\n",
       "  'parents': 'feature.n.3',\n",
       "  'grandparents': 'movie.n.1',\n",
       "  'case': 'simple_triplet_grandparent'},\n",
       " {'children': 'farm_team.n.1',\n",
       "  'parents': 'minor-league_team.n.1',\n",
       "  'grandparents': 'team.n.1',\n",
       "  'case': 'only_child_leaf'},\n",
       " {'children': 'movie.n.1',\n",
       "  'parents': ['show.n.3', 'product.n.2'],\n",
       "  'grandparents': None,\n",
       "  'case': 'simple_triplet_2parent'}]"
      ]
     },
     "execution_count": 36,
     "metadata": {},
     "output_type": "execute_result"
    }
   ],
   "source": [
    "test[:5]"
   ]
  },
  {
   "cell_type": "code",
   "execution_count": 20,
   "metadata": {},
   "outputs": [],
   "source": [
    "num_leaks = 0\n",
    "for vertex in l.collector.test_verteces:\n",
    "    if vertex in l.collector.train_verteces:\n",
    "        num_leaks += 1"
   ]
  },
  {
   "cell_type": "code",
   "execution_count": 21,
   "metadata": {},
   "outputs": [
    {
     "data": {
      "text/plain": [
       "0"
      ]
     },
     "execution_count": 21,
     "metadata": {},
     "output_type": "execute_result"
    }
   ],
   "source": [
    "num_leaks"
   ]
  },
  {
   "cell_type": "code",
   "execution_count": 22,
   "metadata": {},
   "outputs": [],
   "source": [
    "num_leaks = 0\n",
    "for vertex in l.collector.train_verteces:\n",
    "    if vertex in l.collector.test_verteces:\n",
    "        num_leaks += 1"
   ]
  },
  {
   "cell_type": "code",
   "execution_count": 23,
   "metadata": {},
   "outputs": [
    {
     "data": {
      "text/plain": [
       "0"
      ]
     },
     "execution_count": 23,
     "metadata": {},
     "output_type": "execute_result"
    }
   ],
   "source": [
    "num_leaks"
   ]
  },
  {
   "cell_type": "code",
   "execution_count": 24,
   "metadata": {},
   "outputs": [],
   "source": [
    "lang = 'en'\n",
    "name_train = \"../babel_datasets/reweighted_wnet_train_\" + lang + \"_babel.pickle\"\n",
    "name_test = \"../babel_datasets/reweighted_wnet_test_\" + lang + \"_babel.pickle\"\n",
    "\n",
    "with open(name_train, \"wb\") as handle:\n",
    "    pickle.dump(train, handle)\n",
    "\n",
    "with open(name_test, \"wb\") as handle:\n",
    "    pickle.dump(test, handle)"
   ]
  },
  {
   "cell_type": "code",
   "execution_count": 41,
   "metadata": {},
   "outputs": [
    {
     "data": {
      "text/plain": [
       "['./fr_isa.edgelist',\n",
       " './it_isa.edgelist',\n",
       " './en_isa.edgelist',\n",
       " './de_isa.edgelist',\n",
       " './es_isa.edgelist',\n",
       " './ru_isa.edgelist']"
      ]
     },
     "execution_count": 41,
     "metadata": {},
     "output_type": "execute_result"
    }
   ],
   "source": [
    "all_data = glob.glob(os.path.join(\".\", \"*isa.edgelist\"))\n",
    "all_data"
   ]
  },
  {
   "cell_type": "code",
   "execution_count": 21,
   "metadata": {},
   "outputs": [
    {
     "name": "stderr",
     "output_type": "stream",
     "text": [
      "100%|██████████| 6/6 [00:14<00:00,  2.40s/it]\n"
     ]
    }
   ],
   "source": [
    "global_train = []\n",
    "global_test = []\n",
    "\n",
    "all_data = glob.glob(os.path.join(\".\", \"*isa.edgelist\"))\n",
    "for path in tqdm(all_data):\n",
    "    lang = path.replace(\"./\", \"\").replace(\"_isa.edgelist\", \"\")\n",
    "\n",
    "    G = nx.read_edgelist(path, delimiter=\"\\t\", create_using=nx.DiGraph)\n",
    "    l = Leafer(G)\n",
    "    train, test = l.split_train_test(\n",
    "        generation_depth=1,\n",
    "        p=0.05,\n",
    "        p_divide_leafs=0.5,\n",
    "        min_to_test_rate=0.5,\n",
    "        weights=[0.25, 0.3, 0.25, 0.1, 0.1],\n",
    "    )\n",
    "\n",
    "    name_train = \"../babel_datasets/train_\" + lang + \"_babel.pickle\"\n",
    "    name_test = \"../babel_datasets/test_\" + lang + \"_babel.pickle\"\n",
    "\n",
    "    with open(name_train, \"wb\") as handle:\n",
    "        pickle.dump(train, handle)\n",
    "\n",
    "    with open(name_test, \"wb\") as handle:\n",
    "        pickle.dump(test, handle)\n",
    "\n",
    "    global_train.extend(train)\n",
    "    global_test.extend(test)"
   ]
  },
  {
   "cell_type": "code",
   "execution_count": 23,
   "metadata": {},
   "outputs": [
    {
     "data": {
      "text/plain": [
       "(4385, 102865)"
      ]
     },
     "execution_count": 23,
     "metadata": {},
     "output_type": "execute_result"
    }
   ],
   "source": [
    "len(global_test), len(global_train)"
   ]
  },
  {
   "cell_type": "code",
   "execution_count": 31,
   "metadata": {},
   "outputs": [],
   "source": [
    "max_len = 0\n",
    "k = 0\n",
    "for vert in global_train:\n",
    "    cur_len = len(vert[\"children\"])\n",
    "    if cur_len > 50:\n",
    "        k += 1\n",
    "        max_len = cur_len\n",
    "        max_i = vert"
   ]
  },
  {
   "cell_type": "code",
   "execution_count": 33,
   "metadata": {},
   "outputs": [
    {
     "data": {
      "text/plain": [
       "['хоккей_на_траве.n.1', 'Летние_Олимпийские_игры_1972.n.1']"
      ]
     },
     "execution_count": 33,
     "metadata": {},
     "output_type": "execute_result"
    }
   ],
   "source": [
    "max_i[\"parents\"]"
   ]
  },
  {
   "cell_type": "code",
   "execution_count": 17,
   "metadata": {},
   "outputs": [],
   "source": [
    "def predict_child_with_parent_and_grandparent(elem):\n",
    "    \"\"\"\n",
    "    hyperhypenym: arthropod.n.01,\n",
    "    hypernym: insect.n.01, hyponyms:\n",
    "    (blackly)\n",
    "\n",
    "    hyperhypenym: elem['grandparents'],\n",
    "    hypernym: elem['parents'], hyponyms:\n",
    "    elem['children']\n",
    "\n",
    "    Fly is a hyponym for the word “insect\".\n",
    "    Predict hyponyms for the word “fly”. Answer:\n",
    "    \"\"\"\n",
    "\n",
    "    # transformed_term = (\n",
    "    #     \"hyperhypenym: \"\n",
    "    #     + \", \".join(elem[\"grandparents\"])\n",
    "    #     + \", hypernym: \"\n",
    "    #     + elem[\"parents\"]\n",
    "    #     + \", hyponyms:\"\n",
    "    # )\n",
    "    transformed_term = (\n",
    "        \", \".join(elem[\"grandparents\"])\n",
    "        + \" are hyponyms for the word '\"\n",
    "        + elem[\"parents\"]\n",
    "        + \"'. Predict hyponyms for the word '\"\n",
    "        + elem[\"parents\"]\n",
    "        + \"'. Answer:\"\n",
    "    )\n",
    "    return transformed_term"
   ]
  },
  {
   "cell_type": "code",
   "execution_count": null,
   "metadata": {},
   "outputs": [],
   "source": []
  }
 ],
 "metadata": {
  "kernelspec": {
   "display_name": "dataload_env",
   "language": "python",
   "name": "python3"
  },
  "language_info": {
   "codemirror_mode": {
    "name": "ipython",
    "version": 3
   },
   "file_extension": ".py",
   "mimetype": "text/x-python",
   "name": "python",
   "nbconvert_exporter": "python",
   "pygments_lexer": "ipython3",
   "version": "3.10.10"
  },
  "orig_nbformat": 4
 },
 "nbformat": 4,
 "nbformat_minor": 2
}
