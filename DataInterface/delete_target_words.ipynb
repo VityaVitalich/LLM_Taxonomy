{
 "cells": [
  {
   "cell_type": "code",
   "execution_count": 1,
   "metadata": {},
   "outputs": [],
   "source": [
    "import pandas as pd\n",
    "import pickle\n",
    "import networkx as nx\n",
    "from tqdm import tqdm"
   ]
  },
  {
   "cell_type": "code",
   "execution_count": 2,
   "metadata": {},
   "outputs": [],
   "source": [
    "domens = ['science', 'environment']\n",
    "all_nodes = []\n",
    "for domen in domens:\n",
    "    path = '../TExEval-2_testdata_1.2/gs_taxo/EN/' + domen + '_eurovoc_en.taxo'\n",
    "    G = nx.DiGraph()\n",
    "\n",
    "    with open(path, 'r') as f:\n",
    "        for line in f:\n",
    "            idx, hypo, hyper = line.split('\\t')\n",
    "            hyper = hyper.replace('\\n', '')\n",
    "            G.add_node(hypo)\n",
    "            G.add_node(hyper)\n",
    "            G.add_edge(hyper, hypo)\n",
    "\n",
    "    all_nodes.extend(list(G.nodes))\n",
    "\n",
    "path = '../TExEval-2_testdata_1.2/gs_taxo/EN/' + 'food' + '_wordnet_en.taxo'\n",
    "G = nx.DiGraph()\n",
    "\n",
    "with open(path, 'r') as f:\n",
    "    for line in f:\n",
    "        idx, hypo, hyper = line.split('\\t')\n",
    "        hyper = hyper.replace('\\n', '')\n",
    "        G.add_node(hypo)\n",
    "        G.add_node(hyper)\n",
    "        G.add_edge(hyper, hypo)\n",
    "\n",
    "all_nodes.extend(list(G.nodes))"
   ]
  },
  {
   "cell_type": "code",
   "execution_count": 3,
   "metadata": {},
   "outputs": [],
   "source": [
    "train_path = '../babel_datasets/v2_wnet_lemmas_train.pickle'\n",
    "with open(train_path, 'rb') as f:\n",
    "    train = pickle.load(f)"
   ]
  },
  {
   "cell_type": "code",
   "execution_count": 4,
   "metadata": {},
   "outputs": [],
   "source": [
    "def clean(word):\n",
    "    return word.split('.')[0]\n",
    "\n",
    "def check_is_inside(word, elem):\n",
    "    all_words = []\n",
    "    levels = ['children', 'parents', 'grandparents']\n",
    "    for level in levels:\n",
    "        if elem[level] is not None:\n",
    "            if isinstance(elem[level], list):\n",
    "                for c in elem[level]:\n",
    "                    all_words.append(clean(c))\n",
    "            else:\n",
    "                all_words.append(clean(elem[level]))\n",
    "    \n",
    "    if 'brothers' in elem.keys():\n",
    "        for c in elem['brothers']:\n",
    "            all_words.append(clean(c))\n",
    "\n",
    "   # print(all_words)\n",
    "    return word in all_words\n",
    "    \n",
    "def check_if_target(targets, elem):\n",
    "    for target in targets:\n",
    "        if check_is_inside(target, elem):\n",
    "            return True\n",
    "    \n",
    "    return False"
   ]
  },
  {
   "cell_type": "code",
   "execution_count": 5,
   "metadata": {},
   "outputs": [
    {
     "name": "stderr",
     "output_type": "stream",
     "text": [
      "  0%|          | 0/20236 [00:00<?, ?it/s]"
     ]
    },
    {
     "name": "stderr",
     "output_type": "stream",
     "text": [
      "100%|██████████| 20236/20236 [01:09<00:00, 290.86it/s]\n"
     ]
    }
   ],
   "source": [
    "new_train = []\n",
    "for elem in tqdm(train):\n",
    "    if check_if_target(all_nodes, elem):\n",
    "        #print(elem)\n",
    "        continue\n",
    "    new_train.append(elem)"
   ]
  },
  {
   "cell_type": "code",
   "execution_count": 11,
   "metadata": {},
   "outputs": [],
   "source": [
    "new_path = '../babel_datasets/v2_wnet_lemmas_train_no_semeval16.pickle'\n",
    "with open(new_path, 'wb') as f:\n",
    "    pickle.dump(new_train, f)"
   ]
  },
  {
   "cell_type": "code",
   "execution_count": null,
   "metadata": {},
   "outputs": [],
   "source": []
  }
 ],
 "metadata": {
  "kernelspec": {
   "display_name": "Python 3",
   "language": "python",
   "name": "python3"
  },
  "language_info": {
   "codemirror_mode": {
    "name": "ipython",
    "version": 3
   },
   "file_extension": ".py",
   "mimetype": "text/x-python",
   "name": "python",
   "nbconvert_exporter": "python",
   "pygments_lexer": "ipython3",
   "version": "3.10.12"
  }
 },
 "nbformat": 4,
 "nbformat_minor": 2
}
