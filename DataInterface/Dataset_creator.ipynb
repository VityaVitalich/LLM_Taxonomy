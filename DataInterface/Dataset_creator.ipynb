{
 "cells": [
  {
   "cell_type": "code",
   "execution_count": 1,
   "metadata": {},
   "outputs": [],
   "source": [
    "import numpy as np\n",
    "import pandas as pd\n",
    "import torch\n",
    "\n",
    "import networkx as nx\n",
    "from tqdm import tqdm\n",
    "from leafer import Leafer"
   ]
  },
  {
   "cell_type": "code",
   "execution_count": 8,
   "metadata": {},
   "outputs": [
    {
     "name": "stderr",
     "output_type": "stream",
     "text": [
      "[nltk_data] Downloading package wordnet to\n",
      "[nltk_data]     C:\\Users\\nikit\\AppData\\Roaming\\nltk_data...\n",
      "[nltk_data]   Package wordnet is already up-to-date!\n",
      "[nltk_data] Downloading package omw-1.4 to\n",
      "[nltk_data]     C:\\Users\\nikit\\AppData\\Roaming\\nltk_data...\n"
     ]
    },
    {
     "data": {
      "text/plain": [
       "True"
      ]
     },
     "execution_count": 8,
     "metadata": {},
     "output_type": "execute_result"
    }
   ],
   "source": [
    "import nltk\n",
    "\n",
    "nltk.download(\"wordnet\")\n",
    "nltk.download(\"omw-1.4\")"
   ]
  },
  {
   "cell_type": "code",
   "execution_count": 9,
   "metadata": {},
   "outputs": [],
   "source": [
    "from nltk.corpus import wordnet as wn"
   ]
  },
  {
   "cell_type": "code",
   "execution_count": 2,
   "metadata": {},
   "outputs": [],
   "source": [
    "df = pd.read_csv(\"en_babel_hyper.csv\", sep=\"\\t\")"
   ]
  },
  {
   "cell_type": "code",
   "execution_count": 3,
   "metadata": {},
   "outputs": [
    {
     "data": {
      "text/html": [
       "<div>\n",
       "<style scoped>\n",
       "    .dataframe tbody tr th:only-of-type {\n",
       "        vertical-align: middle;\n",
       "    }\n",
       "\n",
       "    .dataframe tbody tr th {\n",
       "        vertical-align: top;\n",
       "    }\n",
       "\n",
       "    .dataframe thead th {\n",
       "        text-align: right;\n",
       "    }\n",
       "</style>\n",
       "<table border=\"1\" class=\"dataframe\">\n",
       "  <thead>\n",
       "    <tr style=\"text-align: right;\">\n",
       "      <th></th>\n",
       "      <th>Synset</th>\n",
       "      <th>Hypernym</th>\n",
       "      <th>WordnetKey</th>\n",
       "      <th>Definition</th>\n",
       "    </tr>\n",
       "  </thead>\n",
       "  <tbody>\n",
       "    <tr>\n",
       "      <th>0</th>\n",
       "      <td>zero.n.01</td>\n",
       "      <td>number\\tdigit\\tdecimal_digit</td>\n",
       "      <td>wn:13742358n</td>\n",
       "      <td>A mathematical element that when added to anot...</td>\n",
       "    </tr>\n",
       "    <tr>\n",
       "      <th>1</th>\n",
       "      <td>one.n.01</td>\n",
       "      <td>digit</td>\n",
       "      <td>wn:13742573n</td>\n",
       "      <td>The smallest whole number or a numeral represe...</td>\n",
       "    </tr>\n",
       "    <tr>\n",
       "      <th>2</th>\n",
       "      <td>lauryl_alcohol.n.01</td>\n",
       "      <td>alcohol</td>\n",
       "      <td>wn:14930670n</td>\n",
       "      <td>A colorless insoluble solid alcohol used to ma...</td>\n",
       "    </tr>\n",
       "    <tr>\n",
       "      <th>3</th>\n",
       "      <td>one-hitter.n.01</td>\n",
       "      <td>baseball</td>\n",
       "      <td>wn:00475142n</td>\n",
       "      <td>A game in which a pitcher allows the opposing ...</td>\n",
       "    </tr>\n",
       "    <tr>\n",
       "      <th>4</th>\n",
       "      <td>ten.n.01</td>\n",
       "      <td>large_integer</td>\n",
       "      <td>wn:13746512n</td>\n",
       "      <td>The cardinal number that is the sum of nine an...</td>\n",
       "    </tr>\n",
       "  </tbody>\n",
       "</table>\n",
       "</div>"
      ],
      "text/plain": [
       "                Synset                      Hypernym    WordnetKey  \\\n",
       "0            zero.n.01  number\\tdigit\\tdecimal_digit  wn:13742358n   \n",
       "1             one.n.01                         digit  wn:13742573n   \n",
       "2  lauryl_alcohol.n.01                       alcohol  wn:14930670n   \n",
       "3      one-hitter.n.01                      baseball  wn:00475142n   \n",
       "4             ten.n.01                 large_integer  wn:13746512n   \n",
       "\n",
       "                                          Definition  \n",
       "0  A mathematical element that when added to anot...  \n",
       "1  The smallest whole number or a numeral represe...  \n",
       "2  A colorless insoluble solid alcohol used to ma...  \n",
       "3  A game in which a pitcher allows the opposing ...  \n",
       "4  The cardinal number that is the sum of nine an...  "
      ]
     },
     "execution_count": 3,
     "metadata": {},
     "output_type": "execute_result"
    }
   ],
   "source": [
    "df.head()"
   ]
  },
  {
   "cell_type": "code",
   "execution_count": 11,
   "metadata": {},
   "outputs": [],
   "source": [
    "clear_df = df[df.WordnetKey != \"wn:00000000n\"]"
   ]
  },
  {
   "cell_type": "code",
   "execution_count": 73,
   "metadata": {},
   "outputs": [
    {
     "name": "stdout",
     "output_type": "stream",
     "text": [
      "1 zero.n.01 {'relative_quantity'} {'number', 'digit', 'decimal_digit'}\n",
      "2 thousand.n.01 {'large_integer'} {'hyperperfect_number', 'large_integer', 'number'}\n",
      "3 trillion.n.01 {'large_indefinite_quantity'} {'large_integer'}\n",
      "4 billion.n.02 {'large_indefinite_quantity'} {'large_integer'}\n",
      "Ashgabat.n.01\n",
      "Porto-Novo.n.01\n",
      "convict.n.03\n",
      "Curaçao.n.01\n",
      "daylight_saving_time.n.01\n",
      "dram.n.04\n",
      "eagle.n.05\n",
      "entity.n.01\n",
      "Friedrich_Max_Müller.n.01\n",
      "Gwangju.n.01\n",
      "Busan.n.01\n",
      "Qom.n.01\n",
      "Daegu.n.01\n",
      "tide.n.04\n",
      "Tian_Shan.n.01\n",
      "Aosta_Valley.n.01\n",
      "35703\n"
     ]
    }
   ],
   "source": [
    "cnt = 0\n",
    "for i in range(len(clear_df)):\n",
    "    line = clear_df.iloc[i]\n",
    "    synset = line[0]\n",
    "    # print(synset)\n",
    "    try:\n",
    "        hypernyms = wn.synset(synset)\n",
    "        res = set([w.name()[:-5] for w in hypernyms.hypernyms()])\n",
    "        if res != set(line[1].split(\"\\t\")):\n",
    "            cnt += 1\n",
    "            if cnt < 5:\n",
    "                print(cnt, synset, res, set(line[1].split(\"\\t\")))\n",
    "    except:\n",
    "        print(synset)\n",
    "\n",
    "print(cnt)"
   ]
  },
  {
   "cell_type": "code",
   "execution_count": 74,
   "metadata": {},
   "outputs": [
    {
     "data": {
      "text/html": [
       "<div>\n",
       "<style scoped>\n",
       "    .dataframe tbody tr th:only-of-type {\n",
       "        vertical-align: middle;\n",
       "    }\n",
       "\n",
       "    .dataframe tbody tr th {\n",
       "        vertical-align: top;\n",
       "    }\n",
       "\n",
       "    .dataframe thead th {\n",
       "        text-align: right;\n",
       "    }\n",
       "</style>\n",
       "<table border=\"1\" class=\"dataframe\">\n",
       "  <thead>\n",
       "    <tr style=\"text-align: right;\">\n",
       "      <th></th>\n",
       "      <th>Synset</th>\n",
       "      <th>Hypernym</th>\n",
       "      <th>WordnetKey</th>\n",
       "      <th>Definition</th>\n",
       "    </tr>\n",
       "  </thead>\n",
       "  <tbody>\n",
       "    <tr>\n",
       "      <th>12</th>\n",
       "      <td>billion.n.02</td>\n",
       "      <td>large_integer</td>\n",
       "      <td>wn:13752172n</td>\n",
       "      <td>The number that is represented as a one follow...</td>\n",
       "    </tr>\n",
       "  </tbody>\n",
       "</table>\n",
       "</div>"
      ],
      "text/plain": [
       "          Synset       Hypernym    WordnetKey  \\\n",
       "12  billion.n.02  large_integer  wn:13752172n   \n",
       "\n",
       "                                           Definition  \n",
       "12  The number that is represented as a one follow...  "
      ]
     },
     "execution_count": 74,
     "metadata": {},
     "output_type": "execute_result"
    }
   ],
   "source": [
    "clear_df[clear_df.Synset == \"billion.n.02\"]"
   ]
  },
  {
   "cell_type": "code",
   "execution_count": 75,
   "metadata": {},
   "outputs": [
    {
     "data": {
      "text/plain": [
       "[Synset('large_indefinite_quantity.n.01')]"
      ]
     },
     "execution_count": 75,
     "metadata": {},
     "output_type": "execute_result"
    }
   ],
   "source": [
    "wn.synset(\"billion.n.02\").hypernyms()"
   ]
  },
  {
   "cell_type": "code",
   "execution_count": 75,
   "metadata": {},
   "outputs": [],
   "source": [
    "G = nx.read_edgelist(\"en_isa.edgelist\", delimiter=\"\\t\", create_using=nx.DiGraph)\n",
    "\n",
    "l = Leafer(G, generation_depth=40, ancestors_depth=4)\n",
    "iterator = l.leafs_generator()"
   ]
  },
  {
   "cell_type": "code",
   "execution_count": 87,
   "metadata": {},
   "outputs": [
    {
     "data": {
      "text/plain": [
       "{0: {'liquid'}}"
      ]
     },
     "execution_count": 87,
     "metadata": {},
     "output_type": "execute_result"
    }
   ],
   "source": [
    "# next(iterator)\n",
    "\n",
    "l.find_parents(\"alcohol.n.02\", depth=10)"
   ]
  },
  {
   "cell_type": "code",
   "execution_count": null,
   "metadata": {},
   "outputs": [],
   "source": []
  }
 ],
 "metadata": {
  "kernelspec": {
   "display_name": "base",
   "language": "python",
   "name": "python3"
  },
  "language_info": {
   "codemirror_mode": {
    "name": "ipython",
    "version": 3
   },
   "file_extension": ".py",
   "mimetype": "text/x-python",
   "name": "python",
   "nbconvert_exporter": "python",
   "pygments_lexer": "ipython3",
   "version": "3.8.7"
  },
  "orig_nbformat": 4
 },
 "nbformat": 4,
 "nbformat_minor": 2
}
