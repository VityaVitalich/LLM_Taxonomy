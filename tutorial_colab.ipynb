{
  "cells": [
    {
      "cell_type": "markdown",
      "id": "9ba5ee78-7790-4132-b6d5-da8cf9a93f36",
      "metadata": {
        "id": "9ba5ee78-7790-4132-b6d5-da8cf9a93f36"
      },
      "source": [
        "Requirements.txt\n",
        "\n",
        "torch 2.0.0+cu117\n",
        "transformers 4.28.1\n",
        "numpy\n",
        "typing\n",
        "tqdm\n",
        "gc\n",
        "pandas\n",
        "collections\n",
        "sklearn\n",
        "contextlib\n",
        "io\n",
        "IPython\n",
        "os"
      ]
    },
    {
      "cell_type": "code",
      "source": [
        "!git clone https://<your_token>@github.com/JuliaKudryavtseva/NLP-DL-Project-hypo-to-hyper.git\n"
      ],
      "metadata": {
        "colab": {
          "base_uri": "https://localhost:8080/"
        },
        "id": "JtdF5tRyL-4c",
        "outputId": "70f835b0-872b-4c2e-879f-95828af15d66"
      },
      "id": "JtdF5tRyL-4c",
      "execution_count": 1,
      "outputs": [
        {
          "output_type": "stream",
          "name": "stdout",
          "text": [
            "Cloning into 'NLP-DL-Project-hypo-to-hyper'...\n",
            "remote: Enumerating objects: 111, done.\u001b[K\n",
            "remote: Counting objects: 100% (111/111), done.\u001b[K\n",
            "remote: Compressing objects: 100% (86/86), done.\u001b[K\n",
            "remote: Total 111 (delta 21), reused 106 (delta 20), pack-reused 0\u001b[K\n",
            "Receiving objects: 100% (111/111), 4.79 MiB | 7.70 MiB/s, done.\n",
            "Resolving deltas: 100% (21/21), done.\n"
          ]
        }
      ]
    },
    {
      "cell_type": "code",
      "execution_count": 2,
      "id": "427b334d-b792-491f-bb7a-73479b6aa96e",
      "metadata": {
        "colab": {
          "base_uri": "https://localhost:8080/"
        },
        "id": "427b334d-b792-491f-bb7a-73479b6aa96e",
        "outputId": "2e32efcb-7b62-401c-d278-96ff3c941879"
      },
      "outputs": [
        {
          "output_type": "stream",
          "name": "stdout",
          "text": [
            "\u001b[2K     \u001b[90m━━━━━━━━━━━━━━━━━━━━━━━━━━━━━━━━━━━━━━━━\u001b[0m \u001b[32m7.0/7.0 MB\u001b[0m \u001b[31m77.7 MB/s\u001b[0m eta \u001b[36m0:00:00\u001b[0m\n",
            "\u001b[2K     \u001b[90m━━━━━━━━━━━━━━━━━━━━━━━━━━━━━━━━━━━━━━━━\u001b[0m \u001b[32m7.8/7.8 MB\u001b[0m \u001b[31m58.7 MB/s\u001b[0m eta \u001b[36m0:00:00\u001b[0m\n",
            "\u001b[2K     \u001b[90m━━━━━━━━━━━━━━━━━━━━━━━━━━━━━━━━━━━━━━\u001b[0m \u001b[32m224.2/224.2 kB\u001b[0m \u001b[31m11.7 MB/s\u001b[0m eta \u001b[36m0:00:00\u001b[0m\n",
            "\u001b[?25h"
          ]
        }
      ],
      "source": [
        "!pip install torch transformers -q"
      ]
    },
    {
      "cell_type": "code",
      "execution_count": 3,
      "id": "55145b97-71be-4d72-a9c2-8935a4c05b73",
      "metadata": {
        "tags": [],
        "colab": {
          "base_uri": "https://localhost:8080/"
        },
        "id": "55145b97-71be-4d72-a9c2-8935a4c05b73",
        "outputId": "75ec5f7c-0a52-487b-acb7-8e67aa74e753"
      },
      "outputs": [
        {
          "output_type": "stream",
          "name": "stdout",
          "text": [
            "Mon Apr 24 13:19:51 2023       \n",
            "+-----------------------------------------------------------------------------+\n",
            "| NVIDIA-SMI 525.85.12    Driver Version: 525.85.12    CUDA Version: 12.0     |\n",
            "|-------------------------------+----------------------+----------------------+\n",
            "| GPU  Name        Persistence-M| Bus-Id        Disp.A | Volatile Uncorr. ECC |\n",
            "| Fan  Temp  Perf  Pwr:Usage/Cap|         Memory-Usage | GPU-Util  Compute M. |\n",
            "|                               |                      |               MIG M. |\n",
            "|===============================+======================+======================|\n",
            "|   0  Tesla T4            Off  | 00000000:00:04.0 Off |                    0 |\n",
            "| N/A   46C    P8    12W /  70W |      0MiB / 15360MiB |      0%      Default |\n",
            "|                               |                      |                  N/A |\n",
            "+-------------------------------+----------------------+----------------------+\n",
            "                                                                               \n",
            "+-----------------------------------------------------------------------------+\n",
            "| Processes:                                                                  |\n",
            "|  GPU   GI   CI        PID   Type   Process name                  GPU Memory |\n",
            "|        ID   ID                                                   Usage      |\n",
            "|=============================================================================|\n",
            "|  No running processes found                                                 |\n",
            "+-----------------------------------------------------------------------------+\n"
          ]
        }
      ],
      "source": [
        "!nvidia-smi"
      ]
    },
    {
      "cell_type": "code",
      "execution_count": 1,
      "id": "c49ca14d-cbec-4131-a1c7-b22e97aac112",
      "metadata": {
        "id": "c49ca14d-cbec-4131-a1c7-b22e97aac112"
      },
      "outputs": [],
      "source": [
        "import os\n",
        "import sys"
      ]
    },
    {
      "cell_type": "code",
      "execution_count": 2,
      "id": "06732b8f-5876-4f28-96b9-2ee4051909fa",
      "metadata": {
        "id": "06732b8f-5876-4f28-96b9-2ee4051909fa"
      },
      "outputs": [],
      "source": [
        "#os.environ[\"CUDA_VISIBLE_DEVICES\"]=\"0\""
      ]
    },
    {
      "cell_type": "code",
      "execution_count": 3,
      "id": "9718e589-60a0-44d5-9a91-ede02bdff15a",
      "metadata": {
        "colab": {
          "base_uri": "https://localhost:8080/"
        },
        "id": "9718e589-60a0-44d5-9a91-ede02bdff15a",
        "outputId": "f59b1271-4cfc-4e22-967c-faf3ffd9da43"
      },
      "outputs": [
        {
          "output_type": "stream",
          "name": "stdout",
          "text": [
            "GPU\n"
          ]
        }
      ],
      "source": [
        "import torch\n",
        "\n",
        "if torch.cuda.is_available():\n",
        "    device='cuda'\n",
        "    print('GPU')\n",
        "else:\n",
        "    device='cpu'\n",
        "    print('CPU')\n",
        "    \n",
        "    \n",
        "SEED = 0\n",
        "torch.manual_seed(SEED)\n",
        "torch.cuda.manual_seed(SEED)"
      ]
    },
    {
      "cell_type": "code",
      "execution_count": 19,
      "id": "15c037be-49a4-43b2-8d53-467bae409e9b",
      "metadata": {
        "colab": {
          "base_uri": "https://localhost:8080/"
        },
        "id": "15c037be-49a4-43b2-8d53-467bae409e9b",
        "outputId": "36ea11a7-8051-4e3a-8139-91ae8efd0725"
      },
      "outputs": [
        {
          "output_type": "stream",
          "name": "stdout",
          "text": [
            "0          hyperonym: blackfly | hyponyms:\n",
            "1          hyperonym: Turonian | hyponyms:\n",
            "2        hyperonym: abhorrence | hyponyms:\n",
            "3    hyperonym: tropical storm | hyponyms:\n",
            "4    hyperonym: militarization | hyponyms:\n",
            "Name: term, dtype: object\n",
            "0                           homopterous insect, insect\n",
            "1    technical specification, geologic timescale, p...\n",
            "2                      distaste, hatred, hate, disgust\n",
            "3    atmosphere, windstorm, violent storm, air curr...\n",
            "4                                       social control\n",
            "Name: hypernym, dtype: object\n",
            "0    hyperonym: maliciousness | hyponyms:\n",
            "1          hyperonym: buckler | hyponyms:\n",
            "2        hyperonym: spelunker | hyponyms:\n",
            "3     hyperonym: quo warranto | hyponyms:\n",
            "4     hyperonym: Jeff Francis | hyponyms:\n",
            "Name: term, dtype: object\n",
            "0       malevolence, distaste, hatred, hate, malignity\n",
            "1                                           body armor\n",
            "2                    exploration, adventurer, explorer\n",
            "3    proceedings, legal proceedings, proceeding, du...\n",
            "4               thrower, baseball player, jock, person\n",
            "Name: hypernym, dtype: object\n"
          ]
        }
      ],
      "source": [
        "import pandas as pd\n",
        "\n",
        "path_data_en = \"/content/NLP-DL-Project-hypo-to-hyper/SemEval2018-Task9/training/data/1A.english.training.data.txt\"\n",
        "path_gold_en = \"/content/NLP-DL-Project-hypo-to-hyper/SemEval2018-Task9/training/gold/1A.english.training.gold.txt\"\n",
        "\n",
        "train_data_en_data = pd.read_csv(path_data_en, header=None, sep=\"\\t\", names=['term', 'relation'])\n",
        "train_gold_en_data = pd.read_csv(path_gold_en, header=None, names=['hypernym'])\n",
        "\n",
        "train_data_en_data.head()\n",
        "\n",
        "path_test_data_en = \"/content/NLP-DL-Project-hypo-to-hyper/SemEval2018-Task9/test/data/1A.english.test.data.txt\"\n",
        "path_test_gold_en = \"/content/NLP-DL-Project-hypo-to-hyper/SemEval2018-Task9/test/gold/1A.english.test.gold.txt\"\n",
        "\n",
        "test_data_en_data = pd.read_csv(path_test_data_en, header=None, sep=\"\\t\", names=['term', 'relation'])\n",
        "test_gold_en_data = pd.read_csv(path_test_gold_en, header=None, names=['hypernym'])\n",
        "\n",
        "def standard_preprcessing(train_features, train_target, test_features, test_target):\n",
        "    \n",
        "    train_data_en = train_features.copy()\n",
        "    train_data_en = 'hyperonym: ' + train_data_en.term + ' | hyponyms:'\n",
        "    print(train_data_en.head())\n",
        "\n",
        "    train_gold_en = train_target.copy()\n",
        "    train_gold_en = train_gold_en.hypernym.str.split('\\t').str.join(', ')\n",
        "    print(train_gold_en.head())\n",
        "    \n",
        "    test_data_en = test_features.copy()\n",
        "    test_data_en = 'hyperonym: ' + test_data_en.term + ' | hyponyms:'\n",
        "    print(test_data_en.head())\n",
        "\n",
        "    test_gold_en = test_target.copy()\n",
        "    test_gold_en = test_gold_en.hypernym.str.split('\\t').str.join(', ')\n",
        "    print(test_gold_en.head())\n",
        "    \n",
        "    return train_data_en, train_gold_en, test_data_en, test_gold_en\n",
        "\n",
        "\n",
        "train_data_en, train_gold_en, test_data_en, test_gold_en = standard_preprcessing(train_data_en_data, \n",
        "                                                                                 train_gold_en_data, \n",
        "                                                                                 test_data_en_data, \n",
        "                                                                                 test_gold_en_data)"
      ]
    },
    {
      "cell_type": "markdown",
      "id": "71a19be5-3df1-418f-a0c3-665bd22637eb",
      "metadata": {
        "id": "71a19be5-3df1-418f-a0c3-665bd22637eb"
      },
      "source": [
        "# Experiment"
      ]
    },
    {
      "cell_type": "code",
      "execution_count": 20,
      "id": "dee3c86a-b668-436f-94b9-071d34acb826",
      "metadata": {
        "id": "dee3c86a-b668-436f-94b9-071d34acb826"
      },
      "outputs": [],
      "source": [
        "from transformers import T5ForConditionalGeneration, AutoTokenizer\n",
        "from transformers import AutoModelForSeq2SeqLM, AutoTokenizer, AutoConfig"
      ]
    },
    {
      "cell_type": "code",
      "execution_count": 21,
      "id": "6cacd3c0-68be-42f7-8096-ac5581afb449",
      "metadata": {
        "colab": {
          "base_uri": "https://localhost:8080/",
          "height": 77,
          "referenced_widgets": [
            "f99a0195f33145d5a94e291eda018215",
            "d8319530f16b43138af8fd898a0a7ed8",
            "e981d883256c44eb9be3b05380d10710",
            "3fd995d827174b11a0954a1812c63efc",
            "44982d79d0f347e2a28d64b9d226ea51",
            "62f1d298257240c4b98efbb510a80990",
            "dc06e1ca0c46403d8a031722af0ebb2b",
            "fababf7bfbb54a20b5f972c8fd28bb97",
            "7b0a486b85cf461087efc18060b3ac9d",
            "e65a0fed4d7840fb822e15063fd94be5",
            "769179d9b81543bb95fe375c9bb5bb63"
          ]
        },
        "id": "6cacd3c0-68be-42f7-8096-ac5581afb449",
        "outputId": "49ce60a2-4e2e-45e0-aeea-8e32d26524ec"
      },
      "outputs": [
        {
          "output_type": "display_data",
          "data": {
            "text/plain": [
              "Downloading (…)okenizer_config.json:   0%|          | 0.00/2.32k [00:00<?, ?B/s]"
            ],
            "application/vnd.jupyter.widget-view+json": {
              "version_major": 2,
              "version_minor": 0,
              "model_id": "f99a0195f33145d5a94e291eda018215"
            }
          },
          "metadata": {}
        }
      ],
      "source": [
        "model_checkpoint = \"t5-small\"\n",
        "model = T5ForConditionalGeneration.from_pretrained(model_checkpoint).to(device)\n",
        "tokenizer = AutoTokenizer.from_pretrained(model_checkpoint, max_length=100, block_size=64)"
      ]
    },
    {
      "cell_type": "code",
      "source": [
        "#sys.path.append(\"/content/NLP-DL-Project-hypo-to-hyper/\")\n",
        "os.chdir('/content/NLP-DL-Project-hypo-to-hyper')"
      ],
      "metadata": {
        "id": "rhyGueIrOU0R"
      },
      "id": "rhyGueIrOU0R",
      "execution_count": 22,
      "outputs": []
    },
    {
      "cell_type": "code",
      "execution_count": 23,
      "id": "0b9c4baf-fcb8-4178-a31a-8bdcff0fbe41",
      "metadata": {
        "id": "0b9c4baf-fcb8-4178-a31a-8bdcff0fbe41"
      },
      "outputs": [],
      "source": [
        "from evaluation.data_collat import DataCollatorWithPadding\n",
        "from evaluation.experiment import Experiment"
      ]
    },
    {
      "cell_type": "markdown",
      "id": "f0809810-2abd-4182-8b77-80e843cda409",
      "metadata": {
        "id": "f0809810-2abd-4182-8b77-80e843cda409"
      },
      "source": [
        "1. train params/predict params [1, 1]\n",
        "2. train / params predict [0, 1]\n",
        "3. params predict [0, 0]"
      ]
    },
    {
      "cell_type": "markdown",
      "id": "7866ee63-7759-4fc2-beae-d345b2d18a9b",
      "metadata": {
        "id": "7866ee63-7759-4fc2-beae-d345b2d18a9b"
      },
      "source": [
        "## Change only parmeters in generating with no training"
      ]
    },
    {
      "cell_type": "code",
      "execution_count": 24,
      "id": "21a56839-766a-4911-bd14-b0fb79f71740",
      "metadata": {
        "id": "21a56839-766a-4911-bd14-b0fb79f71740"
      },
      "outputs": [],
      "source": [
        "check_param = {'GenArgs': {'num_beams': [2, 10]}}\n",
        "\n",
        "freezed_param = {'TrainArgs': {'num_train_epochs':1, 'per_device_train_batch_size':16, 'save_steps':1}, \n",
        "                 'GenArgs': {'max_length': 3, 'early_stopping': True}, \n",
        "                 'SelectStrategy': None, 'PredForm': None}\n"
      ]
    },
    {
      "cell_type": "code",
      "source": [
        "!mkdir output"
      ],
      "metadata": {
        "colab": {
          "base_uri": "https://localhost:8080/"
        },
        "id": "wsNn9JDMPIYj",
        "outputId": "4382cf06-fd18-4e69-bc0e-24c7bb241982"
      },
      "id": "wsNn9JDMPIYj",
      "execution_count": 25,
      "outputs": [
        {
          "output_type": "stream",
          "name": "stdout",
          "text": [
            "mkdir: cannot create directory ‘output’: File exists\n"
          ]
        }
      ]
    },
    {
      "cell_type": "code",
      "execution_count": 29,
      "id": "78419336-4edb-47a8-b261-96661c48fb59",
      "metadata": {
        "id": "78419336-4edb-47a8-b261-96661c48fb59"
      },
      "outputs": [],
      "source": [
        "data_collator = DataCollatorWithPadding(tokenizer=tokenizer)\n",
        "\n",
        "\n",
        "path_data = '/content/NLP-DL-Project-hypo-to-hyper/SemEval2018-Task9/test/gold/1A.english.test.gold.txt'\n",
        "\n",
        "experiment1 = Experiment(output_dir='output/',\n",
        "                         check_param=check_param, freezed_param=freezed_param,\n",
        "                         model=model, tokenizer=tokenizer, device=device,\n",
        "                         data_collator=data_collator,\n",
        "                         data_train=train_data_en.tolist(), target_train=train_gold_en.tolist(), \n",
        "                         data_test=test_data_en.tolist(), target_test=test_gold_en.tolist(), strategy=[0, 0], \n",
        "                         path_to_test=path_data\n",
        "                        )"
      ]
    },
    {
      "cell_type": "code",
      "execution_count": 31,
      "id": "43384857-c13a-4330-8f32-422ca0fe9a54",
      "metadata": {
        "tags": [],
        "colab": {
          "base_uri": "https://localhost:8080/",
          "height": 178
        },
        "id": "43384857-c13a-4330-8f32-422ca0fe9a54",
        "outputId": "85231df2-ebd8-4faa-a144-cfd8edadc87f"
      },
      "outputs": [
        {
          "output_type": "stream",
          "name": "stderr",
          "text": [
            "100%|██████████| 1500/1500 [00:45<00:00, 33.16it/s]\n",
            "100%|██████████| 1500/1500 [00:45<00:00, 32.90it/s]\n"
          ]
        },
        {
          "output_type": "execute_result",
          "data": {
            "text/plain": [
              "                                    MRR      MAP      P@1      P@3      P@5  \\\n",
              "Meta-Params                                                                   \n",
              "{'GenArgs': {'num_beams': 2}}   0.00133  0.00034  0.00133  0.00044  0.00027   \n",
              "{'GenArgs': {'num_beams': 10}}  0.00133  0.00034  0.00133  0.00044  0.00027   \n",
              "\n",
              "                                  P@15  \n",
              "Meta-Params                             \n",
              "{'GenArgs': {'num_beams': 2}}   0.0002  \n",
              "{'GenArgs': {'num_beams': 10}}  0.0002  "
            ],
            "text/html": [
              "\n",
              "  <div id=\"df-cd777073-9e2c-4c95-8994-209e1c06a2cc\">\n",
              "    <div class=\"colab-df-container\">\n",
              "      <div>\n",
              "<style scoped>\n",
              "    .dataframe tbody tr th:only-of-type {\n",
              "        vertical-align: middle;\n",
              "    }\n",
              "\n",
              "    .dataframe tbody tr th {\n",
              "        vertical-align: top;\n",
              "    }\n",
              "\n",
              "    .dataframe thead th {\n",
              "        text-align: right;\n",
              "    }\n",
              "</style>\n",
              "<table border=\"1\" class=\"dataframe\">\n",
              "  <thead>\n",
              "    <tr style=\"text-align: right;\">\n",
              "      <th></th>\n",
              "      <th>MRR</th>\n",
              "      <th>MAP</th>\n",
              "      <th>P@1</th>\n",
              "      <th>P@3</th>\n",
              "      <th>P@5</th>\n",
              "      <th>P@15</th>\n",
              "    </tr>\n",
              "    <tr>\n",
              "      <th>Meta-Params</th>\n",
              "      <th></th>\n",
              "      <th></th>\n",
              "      <th></th>\n",
              "      <th></th>\n",
              "      <th></th>\n",
              "      <th></th>\n",
              "    </tr>\n",
              "  </thead>\n",
              "  <tbody>\n",
              "    <tr>\n",
              "      <th>{'GenArgs': {'num_beams': 2}}</th>\n",
              "      <td>0.00133</td>\n",
              "      <td>0.00034</td>\n",
              "      <td>0.00133</td>\n",
              "      <td>0.00044</td>\n",
              "      <td>0.00027</td>\n",
              "      <td>0.0002</td>\n",
              "    </tr>\n",
              "    <tr>\n",
              "      <th>{'GenArgs': {'num_beams': 10}}</th>\n",
              "      <td>0.00133</td>\n",
              "      <td>0.00034</td>\n",
              "      <td>0.00133</td>\n",
              "      <td>0.00044</td>\n",
              "      <td>0.00027</td>\n",
              "      <td>0.0002</td>\n",
              "    </tr>\n",
              "  </tbody>\n",
              "</table>\n",
              "</div>\n",
              "      <button class=\"colab-df-convert\" onclick=\"convertToInteractive('df-cd777073-9e2c-4c95-8994-209e1c06a2cc')\"\n",
              "              title=\"Convert this dataframe to an interactive table.\"\n",
              "              style=\"display:none;\">\n",
              "        \n",
              "  <svg xmlns=\"http://www.w3.org/2000/svg\" height=\"24px\"viewBox=\"0 0 24 24\"\n",
              "       width=\"24px\">\n",
              "    <path d=\"M0 0h24v24H0V0z\" fill=\"none\"/>\n",
              "    <path d=\"M18.56 5.44l.94 2.06.94-2.06 2.06-.94-2.06-.94-.94-2.06-.94 2.06-2.06.94zm-11 1L8.5 8.5l.94-2.06 2.06-.94-2.06-.94L8.5 2.5l-.94 2.06-2.06.94zm10 10l.94 2.06.94-2.06 2.06-.94-2.06-.94-.94-2.06-.94 2.06-2.06.94z\"/><path d=\"M17.41 7.96l-1.37-1.37c-.4-.4-.92-.59-1.43-.59-.52 0-1.04.2-1.43.59L10.3 9.45l-7.72 7.72c-.78.78-.78 2.05 0 2.83L4 21.41c.39.39.9.59 1.41.59.51 0 1.02-.2 1.41-.59l7.78-7.78 2.81-2.81c.8-.78.8-2.07 0-2.86zM5.41 20L4 18.59l7.72-7.72 1.47 1.35L5.41 20z\"/>\n",
              "  </svg>\n",
              "      </button>\n",
              "      \n",
              "  <style>\n",
              "    .colab-df-container {\n",
              "      display:flex;\n",
              "      flex-wrap:wrap;\n",
              "      gap: 12px;\n",
              "    }\n",
              "\n",
              "    .colab-df-convert {\n",
              "      background-color: #E8F0FE;\n",
              "      border: none;\n",
              "      border-radius: 50%;\n",
              "      cursor: pointer;\n",
              "      display: none;\n",
              "      fill: #1967D2;\n",
              "      height: 32px;\n",
              "      padding: 0 0 0 0;\n",
              "      width: 32px;\n",
              "    }\n",
              "\n",
              "    .colab-df-convert:hover {\n",
              "      background-color: #E2EBFA;\n",
              "      box-shadow: 0px 1px 2px rgba(60, 64, 67, 0.3), 0px 1px 3px 1px rgba(60, 64, 67, 0.15);\n",
              "      fill: #174EA6;\n",
              "    }\n",
              "\n",
              "    [theme=dark] .colab-df-convert {\n",
              "      background-color: #3B4455;\n",
              "      fill: #D2E3FC;\n",
              "    }\n",
              "\n",
              "    [theme=dark] .colab-df-convert:hover {\n",
              "      background-color: #434B5C;\n",
              "      box-shadow: 0px 1px 3px 1px rgba(0, 0, 0, 0.15);\n",
              "      filter: drop-shadow(0px 1px 2px rgba(0, 0, 0, 0.3));\n",
              "      fill: #FFFFFF;\n",
              "    }\n",
              "  </style>\n",
              "\n",
              "      <script>\n",
              "        const buttonEl =\n",
              "          document.querySelector('#df-cd777073-9e2c-4c95-8994-209e1c06a2cc button.colab-df-convert');\n",
              "        buttonEl.style.display =\n",
              "          google.colab.kernel.accessAllowed ? 'block' : 'none';\n",
              "\n",
              "        async function convertToInteractive(key) {\n",
              "          const element = document.querySelector('#df-cd777073-9e2c-4c95-8994-209e1c06a2cc');\n",
              "          const dataTable =\n",
              "            await google.colab.kernel.invokeFunction('convertToInteractive',\n",
              "                                                     [key], {});\n",
              "          if (!dataTable) return;\n",
              "\n",
              "          const docLinkHtml = 'Like what you see? Visit the ' +\n",
              "            '<a target=\"_blank\" href=https://colab.research.google.com/notebooks/data_table.ipynb>data table notebook</a>'\n",
              "            + ' to learn more about interactive tables.';\n",
              "          element.innerHTML = '';\n",
              "          dataTable['output_type'] = 'display_data';\n",
              "          await google.colab.output.renderOutput(dataTable, element);\n",
              "          const docLink = document.createElement('div');\n",
              "          docLink.innerHTML = docLinkHtml;\n",
              "          element.appendChild(docLink);\n",
              "        }\n",
              "      </script>\n",
              "    </div>\n",
              "  </div>\n",
              "  "
            ]
          },
          "metadata": {},
          "execution_count": 31
        }
      ],
      "source": [
        "experiment1.run_experiment()"
      ]
    },
    {
      "cell_type": "markdown",
      "id": "bd961bff-cd17-437d-97c2-4463c17038b5",
      "metadata": {
        "id": "bd961bff-cd17-437d-97c2-4463c17038b5"
      },
      "source": [
        "## Change only parmeters in generating with training"
      ]
    },
    {
      "cell_type": "code",
      "execution_count": 32,
      "id": "c28c5062-429e-4965-bc3c-876201e9734c",
      "metadata": {
        "id": "c28c5062-429e-4965-bc3c-876201e9734c"
      },
      "outputs": [],
      "source": [
        "check_param = {'GenArgs': {'num_beams': [2, 10]}}\n",
        "\n",
        "freezed_param = {'TrainArgs': {'num_train_epochs':1, 'per_device_train_batch_size':16, 'save_steps':1}, \n",
        "                 'GenArgs': {'max_length': 3, 'early_stopping': True}, \n",
        "                 'SelectStrategy': None, 'PredForm': None}\n",
        "\n",
        "data_collator = DataCollatorWithPadding(tokenizer=tokenizer)\n",
        "\n",
        "\n",
        "path_data = '/content/NLP-DL-Project-hypo-to-hyper/SemEval2018-Task9/test/gold/1A.english.test.gold.txt'\n",
        "\n",
        "experiment1 = Experiment(output_dir='output/',\n",
        "                         check_param=check_param, freezed_param=freezed_param,\n",
        "                         model=model, tokenizer=tokenizer, device=device,\n",
        "                         data_collator=data_collator,\n",
        "                         data_train=train_data_en.tolist(), target_train=train_gold_en.tolist(), \n",
        "                         data_test=test_data_en.tolist(), target_test=test_gold_en.tolist(),\n",
        "                         strategy=[0, 1], \n",
        "                         path_to_test=path_data\n",
        "                        )"
      ]
    },
    {
      "cell_type": "code",
      "execution_count": 33,
      "id": "800bf82a-bc02-461d-97d0-0cd46887356a",
      "metadata": {
        "colab": {
          "base_uri": "https://localhost:8080/",
          "height": 309
        },
        "id": "800bf82a-bc02-461d-97d0-0cd46887356a",
        "outputId": "f6788311-259c-4ab3-b4a2-b636ee5f5817"
      },
      "outputs": [
        {
          "output_type": "stream",
          "name": "stderr",
          "text": [
            "/usr/local/lib/python3.9/dist-packages/transformers/optimization.py:391: FutureWarning: This implementation of AdamW is deprecated and will be removed in a future version. Use the PyTorch implementation torch.optim.AdamW instead, or set `no_deprecation_warning=True` to disable this warning\n",
            "  warnings.warn(\n",
            "You're using a T5TokenizerFast tokenizer. Please note that with a fast tokenizer, using the `__call__` method is faster than using a method to encode the text followed by a call to the `pad` method to get a padded encoding.\n"
          ]
        },
        {
          "output_type": "display_data",
          "data": {
            "text/plain": [
              "<IPython.core.display.HTML object>"
            ],
            "text/html": [
              "\n",
              "    <div>\n",
              "      \n",
              "      <progress value='94' max='94' style='width:300px; height:20px; vertical-align: middle;'></progress>\n",
              "      [94/94 04:37, Epoch 1/1]\n",
              "    </div>\n",
              "    <table border=\"1\" class=\"dataframe\">\n",
              "  <thead>\n",
              " <tr style=\"text-align: left;\">\n",
              "      <th>Step</th>\n",
              "      <th>Training Loss</th>\n",
              "    </tr>\n",
              "  </thead>\n",
              "  <tbody>\n",
              "  </tbody>\n",
              "</table><p>"
            ]
          },
          "metadata": {}
        },
        {
          "output_type": "stream",
          "name": "stderr",
          "text": [
            "100%|██████████| 1500/1500 [00:47<00:00, 31.50it/s]\n",
            "100%|██████████| 1500/1500 [00:51<00:00, 29.40it/s]\n"
          ]
        },
        {
          "output_type": "execute_result",
          "data": {
            "text/plain": [
              "                                MRR  MAP  P@1  P@3  P@5 P@15\n",
              "Meta-Params                                                 \n",
              "{'GenArgs': {'num_beams': 2}}   0.0  0.0  0.0  0.0  0.0  0.0\n",
              "{'GenArgs': {'num_beams': 10}}  0.0  0.0  0.0  0.0  0.0  0.0"
            ],
            "text/html": [
              "\n",
              "  <div id=\"df-a9a65534-be6b-4246-aa30-34e7fcc4b3b0\">\n",
              "    <div class=\"colab-df-container\">\n",
              "      <div>\n",
              "<style scoped>\n",
              "    .dataframe tbody tr th:only-of-type {\n",
              "        vertical-align: middle;\n",
              "    }\n",
              "\n",
              "    .dataframe tbody tr th {\n",
              "        vertical-align: top;\n",
              "    }\n",
              "\n",
              "    .dataframe thead th {\n",
              "        text-align: right;\n",
              "    }\n",
              "</style>\n",
              "<table border=\"1\" class=\"dataframe\">\n",
              "  <thead>\n",
              "    <tr style=\"text-align: right;\">\n",
              "      <th></th>\n",
              "      <th>MRR</th>\n",
              "      <th>MAP</th>\n",
              "      <th>P@1</th>\n",
              "      <th>P@3</th>\n",
              "      <th>P@5</th>\n",
              "      <th>P@15</th>\n",
              "    </tr>\n",
              "    <tr>\n",
              "      <th>Meta-Params</th>\n",
              "      <th></th>\n",
              "      <th></th>\n",
              "      <th></th>\n",
              "      <th></th>\n",
              "      <th></th>\n",
              "      <th></th>\n",
              "    </tr>\n",
              "  </thead>\n",
              "  <tbody>\n",
              "    <tr>\n",
              "      <th>{'GenArgs': {'num_beams': 2}}</th>\n",
              "      <td>0.0</td>\n",
              "      <td>0.0</td>\n",
              "      <td>0.0</td>\n",
              "      <td>0.0</td>\n",
              "      <td>0.0</td>\n",
              "      <td>0.0</td>\n",
              "    </tr>\n",
              "    <tr>\n",
              "      <th>{'GenArgs': {'num_beams': 10}}</th>\n",
              "      <td>0.0</td>\n",
              "      <td>0.0</td>\n",
              "      <td>0.0</td>\n",
              "      <td>0.0</td>\n",
              "      <td>0.0</td>\n",
              "      <td>0.0</td>\n",
              "    </tr>\n",
              "  </tbody>\n",
              "</table>\n",
              "</div>\n",
              "      <button class=\"colab-df-convert\" onclick=\"convertToInteractive('df-a9a65534-be6b-4246-aa30-34e7fcc4b3b0')\"\n",
              "              title=\"Convert this dataframe to an interactive table.\"\n",
              "              style=\"display:none;\">\n",
              "        \n",
              "  <svg xmlns=\"http://www.w3.org/2000/svg\" height=\"24px\"viewBox=\"0 0 24 24\"\n",
              "       width=\"24px\">\n",
              "    <path d=\"M0 0h24v24H0V0z\" fill=\"none\"/>\n",
              "    <path d=\"M18.56 5.44l.94 2.06.94-2.06 2.06-.94-2.06-.94-.94-2.06-.94 2.06-2.06.94zm-11 1L8.5 8.5l.94-2.06 2.06-.94-2.06-.94L8.5 2.5l-.94 2.06-2.06.94zm10 10l.94 2.06.94-2.06 2.06-.94-2.06-.94-.94-2.06-.94 2.06-2.06.94z\"/><path d=\"M17.41 7.96l-1.37-1.37c-.4-.4-.92-.59-1.43-.59-.52 0-1.04.2-1.43.59L10.3 9.45l-7.72 7.72c-.78.78-.78 2.05 0 2.83L4 21.41c.39.39.9.59 1.41.59.51 0 1.02-.2 1.41-.59l7.78-7.78 2.81-2.81c.8-.78.8-2.07 0-2.86zM5.41 20L4 18.59l7.72-7.72 1.47 1.35L5.41 20z\"/>\n",
              "  </svg>\n",
              "      </button>\n",
              "      \n",
              "  <style>\n",
              "    .colab-df-container {\n",
              "      display:flex;\n",
              "      flex-wrap:wrap;\n",
              "      gap: 12px;\n",
              "    }\n",
              "\n",
              "    .colab-df-convert {\n",
              "      background-color: #E8F0FE;\n",
              "      border: none;\n",
              "      border-radius: 50%;\n",
              "      cursor: pointer;\n",
              "      display: none;\n",
              "      fill: #1967D2;\n",
              "      height: 32px;\n",
              "      padding: 0 0 0 0;\n",
              "      width: 32px;\n",
              "    }\n",
              "\n",
              "    .colab-df-convert:hover {\n",
              "      background-color: #E2EBFA;\n",
              "      box-shadow: 0px 1px 2px rgba(60, 64, 67, 0.3), 0px 1px 3px 1px rgba(60, 64, 67, 0.15);\n",
              "      fill: #174EA6;\n",
              "    }\n",
              "\n",
              "    [theme=dark] .colab-df-convert {\n",
              "      background-color: #3B4455;\n",
              "      fill: #D2E3FC;\n",
              "    }\n",
              "\n",
              "    [theme=dark] .colab-df-convert:hover {\n",
              "      background-color: #434B5C;\n",
              "      box-shadow: 0px 1px 3px 1px rgba(0, 0, 0, 0.15);\n",
              "      filter: drop-shadow(0px 1px 2px rgba(0, 0, 0, 0.3));\n",
              "      fill: #FFFFFF;\n",
              "    }\n",
              "  </style>\n",
              "\n",
              "      <script>\n",
              "        const buttonEl =\n",
              "          document.querySelector('#df-a9a65534-be6b-4246-aa30-34e7fcc4b3b0 button.colab-df-convert');\n",
              "        buttonEl.style.display =\n",
              "          google.colab.kernel.accessAllowed ? 'block' : 'none';\n",
              "\n",
              "        async function convertToInteractive(key) {\n",
              "          const element = document.querySelector('#df-a9a65534-be6b-4246-aa30-34e7fcc4b3b0');\n",
              "          const dataTable =\n",
              "            await google.colab.kernel.invokeFunction('convertToInteractive',\n",
              "                                                     [key], {});\n",
              "          if (!dataTable) return;\n",
              "\n",
              "          const docLinkHtml = 'Like what you see? Visit the ' +\n",
              "            '<a target=\"_blank\" href=https://colab.research.google.com/notebooks/data_table.ipynb>data table notebook</a>'\n",
              "            + ' to learn more about interactive tables.';\n",
              "          element.innerHTML = '';\n",
              "          dataTable['output_type'] = 'display_data';\n",
              "          await google.colab.output.renderOutput(dataTable, element);\n",
              "          const docLink = document.createElement('div');\n",
              "          docLink.innerHTML = docLinkHtml;\n",
              "          element.appendChild(docLink);\n",
              "        }\n",
              "      </script>\n",
              "    </div>\n",
              "  </div>\n",
              "  "
            ]
          },
          "metadata": {},
          "execution_count": 33
        }
      ],
      "source": [
        "experiment1.run_experiment()"
      ]
    },
    {
      "cell_type": "markdown",
      "id": "1b90423c-2dcb-477d-a484-230949f020c8",
      "metadata": {
        "id": "1b90423c-2dcb-477d-a484-230949f020c8"
      },
      "source": [
        "## Change generating and training parmeters"
      ]
    },
    {
      "cell_type": "code",
      "execution_count": null,
      "id": "2f16d5ee-cb5e-43e2-8399-1fd55e1d482e",
      "metadata": {
        "id": "2f16d5ee-cb5e-43e2-8399-1fd55e1d482e"
      },
      "outputs": [],
      "source": [
        "check_param = {'TrainArgs': {'num_train_epochs':[1, 2]}, 'GenArgs': {'num_beams': [2, 10]}}\n",
        "\n",
        "freezed_param = {'TrainArgs': {'per_device_train_batch_size':16, 'save_steps':1}, \n",
        "                 'GenArgs': {'max_length': 3, 'early_stopping': True}, \n",
        "                 'SelectStrategy': None, 'PredForm': None}\n",
        "\n",
        "data_collator = DataCollatorWithPadding(tokenizer=tokenizer)\n",
        "\n",
        "\n",
        "path_data = '/content/NLP-DL-Project-hypo-to-hyper/SemEval2018-Task9/test/gold/1A.english.test.gold.txt'\n",
        "\n",
        "experiment1 = Experiment(output_dir='/home/jovyan/work',\n",
        "                         check_param=check_param, freezed_param=freezed_param,\n",
        "                         model=model, tokenizer=tokenizer, device=device,\n",
        "                         data_collator=data_collator,\n",
        "                         data_train=train_data_en.tolist(), target_train=train_gold_en.tolist(), \n",
        "                         data_test=test_data_en.tolist(), target_test=test_gold_en.tolist(),\n",
        "                         strategy=[1, 1], \n",
        "                         path_to_test=path_data\n",
        "                        )"
      ]
    },
    {
      "cell_type": "code",
      "execution_count": null,
      "id": "50e7c844-df40-423a-b0aa-3818c103c939",
      "metadata": {
        "tags": [],
        "id": "50e7c844-df40-423a-b0aa-3818c103c939",
        "outputId": "9d394b9c-1c48-4f8a-d8a5-37dafb556aea"
      },
      "outputs": [
        {
          "name": "stderr",
          "output_type": "stream",
          "text": [
            "/opt/conda/lib/python3.10/site-packages/transformers/optimization.py:391: FutureWarning: This implementation of AdamW is deprecated and will be removed in a future version. Use the PyTorch implementation torch.optim.AdamW instead, or set `no_deprecation_warning=True` to disable this warning\n",
            "  warnings.warn(\n"
          ]
        },
        {
          "data": {
            "text/html": [
              "\n",
              "    <div>\n",
              "      \n",
              "      <progress value='94' max='94' style='width:300px; height:20px; vertical-align: middle;'></progress>\n",
              "      [94/94 01:42, Epoch 1/1]\n",
              "    </div>\n",
              "    <table border=\"1\" class=\"dataframe\">\n",
              "  <thead>\n",
              " <tr style=\"text-align: left;\">\n",
              "      <th>Step</th>\n",
              "      <th>Training Loss</th>\n",
              "    </tr>\n",
              "  </thead>\n",
              "  <tbody>\n",
              "  </tbody>\n",
              "</table><p>"
            ],
            "text/plain": [
              "<IPython.core.display.HTML object>"
            ]
          },
          "metadata": {},
          "output_type": "display_data"
        },
        {
          "name": "stderr",
          "output_type": "stream",
          "text": [
            "100%|███████████████████████████████████████████████████████████████████████████████| 1500/1500 [00:37<00:00, 40.19it/s]\n",
            "/opt/conda/lib/python3.10/site-packages/transformers/optimization.py:391: FutureWarning: This implementation of AdamW is deprecated and will be removed in a future version. Use the PyTorch implementation torch.optim.AdamW instead, or set `no_deprecation_warning=True` to disable this warning\n",
            "  warnings.warn(\n"
          ]
        },
        {
          "data": {
            "text/html": [
              "\n",
              "    <div>\n",
              "      \n",
              "      <progress value='94' max='94' style='width:300px; height:20px; vertical-align: middle;'></progress>\n",
              "      [94/94 01:41, Epoch 1/1]\n",
              "    </div>\n",
              "    <table border=\"1\" class=\"dataframe\">\n",
              "  <thead>\n",
              " <tr style=\"text-align: left;\">\n",
              "      <th>Step</th>\n",
              "      <th>Training Loss</th>\n",
              "    </tr>\n",
              "  </thead>\n",
              "  <tbody>\n",
              "  </tbody>\n",
              "</table><p>"
            ],
            "text/plain": [
              "<IPython.core.display.HTML object>"
            ]
          },
          "metadata": {},
          "output_type": "display_data"
        },
        {
          "name": "stderr",
          "output_type": "stream",
          "text": [
            "100%|███████████████████████████████████████████████████████████████████████████████| 1500/1500 [00:41<00:00, 36.44it/s]\n",
            "/opt/conda/lib/python3.10/site-packages/transformers/optimization.py:391: FutureWarning: This implementation of AdamW is deprecated and will be removed in a future version. Use the PyTorch implementation torch.optim.AdamW instead, or set `no_deprecation_warning=True` to disable this warning\n",
            "  warnings.warn(\n"
          ]
        },
        {
          "data": {
            "text/html": [
              "\n",
              "    <div>\n",
              "      \n",
              "      <progress value='188' max='188' style='width:300px; height:20px; vertical-align: middle;'></progress>\n",
              "      [188/188 03:25, Epoch 2/2]\n",
              "    </div>\n",
              "    <table border=\"1\" class=\"dataframe\">\n",
              "  <thead>\n",
              " <tr style=\"text-align: left;\">\n",
              "      <th>Step</th>\n",
              "      <th>Training Loss</th>\n",
              "    </tr>\n",
              "  </thead>\n",
              "  <tbody>\n",
              "  </tbody>\n",
              "</table><p>"
            ],
            "text/plain": [
              "<IPython.core.display.HTML object>"
            ]
          },
          "metadata": {},
          "output_type": "display_data"
        },
        {
          "name": "stderr",
          "output_type": "stream",
          "text": [
            "100%|███████████████████████████████████████████████████████████████████████████████| 1500/1500 [00:37<00:00, 40.52it/s]\n",
            "/opt/conda/lib/python3.10/site-packages/transformers/optimization.py:391: FutureWarning: This implementation of AdamW is deprecated and will be removed in a future version. Use the PyTorch implementation torch.optim.AdamW instead, or set `no_deprecation_warning=True` to disable this warning\n",
            "  warnings.warn(\n"
          ]
        },
        {
          "data": {
            "text/html": [
              "\n",
              "    <div>\n",
              "      \n",
              "      <progress value='188' max='188' style='width:300px; height:20px; vertical-align: middle;'></progress>\n",
              "      [188/188 03:24, Epoch 2/2]\n",
              "    </div>\n",
              "    <table border=\"1\" class=\"dataframe\">\n",
              "  <thead>\n",
              " <tr style=\"text-align: left;\">\n",
              "      <th>Step</th>\n",
              "      <th>Training Loss</th>\n",
              "    </tr>\n",
              "  </thead>\n",
              "  <tbody>\n",
              "  </tbody>\n",
              "</table><p>"
            ],
            "text/plain": [
              "<IPython.core.display.HTML object>"
            ]
          },
          "metadata": {},
          "output_type": "display_data"
        },
        {
          "name": "stderr",
          "output_type": "stream",
          "text": [
            "100%|███████████████████████████████████████████████████████████████████████████████| 1500/1500 [00:41<00:00, 36.30it/s]\n"
          ]
        },
        {
          "data": {
            "text/html": [
              "<div>\n",
              "<style scoped>\n",
              "    .dataframe tbody tr th:only-of-type {\n",
              "        vertical-align: middle;\n",
              "    }\n",
              "\n",
              "    .dataframe tbody tr th {\n",
              "        vertical-align: top;\n",
              "    }\n",
              "\n",
              "    .dataframe thead th {\n",
              "        text-align: right;\n",
              "    }\n",
              "</style>\n",
              "<table border=\"1\" class=\"dataframe\">\n",
              "  <thead>\n",
              "    <tr style=\"text-align: right;\">\n",
              "      <th></th>\n",
              "      <th>MRR</th>\n",
              "      <th>MAP</th>\n",
              "      <th>P@1</th>\n",
              "      <th>P@3</th>\n",
              "      <th>P@5</th>\n",
              "      <th>P@15</th>\n",
              "    </tr>\n",
              "    <tr>\n",
              "      <th>Meta-Params</th>\n",
              "      <th></th>\n",
              "      <th></th>\n",
              "      <th></th>\n",
              "      <th></th>\n",
              "      <th></th>\n",
              "      <th></th>\n",
              "    </tr>\n",
              "  </thead>\n",
              "  <tbody>\n",
              "    <tr>\n",
              "      <th>{'TrainArgs': {'num_train_epochs': 1}, 'GenArgs': {'num_beams': 2}}</th>\n",
              "      <td>0.00133</td>\n",
              "      <td>0.00052</td>\n",
              "      <td>0.00133</td>\n",
              "      <td>0.00044</td>\n",
              "      <td>0.00044</td>\n",
              "      <td>0.00044</td>\n",
              "    </tr>\n",
              "    <tr>\n",
              "      <th>{'TrainArgs': {'num_train_epochs': 1}, 'GenArgs': {'num_beams': 10}}</th>\n",
              "      <td>0.00467</td>\n",
              "      <td>0.00147</td>\n",
              "      <td>0.00467</td>\n",
              "      <td>0.00156</td>\n",
              "      <td>0.00118</td>\n",
              "      <td>0.00109</td>\n",
              "    </tr>\n",
              "    <tr>\n",
              "      <th>{'TrainArgs': {'num_train_epochs': 2}, 'GenArgs': {'num_beams': 2}}</th>\n",
              "      <td>0.00533</td>\n",
              "      <td>0.00168</td>\n",
              "      <td>0.00533</td>\n",
              "      <td>0.00178</td>\n",
              "      <td>0.00137</td>\n",
              "      <td>0.00124</td>\n",
              "    </tr>\n",
              "    <tr>\n",
              "      <th>{'TrainArgs': {'num_train_epochs': 2}, 'GenArgs': {'num_beams': 10}}</th>\n",
              "      <td>0.008</td>\n",
              "      <td>0.00269</td>\n",
              "      <td>0.008</td>\n",
              "      <td>0.00278</td>\n",
              "      <td>0.00219</td>\n",
              "      <td>0.00209</td>\n",
              "    </tr>\n",
              "  </tbody>\n",
              "</table>\n",
              "</div>"
            ],
            "text/plain": [
              "                                                        MRR      MAP      P@1  \\\n",
              "Meta-Params                                                                     \n",
              "{'TrainArgs': {'num_train_epochs': 1}, 'GenArgs...  0.00133  0.00052  0.00133   \n",
              "{'TrainArgs': {'num_train_epochs': 1}, 'GenArgs...  0.00467  0.00147  0.00467   \n",
              "{'TrainArgs': {'num_train_epochs': 2}, 'GenArgs...  0.00533  0.00168  0.00533   \n",
              "{'TrainArgs': {'num_train_epochs': 2}, 'GenArgs...    0.008  0.00269    0.008   \n",
              "\n",
              "                                                        P@3      P@5     P@15  \n",
              "Meta-Params                                                                    \n",
              "{'TrainArgs': {'num_train_epochs': 1}, 'GenArgs...  0.00044  0.00044  0.00044  \n",
              "{'TrainArgs': {'num_train_epochs': 1}, 'GenArgs...  0.00156  0.00118  0.00109  \n",
              "{'TrainArgs': {'num_train_epochs': 2}, 'GenArgs...  0.00178  0.00137  0.00124  \n",
              "{'TrainArgs': {'num_train_epochs': 2}, 'GenArgs...  0.00278  0.00219  0.00209  "
            ]
          },
          "execution_count": 17,
          "metadata": {},
          "output_type": "execute_result"
        }
      ],
      "source": [
        "experiment1.run_experiment()"
      ]
    },
    {
      "cell_type": "code",
      "execution_count": null,
      "id": "b8265237-ddf6-46f5-9252-97e4eb281705",
      "metadata": {
        "id": "b8265237-ddf6-46f5-9252-97e4eb281705",
        "outputId": "720b5dd5-986a-4bef-dc42-bc2e8a0e2aaa"
      },
      "outputs": [
        {
          "name": "stdout",
          "output_type": "stream",
          "text": [
            "huggingface/tokenizers: The current process just got forked, after parallelism has already been used. Disabling parallelism to avoid deadlocks...\n",
            "To disable this warning, you can either:\n",
            "\t- Avoid using `tokenizers` before the fork if possible\n",
            "\t- Explicitly set the environment variable TOKENIZERS_PARALLELISM=(true | false)\n",
            "Mon Apr 24 00:13:24 2023       \n",
            "+-----------------------------------------------------------------------------+\n",
            "| NVIDIA-SMI 510.108.03   Driver Version: 510.108.03   CUDA Version: 11.6     |\n",
            "|-------------------------------+----------------------+----------------------+\n",
            "| GPU  Name        Persistence-M| Bus-Id        Disp.A | Volatile Uncorr. ECC |\n",
            "| Fan  Temp  Perf  Pwr:Usage/Cap|         Memory-Usage | GPU-Util  Compute M. |\n",
            "|                               |                      |               MIG M. |\n",
            "|===============================+======================+======================|\n",
            "|   0  NVIDIA GeForce ...  Off  | 00000000:1B:00.0 Off |                  Off |\n",
            "|  0%   34C    P8    25W / 460W |   4531MiB / 24564MiB |      0%      Default |\n",
            "|                               |                      |                  N/A |\n",
            "+-------------------------------+----------------------+----------------------+\n",
            "|   1  NVIDIA GeForce ...  Off  | 00000000:1C:00.0 Off |                  N/A |\n",
            "| 27%   34C    P8    15W / 260W |      8MiB / 11264MiB |      0%      Default |\n",
            "|                               |                      |                  N/A |\n",
            "+-------------------------------+----------------------+----------------------+\n",
            "|   2  NVIDIA GeForce ...  Off  | 00000000:1E:00.0 Off |                  N/A |\n",
            "| 27%   34C    P8     8W / 260W |      8MiB / 11264MiB |      0%      Default |\n",
            "|                               |                      |                  N/A |\n",
            "+-------------------------------+----------------------+----------------------+\n",
            "|   3  NVIDIA GeForce ...  Off  | 00000000:3F:00.0 Off |                  Off |\n",
            "|  0%   31C    P8    17W / 460W |      8MiB / 24564MiB |      0%      Default |\n",
            "|                               |                      |                  N/A |\n",
            "+-------------------------------+----------------------+----------------------+\n",
            "|   4  NVIDIA GeForce ...  Off  | 00000000:40:00.0 Off |                  Off |\n",
            "| 30%   50C    P2   115W / 460W |   2543MiB / 24564MiB |      0%      Default |\n",
            "|                               |                      |                  N/A |\n",
            "+-------------------------------+----------------------+----------------------+\n",
            "|   5  NVIDIA GeForce ...  Off  | 00000000:5E:00.0 Off |                  Off |\n",
            "|  0%   35C    P8    25W / 460W |      8MiB / 24564MiB |      0%      Default |\n",
            "|                               |                      |                  N/A |\n",
            "+-------------------------------+----------------------+----------------------+\n",
            "                                                                               \n",
            "+-----------------------------------------------------------------------------+\n",
            "| Processes:                                                                  |\n",
            "|  GPU   GI   CI        PID   Type   Process name                  GPU Memory |\n",
            "|        ID   ID                                                   Usage      |\n",
            "|=============================================================================|\n",
            "+-----------------------------------------------------------------------------+\n"
          ]
        }
      ],
      "source": [
        "!nvidia-smi"
      ]
    },
    {
      "cell_type": "code",
      "execution_count": null,
      "id": "66d4ce72-20cf-438a-9be1-47f77ab48556",
      "metadata": {
        "id": "66d4ce72-20cf-438a-9be1-47f77ab48556",
        "outputId": "195951dd-d2fb-4fae-c24e-f014c2cf9c39"
      },
      "outputs": [
        {
          "name": "stdout",
          "output_type": "stream",
          "text": [
            "huggingface/tokenizers: The current process just got forked, after parallelism has already been used. Disabling parallelism to avoid deadlocks...\n",
            "To disable this warning, you can either:\n",
            "\t- Avoid using `tokenizers` before the fork if possible\n",
            "\t- Explicitly set the environment variable TOKENIZERS_PARALLELISM=(true | false)\n"
          ]
        }
      ],
      "source": [
        "!rm -rf experiment"
      ]
    }
  ],
  "metadata": {
    "kernelspec": {
      "display_name": "Python 3 (ipykernel)",
      "language": "python",
      "name": "python3"
    },
    "language_info": {
      "codemirror_mode": {
        "name": "ipython",
        "version": 3
      },
      "file_extension": ".py",
      "mimetype": "text/x-python",
      "name": "python",
      "nbconvert_exporter": "python",
      "pygments_lexer": "ipython3",
      "version": "3.10.8"
    },
    "colab": {
      "provenance": []
    },
    "gpuClass": "standard",
    "accelerator": "GPU",
    "widgets": {
      "application/vnd.jupyter.widget-state+json": {
        "f99a0195f33145d5a94e291eda018215": {
          "model_module": "@jupyter-widgets/controls",
          "model_name": "HBoxModel",
          "model_module_version": "1.5.0",
          "state": {
            "_dom_classes": [],
            "_model_module": "@jupyter-widgets/controls",
            "_model_module_version": "1.5.0",
            "_model_name": "HBoxModel",
            "_view_count": null,
            "_view_module": "@jupyter-widgets/controls",
            "_view_module_version": "1.5.0",
            "_view_name": "HBoxView",
            "box_style": "",
            "children": [
              "IPY_MODEL_d8319530f16b43138af8fd898a0a7ed8",
              "IPY_MODEL_e981d883256c44eb9be3b05380d10710",
              "IPY_MODEL_3fd995d827174b11a0954a1812c63efc"
            ],
            "layout": "IPY_MODEL_44982d79d0f347e2a28d64b9d226ea51"
          }
        },
        "d8319530f16b43138af8fd898a0a7ed8": {
          "model_module": "@jupyter-widgets/controls",
          "model_name": "HTMLModel",
          "model_module_version": "1.5.0",
          "state": {
            "_dom_classes": [],
            "_model_module": "@jupyter-widgets/controls",
            "_model_module_version": "1.5.0",
            "_model_name": "HTMLModel",
            "_view_count": null,
            "_view_module": "@jupyter-widgets/controls",
            "_view_module_version": "1.5.0",
            "_view_name": "HTMLView",
            "description": "",
            "description_tooltip": null,
            "layout": "IPY_MODEL_62f1d298257240c4b98efbb510a80990",
            "placeholder": "​",
            "style": "IPY_MODEL_dc06e1ca0c46403d8a031722af0ebb2b",
            "value": "Downloading (…)okenizer_config.json: 100%"
          }
        },
        "e981d883256c44eb9be3b05380d10710": {
          "model_module": "@jupyter-widgets/controls",
          "model_name": "FloatProgressModel",
          "model_module_version": "1.5.0",
          "state": {
            "_dom_classes": [],
            "_model_module": "@jupyter-widgets/controls",
            "_model_module_version": "1.5.0",
            "_model_name": "FloatProgressModel",
            "_view_count": null,
            "_view_module": "@jupyter-widgets/controls",
            "_view_module_version": "1.5.0",
            "_view_name": "ProgressView",
            "bar_style": "success",
            "description": "",
            "description_tooltip": null,
            "layout": "IPY_MODEL_fababf7bfbb54a20b5f972c8fd28bb97",
            "max": 2324,
            "min": 0,
            "orientation": "horizontal",
            "style": "IPY_MODEL_7b0a486b85cf461087efc18060b3ac9d",
            "value": 2324
          }
        },
        "3fd995d827174b11a0954a1812c63efc": {
          "model_module": "@jupyter-widgets/controls",
          "model_name": "HTMLModel",
          "model_module_version": "1.5.0",
          "state": {
            "_dom_classes": [],
            "_model_module": "@jupyter-widgets/controls",
            "_model_module_version": "1.5.0",
            "_model_name": "HTMLModel",
            "_view_count": null,
            "_view_module": "@jupyter-widgets/controls",
            "_view_module_version": "1.5.0",
            "_view_name": "HTMLView",
            "description": "",
            "description_tooltip": null,
            "layout": "IPY_MODEL_e65a0fed4d7840fb822e15063fd94be5",
            "placeholder": "​",
            "style": "IPY_MODEL_769179d9b81543bb95fe375c9bb5bb63",
            "value": " 2.32k/2.32k [00:00&lt;00:00, 111kB/s]"
          }
        },
        "44982d79d0f347e2a28d64b9d226ea51": {
          "model_module": "@jupyter-widgets/base",
          "model_name": "LayoutModel",
          "model_module_version": "1.2.0",
          "state": {
            "_model_module": "@jupyter-widgets/base",
            "_model_module_version": "1.2.0",
            "_model_name": "LayoutModel",
            "_view_count": null,
            "_view_module": "@jupyter-widgets/base",
            "_view_module_version": "1.2.0",
            "_view_name": "LayoutView",
            "align_content": null,
            "align_items": null,
            "align_self": null,
            "border": null,
            "bottom": null,
            "display": null,
            "flex": null,
            "flex_flow": null,
            "grid_area": null,
            "grid_auto_columns": null,
            "grid_auto_flow": null,
            "grid_auto_rows": null,
            "grid_column": null,
            "grid_gap": null,
            "grid_row": null,
            "grid_template_areas": null,
            "grid_template_columns": null,
            "grid_template_rows": null,
            "height": null,
            "justify_content": null,
            "justify_items": null,
            "left": null,
            "margin": null,
            "max_height": null,
            "max_width": null,
            "min_height": null,
            "min_width": null,
            "object_fit": null,
            "object_position": null,
            "order": null,
            "overflow": null,
            "overflow_x": null,
            "overflow_y": null,
            "padding": null,
            "right": null,
            "top": null,
            "visibility": null,
            "width": null
          }
        },
        "62f1d298257240c4b98efbb510a80990": {
          "model_module": "@jupyter-widgets/base",
          "model_name": "LayoutModel",
          "model_module_version": "1.2.0",
          "state": {
            "_model_module": "@jupyter-widgets/base",
            "_model_module_version": "1.2.0",
            "_model_name": "LayoutModel",
            "_view_count": null,
            "_view_module": "@jupyter-widgets/base",
            "_view_module_version": "1.2.0",
            "_view_name": "LayoutView",
            "align_content": null,
            "align_items": null,
            "align_self": null,
            "border": null,
            "bottom": null,
            "display": null,
            "flex": null,
            "flex_flow": null,
            "grid_area": null,
            "grid_auto_columns": null,
            "grid_auto_flow": null,
            "grid_auto_rows": null,
            "grid_column": null,
            "grid_gap": null,
            "grid_row": null,
            "grid_template_areas": null,
            "grid_template_columns": null,
            "grid_template_rows": null,
            "height": null,
            "justify_content": null,
            "justify_items": null,
            "left": null,
            "margin": null,
            "max_height": null,
            "max_width": null,
            "min_height": null,
            "min_width": null,
            "object_fit": null,
            "object_position": null,
            "order": null,
            "overflow": null,
            "overflow_x": null,
            "overflow_y": null,
            "padding": null,
            "right": null,
            "top": null,
            "visibility": null,
            "width": null
          }
        },
        "dc06e1ca0c46403d8a031722af0ebb2b": {
          "model_module": "@jupyter-widgets/controls",
          "model_name": "DescriptionStyleModel",
          "model_module_version": "1.5.0",
          "state": {
            "_model_module": "@jupyter-widgets/controls",
            "_model_module_version": "1.5.0",
            "_model_name": "DescriptionStyleModel",
            "_view_count": null,
            "_view_module": "@jupyter-widgets/base",
            "_view_module_version": "1.2.0",
            "_view_name": "StyleView",
            "description_width": ""
          }
        },
        "fababf7bfbb54a20b5f972c8fd28bb97": {
          "model_module": "@jupyter-widgets/base",
          "model_name": "LayoutModel",
          "model_module_version": "1.2.0",
          "state": {
            "_model_module": "@jupyter-widgets/base",
            "_model_module_version": "1.2.0",
            "_model_name": "LayoutModel",
            "_view_count": null,
            "_view_module": "@jupyter-widgets/base",
            "_view_module_version": "1.2.0",
            "_view_name": "LayoutView",
            "align_content": null,
            "align_items": null,
            "align_self": null,
            "border": null,
            "bottom": null,
            "display": null,
            "flex": null,
            "flex_flow": null,
            "grid_area": null,
            "grid_auto_columns": null,
            "grid_auto_flow": null,
            "grid_auto_rows": null,
            "grid_column": null,
            "grid_gap": null,
            "grid_row": null,
            "grid_template_areas": null,
            "grid_template_columns": null,
            "grid_template_rows": null,
            "height": null,
            "justify_content": null,
            "justify_items": null,
            "left": null,
            "margin": null,
            "max_height": null,
            "max_width": null,
            "min_height": null,
            "min_width": null,
            "object_fit": null,
            "object_position": null,
            "order": null,
            "overflow": null,
            "overflow_x": null,
            "overflow_y": null,
            "padding": null,
            "right": null,
            "top": null,
            "visibility": null,
            "width": null
          }
        },
        "7b0a486b85cf461087efc18060b3ac9d": {
          "model_module": "@jupyter-widgets/controls",
          "model_name": "ProgressStyleModel",
          "model_module_version": "1.5.0",
          "state": {
            "_model_module": "@jupyter-widgets/controls",
            "_model_module_version": "1.5.0",
            "_model_name": "ProgressStyleModel",
            "_view_count": null,
            "_view_module": "@jupyter-widgets/base",
            "_view_module_version": "1.2.0",
            "_view_name": "StyleView",
            "bar_color": null,
            "description_width": ""
          }
        },
        "e65a0fed4d7840fb822e15063fd94be5": {
          "model_module": "@jupyter-widgets/base",
          "model_name": "LayoutModel",
          "model_module_version": "1.2.0",
          "state": {
            "_model_module": "@jupyter-widgets/base",
            "_model_module_version": "1.2.0",
            "_model_name": "LayoutModel",
            "_view_count": null,
            "_view_module": "@jupyter-widgets/base",
            "_view_module_version": "1.2.0",
            "_view_name": "LayoutView",
            "align_content": null,
            "align_items": null,
            "align_self": null,
            "border": null,
            "bottom": null,
            "display": null,
            "flex": null,
            "flex_flow": null,
            "grid_area": null,
            "grid_auto_columns": null,
            "grid_auto_flow": null,
            "grid_auto_rows": null,
            "grid_column": null,
            "grid_gap": null,
            "grid_row": null,
            "grid_template_areas": null,
            "grid_template_columns": null,
            "grid_template_rows": null,
            "height": null,
            "justify_content": null,
            "justify_items": null,
            "left": null,
            "margin": null,
            "max_height": null,
            "max_width": null,
            "min_height": null,
            "min_width": null,
            "object_fit": null,
            "object_position": null,
            "order": null,
            "overflow": null,
            "overflow_x": null,
            "overflow_y": null,
            "padding": null,
            "right": null,
            "top": null,
            "visibility": null,
            "width": null
          }
        },
        "769179d9b81543bb95fe375c9bb5bb63": {
          "model_module": "@jupyter-widgets/controls",
          "model_name": "DescriptionStyleModel",
          "model_module_version": "1.5.0",
          "state": {
            "_model_module": "@jupyter-widgets/controls",
            "_model_module_version": "1.5.0",
            "_model_name": "DescriptionStyleModel",
            "_view_count": null,
            "_view_module": "@jupyter-widgets/base",
            "_view_module_version": "1.2.0",
            "_view_name": "StyleView",
            "description_width": ""
          }
        }
      }
    }
  },
  "nbformat": 4,
  "nbformat_minor": 5
}