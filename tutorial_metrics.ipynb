{
 "cells": [
  {
   "cell_type": "code",
   "execution_count": 3,
   "metadata": {},
   "outputs": [],
   "source": [
    "\n",
    "import os\n",
    "import sys\n",
    "import pandas as pd\n",
    "import numpy as np\n",
    "import pickle\n",
    "\n",
    "\n",
    "sys.path.append(\"pipeline_src/\")\n",
    "\n",
    "from metrics.metrics import get_all_metrics, get_hypernyms\n",
    "from dataset.dataset import HypernymDataset\n",
    "from transformers import AutoTokenizer\n",
    "\n",
    "from dataset.prompt_schemas import (\n",
    "    hypo_term_hyper,\n",
    "    predict_child_from_2_parents,\n",
    "    predict_child_from_parent,\n",
    "    predict_child_with_parent_and_grandparent,\n",
    "    predict_children_with_parent_and_brothers,\n",
    "    predict_parent_from_child_granparent,\n",
    ")"
   ]
  },
  {
   "cell_type": "code",
   "execution_count": 4,
   "metadata": {},
   "outputs": [],
   "source": [
    "test_path = \"babel_datasets/wnet_test_en_babel.pickle\"\n",
    "saving_path = \"/raid/rabikov/model_outputs/\" + \"eachadea-vicuna-13b-1.1remove_all_from_labels_\""
   ]
  },
  {
   "cell_type": "code",
   "execution_count": 5,
   "metadata": {},
   "outputs": [],
   "source": [
    "df = pd.read_pickle(test_path)"
   ]
  },
  {
   "cell_type": "code",
   "execution_count": 6,
   "metadata": {},
   "outputs": [],
   "source": [
    "transforms={\n",
    "            \"only_child_leaf\": predict_parent_from_child_granparent,\n",
    "            \"only_leafs_all\": predict_child_from_parent,\n",
    "            \"only_leafs_divided\": predict_children_with_parent_and_brothers,\n",
    "            \"leafs_and_no_leafs\": predict_child_from_parent,\n",
    "            \"simple_triplet_grandparent\": predict_parent_from_child_granparent,\n",
    "            \"simple_triplet_2parent\": predict_child_from_2_parents,\n",
    "        }"
   ]
  },
  {
   "cell_type": "code",
   "execution_count": 7,
   "metadata": {},
   "outputs": [],
   "source": [
    "all_labels = []\n",
    "all_terms = []\n",
    "\n",
    "cased = {}\n",
    "\n",
    "with open(saving_path, \"rb\") as fp:\n",
    "    all_preds = pickle.load(fp)\n",
    "\n",
    "for i, elem in enumerate(df):\n",
    "    try:\n",
    "        all_preds[i]\n",
    "    except IndexError:\n",
    "        continue\n",
    "    \n",
    "    case = elem['case']\n",
    "    processed_term, target = transforms[case](elem)\n",
    "    all_labels.append(target)\n",
    "    all_terms.append(processed_term)\n",
    "\n",
    "    if not case in cased.keys():\n",
    "        cased[case] = {'pred': [], 'label': [], 'term': []}\n",
    "\n",
    "    cased[case]['pred'].append(all_preds[i])\n",
    "    cased[case]['label'].append(target)\n",
    "    cased[case]['term'].append(processed_term)"
   ]
  },
  {
   "cell_type": "code",
   "execution_count": 12,
   "metadata": {},
   "outputs": [],
   "source": [
    "from metrics.metrics import *\n",
    "\n",
    "def get_one_sample_metric(goldline, predline, limit=15):\n",
    "    all_scores = []\n",
    "    scores_names = [\"MRR\", \"MAP\", \"P@1\", \"P@3\", \"P@5\", \"P@15\"]\n",
    "\n",
    "\n",
    "    avg_pat1 = []\n",
    "    avg_pat2 = []\n",
    "    avg_pat3 = []\n",
    "    avg_pat4 = []\n",
    "\n",
    "    gold_hyps = get_hypernyms(goldline, is_gold=True, limit=limit)\n",
    "    pred_hyps = get_hypernyms(predline, is_gold=False, limit=limit)\n",
    "    gold_hyps_n = len(gold_hyps)\n",
    "    r = [0 for i in range(limit)]\n",
    "\n",
    "    intersection = get_intersect(gold_hyps, pred_hyps)\n",
    "\n",
    "    for j in range(len(pred_hyps)):\n",
    "        pred_hyp = pred_hyps[j]\n",
    "        if pred_hyp in gold_hyps:\n",
    "            r[j] = 1\n",
    "\n",
    "    avg_pat1.append(precision_at_k(r, 1, gold_hyps_n))\n",
    "    avg_pat2.append(precision_at_k(r, 3, gold_hyps_n))\n",
    "    avg_pat3.append(precision_at_k(r, 5, gold_hyps_n))\n",
    "    avg_pat4.append(precision_at_k(r, 15, gold_hyps_n))\n",
    "\n",
    "    mrr_score_numb = mean_reciprocal_rank(r)\n",
    "    map_score_numb = mean_average_precision(r, gold_hyps_n)\n",
    "    avg_pat1_numb = sum(avg_pat1) / len(avg_pat1)\n",
    "    avg_pat2_numb = sum(avg_pat2) / len(avg_pat2)\n",
    "    avg_pat3_numb = sum(avg_pat3) / len(avg_pat3)\n",
    "    avg_pat4_numb = sum(avg_pat4) / len(avg_pat4)\n",
    "\n",
    "    scores_results = [\n",
    "        mrr_score_numb,\n",
    "        map_score_numb,\n",
    "        avg_pat1_numb,\n",
    "        avg_pat2_numb,\n",
    "        avg_pat3_numb,\n",
    "        avg_pat4_numb,\n",
    "    ]\n",
    "\n",
    "    res = {}\n",
    "    for k in range(len(scores_names)):\n",
    "        res[scores_names[k]] = scores_results[k]\n",
    "\n",
    "    return res, intersection\n",
    "\n",
    "def get_intersect(gold, pred):\n",
    "\n",
    "    return list(set(pred).intersection(set(gold)))"
   ]
  },
  {
   "cell_type": "code",
   "execution_count": 26,
   "metadata": {},
   "outputs": [
    {
     "data": {
      "text/plain": [
       "dict_keys(['only_leafs_divided', 'leafs_and_no_leafs', 'simple_triplet_grandparent', 'only_child_leaf', 'simple_triplet_2parent', 'only_leafs_all'])"
      ]
     },
     "execution_count": 26,
     "metadata": {},
     "output_type": "execute_result"
    }
   ],
   "source": [
    "cased.keys()"
   ]
  },
  {
   "cell_type": "code",
   "execution_count": 27,
   "metadata": {},
   "outputs": [
    {
     "data": {
      "text/plain": [
       "'P@15'"
      ]
     },
     "execution_count": 27,
     "metadata": {},
     "output_type": "execute_result"
    }
   ],
   "source": [
    "key"
   ]
  },
  {
   "cell_type": "code",
   "execution_count": 29,
   "metadata": {},
   "outputs": [],
   "source": [
    "for key in cased.keys():\n",
    "    n = len(cased[key]['pred'])\n",
    "\n",
    "    total_str = \"\"\n",
    "    for i in range(n):\n",
    "        pred = cased[key]['pred'][i]\n",
    "        gold = cased[key]['label'][i]\n",
    "        term = cased[key]['term'][i]\n",
    "\n",
    "        res, intersect = get_one_sample_metric(gold, pred, limit=50)\n",
    "\n",
    "        res_str = \"\"\n",
    "        for metric_key in res.keys():\n",
    "            res_str += \" \" + str(metric_key) + \" \" + str(res[metric_key]) \n",
    "\n",
    "\n",
    "        total_str += (term + \"\\n\\n\" + \n",
    "            \"predicted: \" + pred + \"\\n \\n\" +\n",
    "            \"true: \" + gold + \"\\n \\n\" +\n",
    "            \"intersection: \" + \",\".join(intersect) + \"\\n\\n\"+ \n",
    "            \"metrics: \" + res_str + \" \\n\\n\" + \n",
    "            \"=\"*10 + \"\\n\") \n",
    "\n",
    "    file_name = \"babel_datasets/example_\" + str(key) + \"_vicuna_13b\" + \".txt\"  \n",
    "    with open(file_name, \"w\") as f:\n",
    "        f.write(total_str)"
   ]
  },
  {
   "cell_type": "code",
   "execution_count": 17,
   "metadata": {},
   "outputs": [
    {
     "data": {
      "text/plain": [
       "('bungalow, chalet, cottage, dacha, farmhouse, mansion, manse, palace, ranch house,',\n",
       " 'sod house, beach house, bungalow, chalet, chapterhouse, detached house, dollhouse, duplex house, farmhouse, guesthouse, hacienda, lodge, maisonette, ranch house, safe house, saltbox, solar house, tract house, villa',\n",
       " 'hypernym: house.n.1 | hyponyms:')"
      ]
     },
     "execution_count": 17,
     "metadata": {},
     "output_type": "execute_result"
    }
   ],
   "source": [
    "idx = 27\n",
    "all_preds[idx], all_labels[idx], all_terms[idx]"
   ]
  },
  {
   "cell_type": "code",
   "execution_count": 24,
   "metadata": {},
   "outputs": [
    {
     "data": {
      "text/plain": [
       "(796, 796)"
      ]
     },
     "execution_count": 24,
     "metadata": {},
     "output_type": "execute_result"
    }
   ],
   "source": [
    "len(all_preds), len(all_labels)"
   ]
  },
  {
   "cell_type": "code",
   "execution_count": 13,
   "metadata": {},
   "outputs": [],
   "source": [
    "all_labels = all_labels[:len(all_preds)]\n",
    "all_preds = all_preds[:len(all_preds)]"
   ]
  },
  {
   "cell_type": "code",
   "execution_count": 18,
   "metadata": {},
   "outputs": [],
   "source": [
    "metrics = get_all_metrics(all_labels, all_preds, limit=50)"
   ]
  },
  {
   "cell_type": "code",
   "execution_count": 19,
   "metadata": {},
   "outputs": [
    {
     "data": {
      "text/plain": [
       "{'MRR': 0.06706948188080267,\n",
       " 'MAP': 0.06506133260517465,\n",
       " 'P@1': 0.042767295597484274,\n",
       " 'P@3': 0.05199161425576522,\n",
       " 'P@5': 0.06062893081761008,\n",
       " 'P@15': 0.0667036492508191}"
      ]
     },
     "execution_count": 19,
     "metadata": {},
     "output_type": "execute_result"
    }
   ],
   "source": [
    "metrics"
   ]
  },
  {
   "cell_type": "code",
   "execution_count": 46,
   "metadata": {},
   "outputs": [],
   "source": [
    "preds = all_preds\n",
    "golds = all_labels\n",
    "\n",
    "\n",
    "def get_mean_first_pred_rank(golds, preds):\n",
    "    limit = 30\n",
    "    rank_first = []\n",
    "\n",
    "    for i in range(len(golds)):\n",
    "        goldline = golds[i]\n",
    "        predline = preds[i]\n",
    "\n",
    "        avg_pat1 = []\n",
    "        avg_pat2 = []\n",
    "        avg_pat3 = []\n",
    "        avg_pat4 = []\n",
    "\n",
    "        gold_hyps = get_hypernyms(goldline, is_gold=True, limit=limit)\n",
    "        pred_hyps = get_hypernyms(predline, is_gold=False, limit=limit)\n",
    "        gold_hyps_n = len(gold_hyps)\n",
    "        r = [0 for i in range(limit)]\n",
    "\n",
    "        for j in range(len(pred_hyps)):\n",
    "            pred_hyp = pred_hyps[j]\n",
    "            if pred_hyp in gold_hyps:\n",
    "                r[j] = 1\n",
    "\n",
    "        first_rank = np.argmax(r) + 1\n",
    "        if np.sum(r) == 0:\n",
    "            rank_first.append(0)\n",
    "        else:\n",
    "            rank_first.append(1/first_rank)\n",
    "\n",
    "    return np.mean(rank_first)"
   ]
  },
  {
   "cell_type": "code",
   "execution_count": 52,
   "metadata": {},
   "outputs": [],
   "source": [
    "r = [0,0,1,0,1]"
   ]
  },
  {
   "cell_type": "code",
   "execution_count": null,
   "metadata": {},
   "outputs": [],
   "source": []
  },
  {
   "cell_type": "code",
   "execution_count": 22,
   "metadata": {},
   "outputs": [],
   "source": [
    "metrics_cased ={}\n",
    "mrr_cased = {}\n",
    "\n",
    "for case in cased.keys():\n",
    "    metric = get_all_metrics(cased[case]['label'], cased[case]['pred'], limit=50)\n",
    "    metrics_cased[case] = metric\n"
   ]
  },
  {
   "cell_type": "code",
   "execution_count": 23,
   "metadata": {},
   "outputs": [
    {
     "data": {
      "text/plain": [
       "{'only_leafs_divided': {'MRR': 0.09227582846003898,\n",
       "  'MAP': 0.09198648963122646,\n",
       "  'P@1': 0.07894736842105263,\n",
       "  'P@3': 0.05701754385964912,\n",
       "  'P@5': 0.06900584795321638,\n",
       "  'P@15': 0.09594820384294067},\n",
       " 'leafs_and_no_leafs': {'MRR': 0.13693552356343056,\n",
       "  'MAP': 0.10310735442405565,\n",
       "  'P@1': 0.05426356589147287,\n",
       "  'P@3': 0.08914728682170546,\n",
       "  'P@5': 0.09599483204134364,\n",
       "  'P@15': 0.1061772207121044},\n",
       " 'simple_triplet_grandparent': {'MRR': 0.015625,\n",
       "  'MAP': 0.015625,\n",
       "  'P@1': 0.015625,\n",
       "  'P@3': 0.015625,\n",
       "  'P@5': 0.015625,\n",
       "  'P@15': 0.015625},\n",
       " 'only_child_leaf': {'MRR': 0.006807511737089202,\n",
       "  'MAP': 0.013427230046948357,\n",
       "  'P@1': 0.004694835680751174,\n",
       "  'P@3': 0.004694835680751174,\n",
       "  'P@5': 0.014084507042253521,\n",
       "  'P@15': 0.014084507042253521},\n",
       " 'simple_triplet_2parent': {'MRR': 0.12384259259259262,\n",
       "  'MAP': 0.20333333333333334,\n",
       "  'P@1': 0.06944444444444445,\n",
       "  'P@3': 0.16666666666666666,\n",
       "  'P@5': 0.20833333333333334,\n",
       "  'P@15': 0.20833333333333334},\n",
       " 'only_leafs_all': {'MRR': 0.1569259259259259,\n",
       "  'MAP': 0.09915267843267844,\n",
       "  'P@1': 0.12,\n",
       "  'P@3': 0.09777777777777776,\n",
       "  'P@5': 0.09266666666666666,\n",
       "  'P@15': 0.09859259259259258}}"
      ]
     },
     "execution_count": 23,
     "metadata": {},
     "output_type": "execute_result"
    }
   ],
   "source": [
    "metrics_cased"
   ]
  },
  {
   "cell_type": "code",
   "execution_count": 51,
   "metadata": {},
   "outputs": [
    {
     "data": {
      "text/plain": [
       "{'only_leafs_divided': 0.06721921224630202,\n",
       " 'leafs_and_no_leafs': 0.09295701385304668,\n",
       " 'simple_triplet_grandparent': 0.030415034391155137,\n",
       " 'only_child_leaf': 0.03619989590595837,\n",
       " 'simple_triplet_2parent': 0.06252850725889941,\n",
       " 'only_leafs_all': 0.0678095238095238}"
      ]
     },
     "execution_count": 51,
     "metadata": {},
     "output_type": "execute_result"
    }
   ],
   "source": [
    "mrr_cased"
   ]
  },
  {
   "cell_type": "code",
   "execution_count": 35,
   "metadata": {},
   "outputs": [
    {
     "data": {
      "text/plain": [
       "[('библиографическая запись, аудиозапись, запись на магнитофонном носителе, звукозаписывающая студия, фонограмма, видеозап',\n",
       "  'лексическая единица, nolle prosequi, ноутбук запись',\n",
       "  \"Predict hyponyms for the word 'за́пись.n.1'.  Answer:\"),\n",
       " ('ацетилглицеролы (синтетический полиненасыщенный углеводный эфир) в таблетках и капсулах формата',\n",
       "  'бутырин',\n",
       "  \"Predict the hypernym for the word 'трибутирин.n.1' which is hyponyms for the word 'глицеринового эфира.n.1' at the same time. Answer:\"),\n",
       " ('Orchis virginica variegata fimbriata uvariae-floridae, Orchis macrocarpa, orchis papilionacea, орх',\n",
       "  'Ванда (растение)',\n",
       "  \"Predict the hypernym for the word 'blue orchid.n.1' which is hyponyms for the word 'орхидея.n.1' at the same time. Answer:\"),\n",
       " ('хризолиты (хрусталь) изумруды и бриллианты из хризобериллитовой группы минералов и самоцветами',\n",
       "  'авантюрин',\n",
       "  \"Predict the hypernym for the word 'авантюриновое стекло.n.1' which is hyponyms for the word 'прозрачные жемчужины.n.1' at the same time. Answer:\"),\n",
       " ('стекло сапфирового цвета́масса камня́ми цветами́серебрянным цветом́специально для ювелирных',\n",
       "  'авантюрин',\n",
       "  \"Predict the hypernym for the word 'авантюриновое стекло.n.1' which is hyponyms for the word 'кварц.n.1' at the same time. Answer:\"),\n",
       " ('медикаментозная терапия, хирургическое вмешательство, лечебная физкультура, реабилитация, санаторно-курортное леч',\n",
       "  'уход за выздоравливающим, аллопатия, антикоагуляция, перевязка, defibrilator, детоксикация, дигитализация, холистической медицины, гомеопатия, хо́спис, госпитализация, инъекция, интенси́вная терапи́я, орошения, уход за больным, основная медицинская помощь',\n",
       "  \"Predict hyponyms for the word 'медицинская помощь.n.1'.  Answer:\"),\n",
       " (\"basilicum vulgaris variegatum fructus exsiccatum sativum varisque folium' зеленый листочек листочкового растения лист\",\n",
       "  'Базилик душистый',\n",
       "  \"Predict the hypernym for the word 'ocimum basilicum.n.1' which is hyponyms for the word 'зелень.n.1' at the same time. Answer:\"),\n",
       " ('хламидийные бактерии, хламидиоз, трихомониаз, уреаплазма, стафилококковая инфекция, мик',\n",
       "  'Bacillus anthracis, сенная палочка, чумная палочка',\n",
       "  \"Predict hyponyms for the word 'бациллы (род).n.1'.  Answer:\"),\n",
       " ('глюкозамина гидрохлорид, хондроитин сульфат, фолиевая кислота, витамин В6,',\n",
       "  'глицерина желе, glycerole, glycerogel, глицерина trimargarate, глицерина tripalmitate, глицерина тристеарат, олеин, пальмитин, стеарин',\n",
       "  \"Predict hyponyms for the word 'глицеринового эфира.n.1'.  Answer:\"),\n",
       " ('Парадизеа лилиаструм (флора)\\xa0— Парадиза (растение) семейства Лилейные (Сложноцветные)',\n",
       "  'Tradescantia',\n",
       "  \"Predict the hypernym for the word 'paradisea liliastrum.n.1' which is hyponyms for the word 'зелень.n.1' at the same time. Answer:\"),\n",
       " ('энергоэффективность зданий и сооружений, альтернативные источники энергии, солнечная энергия, возобновляемая энергетическая инфраструктура, ветроэлектростанция',\n",
       "  'солнечная энергия',\n",
       "  \"энергия ветра.n.1are hyponyms for the word 'Альтернативная энергетика.n.1'. Predict other hyponyms for the word 'Альтернативная энергетика.n.1'. Answer:\"),\n",
       " ('кардиотоксикоз, кардиомиопатия, атеросклероз сосудов головного мозга, гипертоническая болезнь,',\n",
       "  'миокардит, панкардит, перикардит',\n",
       "  \"Predict hyponyms for the word 'кардит.n.1'.  Answer:\"),\n",
       " ('пропорциональная система голосования, прямые выборы, референдум, голосование по партийным спискам, избирательная кампания, выборы президента США,',\n",
       "  'кроссовер избирателей',\n",
       "  \"swing vote.n.1are hyponyms for the word 'избирателей.n.1'. Predict other hyponyms for the word 'избирателей.n.1'. Answer:\"),\n",
       " ('вирус иммунодефицита человека, ВИЧ-инфекции, хламидийная инфекция, гепатит, вирусы',\n",
       "  'Alphavirus, bunyavirus, Гепаднавирусы, вирус герпеса, Lyssavirus, Parvovírus, рабдовирус, vesiculovirus',\n",
       "  \"Predict hyponyms for the word 'вирус животных.n.1'.  Answer:\"),\n",
       " ('генерал-майор, генерал-лейтенант, полковник, лейтенант, майор, подполковник, бригадный генерал, вице-адмирал, капитан-командующий,',\n",
       "  'капитан (воинское звание), штаб-офицер, майо́р, маршал, субалтерн-офицер',\n",
       "  \"Predict hyponyms for the word 'эксплуатацию офицера.n.1'.  Answer:\"),\n",
       " ('братья-близнецы, братья и сестры, дядя по материнской линии, бабушка по отцовской, мать-одиночка,',\n",
       "  'скульптор, Ксименес, Этторе, Чивитали, Маттео, Гутфрёйнд, Ото',\n",
       "  \"Domenico Rosselli.n.1, Фанелли, Франческо.n.1, Бенлиуре, Мариано.n.1, Louise Abbema.n.1, Antoine Benoist.n.1are hyponyms for the word 'вая́тель.n.1'. Predict other hyponyms for the word 'вая́тель.n.1'. Answer:\"),\n",
       " ('портрети́ст, пейзажист, натюрморт, сюрреалисти́к, живописец, графический дизайнер, гравёр,',\n",
       "  'коммерческий художник, Paul Galdone, Фумио, Peter I, Мива, Сиро, Котман, Джон Селл, Janny Wurts, Джон Ивис',\n",
       "  \"Predict hyponyms for the word 'иллюстратор.n.1'.  Answer:\"),\n",
       " ('зонтик (растение) семейства зонтичные (семейство) зонтики обыкновенные (лат.) зонтик зеленый (botanical name) з',\n",
       "  'pipsissewa',\n",
       "  \"Predict the hypernym for the word 'зимолюбка зонтичная.n.1' which is hyponyms for the word 'зелень.n.1' at the same time. Answer:\"),\n",
       " ('ангионевротический отит, гайморит, пневмония, бронхиальная астма, лихорадка, туберку',\n",
       "  'босин болезни, краснухи панэнцефалита',\n",
       "  \"Predict hyponyms for the word 'панэнцефалита.n.1'.  Answer:\"),\n",
       " ('судебная инстанция штата Флорида США (США) в составе Соединённых Штатов Америки (1791 год)\\nОкруг Колумбия (Нью-',\n",
       "  'уорд',\n",
       "  \"Predict the hypernym for the word 'Аллестри.n.1' which is hyponyms for the word 'административно-территориальная единица.n.1' at the same time. Answer:\")]"
      ]
     },
     "execution_count": 35,
     "metadata": {},
     "output_type": "execute_result"
    }
   ],
   "source": [
    "idx = 3900\n",
    "list(zip(all_preds[idx:idx+20], all_labels[idx:idx+20], all_terms[idx:idx+20]))"
   ]
  },
  {
   "cell_type": "code",
   "execution_count": 36,
   "metadata": {},
   "outputs": [
    {
     "data": {
      "text/plain": [
       "[('копейка, ливийский динар, фунт Ливии, пшеничный тулуп, шиллинг либерийских денежных единиц,',\n",
       "  'Ливийский динар, ливийская дирхам',\n",
       "  \"Predict hyponyms for the word 'ливийская денежной единицы.n.1'.  Answer:\"),\n",
       " ('негра́жанин США́йской нацио́наль\\xadной па́зиции (США) (национальный состав) человек по происхожд',\n",
       "  'испаноамериканцы',\n",
       "  \"Predict the hypernym for the word 'criollo людей.n.1' which is hyponyms for the word 'американцы США.n.1' at the same time. Answer:\"),\n",
       " ('кхмерский фунт тайланда (квота) и тайский тайваньский донг (доллар США) равны по отношению к',\n",
       "  'бат',\n",
       "  \"сатангов.n.1are hyponyms for the word 'тайский денежной единицы.n.1'. Predict other hyponyms for the word 'тайский денежной единицы.n.1'. Answer:\"),\n",
       " ('кость (биология) животных твёрдой оболочки обонятельных тканей человека и древесины твердых оболочек мозга',\n",
       "  'дентин',\n",
       "  \"Predict the hypernym for the word 'слоновая кость.n.1' which is hyponyms for the word 'материал животного происхождения.n.1' at the same time. Answer:\"),\n",
       " ('фунт стерлингов, турецкая лира, динар (турецкий денежный знак), дирхам, тюркские денежные знаки',\n",
       "  'азрег, куру, турецкая лира',\n",
       "  \"Predict hyponyms for the word 'турецкие денежной единицы.n.1'.  Answer:\"),\n",
       " ('amplitud (математика)\\xa0— разрешающая способность электрического тока в электромагнитных полях постоянного напряжения и переменного т',\n",
       "  'длина',\n",
       "  \"Predict common hyponyms for the words 'физическое свойство.n.1' and 'dimensión.n.1'. Answer:\"),\n",
       " ('Лилейник обыкновенный китайский садоводческий вид лилейных деревьев семейства Лилейные (Liliaceae)\\xa0— травянистое многолетнее',\n",
       "  'чемерица',\n",
       "  \"Predict the hypernym for the word 'Veratrum viride.n.1' which is hyponyms for the word 'лилейный завод.n.1' at the same time. Answer:\"),\n",
       " ('англи́йский тональ́ный язы́к (языки программирования) фреймворк-кода языка C++ с открытым исходным',\n",
       "  'контур языке',\n",
       "  \"зарегистрируйтесь языке.n.1are hyponyms for the word 'тональный язык.n.1'. Predict other hyponyms for the word 'тональный язык.n.1'. Answer:\"),\n",
       " ('боснийский эфиоповец (национальный состав)\\xa0— мигранты из Боснии и Герцеговины в Сьерра-Леоне',\n",
       "  'амхара',\n",
       "  \"эритре́ец.n.1are hyponyms for the word 'эфио́п.n.1'. Predict other hyponyms for the word 'эфио́п.n.1'. Answer:\"),\n",
       " ('масса тела человека (единица измерения)\\xa0— масса тела плода в утробе материнской плёнки, а также в матке и внутриут',\n",
       "  'длина',\n",
       "  \"Predict common hyponyms for the words 'физическое свойство.n.1' and 'фундаментальная единица.n.1'. Answer:\"),\n",
       " ('кубический сантиметр (единица измерения) в США и Канаде\\xa0— метрическая дюймовка в Соединённых Штатах Америки и Великобритании\\xa0',\n",
       "  'длина',\n",
       "  \"Predict common hyponyms for the words 'dimensión.n.1' and 'фундаментальная единица.n.1'. Answer:\"),\n",
       " ('автобусная остановка, бульвар, проспект, переулок, улица в городе, пешеходная улица, тротуарная плитка',\n",
       "  'але́йка, бульвар, перекресток, мьюз (градостроительство), переулок',\n",
       "  \"Predict hyponyms for the word 'улица.n.1'.  Answer:\"),\n",
       " ('Lacerta viridis, Lacerta agilis, lacertidae, coccodrillo, scimmia lacerta, Scolopax rusticola, lacerta',\n",
       "  'зелёная ящерица, прыткая ящерица',\n",
       "  \"Predict hyponyms for the word 'lacertid.n.1'.  Answer:\"),\n",
       " ('Нартемия обыкновенная (растение)\\xa0— Нартемеия пурпуровая (narthemia pulcherrima) — Нартамеия',\n",
       "  'Narthecium americanum',\n",
       "  \"Narthecium ossifragum.n.1are hyponyms for the word 'болотные асфодель.n.1'. Predict other hyponyms for the word 'болотные асфодель.n.1'. Answer:\"),\n",
       " ('боевой народы мира́не́тства США́йской Гео́графической Области́цы» (англ. United States Geological Survey)',\n",
       "  'населения',\n",
       "  \"Predict the hypernym for the word 'тыла.n.1' which is hyponyms for the word 'народ.n.1' at the same time. Answer:\"),\n",
       " ('австралопитек, брахиопод, динозавры, крокодилы, млекопитающие, пресмыкающиеся, птицы,',\n",
       "  'аллозавры, карнозавры, Compsognathus longipes, эораптор, герреразавр, Megalosauroidea, Tyrannosaurus rex',\n",
       "  \"Predict hyponyms for the word 'теропод.n.1'.  Answer:\"),\n",
       " (\"Cinnamomum zeylanicum, cinnamon-tree dog's-disease, Cynodon dactylon, сиреневый канды\",\n",
       "  'кандык американский, Erythronium albidum',\n",
       "  \"Кандык калифорнийский.n.1, Кандык европейский.n.1, Erythronium grandiflorum.n.1are hyponyms for the word 'dog's зуба фиолетовыми.n.1'. Predict other hyponyms for the word 'dog's зуба фиолетовыми.n.1'. Answer:\"),\n",
       " ('разрушитель (военная техника) противника́м оружия́ми человека́ в мирное время́для уничтожения живой силы противника в тылу врага́',\n",
       "  'выталкиватель',\n",
       "  \"Predict the hypernym for the word 'уничтожитель.n.1' which is hyponyms for the word 'агента.n.1' at the same time. Answer:\"),\n",
       " ('Calliandra coccinea, Callisia calycosa, calypso лилия, каллисия кипарисовая, Callistephus japonicus,',\n",
       "  'Calochortus elegans, Calochortus kennedyi',\n",
       "  \"Calochortus luteus.n.1, Calochortus macrocarpus.n.1are hyponyms for the word 'mariposa лилии.n.1'. Predict other hyponyms for the word 'mariposa лилии.n.1'. Answer:\"),\n",
       " ('Amanita muscaria, Aphanizomenon flos-aquae, Amanita phalloides, Амариллис, анаплазмоз',\n",
       "  'красноустка киноварно-красная, calostoma лютесценс, calostoma ravenelii, podaxaceae',\n",
       "  \"Predict hyponyms for the word 'гастеромицеты.n.1'.  Answer:\")]"
      ]
     },
     "execution_count": 36,
     "metadata": {},
     "output_type": "execute_result"
    }
   ],
   "source": [
    "\n",
    "idx = 3950\n",
    "list(zip(all_preds[idx:idx+20], all_labels[idx:idx+20], all_terms[idx:idx+20]))"
   ]
  },
  {
   "cell_type": "code",
   "execution_count": 10,
   "metadata": {},
   "outputs": [
    {
     "data": {
      "text/plain": [
       "(['азрег', 'куру', 'турецкая лира'],\n",
       " ['фунт стерлингов',\n",
       "  'турецкая лира',\n",
       "  'динар (турецкий денежный знак)',\n",
       "  'дирхам',\n",
       "  'тюркские денежные знаки'])"
      ]
     },
     "execution_count": 10,
     "metadata": {},
     "output_type": "execute_result"
    }
   ],
   "source": [
    "get_hypernyms(all_labels[3954]), get_hypernyms(all_preds[3954], is_gold=False)\n",
    "#азрег нет такого слова\n",
    "#куру тоже нет, есть только болезнь "
   ]
  },
  {
   "cell_type": "code",
   "execution_count": 19,
   "metadata": {},
   "outputs": [
    {
     "name": "stdout",
     "output_type": "stream",
     "text": [
      "зарегистрируйтесь языке.n.1are hyponyms for the word 'тональный язык.n.1'. Predict other hyponyms for the word 'тональный язык.n.1'. Answer:\n"
     ]
    },
    {
     "data": {
      "text/plain": [
       "(['контур языке'],\n",
       " ['англи́йский тональ́ный язы́к (языки программирования) фреймворк-кода языка c++ с открытым исходным'])"
      ]
     },
     "execution_count": 19,
     "metadata": {},
     "output_type": "execute_result"
    }
   ],
   "source": [
    "print(all_terms[3957])\n",
    "get_hypernyms(all_labels[3957]), get_hypernyms(all_preds[3957], is_gold=False)\n"
   ]
  },
  {
   "cell_type": "code",
   "execution_count": 13,
   "metadata": {},
   "outputs": [
    {
     "data": {
      "text/plain": [
       "[('flexibility, girdle, hip, knee, leg, neck, shoulder, stomach, torso, waist, wrist, foot, hand, head,',\n",
       "  'address',\n",
       "  \"attention.n.6, erectness.n.1are hyponyms for the word 'stance.n.1'. Predict other hyponyms for the word 'stance.n.1'. Answer:\"),\n",
       " ('potato salad dish with tomato sauce and mozzarella di bufala di pane raffermo fritto in olio di semi di girasole',\n",
       "  'kabob',\n",
       "  \"Predict the hypernym for the word 'souvlaki.n.1' which is hyponyms for the word 'dish.n.2' at the same time. Answer:\"),\n",
       " ('citronade, cranberry juice, ice-cream, kool-aid, mocha, soda, vanilla ice cream, watermelon ju',\n",
       "  'lemonade',\n",
       "  \"limeade.n.1, orangeade.n.1are hyponyms for the word 'fruit drink.n.1'. Predict other hyponyms for the word 'fruit drink.n.1'. Answer:\"),\n",
       " (\"vajrayana sage of India's Mahayana tradition of Buddhism and Hinduism of the 11th and 12th centuries CE to the 6th century CE CEZone\",\n",
       "  'common sage',\n",
       "  \"Predict the hypernym for the word 'Bharadvaja.n.1' which is hyponyms for the word 'sage.n.3' at the same time. Answer:\"),\n",
       " ('banking institution, credit union, depository, savings bank, trust company, mutual fund, money market, stock exchange, treasury, institution of credit, investment trust,',\n",
       "  'acquirer, merchant bank, lead bank, agent bank, credit union, Federal Reserve Bank, Home Loan Bank, member bank, state bank, Housing and Commerce Bank, Eritrean Investment and Development Bank, Ĉekbanko esperantista, State Bank of the Russian Empire, Banco Real',\n",
       "  \"Predict hyponyms for the word 'depository financial institution.n.1'.  Answer:\"),\n",
       " ('dealer in arms and amulets person in charge of the sale of firearms and ammunition to the public in the United States of America and the District of Columbia as well as',\n",
       "  'pledgee',\n",
       "  \"Predict the hypernym for the word 'pawnbroker.n.1' which is hyponyms for the word 'adult.n.1' at the same time. Answer:\"),\n",
       " (\"female body humanoidity' body of flesh and bloodlessness characterized by the presence of male body parts such as penis, breasts, vulva, vag\",\n",
       "  'female body',\n",
       "  \"Predict the hypernym for the word 'adult female body.n.1' which is hyponyms for the word 'human body.n.1' at the same time. Answer:\"),\n",
       " ('cerebrospinal cortex, hippocampus, mesencephalon, midbrain, medulla oblongata, nucleus accumbens, cerebellum,',\n",
       "  'adrenal cortex, renal cortex',\n",
       "  \"Predict hyponyms for the word 'cortex.n.2'.  Answer:\"),\n",
       " ('examinator, examiner-in-chief, examinator-supervisor, inspector-general, judge, jurist, lawyer, psychologist, psychiatrist,',\n",
       "  'bank examiner, scrutineer, checker, scrutinizer',\n",
       "  \"Predict hyponyms for the word 'examiner.n.2'.  Answer:\"),\n",
       " ('pollen allergenic substance found in pollens of trees and shrubs of the genus Rhamnus frutescens var. rhamnosus L., rhamnosum',\n",
       "  'allergen',\n",
       "  \"Predict the hypernym for the word 'ragweed pollen.n.1' which is hyponyms for the word 'substance.n.7' at the same time. Answer:\"),\n",
       " (\"advantagemaker's advantageous position in the marketplace of goods and services offered by the United States Securities and Exchange Commission (SEC) under the Exchange Act of 1934\",\n",
       "  'leverage',\n",
       "  \"Predict the hypernym for the word 'bargaining chip.n.1' which is hyponyms for the word 'advantage.n.1' at the same time. Answer:\"),\n",
       " ('acrobatics, aerial stunt, jumping jacks, jumpsuit, maneuver, parachute jump, skydiving, sledding, spinning,',\n",
       "  'Russian roulette',\n",
       "  \"Predict hyponyms for the word 'stunt.n.1'.  Answer:\"),\n",
       " ('neurofibromatosis type 1 hereditary disease of the brain and spinal cord caused by mutations in the gene PYYC1 gene in humans and mice',\n",
       "  'dwarfism',\n",
       "  \"Predict the hypernym for the word 'pycnodysostosis.n.1' which is hyponyms for the word 'genetic disease.n.1' at the same time. Answer:\"),\n",
       " ('Thomas Pennington Lucas, 2nd Baron Lucasburg, William Mathews, 1st Baron Matildas, John Keegan, 3rd Baron Keegans, Henry Herbert,',\n",
       "  'Violet Mond, Baroness Melchett',\n",
       "  \"Ethel, Lady Pearson.n.1are hyponyms for the word 'humanist.n.2'. Predict other hyponyms for the word 'humanist.n.2'. Answer:\"),\n",
       " ('follower, follower-in-training, fan, friend, foe, lover, rival, supporter, acquaintance, buddy, confidant,',\n",
       "  'bleeding heart, fellow traveler',\n",
       "  \"Predict hyponyms for the word 'sympathizer.n.2'.  Answer:\"),\n",
       " ('founder of the United States Navy Yard in Annapolis (Maryland) during the American Civil War (1861–1865) (military historian)\\nRobert B, 1st Baron',\n",
       "  'founder',\n",
       "  \"Predict the hypernym for the word 'bell founder.n.1' which is hyponyms for the word 'skilled worker.n.1' at the same time. Answer:\"),\n",
       " ('builder (buildership) personel unit in the United States Navy during World War II personnel rank list system of 1944–1945 and 1946–1947 service list list of',\n",
       "  'oilman',\n",
       "  \"Predict the hypernym for the word 'rigger.n.3' which is hyponyms for the word 'skilled worker.n.1' at the same time. Answer:\"),\n",
       " ('academic training, exercise, instruction, internship, law school, schooling, sport, study, training camp, workout, course, education, military, program,',\n",
       "  'discipline, drill, retraining, schooling, skull session, toilet training',\n",
       "  \"Predict hyponyms for the word 'training.n.1'.  Answer:\"),\n",
       " ('aerodynamics and aeronautics engineering science and technology division of the United States Air Force Research Laboratory (USAF) in Fort Worth, Texas (United States)\\nAerodynam',\n",
       "  'aeronautics',\n",
       "  \"Predict the hypernym for the word 'avionics.n.1' which is hyponyms for the word 'physics.n.1' at the same time. Answer:\"),\n",
       " ('doggie-eared hyenaeid species of the family Hymenophthalmoidesidae, honey-eye honeyeater, woodpecker,',\n",
       "  'apple polisher',\n",
       "  \"goody-goody.n.1are hyponyms for the word 'sycophant.n.1'. Predict other hyponyms for the word 'sycophant.n.1'. Answer:\")]"
      ]
     },
     "execution_count": 13,
     "metadata": {},
     "output_type": "execute_result"
    }
   ],
   "source": [
    "\n",
    "idx = 1550\n",
    "list(zip(all_preds[idx:idx+20], all_labels[idx:idx+20], all_terms[idx:idx+20]))"
   ]
  },
  {
   "cell_type": "code",
   "execution_count": 25,
   "metadata": {},
   "outputs": [
    {
     "name": "stdout",
     "output_type": "stream",
     "text": [
      "Predict common hyponyms for the words 'writer.n.1' and 'performer.n.1'. Answer:\n"
     ]
    },
    {
     "data": {
      "text/plain": [
       "(['matthew richter'],\n",
       " ['paul shaffer (musician)\\nbutch hartman (musical director) (born august 23',\n",
       "  '1948) is an american musician',\n",
       "  'singer-songwriter',\n",
       "  'bass guitarist',\n",
       "  ''])"
      ]
     },
     "execution_count": 25,
     "metadata": {},
     "output_type": "execute_result"
    }
   ],
   "source": [
    "idx = 1505\n",
    "\n",
    "print(all_terms[idx])\n",
    "get_hypernyms(all_labels[idx]), get_hypernyms(all_preds[idx], is_gold=False)\n"
   ]
  },
  {
   "cell_type": "code",
   "execution_count": 18,
   "metadata": {},
   "outputs": [
    {
     "name": "stdout",
     "output_type": "stream",
     "text": [
      "limeade.n.1, orangeade.n.1are hyponyms for the word 'fruit drink.n.1'. Predict other hyponyms for the word 'fruit drink.n.1'. Answer:\n"
     ]
    },
    {
     "data": {
      "text/plain": [
       "(['lemonade'],\n",
       " ['citronade',\n",
       "  'cranberry juice',\n",
       "  'ice-cream',\n",
       "  'kool-aid',\n",
       "  'mocha',\n",
       "  'soda',\n",
       "  'vanilla ice cream',\n",
       "  'watermelon ju'])"
      ]
     },
     "execution_count": 18,
     "metadata": {},
     "output_type": "execute_result"
    }
   ],
   "source": [
    "idx = 1552\n",
    "\n",
    "print(all_terms[idx])\n",
    "get_hypernyms(all_labels[idx]), get_hypernyms(all_preds[idx], is_gold=False)\n"
   ]
  },
  {
   "cell_type": "code",
   "execution_count": null,
   "metadata": {},
   "outputs": [],
   "source": []
  }
 ],
 "metadata": {
  "kernelspec": {
   "display_name": "taxonomy_env",
   "language": "python",
   "name": "python3"
  },
  "language_info": {
   "codemirror_mode": {
    "name": "ipython",
    "version": 3
   },
   "file_extension": ".py",
   "mimetype": "text/x-python",
   "name": "python",
   "nbconvert_exporter": "python",
   "pygments_lexer": "ipython3",
   "version": "3.8.10"
  },
  "orig_nbformat": 4
 },
 "nbformat": 4,
 "nbformat_minor": 2
}
