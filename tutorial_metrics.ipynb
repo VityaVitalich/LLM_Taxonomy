{
 "cells": [
  {
   "cell_type": "code",
   "execution_count": 1,
   "metadata": {},
   "outputs": [],
   "source": [
    "\n",
    "import os\n",
    "import sys\n",
    "import pandas as pd\n",
    "import numpy as np\n",
    "import pickle\n",
    "\n",
    "\n",
    "sys.path.append(\"pipeline_src/\")\n",
    "\n",
    "from metrics.metrics import get_all_metrics, get_hypernyms\n",
    "from dataset.dataset import HypernymDataset\n",
    "from transformers import AutoTokenizer\n",
    "\n",
    "from dataset.prompt_schemas import (\n",
    "    hypo_term_hyper,\n",
    "    predict_child_from_2_parents,\n",
    "    predict_child_from_parent,\n",
    "    predict_child_with_parent_and_grandparent,\n",
    "    predict_children_with_parent_and_brothers,\n",
    "    predict_parent_from_child_granparent,\n",
    ")"
   ]
  },
  {
   "cell_type": "code",
   "execution_count": 2,
   "metadata": {},
   "outputs": [],
   "source": [
    "test_path = \"babel_datasets/global_test_ru_babel.pickle\"\n",
    "saving_path = \"Data/mGPT\""
   ]
  },
  {
   "cell_type": "code",
   "execution_count": 3,
   "metadata": {},
   "outputs": [],
   "source": [
    "df = pd.read_pickle(test_path)"
   ]
  },
  {
   "cell_type": "code",
   "execution_count": 4,
   "metadata": {},
   "outputs": [],
   "source": [
    "transforms={\n",
    "            \"only_child_leaf\": predict_parent_from_child_granparent,\n",
    "            \"only_leafs_all\": predict_child_from_parent,\n",
    "            \"only_leafs_divided\": predict_children_with_parent_and_brothers,\n",
    "            \"leafs_and_no_leafs\": predict_child_from_parent,\n",
    "            \"simple_triplet_grandparent\": predict_parent_from_child_granparent,\n",
    "            \"simple_triplet_2parent\": predict_child_from_2_parents,\n",
    "        }"
   ]
  },
  {
   "cell_type": "code",
   "execution_count": 5,
   "metadata": {},
   "outputs": [],
   "source": [
    "all_labels = []\n",
    "all_terms = []\n",
    "\n",
    "for elem in df:\n",
    "    case = elem['case']\n",
    "    processed_term, target = transforms[case](elem)\n",
    "    all_labels.append(target)\n",
    "    all_terms.append(processed_term)"
   ]
  },
  {
   "cell_type": "code",
   "execution_count": 6,
   "metadata": {},
   "outputs": [],
   "source": [
    "with open(saving_path, \"rb\") as fp:\n",
    "    all_preds = pickle.load(fp)"
   ]
  },
  {
   "cell_type": "code",
   "execution_count": 7,
   "metadata": {},
   "outputs": [
    {
     "data": {
      "text/plain": [
       "('баптист, евангелист, католик, лютеранин, мартиролог, православный, протестант, святая мученица',\n",
       " 'Учитель Церкви, eschatologist, футурист, presentist, претеризм, гвидо де брес, Астерий Софист',\n",
       " \"Richard Foster.n.1, Mike Yaconelli.n.1, Edwin Abbott Abbott.n.1, Виталь дю Фур.n.1, Гордон Кларк.n.1, Витело.n.1, Отцы Церкви.n.1are hyponyms for the word 'богосло́в.n.1'. Predict other hyponyms for the word 'богосло́в.n.1'. Answer:\")"
      ]
     },
     "execution_count": 7,
     "metadata": {},
     "output_type": "execute_result"
    }
   ],
   "source": [
    "idx = 4000\n",
    "all_preds[idx], all_labels[idx], all_terms[idx]"
   ]
  },
  {
   "cell_type": "code",
   "execution_count": 8,
   "metadata": {},
   "outputs": [
    {
     "data": {
      "text/plain": [
       "(4342, 4343)"
      ]
     },
     "execution_count": 8,
     "metadata": {},
     "output_type": "execute_result"
    }
   ],
   "source": [
    "len(all_preds), len(all_labels)"
   ]
  },
  {
   "cell_type": "code",
   "execution_count": 9,
   "metadata": {},
   "outputs": [],
   "source": [
    "all_labels = all_labels[:4000]\n",
    "all_preds = all_preds[:4000]"
   ]
  },
  {
   "cell_type": "code",
   "execution_count": 10,
   "metadata": {},
   "outputs": [],
   "source": [
    "metrics = get_all_metrics(all_labels, all_preds, limit=15)"
   ]
  },
  {
   "cell_type": "code",
   "execution_count": 11,
   "metadata": {},
   "outputs": [
    {
     "data": {
      "text/plain": [
       "{'MRR': 0.011509036796536802,\n",
       " 'MAP': 0.00894020007770008,\n",
       " 'P@1': 0.005,\n",
       " 'P@3': 0.008124999999999997,\n",
       " 'P@5': 0.009187499999999996,\n",
       " 'P@15': 0.009640794622044627}"
      ]
     },
     "execution_count": 11,
     "metadata": {},
     "output_type": "execute_result"
    }
   ],
   "source": [
    "metrics"
   ]
  },
  {
   "cell_type": "code",
   "execution_count": 35,
   "metadata": {},
   "outputs": [
    {
     "data": {
      "text/plain": [
       "[('библиографическая запись, аудиозапись, запись на магнитофонном носителе, звукозаписывающая студия, фонограмма, видеозап',\n",
       "  'лексическая единица, nolle prosequi, ноутбук запись',\n",
       "  \"Predict hyponyms for the word 'за́пись.n.1'.  Answer:\"),\n",
       " ('ацетилглицеролы (синтетический полиненасыщенный углеводный эфир) в таблетках и капсулах формата',\n",
       "  'бутырин',\n",
       "  \"Predict the hypernym for the word 'трибутирин.n.1' which is hyponyms for the word 'глицеринового эфира.n.1' at the same time. Answer:\"),\n",
       " ('Orchis virginica variegata fimbriata uvariae-floridae, Orchis macrocarpa, orchis papilionacea, орх',\n",
       "  'Ванда (растение)',\n",
       "  \"Predict the hypernym for the word 'blue orchid.n.1' which is hyponyms for the word 'орхидея.n.1' at the same time. Answer:\"),\n",
       " ('хризолиты (хрусталь) изумруды и бриллианты из хризобериллитовой группы минералов и самоцветами',\n",
       "  'авантюрин',\n",
       "  \"Predict the hypernym for the word 'авантюриновое стекло.n.1' which is hyponyms for the word 'прозрачные жемчужины.n.1' at the same time. Answer:\"),\n",
       " ('стекло сапфирового цвета́масса камня́ми цветами́серебрянным цветом́специально для ювелирных',\n",
       "  'авантюрин',\n",
       "  \"Predict the hypernym for the word 'авантюриновое стекло.n.1' which is hyponyms for the word 'кварц.n.1' at the same time. Answer:\"),\n",
       " ('медикаментозная терапия, хирургическое вмешательство, лечебная физкультура, реабилитация, санаторно-курортное леч',\n",
       "  'уход за выздоравливающим, аллопатия, антикоагуляция, перевязка, defibrilator, детоксикация, дигитализация, холистической медицины, гомеопатия, хо́спис, госпитализация, инъекция, интенси́вная терапи́я, орошения, уход за больным, основная медицинская помощь',\n",
       "  \"Predict hyponyms for the word 'медицинская помощь.n.1'.  Answer:\"),\n",
       " (\"basilicum vulgaris variegatum fructus exsiccatum sativum varisque folium' зеленый листочек листочкового растения лист\",\n",
       "  'Базилик душистый',\n",
       "  \"Predict the hypernym for the word 'ocimum basilicum.n.1' which is hyponyms for the word 'зелень.n.1' at the same time. Answer:\"),\n",
       " ('хламидийные бактерии, хламидиоз, трихомониаз, уреаплазма, стафилококковая инфекция, мик',\n",
       "  'Bacillus anthracis, сенная палочка, чумная палочка',\n",
       "  \"Predict hyponyms for the word 'бациллы (род).n.1'.  Answer:\"),\n",
       " ('глюкозамина гидрохлорид, хондроитин сульфат, фолиевая кислота, витамин В6,',\n",
       "  'глицерина желе, glycerole, glycerogel, глицерина trimargarate, глицерина tripalmitate, глицерина тристеарат, олеин, пальмитин, стеарин',\n",
       "  \"Predict hyponyms for the word 'глицеринового эфира.n.1'.  Answer:\"),\n",
       " ('Парадизеа лилиаструм (флора)\\xa0— Парадиза (растение) семейства Лилейные (Сложноцветные)',\n",
       "  'Tradescantia',\n",
       "  \"Predict the hypernym for the word 'paradisea liliastrum.n.1' which is hyponyms for the word 'зелень.n.1' at the same time. Answer:\"),\n",
       " ('энергоэффективность зданий и сооружений, альтернативные источники энергии, солнечная энергия, возобновляемая энергетическая инфраструктура, ветроэлектростанция',\n",
       "  'солнечная энергия',\n",
       "  \"энергия ветра.n.1are hyponyms for the word 'Альтернативная энергетика.n.1'. Predict other hyponyms for the word 'Альтернативная энергетика.n.1'. Answer:\"),\n",
       " ('кардиотоксикоз, кардиомиопатия, атеросклероз сосудов головного мозга, гипертоническая болезнь,',\n",
       "  'миокардит, панкардит, перикардит',\n",
       "  \"Predict hyponyms for the word 'кардит.n.1'.  Answer:\"),\n",
       " ('пропорциональная система голосования, прямые выборы, референдум, голосование по партийным спискам, избирательная кампания, выборы президента США,',\n",
       "  'кроссовер избирателей',\n",
       "  \"swing vote.n.1are hyponyms for the word 'избирателей.n.1'. Predict other hyponyms for the word 'избирателей.n.1'. Answer:\"),\n",
       " ('вирус иммунодефицита человека, ВИЧ-инфекции, хламидийная инфекция, гепатит, вирусы',\n",
       "  'Alphavirus, bunyavirus, Гепаднавирусы, вирус герпеса, Lyssavirus, Parvovírus, рабдовирус, vesiculovirus',\n",
       "  \"Predict hyponyms for the word 'вирус животных.n.1'.  Answer:\"),\n",
       " ('генерал-майор, генерал-лейтенант, полковник, лейтенант, майор, подполковник, бригадный генерал, вице-адмирал, капитан-командующий,',\n",
       "  'капитан (воинское звание), штаб-офицер, майо́р, маршал, субалтерн-офицер',\n",
       "  \"Predict hyponyms for the word 'эксплуатацию офицера.n.1'.  Answer:\"),\n",
       " ('братья-близнецы, братья и сестры, дядя по материнской линии, бабушка по отцовской, мать-одиночка,',\n",
       "  'скульптор, Ксименес, Этторе, Чивитали, Маттео, Гутфрёйнд, Ото',\n",
       "  \"Domenico Rosselli.n.1, Фанелли, Франческо.n.1, Бенлиуре, Мариано.n.1, Louise Abbema.n.1, Antoine Benoist.n.1are hyponyms for the word 'вая́тель.n.1'. Predict other hyponyms for the word 'вая́тель.n.1'. Answer:\"),\n",
       " ('портрети́ст, пейзажист, натюрморт, сюрреалисти́к, живописец, графический дизайнер, гравёр,',\n",
       "  'коммерческий художник, Paul Galdone, Фумио, Peter I, Мива, Сиро, Котман, Джон Селл, Janny Wurts, Джон Ивис',\n",
       "  \"Predict hyponyms for the word 'иллюстратор.n.1'.  Answer:\"),\n",
       " ('зонтик (растение) семейства зонтичные (семейство) зонтики обыкновенные (лат.) зонтик зеленый (botanical name) з',\n",
       "  'pipsissewa',\n",
       "  \"Predict the hypernym for the word 'зимолюбка зонтичная.n.1' which is hyponyms for the word 'зелень.n.1' at the same time. Answer:\"),\n",
       " ('ангионевротический отит, гайморит, пневмония, бронхиальная астма, лихорадка, туберку',\n",
       "  'босин болезни, краснухи панэнцефалита',\n",
       "  \"Predict hyponyms for the word 'панэнцефалита.n.1'.  Answer:\"),\n",
       " ('судебная инстанция штата Флорида США (США) в составе Соединённых Штатов Америки (1791 год)\\nОкруг Колумбия (Нью-',\n",
       "  'уорд',\n",
       "  \"Predict the hypernym for the word 'Аллестри.n.1' which is hyponyms for the word 'административно-территориальная единица.n.1' at the same time. Answer:\")]"
      ]
     },
     "execution_count": 35,
     "metadata": {},
     "output_type": "execute_result"
    }
   ],
   "source": [
    "idx = 3900\n",
    "list(zip(all_preds[idx:idx+20], all_labels[idx:idx+20], all_terms[idx:idx+20]))"
   ]
  },
  {
   "cell_type": "code",
   "execution_count": 36,
   "metadata": {},
   "outputs": [
    {
     "data": {
      "text/plain": [
       "[('копейка, ливийский динар, фунт Ливии, пшеничный тулуп, шиллинг либерийских денежных единиц,',\n",
       "  'Ливийский динар, ливийская дирхам',\n",
       "  \"Predict hyponyms for the word 'ливийская денежной единицы.n.1'.  Answer:\"),\n",
       " ('негра́жанин США́йской нацио́наль\\xadной па́зиции (США) (национальный состав) человек по происхожд',\n",
       "  'испаноамериканцы',\n",
       "  \"Predict the hypernym for the word 'criollo людей.n.1' which is hyponyms for the word 'американцы США.n.1' at the same time. Answer:\"),\n",
       " ('кхмерский фунт тайланда (квота) и тайский тайваньский донг (доллар США) равны по отношению к',\n",
       "  'бат',\n",
       "  \"сатангов.n.1are hyponyms for the word 'тайский денежной единицы.n.1'. Predict other hyponyms for the word 'тайский денежной единицы.n.1'. Answer:\"),\n",
       " ('кость (биология) животных твёрдой оболочки обонятельных тканей человека и древесины твердых оболочек мозга',\n",
       "  'дентин',\n",
       "  \"Predict the hypernym for the word 'слоновая кость.n.1' which is hyponyms for the word 'материал животного происхождения.n.1' at the same time. Answer:\"),\n",
       " ('фунт стерлингов, турецкая лира, динар (турецкий денежный знак), дирхам, тюркские денежные знаки',\n",
       "  'азрег, куру, турецкая лира',\n",
       "  \"Predict hyponyms for the word 'турецкие денежной единицы.n.1'.  Answer:\"),\n",
       " ('amplitud (математика)\\xa0— разрешающая способность электрического тока в электромагнитных полях постоянного напряжения и переменного т',\n",
       "  'длина',\n",
       "  \"Predict common hyponyms for the words 'физическое свойство.n.1' and 'dimensión.n.1'. Answer:\"),\n",
       " ('Лилейник обыкновенный китайский садоводческий вид лилейных деревьев семейства Лилейные (Liliaceae)\\xa0— травянистое многолетнее',\n",
       "  'чемерица',\n",
       "  \"Predict the hypernym for the word 'Veratrum viride.n.1' which is hyponyms for the word 'лилейный завод.n.1' at the same time. Answer:\"),\n",
       " ('англи́йский тональ́ный язы́к (языки программирования) фреймворк-кода языка C++ с открытым исходным',\n",
       "  'контур языке',\n",
       "  \"зарегистрируйтесь языке.n.1are hyponyms for the word 'тональный язык.n.1'. Predict other hyponyms for the word 'тональный язык.n.1'. Answer:\"),\n",
       " ('боснийский эфиоповец (национальный состав)\\xa0— мигранты из Боснии и Герцеговины в Сьерра-Леоне',\n",
       "  'амхара',\n",
       "  \"эритре́ец.n.1are hyponyms for the word 'эфио́п.n.1'. Predict other hyponyms for the word 'эфио́п.n.1'. Answer:\"),\n",
       " ('масса тела человека (единица измерения)\\xa0— масса тела плода в утробе материнской плёнки, а также в матке и внутриут',\n",
       "  'длина',\n",
       "  \"Predict common hyponyms for the words 'физическое свойство.n.1' and 'фундаментальная единица.n.1'. Answer:\"),\n",
       " ('кубический сантиметр (единица измерения) в США и Канаде\\xa0— метрическая дюймовка в Соединённых Штатах Америки и Великобритании\\xa0',\n",
       "  'длина',\n",
       "  \"Predict common hyponyms for the words 'dimensión.n.1' and 'фундаментальная единица.n.1'. Answer:\"),\n",
       " ('автобусная остановка, бульвар, проспект, переулок, улица в городе, пешеходная улица, тротуарная плитка',\n",
       "  'але́йка, бульвар, перекресток, мьюз (градостроительство), переулок',\n",
       "  \"Predict hyponyms for the word 'улица.n.1'.  Answer:\"),\n",
       " ('Lacerta viridis, Lacerta agilis, lacertidae, coccodrillo, scimmia lacerta, Scolopax rusticola, lacerta',\n",
       "  'зелёная ящерица, прыткая ящерица',\n",
       "  \"Predict hyponyms for the word 'lacertid.n.1'.  Answer:\"),\n",
       " ('Нартемия обыкновенная (растение)\\xa0— Нартемеия пурпуровая (narthemia pulcherrima) — Нартамеия',\n",
       "  'Narthecium americanum',\n",
       "  \"Narthecium ossifragum.n.1are hyponyms for the word 'болотные асфодель.n.1'. Predict other hyponyms for the word 'болотные асфодель.n.1'. Answer:\"),\n",
       " ('боевой народы мира́не́тства США́йской Гео́графической Области́цы» (англ. United States Geological Survey)',\n",
       "  'населения',\n",
       "  \"Predict the hypernym for the word 'тыла.n.1' which is hyponyms for the word 'народ.n.1' at the same time. Answer:\"),\n",
       " ('австралопитек, брахиопод, динозавры, крокодилы, млекопитающие, пресмыкающиеся, птицы,',\n",
       "  'аллозавры, карнозавры, Compsognathus longipes, эораптор, герреразавр, Megalosauroidea, Tyrannosaurus rex',\n",
       "  \"Predict hyponyms for the word 'теропод.n.1'.  Answer:\"),\n",
       " (\"Cinnamomum zeylanicum, cinnamon-tree dog's-disease, Cynodon dactylon, сиреневый канды\",\n",
       "  'кандык американский, Erythronium albidum',\n",
       "  \"Кандык калифорнийский.n.1, Кандык европейский.n.1, Erythronium grandiflorum.n.1are hyponyms for the word 'dog's зуба фиолетовыми.n.1'. Predict other hyponyms for the word 'dog's зуба фиолетовыми.n.1'. Answer:\"),\n",
       " ('разрушитель (военная техника) противника́м оружия́ми человека́ в мирное время́для уничтожения живой силы противника в тылу врага́',\n",
       "  'выталкиватель',\n",
       "  \"Predict the hypernym for the word 'уничтожитель.n.1' which is hyponyms for the word 'агента.n.1' at the same time. Answer:\"),\n",
       " ('Calliandra coccinea, Callisia calycosa, calypso лилия, каллисия кипарисовая, Callistephus japonicus,',\n",
       "  'Calochortus elegans, Calochortus kennedyi',\n",
       "  \"Calochortus luteus.n.1, Calochortus macrocarpus.n.1are hyponyms for the word 'mariposa лилии.n.1'. Predict other hyponyms for the word 'mariposa лилии.n.1'. Answer:\"),\n",
       " ('Amanita muscaria, Aphanizomenon flos-aquae, Amanita phalloides, Амариллис, анаплазмоз',\n",
       "  'красноустка киноварно-красная, calostoma лютесценс, calostoma ravenelii, podaxaceae',\n",
       "  \"Predict hyponyms for the word 'гастеромицеты.n.1'.  Answer:\")]"
      ]
     },
     "execution_count": 36,
     "metadata": {},
     "output_type": "execute_result"
    }
   ],
   "source": [
    "\n",
    "idx = 3950\n",
    "list(zip(all_preds[idx:idx+20], all_labels[idx:idx+20], all_terms[idx:idx+20]))"
   ]
  },
  {
   "cell_type": "code",
   "execution_count": 10,
   "metadata": {},
   "outputs": [
    {
     "data": {
      "text/plain": [
       "(['азрег', 'куру', 'турецкая лира'],\n",
       " ['фунт стерлингов',\n",
       "  'турецкая лира',\n",
       "  'динар (турецкий денежный знак)',\n",
       "  'дирхам',\n",
       "  'тюркские денежные знаки'])"
      ]
     },
     "execution_count": 10,
     "metadata": {},
     "output_type": "execute_result"
    }
   ],
   "source": [
    "get_hypernyms(all_labels[3954]), get_hypernyms(all_preds[3954], is_gold=False)\n",
    "#азрег нет такого слова\n",
    "#куру тоже нет, есть только болезнь "
   ]
  },
  {
   "cell_type": "code",
   "execution_count": 19,
   "metadata": {},
   "outputs": [
    {
     "name": "stdout",
     "output_type": "stream",
     "text": [
      "зарегистрируйтесь языке.n.1are hyponyms for the word 'тональный язык.n.1'. Predict other hyponyms for the word 'тональный язык.n.1'. Answer:\n"
     ]
    },
    {
     "data": {
      "text/plain": [
       "(['контур языке'],\n",
       " ['англи́йский тональ́ный язы́к (языки программирования) фреймворк-кода языка c++ с открытым исходным'])"
      ]
     },
     "execution_count": 19,
     "metadata": {},
     "output_type": "execute_result"
    }
   ],
   "source": [
    "print(all_terms[3957])\n",
    "get_hypernyms(all_labels[3957]), get_hypernyms(all_preds[3957], is_gold=False)\n"
   ]
  },
  {
   "cell_type": "code",
   "execution_count": 13,
   "metadata": {},
   "outputs": [
    {
     "data": {
      "text/plain": [
       "[('flexibility, girdle, hip, knee, leg, neck, shoulder, stomach, torso, waist, wrist, foot, hand, head,',\n",
       "  'address',\n",
       "  \"attention.n.6, erectness.n.1are hyponyms for the word 'stance.n.1'. Predict other hyponyms for the word 'stance.n.1'. Answer:\"),\n",
       " ('potato salad dish with tomato sauce and mozzarella di bufala di pane raffermo fritto in olio di semi di girasole',\n",
       "  'kabob',\n",
       "  \"Predict the hypernym for the word 'souvlaki.n.1' which is hyponyms for the word 'dish.n.2' at the same time. Answer:\"),\n",
       " ('citronade, cranberry juice, ice-cream, kool-aid, mocha, soda, vanilla ice cream, watermelon ju',\n",
       "  'lemonade',\n",
       "  \"limeade.n.1, orangeade.n.1are hyponyms for the word 'fruit drink.n.1'. Predict other hyponyms for the word 'fruit drink.n.1'. Answer:\"),\n",
       " (\"vajrayana sage of India's Mahayana tradition of Buddhism and Hinduism of the 11th and 12th centuries CE to the 6th century CE CEZone\",\n",
       "  'common sage',\n",
       "  \"Predict the hypernym for the word 'Bharadvaja.n.1' which is hyponyms for the word 'sage.n.3' at the same time. Answer:\"),\n",
       " ('banking institution, credit union, depository, savings bank, trust company, mutual fund, money market, stock exchange, treasury, institution of credit, investment trust,',\n",
       "  'acquirer, merchant bank, lead bank, agent bank, credit union, Federal Reserve Bank, Home Loan Bank, member bank, state bank, Housing and Commerce Bank, Eritrean Investment and Development Bank, Ĉekbanko esperantista, State Bank of the Russian Empire, Banco Real',\n",
       "  \"Predict hyponyms for the word 'depository financial institution.n.1'.  Answer:\"),\n",
       " ('dealer in arms and amulets person in charge of the sale of firearms and ammunition to the public in the United States of America and the District of Columbia as well as',\n",
       "  'pledgee',\n",
       "  \"Predict the hypernym for the word 'pawnbroker.n.1' which is hyponyms for the word 'adult.n.1' at the same time. Answer:\"),\n",
       " (\"female body humanoidity' body of flesh and bloodlessness characterized by the presence of male body parts such as penis, breasts, vulva, vag\",\n",
       "  'female body',\n",
       "  \"Predict the hypernym for the word 'adult female body.n.1' which is hyponyms for the word 'human body.n.1' at the same time. Answer:\"),\n",
       " ('cerebrospinal cortex, hippocampus, mesencephalon, midbrain, medulla oblongata, nucleus accumbens, cerebellum,',\n",
       "  'adrenal cortex, renal cortex',\n",
       "  \"Predict hyponyms for the word 'cortex.n.2'.  Answer:\"),\n",
       " ('examinator, examiner-in-chief, examinator-supervisor, inspector-general, judge, jurist, lawyer, psychologist, psychiatrist,',\n",
       "  'bank examiner, scrutineer, checker, scrutinizer',\n",
       "  \"Predict hyponyms for the word 'examiner.n.2'.  Answer:\"),\n",
       " ('pollen allergenic substance found in pollens of trees and shrubs of the genus Rhamnus frutescens var. rhamnosus L., rhamnosum',\n",
       "  'allergen',\n",
       "  \"Predict the hypernym for the word 'ragweed pollen.n.1' which is hyponyms for the word 'substance.n.7' at the same time. Answer:\"),\n",
       " (\"advantagemaker's advantageous position in the marketplace of goods and services offered by the United States Securities and Exchange Commission (SEC) under the Exchange Act of 1934\",\n",
       "  'leverage',\n",
       "  \"Predict the hypernym for the word 'bargaining chip.n.1' which is hyponyms for the word 'advantage.n.1' at the same time. Answer:\"),\n",
       " ('acrobatics, aerial stunt, jumping jacks, jumpsuit, maneuver, parachute jump, skydiving, sledding, spinning,',\n",
       "  'Russian roulette',\n",
       "  \"Predict hyponyms for the word 'stunt.n.1'.  Answer:\"),\n",
       " ('neurofibromatosis type 1 hereditary disease of the brain and spinal cord caused by mutations in the gene PYYC1 gene in humans and mice',\n",
       "  'dwarfism',\n",
       "  \"Predict the hypernym for the word 'pycnodysostosis.n.1' which is hyponyms for the word 'genetic disease.n.1' at the same time. Answer:\"),\n",
       " ('Thomas Pennington Lucas, 2nd Baron Lucasburg, William Mathews, 1st Baron Matildas, John Keegan, 3rd Baron Keegans, Henry Herbert,',\n",
       "  'Violet Mond, Baroness Melchett',\n",
       "  \"Ethel, Lady Pearson.n.1are hyponyms for the word 'humanist.n.2'. Predict other hyponyms for the word 'humanist.n.2'. Answer:\"),\n",
       " ('follower, follower-in-training, fan, friend, foe, lover, rival, supporter, acquaintance, buddy, confidant,',\n",
       "  'bleeding heart, fellow traveler',\n",
       "  \"Predict hyponyms for the word 'sympathizer.n.2'.  Answer:\"),\n",
       " ('founder of the United States Navy Yard in Annapolis (Maryland) during the American Civil War (1861–1865) (military historian)\\nRobert B, 1st Baron',\n",
       "  'founder',\n",
       "  \"Predict the hypernym for the word 'bell founder.n.1' which is hyponyms for the word 'skilled worker.n.1' at the same time. Answer:\"),\n",
       " ('builder (buildership) personel unit in the United States Navy during World War II personnel rank list system of 1944–1945 and 1946–1947 service list list of',\n",
       "  'oilman',\n",
       "  \"Predict the hypernym for the word 'rigger.n.3' which is hyponyms for the word 'skilled worker.n.1' at the same time. Answer:\"),\n",
       " ('academic training, exercise, instruction, internship, law school, schooling, sport, study, training camp, workout, course, education, military, program,',\n",
       "  'discipline, drill, retraining, schooling, skull session, toilet training',\n",
       "  \"Predict hyponyms for the word 'training.n.1'.  Answer:\"),\n",
       " ('aerodynamics and aeronautics engineering science and technology division of the United States Air Force Research Laboratory (USAF) in Fort Worth, Texas (United States)\\nAerodynam',\n",
       "  'aeronautics',\n",
       "  \"Predict the hypernym for the word 'avionics.n.1' which is hyponyms for the word 'physics.n.1' at the same time. Answer:\"),\n",
       " ('doggie-eared hyenaeid species of the family Hymenophthalmoidesidae, honey-eye honeyeater, woodpecker,',\n",
       "  'apple polisher',\n",
       "  \"goody-goody.n.1are hyponyms for the word 'sycophant.n.1'. Predict other hyponyms for the word 'sycophant.n.1'. Answer:\")]"
      ]
     },
     "execution_count": 13,
     "metadata": {},
     "output_type": "execute_result"
    }
   ],
   "source": [
    "\n",
    "idx = 1550\n",
    "list(zip(all_preds[idx:idx+20], all_labels[idx:idx+20], all_terms[idx:idx+20]))"
   ]
  },
  {
   "cell_type": "code",
   "execution_count": 25,
   "metadata": {},
   "outputs": [
    {
     "name": "stdout",
     "output_type": "stream",
     "text": [
      "Predict common hyponyms for the words 'writer.n.1' and 'performer.n.1'. Answer:\n"
     ]
    },
    {
     "data": {
      "text/plain": [
       "(['matthew richter'],\n",
       " ['paul shaffer (musician)\\nbutch hartman (musical director) (born august 23',\n",
       "  '1948) is an american musician',\n",
       "  'singer-songwriter',\n",
       "  'bass guitarist',\n",
       "  ''])"
      ]
     },
     "execution_count": 25,
     "metadata": {},
     "output_type": "execute_result"
    }
   ],
   "source": [
    "idx = 1505\n",
    "\n",
    "print(all_terms[idx])\n",
    "get_hypernyms(all_labels[idx]), get_hypernyms(all_preds[idx], is_gold=False)\n"
   ]
  },
  {
   "cell_type": "code",
   "execution_count": 18,
   "metadata": {},
   "outputs": [
    {
     "name": "stdout",
     "output_type": "stream",
     "text": [
      "limeade.n.1, orangeade.n.1are hyponyms for the word 'fruit drink.n.1'. Predict other hyponyms for the word 'fruit drink.n.1'. Answer:\n"
     ]
    },
    {
     "data": {
      "text/plain": [
       "(['lemonade'],\n",
       " ['citronade',\n",
       "  'cranberry juice',\n",
       "  'ice-cream',\n",
       "  'kool-aid',\n",
       "  'mocha',\n",
       "  'soda',\n",
       "  'vanilla ice cream',\n",
       "  'watermelon ju'])"
      ]
     },
     "execution_count": 18,
     "metadata": {},
     "output_type": "execute_result"
    }
   ],
   "source": [
    "idx = 1552\n",
    "\n",
    "print(all_terms[idx])\n",
    "get_hypernyms(all_labels[idx]), get_hypernyms(all_preds[idx], is_gold=False)\n"
   ]
  },
  {
   "cell_type": "code",
   "execution_count": null,
   "metadata": {},
   "outputs": [],
   "source": []
  }
 ],
 "metadata": {
  "kernelspec": {
   "display_name": "taxonomy_env",
   "language": "python",
   "name": "python3"
  },
  "language_info": {
   "codemirror_mode": {
    "name": "ipython",
    "version": 3
   },
   "file_extension": ".py",
   "mimetype": "text/x-python",
   "name": "python",
   "nbconvert_exporter": "python",
   "pygments_lexer": "ipython3",
   "version": "3.10.10"
  },
  "orig_nbformat": 4
 },
 "nbformat": 4,
 "nbformat_minor": 2
}
