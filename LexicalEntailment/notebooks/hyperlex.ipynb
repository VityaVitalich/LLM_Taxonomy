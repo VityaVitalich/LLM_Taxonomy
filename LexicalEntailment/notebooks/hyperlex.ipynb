{
 "cells": [
  {
   "cell_type": "code",
   "execution_count": 2,
   "metadata": {},
   "outputs": [],
   "source": [
    "import pickle\n",
    "import pandas as pd"
   ]
  },
  {
   "cell_type": "code",
   "execution_count": 18,
   "metadata": {},
   "outputs": [],
   "source": [
    "with open('../data/hyperlex/nouns-verbs/hyperlex-nouns.txt', 'r') as f:\n",
    "    ch = f.readlines()\n"
   ]
  },
  {
   "cell_type": "code",
   "execution_count": 23,
   "metadata": {},
   "outputs": [],
   "source": [
    "res = []\n",
    "\n",
    "for line in ch:\n",
    "    ls = line.split(' ')\n",
    "    #print(ls)\n",
    "    res.append(ls[:6])"
   ]
  },
  {
   "cell_type": "code",
   "execution_count": 34,
   "metadata": {},
   "outputs": [],
   "source": [
    "nouns = pd.DataFrame(res)"
   ]
  },
  {
   "cell_type": "code",
   "execution_count": 35,
   "metadata": {},
   "outputs": [
    {
     "data": {
      "text/plain": [
       "2164"
      ]
     },
     "execution_count": 35,
     "metadata": {},
     "output_type": "execute_result"
    }
   ],
   "source": [
    "len(res)"
   ]
  },
  {
   "cell_type": "code",
   "execution_count": 36,
   "metadata": {},
   "outputs": [],
   "source": [
    "nouns = nouns.rename(columns=nouns.iloc[0])"
   ]
  },
  {
   "cell_type": "code",
   "execution_count": 38,
   "metadata": {},
   "outputs": [],
   "source": [
    "nouns = nouns.iloc[1:, :]"
   ]
  },
  {
   "cell_type": "code",
   "execution_count": 40,
   "metadata": {},
   "outputs": [
    {
     "data": {
      "text/html": [
       "<div>\n",
       "<style scoped>\n",
       "    .dataframe tbody tr th:only-of-type {\n",
       "        vertical-align: middle;\n",
       "    }\n",
       "\n",
       "    .dataframe tbody tr th {\n",
       "        vertical-align: top;\n",
       "    }\n",
       "\n",
       "    .dataframe thead th {\n",
       "        text-align: right;\n",
       "    }\n",
       "</style>\n",
       "<table border=\"1\" class=\"dataframe\">\n",
       "  <thead>\n",
       "    <tr style=\"text-align: right;\">\n",
       "      <th></th>\n",
       "      <th>WORD1</th>\n",
       "      <th>WORD2</th>\n",
       "      <th>POS</th>\n",
       "      <th>TYPE</th>\n",
       "      <th>AVG_SCORE</th>\n",
       "      <th>AVG_SCORE_0_10</th>\n",
       "    </tr>\n",
       "  </thead>\n",
       "  <tbody>\n",
       "    <tr>\n",
       "      <th>1</th>\n",
       "      <td>conflict</td>\n",
       "      <td>disagreement</td>\n",
       "      <td>N</td>\n",
       "      <td>r-hyp-1</td>\n",
       "      <td>5.20</td>\n",
       "      <td>8.67</td>\n",
       "    </tr>\n",
       "    <tr>\n",
       "      <th>2</th>\n",
       "      <td>mason</td>\n",
       "      <td>worker</td>\n",
       "      <td>N</td>\n",
       "      <td>hyp-3</td>\n",
       "      <td>4.50</td>\n",
       "      <td>7.5</td>\n",
       "    </tr>\n",
       "    <tr>\n",
       "      <th>3</th>\n",
       "      <td>aura</td>\n",
       "      <td>light</td>\n",
       "      <td>N</td>\n",
       "      <td>hyp-1</td>\n",
       "      <td>3.69</td>\n",
       "      <td>6.15</td>\n",
       "    </tr>\n",
       "    <tr>\n",
       "      <th>4</th>\n",
       "      <td>radish</td>\n",
       "      <td>carrot</td>\n",
       "      <td>N</td>\n",
       "      <td>cohyp</td>\n",
       "      <td>0.09</td>\n",
       "      <td>0.15</td>\n",
       "    </tr>\n",
       "    <tr>\n",
       "      <th>5</th>\n",
       "      <td>tusk</td>\n",
       "      <td>duty</td>\n",
       "      <td>N</td>\n",
       "      <td>no-rel</td>\n",
       "      <td>0.08</td>\n",
       "      <td>0.13</td>\n",
       "    </tr>\n",
       "    <tr>\n",
       "      <th>...</th>\n",
       "      <td>...</td>\n",
       "      <td>...</td>\n",
       "      <td>...</td>\n",
       "      <td>...</td>\n",
       "      <td>...</td>\n",
       "      <td>...</td>\n",
       "    </tr>\n",
       "    <tr>\n",
       "      <th>2159</th>\n",
       "      <td>newspaper</td>\n",
       "      <td>medium</td>\n",
       "      <td>N</td>\n",
       "      <td>hyp-3</td>\n",
       "      <td>4.08</td>\n",
       "      <td>6.8</td>\n",
       "    </tr>\n",
       "    <tr>\n",
       "      <th>2160</th>\n",
       "      <td>concert</td>\n",
       "      <td>event</td>\n",
       "      <td>N</td>\n",
       "      <td>hyp-4</td>\n",
       "      <td>5.73</td>\n",
       "      <td>9.55</td>\n",
       "    </tr>\n",
       "    <tr>\n",
       "      <th>2161</th>\n",
       "      <td>food</td>\n",
       "      <td>pie</td>\n",
       "      <td>N</td>\n",
       "      <td>r-hyp-3</td>\n",
       "      <td>0.92</td>\n",
       "      <td>1.53</td>\n",
       "    </tr>\n",
       "    <tr>\n",
       "      <th>2162</th>\n",
       "      <td>ledge</td>\n",
       "      <td>shelf</td>\n",
       "      <td>N</td>\n",
       "      <td>syn</td>\n",
       "      <td>4.30</td>\n",
       "      <td>7.17</td>\n",
       "    </tr>\n",
       "    <tr>\n",
       "      <th>2163</th>\n",
       "      <td>avenue</td>\n",
       "      <td>road</td>\n",
       "      <td>N</td>\n",
       "      <td>hyp-3</td>\n",
       "      <td>4.83</td>\n",
       "      <td>8.05</td>\n",
       "    </tr>\n",
       "  </tbody>\n",
       "</table>\n",
       "<p>2163 rows × 6 columns</p>\n",
       "</div>"
      ],
      "text/plain": [
       "          WORD1         WORD2 POS     TYPE AVG_SCORE AVG_SCORE_0_10\n",
       "1      conflict  disagreement   N  r-hyp-1      5.20           8.67\n",
       "2         mason        worker   N    hyp-3      4.50            7.5\n",
       "3          aura         light   N    hyp-1      3.69           6.15\n",
       "4        radish        carrot   N    cohyp      0.09           0.15\n",
       "5          tusk          duty   N   no-rel      0.08           0.13\n",
       "...         ...           ...  ..      ...       ...            ...\n",
       "2159  newspaper        medium   N    hyp-3      4.08            6.8\n",
       "2160    concert         event   N    hyp-4      5.73           9.55\n",
       "2161       food           pie   N  r-hyp-3      0.92           1.53\n",
       "2162      ledge         shelf   N      syn      4.30           7.17\n",
       "2163     avenue          road   N    hyp-3      4.83           8.05\n",
       "\n",
       "[2163 rows x 6 columns]"
      ]
     },
     "execution_count": 40,
     "metadata": {},
     "output_type": "execute_result"
    }
   ],
   "source": [
    "nouns"
   ]
  },
  {
   "cell_type": "code",
   "execution_count": null,
   "metadata": {},
   "outputs": [],
   "source": []
  }
 ],
 "metadata": {
  "kernelspec": {
   "display_name": "Python 3",
   "language": "python",
   "name": "python3"
  },
  "language_info": {
   "codemirror_mode": {
    "name": "ipython",
    "version": 3
   },
   "file_extension": ".py",
   "mimetype": "text/x-python",
   "name": "python",
   "nbconvert_exporter": "python",
   "pygments_lexer": "ipython3",
   "version": "3.10.12"
  }
 },
 "nbformat": 4,
 "nbformat_minor": 2
}
