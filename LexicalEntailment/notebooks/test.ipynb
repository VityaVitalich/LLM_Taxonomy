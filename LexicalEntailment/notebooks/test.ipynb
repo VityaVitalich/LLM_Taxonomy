{
 "cells": [
  {
   "cell_type": "code",
   "execution_count": 12,
   "metadata": {},
   "outputs": [
    {
     "name": "stdout",
     "output_type": "stream",
     "text": [
      "USE_DEF_PROMPT:  False\n",
      "USE_DEF_TARGET:  False\n",
      "USE_NUMBER_TARGET:  False\n",
      "WARNING! USE_DEF_TARGET AND USE_NUMBER_TARGET MADE ONLY FOR HYPERNYMS PRED\n"
     ]
    }
   ],
   "source": [
    "import os\n",
    "import pickle\n",
    "\n",
    "use_def_prompt = os.getenv(\"USE_DEF_PROMPT\", \"False\") == \"True\"\n",
    "print(\"USE_DEF_PROMPT: \", use_def_prompt)\n",
    "\n",
    "use_def_target = os.getenv(\"USE_DEF_TARGET\", \"False\") == \"True\"\n",
    "print(\"USE_DEF_TARGET: \", use_def_target)\n",
    "\n",
    "use_number_target = os.getenv(\"USE_NUMBER_TARGET\", \"False\") == \"True\"\n",
    "print(\"USE_NUMBER_TARGET: \", use_number_target)\n",
    "\n",
    "print(\"WARNING! USE_DEF_TARGET AND USE_NUMBER_TARGET MADE ONLY FOR HYPERNYMS PRED\")\n",
    "\n",
    "\n",
    "def clean_elem(elem, keys_to_remove_digits=[\"children\"]):\n",
    "    removes = set(keys_to_remove_digits)\n",
    "    if not \"changed\" in elem.keys():\n",
    "        for field in [\"children\", \"parents\", \"grandparents\", \"brothers\"]:\n",
    "            if field in elem.keys():\n",
    "                elem[field] = delete_techniqal(elem[field], remove=(field in removes))\n",
    "                elem[\"changed\"] = True\n",
    "    return elem\n",
    "\n",
    "\n",
    "def delete_techniqal(elem, remove):\n",
    "    if isinstance(elem, str):\n",
    "        if ((\".n.\" in elem) or (\".v.\" in elem)) and remove:\n",
    "            return elem.split(\".\")[0].replace(\"_\", \" \")\n",
    "        else:\n",
    "            return elem.replace(\"_\", \" \")\n",
    "\n",
    "    elif isinstance(elem, list):\n",
    "        new_words = []\n",
    "        for word in elem:\n",
    "            new_words.append(delete_techniqal(word, remove))\n",
    "        return new_words\n",
    "def predict_parent_from_child(elem):\n",
    "    \"\"\"\n",
    "    Predict the hypernym for the word “spaniel”. Answer: (sporting dog)\n",
    "    \"\"\"\n",
    "    keys_to_remove_digits = []\n",
    "    if use_def_prompt:\n",
    "        keys_to_remove_digits.append(\n",
    "            \"children\"\n",
    "        )  # do not need numbers when provided definition\n",
    "    if (not use_number_target) or (use_def_target):\n",
    "        keys_to_remove_digits.append(\"parents\")\n",
    "\n",
    "    print(keys_to_remove_digits)\n",
    "    clean = clean_elem(elem, keys_to_remove_digits=keys_to_remove_digits)\n",
    "\n",
    "    if use_def_prompt:\n",
    "        transformed_term = (\n",
    "            \"hyponym: \" + clean[\"children\"] + \" (\" + elem[\"child_def\"] + \") | hypernym:\"\n",
    "        )\n",
    "    else:\n",
    "        transformed_term = \"hyponym: \" + clean[\"children\"] + \" | hypernym:\"\n",
    "\n",
    "    if use_def_target:\n",
    "        target = clean[\"parents\"] + \" (\" + elem[\"parent_def\"] + \")\" + \",\"\n",
    "    else:\n",
    "        target = clean[\"parents\"] + \",\"\n",
    "\n",
    "    return transformed_term, target"
   ]
  },
  {
   "cell_type": "code",
   "execution_count": 2,
   "metadata": {},
   "outputs": [],
   "source": [
    "with open('../data/test_wn_verbs.pickle', 'rb') as f:\n",
    "    test = pickle.load(f)"
   ]
  },
  {
   "cell_type": "code",
   "execution_count": 13,
   "metadata": {},
   "outputs": [],
   "source": [
    "from copy import deepcopy\n",
    "elem = deepcopy(test[0])"
   ]
  },
  {
   "cell_type": "code",
   "execution_count": 14,
   "metadata": {},
   "outputs": [
    {
     "name": "stdout",
     "output_type": "stream",
     "text": [
      "['parents']\n"
     ]
    },
    {
     "data": {
      "text/plain": [
       "('hyponym: declassify.v.01 | hypernym:', 'free,')"
      ]
     },
     "execution_count": 14,
     "metadata": {},
     "output_type": "execute_result"
    }
   ],
   "source": [
    "predict_parent_from_child(elem)"
   ]
  },
  {
   "cell_type": "code",
   "execution_count": null,
   "metadata": {},
   "outputs": [],
   "source": []
  }
 ],
 "metadata": {
  "kernelspec": {
   "display_name": "Python 3",
   "language": "python",
   "name": "python3"
  },
  "language_info": {
   "codemirror_mode": {
    "name": "ipython",
    "version": 3
   },
   "file_extension": ".py",
   "mimetype": "text/x-python",
   "name": "python",
   "nbconvert_exporter": "python",
   "pygments_lexer": "ipython3",
   "version": "3.10.12"
  }
 },
 "nbformat": 4,
 "nbformat_minor": 2
}
