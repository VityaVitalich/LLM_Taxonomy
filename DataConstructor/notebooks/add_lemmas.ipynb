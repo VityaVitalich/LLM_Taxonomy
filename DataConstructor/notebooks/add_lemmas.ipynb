{
 "cells": [
  {
   "cell_type": "code",
   "execution_count": 1,
   "metadata": {},
   "outputs": [
    {
     "name": "stderr",
     "output_type": "stream",
     "text": [
      "[nltk_data] Downloading package wordnet to /root/nltk_data...\n",
      "[nltk_data]   Package wordnet is already up-to-date!\n"
     ]
    }
   ],
   "source": [
    "import pickle\n",
    "import nltk\n",
    "nltk.download('wordnet')\n",
    "from nltk.corpus import wordnet as wn\n",
    "import pandas as pd"
   ]
  },
  {
   "cell_type": "code",
   "execution_count": 40,
   "metadata": {},
   "outputs": [],
   "source": [
    "train_path = '/home/LLM_Taxonomy/TaxonomyEnrichment/data/noun/train_hypernyms.pickle'\n",
    "with open(train_path, 'rb') as f:\n",
    "    train = pickle.load(f)\n",
    "\n",
    "test_path = '/home/LLM_Taxonomy/TaxonomyEnrichment/data/noun/test_hypernyms.pickle'\n",
    "with open(test_path, 'rb') as f:\n",
    "    test = pickle.load(f)"
   ]
  },
  {
   "cell_type": "code",
   "execution_count": 41,
   "metadata": {},
   "outputs": [
    {
     "data": {
      "text/plain": [
       "({'children': 'dancing.n.01',\n",
       "  'parents': 'diversion.n.01',\n",
       "  'grandparents': None,\n",
       "  'case': 'predict_hypernym'},\n",
       " {'children': 'streetcar.n.01',\n",
       "  'grandparents': None,\n",
       "  'parents': 'self-propelled_vehicle.n.01',\n",
       "  'case': 'predict_hypernym'})"
      ]
     },
     "execution_count": 41,
     "metadata": {},
     "output_type": "execute_result"
    }
   ],
   "source": [
    "train[0], test[10]"
   ]
  },
  {
   "cell_type": "code",
   "execution_count": 42,
   "metadata": {},
   "outputs": [],
   "source": [
    "def add_definitions(elem):\n",
    "    if elem['case'] == 'predict_hypernym':\n",
    "        elem['child_def'] = wn.synset(elem['children'].replace(' ', '_')).definition()\n",
    "      #  elem['parent_def'] = wn.synset(elem['parents']).definition()\n",
    "    elif elem['case'] == 'predict_multiple_hypernyms':\n",
    "        elem['child_def'] = wn.synset(elem['children'].replace(' ', '_')).definition()\n",
    "\n",
    "    elif elem['case'] == 'simple_triplet_grandparent':\n",
    "        elem['child_def'] = wn.synset(elem['children'].replace(' ', '_')).definition()\n",
    "        elem['grandparent_def'] = wn.synset(elem['grandparents']).definition()\n",
    "    elif elem['case'] == 'only_child_leaf':\n",
    "        elem['grandparent_def'] = wn.synset(elem['grandparents']).definition()\n",
    "        elem['parent_def'] = wn.synset(elem['parents']).definition()\n",
    "    elif elem['case'] == 'simple_triplet_2parent':\n",
    "        elem['1parent_def'] = wn.synset(elem['parents'][0]).definition()\n",
    "        elem['2parent_def'] = wn.synset(elem['parents'][1]).definition()\n",
    "    else:\n",
    "        elem['parent_def'] = wn.synset(elem['parents']).definition()\n",
    "\n",
    "def cut_lemmas(lemmas):\n",
    "    max_lemmas = min(len(lemmas), 8)\n",
    "    return lemmas[:max_lemmas]\n",
    "\n",
    "max_len = 0\n",
    "def add_lemmas(elem):\n",
    "    global max_len\n",
    "    if elem['case'] == 'predict_hypernym':\n",
    "        lemmas = cut_lemmas([str(lemma.name()) for lemma in wn.synset(elem['children'].replace(' ', '_')).lemmas()])\n",
    "        elem['child_def'] = ', '.join(lemmas)\n",
    "    elif elem['case'] == 'simple_triplet_grandparent':\n",
    "        lemmas = cut_lemmas([str(lemma.name()) for lemma in wn.synset(elem['children'].replace(' ', '_')).lemmas()])\n",
    "        elem['child_def'] = ', '.join(lemmas)\n",
    "        lemmas = cut_lemmas([str(lemma.name()) for lemma in wn.synset(elem['grandparents']).lemmas()])\n",
    "        elem['grandparent_def'] = ', '.join(lemmas)\n",
    "    elif elem['case'] == 'only_child_leaf':\n",
    "        lemmas = cut_lemmas([str(lemma.name()) for lemma in wn.synset(elem['grandparents']).lemmas()])\n",
    "        elem['grandparent_def'] = ', '.join(lemmas)\n",
    "\n",
    "        lemmas = cut_lemmas([str(lemma.name()) for lemma in wn.synset(elem['parents']).lemmas()])\n",
    "        elem['parent_def'] = ', '.join(lemmas)\n",
    "    elif elem['case'] == 'simple_triplet_2parent':\n",
    "        lemmas = cut_lemmas([str(lemma.name()) for lemma in wn.synset(elem['parents'][0]).lemmas()])\n",
    "        elem['1parent_def'] = ', '.join(lemmas)\n",
    "        lemmas = cut_lemmas([str(lemma.name()) for lemma in wn.synset(elem['parents'][1]).lemmas()])\n",
    "        elem['2parent_def'] = ', '.join(lemmas)\n",
    "    else:\n",
    "        lemmas = cut_lemmas([str(lemma.name()) for lemma in wn.synset(elem['parents']).lemmas()])\n",
    "        elem['parent_def'] = ', '.join(lemmas)\n",
    "    if len(lemmas) > max_len:\n",
    "        max_len = len(lemmas)"
   ]
  },
  {
   "cell_type": "code",
   "execution_count": 43,
   "metadata": {},
   "outputs": [],
   "source": [
    "for i, elem in enumerate(train):\n",
    "    try:\n",
    "        add_definitions(elem)\n",
    "    except:\n",
    "        print(i, elem)\n",
    "       # train.remove(elem)"
   ]
  },
  {
   "cell_type": "code",
   "execution_count": 44,
   "metadata": {},
   "outputs": [
    {
     "data": {
      "text/plain": [
       "41362"
      ]
     },
     "execution_count": 44,
     "metadata": {},
     "output_type": "execute_result"
    }
   ],
   "source": [
    "i"
   ]
  },
  {
   "cell_type": "code",
   "execution_count": 45,
   "metadata": {},
   "outputs": [
    {
     "data": {
      "text/plain": [
       "{'children': 'test.test.66',\n",
       " 'grandparents': None,\n",
       " 'parents': 'ablation.n.01',\n",
       " 'case': 'predict_hypernym'}"
      ]
     },
     "execution_count": 45,
     "metadata": {},
     "output_type": "execute_result"
    }
   ],
   "source": [
    "test[37]"
   ]
  },
  {
   "cell_type": "code",
   "execution_count": 46,
   "metadata": {},
   "outputs": [
    {
     "name": "stdout",
     "output_type": "stream",
     "text": [
      "37 {'children': 'test.test.66', 'grandparents': None, 'parents': 'ablation.n.01', 'case': 'predict_hypernym'}\n",
      "68 {'children': 'test.test.276', 'grandparents': None, 'parents': 'anchor.n.01', 'case': 'predict_hypernym'}\n",
      "93 {'children': 'test.test.485', 'grandparents': None, 'parents': 'security_system.n.01', 'case': 'predict_hypernym'}\n",
      "161 {'children': 'val.withdef.114', 'grandparents': None, 'parents': 'sport.n.01', 'case': 'predict_hypernym'}\n",
      "222 {'children': 'train.withdef.153', 'grandparents': None, 'parents': 'debris.n.01', 'case': 'predict_hypernym'}\n",
      "293 {'children': 'val.withdef.86', 'grandparents': None, 'parents': 'broadcast.n.02', 'case': 'predict_hypernym'}\n",
      "333 {'children': 'train.withdef.160', 'grandparents': None, 'parents': 'erosion.n.01', 'case': 'predict_hypernym'}\n",
      "534 {'children': 'train.withdef.52', 'grandparents': None, 'parents': 'increase.n.05', 'case': 'predict_hypernym'}\n",
      "670 {'children': 'train.withdef.119', 'grandparents': None, 'parents': 'program.n.07', 'case': 'predict_hypernym'}\n",
      "705 {'children': 'test.test.265', 'grandparents': None, 'parents': 'pass.n.15', 'case': 'predict_hypernym'}\n",
      "809 {'children': 'train.withdef.131', 'grandparents': None, 'parents': 'remainder.n.03', 'case': 'predict_hypernym'}\n",
      "879 {'children': 'test.test.230', 'grandparents': None, 'parents': 'budding.n.01', 'case': 'predict_hypernym'}\n",
      "946 {'children': 'test.test.327', 'grandparents': None, 'parents': 'amendment.n.02', 'case': 'predict_hypernym'}\n",
      "966 {'children': 'test.test.73', 'grandparents': None, 'parents': 'ablation.n.01', 'case': 'predict_hypernym'}\n",
      "14\n"
     ]
    }
   ],
   "source": [
    "counter = 0\n",
    "for i, elem in enumerate(test):\n",
    "    try:\n",
    "        add_definitions(elem)\n",
    "    except:\n",
    "        print(i, elem)\n",
    "        counter += 1\n",
    "        test.remove(elem)\n",
    "\n",
    "print(counter)"
   ]
  },
  {
   "cell_type": "code",
   "execution_count": 48,
   "metadata": {},
   "outputs": [
    {
     "data": {
      "text/plain": [
       "(986, 41363)"
      ]
     },
     "execution_count": 48,
     "metadata": {},
     "output_type": "execute_result"
    }
   ],
   "source": [
    "len(test), len(train)"
   ]
  },
  {
   "cell_type": "code",
   "execution_count": 50,
   "metadata": {},
   "outputs": [],
   "source": [
    "train_out = '/home/LLM_Taxonomy/TaxonomyEnrichment/data/noun/train_hypernyms_def.pickle'\n",
    "test_out = '/home/LLM_Taxonomy/TaxonomyEnrichment/data/noun/test_hypernyms_def.picklee'\n",
    "\n",
    "with open(train_out, 'wb') as f:\n",
    "    pickle.dump(train, f)\n",
    "\n",
    "with open(test_out, 'wb') as f:\n",
    "    pickle.dump(test, f)"
   ]
  },
  {
   "cell_type": "code",
   "execution_count": 6,
   "metadata": {},
   "outputs": [],
   "source": [
    "%load_ext autoreload\n",
    "%autoreload 2\n",
    "\n",
    "import sys\n",
    "sys.path.append('../../')\n",
    "from pipeline_src.dataset.prompt_schemas import (\n",
    "    hypo_term_hyper,\n",
    "    predict_child_from_2_parents,\n",
    "    predict_child_from_parent,\n",
    "    predict_child_with_parent_and_grandparent,\n",
    "    predict_children_with_parent_and_brothers,\n",
    "    predict_parent_from_child_granparent,\n",
    "    predict_parent_from_child,\n",
    ")"
   ]
  },
  {
   "cell_type": "code",
   "execution_count": 5,
   "metadata": {},
   "outputs": [],
   "source": [
    "def clean_elem(elem, keys_to_remove_digits=[\"children\"]):\n",
    "    removes = set(keys_to_remove_digits)\n",
    "    if not \"changed\" in elem.keys():\n",
    "        for field in [\"children\", \"parents\", \"grandparents\", \"brothers\"]:\n",
    "            if field in elem.keys():\n",
    "                elem[field] = delete_techniqal(\n",
    "                    elem[field], remove=(field in removes))\n",
    "                elem[\"changed\"] = True\n",
    "    return elem\n",
    "\n",
    "\n",
    "def delete_techniqal(elem, remove):\n",
    "    if isinstance(elem, str):\n",
    "        if \".n.\" in elem and remove:\n",
    "            return elem.split(\".\")[0].replace(\"_\", \" \")\n",
    "        else:\n",
    "            return elem.replace(\"_\", \" \")\n",
    "\n",
    "    elif isinstance(elem, list):\n",
    "        new_words = []\n",
    "        for word in elem:\n",
    "            new_words.append(delete_techniqal(word, remove))\n",
    "        return new_words\n",
    "\n",
    "def predict_parent_from_child(elem):\n",
    "    \"\"\"\n",
    "    Predict the hypernym for the word “spaniel”. Answer: (sporting dog)\n",
    "    \"\"\"\n",
    "    keys_to_remove_digits = []\n",
    "    if use_def_prompt:\n",
    "        keys_to_remove_digits.append(\"children\") # do not need numbers when provided definition\n",
    "    if (not use_number_target) or (use_def_target):\n",
    "        keys_to_remove_digits.append(\"parents\")\n",
    "    \n",
    "    clean = clean_elem(elem, keys_to_remove_digits=keys_to_remove_digits)\n",
    "\n",
    "    if use_def_prompt:\n",
    "        transformed_term = (\n",
    "            \"hyponym: \" + clean[\"children\"] + \" (\" + elem[\"child_def\"] + \") | hypernym:\"\n",
    "        )\n",
    "    else:\n",
    "        transformed_term = \"hyponym: \" + clean[\"children\"] + \" | hypernym:\"\n",
    "\n",
    "    if use_def_target:\n",
    "        target = clean[\"parents\"] + \" (\" + elem[\"parent_def\"] + \")\" + \",\"\n",
    "    else:\n",
    "        target = clean[\"parents\"] + \",\"\n",
    "\n",
    "    return transformed_term, target"
   ]
  },
  {
   "cell_type": "code",
   "execution_count": 19,
   "metadata": {},
   "outputs": [],
   "source": [
    "te = dict(elem)"
   ]
  },
  {
   "cell_type": "code",
   "execution_count": 20,
   "metadata": {},
   "outputs": [
    {
     "data": {
      "text/plain": [
       "('hyponym: light hour (the distance light travels in a vacuum in one hour; approximately one billion kilometers) | hypernym:',\n",
       " 'astronomy unit (a linear unit used for astronomical distances),')"
      ]
     },
     "execution_count": 20,
     "metadata": {},
     "output_type": "execute_result"
    }
   ],
   "source": [
    "use_def_prompt = True\n",
    "use_def_target = True\n",
    "use_number_target = True\n",
    "\n",
    "predict_parent_from_child(te)"
   ]
  },
  {
   "cell_type": "code",
   "execution_count": 9,
   "metadata": {},
   "outputs": [
    {
     "data": {
      "text/plain": [
       "'hypernym: optical instrument (an instrument designed to aid vision) | hyponyms:'"
      ]
     },
     "execution_count": 9,
     "metadata": {},
     "output_type": "execute_result"
    }
   ],
   "source": [
    "processed_term"
   ]
  },
  {
   "cell_type": "code",
   "execution_count": null,
   "metadata": {},
   "outputs": [],
   "source": []
  }
 ],
 "metadata": {
  "kernelspec": {
   "display_name": "Python 3",
   "language": "python",
   "name": "python3"
  },
  "language_info": {
   "codemirror_mode": {
    "name": "ipython",
    "version": 3
   },
   "file_extension": ".py",
   "mimetype": "text/x-python",
   "name": "python",
   "nbconvert_exporter": "python",
   "pygments_lexer": "ipython3",
   "version": "3.10.12"
  }
 },
 "nbformat": 4,
 "nbformat_minor": 2
}
