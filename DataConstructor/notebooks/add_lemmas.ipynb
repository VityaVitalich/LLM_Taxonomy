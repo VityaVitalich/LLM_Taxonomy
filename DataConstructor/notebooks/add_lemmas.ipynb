{
 "cells": [
  {
   "cell_type": "code",
   "execution_count": 11,
   "metadata": {},
   "outputs": [
    {
     "name": "stderr",
     "output_type": "stream",
     "text": [
      "[nltk_data] Downloading package wordnet to /root/nltk_data...\n",
      "[nltk_data]   Package wordnet is already up-to-date!\n"
     ]
    }
   ],
   "source": [
    "import pickle\n",
    "import nltk\n",
    "nltk.download('wordnet')\n",
    "from nltk.corpus import wordnet as wn\n",
    "import pandas as pd\n",
    "import numpy as np"
   ]
  },
  {
   "cell_type": "code",
   "execution_count": 65,
   "metadata": {},
   "outputs": [],
   "source": [
    "train_path = '/home/LLM_Taxonomy/TaxonomyEnrichment/data/м/train_hypernyms.pickle'\n",
    "with open(train_path, 'rb') as f:\n",
    "    train = pickle.load(f)\n",
    "\n",
    "test_path = '/home/LLM_Taxonomy/TaxonomyEnrichment/data/psychology/test_hypernyms.pickle'\n",
    "with open(test_path, 'rb') as f:\n",
    "    test = pickle.load(f)"
   ]
  },
  {
   "cell_type": "code",
   "execution_count": 66,
   "metadata": {},
   "outputs": [
    {
     "data": {
      "text/plain": [
       "({'children': 'compulsory heterosexuality.n.1',\n",
       "  'parents': 'queer.n.1',\n",
       "  'grandparents': None,\n",
       "  'case': 'predict_hypernym'},\n",
       " {'children': 'anisochromasia',\n",
       "  'grandparents': None,\n",
       "  'parents': 'psychiatry',\n",
       "  'case': 'predict_hypernym'})"
      ]
     },
     "execution_count": 66,
     "metadata": {},
     "output_type": "execute_result"
    }
   ],
   "source": [
    "train[0], test[10]"
   ]
  },
  {
   "cell_type": "code",
   "execution_count": 22,
   "metadata": {},
   "outputs": [],
   "source": [
    "def add_definitions(elem):\n",
    "    if elem['case'] == 'predict_hypernym':\n",
    "        elem['child_def'] = wn.synset(elem['children'].replace(' ', '_')).definition()\n",
    "      #  elem['parent_def'] = wn.synset(elem['parents']).definition()\n",
    "    elif elem['case'] == 'predict_multiple_hypernyms':\n",
    "        elem['child_def'] = wn.synset(elem['children'].replace(' ', '_')).definition()\n",
    "\n",
    "    elif elem['case'] == 'simple_triplet_grandparent':\n",
    "        elem['child_def'] = wn.synset(elem['children'].replace(' ', '_')).definition()\n",
    "        elem['grandparent_def'] = wn.synset(elem['grandparents']).definition()\n",
    "    elif elem['case'] == 'only_child_leaf':\n",
    "        elem['grandparent_def'] = wn.synset(elem['grandparents']).definition()\n",
    "        elem['parent_def'] = wn.synset(elem['parents']).definition()\n",
    "    elif elem['case'] == 'simple_triplet_2parent':\n",
    "        elem['1parent_def'] = wn.synset(elem['parents'][0]).definition()\n",
    "        elem['2parent_def'] = wn.synset(elem['parents'][1]).definition()\n",
    "    else:\n",
    "        elem['parent_def'] = wn.synset(elem['parents']).definition()\n",
    "\n",
    "def cut_lemmas(lemmas):\n",
    "    max_lemmas = min(len(lemmas), 8)\n",
    "    return lemmas[:max_lemmas]\n",
    "\n",
    "max_len = 0\n",
    "def add_lemmas(elem):\n",
    "    global max_len\n",
    "    if elem['case'] == 'predict_hypernym':\n",
    "        lemmas = cut_lemmas([str(lemma.name()) for lemma in wn.synset(elem['children'].replace(' ', '_')).lemmas()])\n",
    "        elem['child_def'] = ', '.join(lemmas)\n",
    "    elif elem['case'] == 'simple_triplet_grandparent':\n",
    "        lemmas = cut_lemmas([str(lemma.name()) for lemma in wn.synset(elem['children'].replace(' ', '_')).lemmas()])\n",
    "        elem['child_def'] = ', '.join(lemmas)\n",
    "        lemmas = cut_lemmas([str(lemma.name()) for lemma in wn.synset(elem['grandparents']).lemmas()])\n",
    "        elem['grandparent_def'] = ', '.join(lemmas)\n",
    "    elif elem['case'] == 'only_child_leaf':\n",
    "        lemmas = cut_lemmas([str(lemma.name()) for lemma in wn.synset(elem['grandparents']).lemmas()])\n",
    "        elem['grandparent_def'] = ', '.join(lemmas)\n",
    "\n",
    "        lemmas = cut_lemmas([str(lemma.name()) for lemma in wn.synset(elem['parents']).lemmas()])\n",
    "        elem['parent_def'] = ', '.join(lemmas)\n",
    "    elif elem['case'] == 'simple_triplet_2parent':\n",
    "        lemmas = cut_lemmas([str(lemma.name()) for lemma in wn.synset(elem['parents'][0]).lemmas()])\n",
    "        elem['1parent_def'] = ', '.join(lemmas)\n",
    "        lemmas = cut_lemmas([str(lemma.name()) for lemma in wn.synset(elem['parents'][1]).lemmas()])\n",
    "        elem['2parent_def'] = ', '.join(lemmas)\n",
    "    else:\n",
    "        lemmas = cut_lemmas([str(lemma.name()) for lemma in wn.synset(elem['parents']).lemmas()])\n",
    "        elem['parent_def'] = ', '.join(lemmas)\n",
    "    if len(lemmas) > max_len:\n",
    "        max_len = len(lemmas)"
   ]
  },
  {
   "cell_type": "code",
   "execution_count": 27,
   "metadata": {},
   "outputs": [],
   "source": [
    "for i, elem in enumerate(train):\n",
    "    try:\n",
    "        add_definitions(elem)\n",
    "    except:\n",
    "        print(i, elem)\n",
    "        train.remove(elem)"
   ]
  },
  {
   "cell_type": "code",
   "execution_count": 29,
   "metadata": {},
   "outputs": [
    {
     "name": "stdout",
     "output_type": "stream",
     "text": [
      "0\n"
     ]
    }
   ],
   "source": [
    "counter = 0\n",
    "for i, elem in enumerate(test):\n",
    "    try:\n",
    "        add_definitions(elem)\n",
    "    except:\n",
    "        print(i, elem)\n",
    "        counter += 1\n",
    "        test.remove(elem)\n",
    "\n",
    "print(counter)"
   ]
  },
  {
   "cell_type": "code",
   "execution_count": 30,
   "metadata": {},
   "outputs": [
    {
     "data": {
      "text/plain": [
       "(985, 7712)"
      ]
     },
     "execution_count": 30,
     "metadata": {},
     "output_type": "execute_result"
    }
   ],
   "source": [
    "len(test), len(train)"
   ]
  },
  {
   "cell_type": "code",
   "execution_count": 31,
   "metadata": {},
   "outputs": [],
   "source": [
    "for elem in test:\n",
    "    a = (elem['child_def'])"
   ]
  },
  {
   "cell_type": "code",
   "execution_count": 32,
   "metadata": {},
   "outputs": [],
   "source": [
    "train_out = '/home/LLM_Taxonomy/TaxonomyEnrichment/data/verb/train_hypernyms_multisense_def.pickle'\n",
    "test_out = '/home/LLM_Taxonomy/TaxonomyEnrichment/data/verb/test_hypernyms_def.pickle'\n",
    "\n",
    "with open(train_out, 'wb') as f:\n",
    "    pickle.dump(train, f)\n",
    "\n",
    "with open(test_out, 'wb') as f:\n",
    "    pickle.dump(test, f)"
   ]
  },
  {
   "cell_type": "code",
   "execution_count": 8,
   "metadata": {},
   "outputs": [],
   "source": [
    "def_path = '/home/LLM_Taxonomy/TaxonomyEnrichment/data/MAG_CS/definitions_last.pickle'\n",
    "\n",
    "with open(def_path, 'rb') as f:\n",
    "    defs_wiki = pickle.load(f)\n",
    "\n",
    "gen_def_path = '/home/LLM_Taxonomy/TaxonomyEnrichment/data/MAG_CS/chatgpt_def_MAG_CS.tsv'\n",
    "\n",
    "gen_defs = pd.read_csv(gen_def_path, sep='\\t', header=None)"
   ]
  },
  {
   "cell_type": "code",
   "execution_count": 10,
   "metadata": {},
   "outputs": [
    {
     "data": {
      "text/plain": [
       "29484"
      ]
     },
     "execution_count": 10,
     "metadata": {},
     "output_type": "execute_result"
    }
   ],
   "source": [
    "len(defs_wiki)"
   ]
  },
  {
   "cell_type": "code",
   "execution_count": 69,
   "metadata": {},
   "outputs": [],
   "source": [
    "for i, row in gen_defs.iterrows():\n",
    "\n",
    "    term = row[0]\n",
    "    definition = row[1]\n",
    "\n",
    "    defs_wiki[term] = definition"
   ]
  },
  {
   "cell_type": "code",
   "execution_count": 9,
   "metadata": {},
   "outputs": [
    {
     "data": {
      "text/plain": [
       "(23770, 5714)"
      ]
     },
     "execution_count": 9,
     "metadata": {},
     "output_type": "execute_result"
    }
   ],
   "source": [
    "len(defs_wiki) - len(gen_defs), len(gen_defs)"
   ]
  },
  {
   "cell_type": "code",
   "execution_count": 70,
   "metadata": {},
   "outputs": [],
   "source": [
    "for elem in train:\n",
    "    child = elem['children'].split('.')[0]\n",
    "    elem['child_def'] = defs_wiki[child][:3000]\n",
    "\n",
    "for elem in test:\n",
    "    child = elem['children'].split('.')[0]\n",
    "    elem['child_def'] = defs_wiki[child][:3000]\n"
   ]
  },
  {
   "cell_type": "code",
   "execution_count": 71,
   "metadata": {},
   "outputs": [],
   "source": [
    "lens = [len(elem['child_def']) for elem in train]"
   ]
  },
  {
   "cell_type": "code",
   "execution_count": 72,
   "metadata": {},
   "outputs": [
    {
     "data": {
      "text/plain": [
       "(21, 2866)"
      ]
     },
     "execution_count": 72,
     "metadata": {},
     "output_type": "execute_result"
    }
   ],
   "source": [
    "np.argmax(lens), np.max(lens)"
   ]
  },
  {
   "cell_type": "code",
   "execution_count": 73,
   "metadata": {},
   "outputs": [
    {
     "data": {
      "text/plain": [
       "(array([8471, 2951,  765,  108,   14,    3,    1,    0,    0,    4]),\n",
       " array([  19. ,  303.7,  588.4,  873.1, 1157.8, 1442.5, 1727.2, 2011.9,\n",
       "        2296.6, 2581.3, 2866. ]))"
      ]
     },
     "execution_count": 73,
     "metadata": {},
     "output_type": "execute_result"
    }
   ],
   "source": [
    "np.histogram(lens)"
   ]
  },
  {
   "cell_type": "code",
   "execution_count": 64,
   "metadata": {},
   "outputs": [],
   "source": [
    "train_out = '/home/LLM_Taxonomy/TaxonomyEnrichment/data/psychology/train_hypernyms_def.pickle'\n",
    "test_out = '/home/LLM_Taxonomy/TaxonomyEnrichment/data/psychology/test_hypernyms_def.pickle'\n",
    "\n",
    "with open(train_out, 'wb') as f:\n",
    "    pickle.dump(train, f)\n",
    "\n",
    "with open(test_out, 'wb') as f:\n",
    "    pickle.dump(test, f)"
   ]
  },
  {
   "cell_type": "code",
   "execution_count": 17,
   "metadata": {},
   "outputs": [],
   "source": [
    "for elem in test:\n",
    "    if elem['case'] == 'predict_multiple_hypernyms':\n",
    "        a = predict_multiple_parents_from_child(elem)"
   ]
  },
  {
   "cell_type": "code",
   "execution_count": 5,
   "metadata": {},
   "outputs": [],
   "source": [
    "def clean_elem(elem, keys_to_remove_digits=[\"children\"]):\n",
    "    removes = set(keys_to_remove_digits)\n",
    "    if not \"changed\" in elem.keys():\n",
    "        for field in [\"children\", \"parents\", \"grandparents\", \"brothers\"]:\n",
    "            if field in elem.keys():\n",
    "                elem[field] = delete_techniqal(\n",
    "                    elem[field], remove=(field in removes))\n",
    "                elem[\"changed\"] = True\n",
    "    return elem\n",
    "\n",
    "\n",
    "def delete_techniqal(elem, remove):\n",
    "    if isinstance(elem, str):\n",
    "        if \".n.\" in elem and remove:\n",
    "            return elem.split(\".\")[0].replace(\"_\", \" \")\n",
    "        else:\n",
    "            return elem.replace(\"_\", \" \")\n",
    "\n",
    "    elif isinstance(elem, list):\n",
    "        new_words = []\n",
    "        for word in elem:\n",
    "            new_words.append(delete_techniqal(word, remove))\n",
    "        return new_words\n",
    "\n",
    "def predict_parent_from_child(elem):\n",
    "    \"\"\"\n",
    "    Predict the hypernym for the word “spaniel”. Answer: (sporting dog)\n",
    "    \"\"\"\n",
    "    keys_to_remove_digits = []\n",
    "    if use_def_prompt:\n",
    "        keys_to_remove_digits.append(\"children\") # do not need numbers when provided definition\n",
    "    if (not use_number_target) or (use_def_target):\n",
    "        keys_to_remove_digits.append(\"parents\")\n",
    "    \n",
    "    clean = clean_elem(elem, keys_to_remove_digits=keys_to_remove_digits)\n",
    "\n",
    "    if use_def_prompt:\n",
    "        transformed_term = (\n",
    "            \"hyponym: \" + clean[\"children\"] + \" (\" + elem[\"child_def\"] + \") | hypernym:\"\n",
    "        )\n",
    "    else:\n",
    "        transformed_term = \"hyponym: \" + clean[\"children\"] + \" | hypernym:\"\n",
    "\n",
    "    if use_def_target:\n",
    "        target = clean[\"parents\"] + \" (\" + elem[\"parent_def\"] + \")\" + \",\"\n",
    "    else:\n",
    "        target = clean[\"parents\"] + \",\"\n",
    "\n",
    "    return transformed_term, target"
   ]
  },
  {
   "cell_type": "code",
   "execution_count": 19,
   "metadata": {},
   "outputs": [],
   "source": [
    "te = dict(elem)"
   ]
  },
  {
   "cell_type": "code",
   "execution_count": 20,
   "metadata": {},
   "outputs": [
    {
     "data": {
      "text/plain": [
       "('hyponym: light hour (the distance light travels in a vacuum in one hour; approximately one billion kilometers) | hypernym:',\n",
       " 'astronomy unit (a linear unit used for astronomical distances),')"
      ]
     },
     "execution_count": 20,
     "metadata": {},
     "output_type": "execute_result"
    }
   ],
   "source": [
    "use_def_prompt = True\n",
    "use_def_target = True\n",
    "use_number_target = True\n",
    "\n",
    "predict_parent_from_child(te)"
   ]
  },
  {
   "cell_type": "code",
   "execution_count": 9,
   "metadata": {},
   "outputs": [
    {
     "data": {
      "text/plain": [
       "'hypernym: optical instrument (an instrument designed to aid vision) | hyponyms:'"
      ]
     },
     "execution_count": 9,
     "metadata": {},
     "output_type": "execute_result"
    }
   ],
   "source": [
    "processed_term"
   ]
  },
  {
   "cell_type": "code",
   "execution_count": null,
   "metadata": {},
   "outputs": [],
   "source": []
  }
 ],
 "metadata": {
  "kernelspec": {
   "display_name": "Python 3",
   "language": "python",
   "name": "python3"
  },
  "language_info": {
   "codemirror_mode": {
    "name": "ipython",
    "version": 3
   },
   "file_extension": ".py",
   "mimetype": "text/x-python",
   "name": "python",
   "nbconvert_exporter": "python",
   "pygments_lexer": "ipython3",
   "version": "3.10.12"
  }
 },
 "nbformat": 4,
 "nbformat_minor": 2
}
