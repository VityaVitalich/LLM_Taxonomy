{
 "cells": [
  {
   "cell_type": "code",
   "execution_count": 19,
   "metadata": {},
   "outputs": [],
   "source": [
    "from ruwordnet import RuWordNet\n",
    "import pandas as pd"
   ]
  },
  {
   "cell_type": "code",
   "execution_count": 2,
   "metadata": {},
   "outputs": [],
   "source": [
    "wn = RuWordNet()  "
   ]
  },
  {
   "cell_type": "code",
   "execution_count": 20,
   "metadata": {},
   "outputs": [],
   "source": [
    "all_synsets = wn.synsets\n",
    "all_synsets_n = [synset for synset in all_synsets if synset.part_of_speech == 'N']"
   ]
  },
  {
   "cell_type": "code",
   "execution_count": 6,
   "metadata": {},
   "outputs": [],
   "source": [
    "def clean_name(name):\n",
    "    name = name.split('(')[0].lower()\n",
    "    name = name.split(',')[0]\n",
    "    return name.strip()\n",
    "\n",
    "synsets_met = {}\n",
    "synset_orig = {}\n",
    "\n",
    "\n",
    "for synset in all_synsets_n:\n",
    "    name = clean_name(synset.title)\n",
    "\n",
    "    if name in synsets_met.keys():\n",
    "        synsets_met[name]+= 1\n",
    "    else:\n",
    "        synsets_met[name] = 1\n",
    "\n",
    "    numbered_name = name + '.n.' + str(synsets_met[name])\n",
    "\n",
    "    synset_orig[synset.title] = numbered_name"
   ]
  },
  {
   "cell_type": "code",
   "execution_count": 13,
   "metadata": {},
   "outputs": [],
   "source": [
    "all_pairs = []\n",
    "for synset in tqdm(all_synsets_n):\n",
    "    clean_name = synset_orig[synset.title]\n",
    "\n",
    "    for h in synset.hypernyms:\n",
    "        h_name = synset_orig[h.title]\n",
    "\n",
    "        all_pairs.append((clean_name, h_name))\n"
   ]
  },
  {
   "cell_type": "code",
   "execution_count": 21,
   "metadata": {},
   "outputs": [
    {
     "data": {
      "text/plain": [
       "42995"
      ]
     },
     "execution_count": 21,
     "metadata": {},
     "output_type": "execute_result"
    }
   ],
   "source": [
    "len(all_pairs)"
   ]
  },
  {
   "cell_type": "code",
   "execution_count": 23,
   "metadata": {},
   "outputs": [],
   "source": [
    "df = pd.DataFrame(all_pairs, columns=['Synset', 'Hypernym'])"
   ]
  },
  {
   "cell_type": "code",
   "execution_count": null,
   "metadata": {},
   "outputs": [],
   "source": [
    "df"
   ]
  },
  {
   "cell_type": "code",
   "execution_count": 26,
   "metadata": {},
   "outputs": [],
   "source": [
    "df.to_csv('./data/omw/ru.csv')"
   ]
  },
  {
   "cell_type": "code",
   "execution_count": null,
   "metadata": {},
   "outputs": [],
   "source": []
  }
 ],
 "metadata": {
  "kernelspec": {
   "display_name": "dataload_env",
   "language": "python",
   "name": "python3"
  },
  "language_info": {
   "codemirror_mode": {
    "name": "ipython",
    "version": 3
   },
   "file_extension": ".py",
   "mimetype": "text/x-python",
   "name": "python",
   "nbconvert_exporter": "python",
   "pygments_lexer": "ipython3",
   "version": "3.10.12"
  },
  "orig_nbformat": 4
 },
 "nbformat": 4,
 "nbformat_minor": 2
}
