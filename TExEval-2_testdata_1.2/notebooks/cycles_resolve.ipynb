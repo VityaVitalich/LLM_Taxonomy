{
 "cells": [
  {
   "cell_type": "code",
   "execution_count": 1,
   "metadata": {},
   "outputs": [],
   "source": [
    "import networkx as nx\n",
    "import itertools\n",
    "from tqdm import tqdm\n",
    "import pickle"
   ]
  },
  {
   "cell_type": "code",
   "execution_count": 17,
   "metadata": {},
   "outputs": [],
   "source": [
    "path = '../gs_taxo/EN/environment_eurovoc_en.taxo'\n",
    "G = nx.DiGraph()\n",
    "\n",
    "with open(path, 'r') as f:\n",
    "    for line in f:\n",
    "        idx, hypo, hyper = line.split('\\t')\n",
    "        hyper = hyper.replace('\\n', '')\n",
    "        G.add_node(hypo)\n",
    "        G.add_node(hyper)\n",
    "        G.add_edge(hyper, hypo)"
   ]
  },
  {
   "cell_type": "code",
   "execution_count": 25,
   "metadata": {},
   "outputs": [],
   "source": [
    "def clean_dict(pairs, use_lemma, reverse):\n",
    "    new_pairs = {}\n",
    "    for key, val in pairs.items():\n",
    "        if use_lemma:\n",
    "            term = key[0].split(\"(\")[0].strip()\n",
    "        else:\n",
    "            term = key[0]\n",
    "        target = key[1].split(\",\")[0]\n",
    "        new_key = (target, term) if reverse else (term, target)\n",
    "        new_pairs[new_key] = val\n",
    "\n",
    "    return new_pairs\n",
    "\n",
    "\n",
    "in_name = '../data/env/eurovoc/pred_hypernym/lemmas_ppl_clear.pickle'\n",
    "lemma = True\n",
    "reverse = True\n",
    "\n",
    "with open(in_name, \"rb\") as f:\n",
    "    ppls = pickle.load(f)\n",
    "\n",
    "ppls_pairs = clean_dict(ppls, use_lemma=lemma, reverse=reverse)\n",
    "\n",
    "root = 'environment'\n",
    "all_verteces = list(G.nodes)\n",
    "all_verteces.remove(root)"
   ]
  },
  {
   "cell_type": "code",
   "execution_count": 26,
   "metadata": {},
   "outputs": [
    {
     "name": "stdout",
     "output_type": "stream",
     "text": [
      "0.10354374307862665\n"
     ]
    }
   ],
   "source": [
    "def get_graph(ppl_pairs, thr):\n",
    "    S = nx.DiGraph()\n",
    "    for key, val in ppl_pairs.items():\n",
    "        if val <thr:\n",
    "            S.add_edge(key[0], key[1], weight=val)\n",
    "    return S\n",
    "        \n",
    "\n",
    "G_pred = get_graph(ppls_pairs, 10)\n",
    "\n",
    "P = len(set(G.edges()) & set(G_pred.edges())) / (len(set(G_pred.edges())) + 1e-15)\n",
    "R = len(set(G.edges()) & set(G_pred.edges())) / len(set(G.edges()))\n",
    "# print(len(set(edges)))\n",
    "F = (2 * P * R) / (P + R + 1e-15)\n",
    "print(F)\n"
   ]
  },
  {
   "cell_type": "code",
   "execution_count": 27,
   "metadata": {},
   "outputs": [
    {
     "name": "stderr",
     "output_type": "stream",
     "text": [
      "0it [00:21, ?it/s]\n"
     ]
    },
    {
     "name": "stdout",
     "output_type": "stream",
     "text": [
      "0.1264157837047861\n"
     ]
    }
   ],
   "source": [
    "def resolve_cycle(cur_G, cycle):\n",
    "\n",
    "    cycle_ppls = {}\n",
    "\n",
    "    for u,v in cycle:\n",
    "        val = cur_G[u][v]['weight']\n",
    "        cycle_ppls[(u,v)] = val\n",
    "\n",
    "    highest_ppl = sorted(cycle_ppls.items(), key = lambda x: x[1], reverse=True)[0][0]\n",
    "    cur_G.remove_edge(*highest_ppl)\n",
    "\n",
    "pbar = tqdm()\n",
    "cycles = []\n",
    "while True:\n",
    "    try:\n",
    "        cycle = nx.find_cycle(G_pred)\n",
    "        if len(cycle) > 2:\n",
    "            cycles.append(cycle)\n",
    "\n",
    "        resolve_cycle(G_pred, cycle)\n",
    "    except nx.NetworkXNoCycle:\n",
    "        break\n",
    "\n",
    "P = len(set(G.edges()) & set(G_pred.edges())) / (len(set(G_pred.edges())) + 1e-15)\n",
    "R = len(set(G.edges()) & set(G_pred.edges())) / len(set(G.edges()))\n",
    "# print(len(set(edges)))\n",
    "F = (2 * P * R) / (P + R + 1e-15)\n",
    "print(F)\n"
   ]
  },
  {
   "cell_type": "code",
   "execution_count": 28,
   "metadata": {},
   "outputs": [],
   "source": [
    "def simple_triplets_generator(G):\n",
    "    \"\"\"\n",
    "    Generator function that returns triplets with condition: middle node has only one child\n",
    "    \"\"\"\n",
    "    for node, degree in G.out_degree():\n",
    "        if (\n",
    "            degree >= 1\n",
    "        ):\n",
    "            for child in G.successors(node):\n",
    "                yield (node, child, list(G.successors(child))[0])\n",
    "\n",
    "all_triplets = []\n",
    "\n",
    "for cycle in cycles:\n",
    "    temp_G = nx.DiGraph()\n",
    "    for u, v in cycle:\n",
    "        temp_G.add_node(u)\n",
    "        temp_G.add_node(v)\n",
    "        temp_G.add_edge(u, v)\n",
    "    \n",
    "    gen = simple_triplets_generator(temp_G)\n",
    "    for triplet in gen:\n",
    "        all_triplets.append(triplet)"
   ]
  },
  {
   "cell_type": "code",
   "execution_count": 29,
   "metadata": {},
   "outputs": [
    {
     "data": {
      "text/plain": [
       "1741"
      ]
     },
     "execution_count": 29,
     "metadata": {},
     "output_type": "execute_result"
    }
   ],
   "source": [
    "len(set(all_triplets))"
   ]
  },
  {
   "cell_type": "code",
   "execution_count": 30,
   "metadata": {},
   "outputs": [],
   "source": [
    "out_name = '../triplets_env/lemmas_c_triplets.pickle'\n",
    "with open(out_name, 'wb') as f:\n",
    "    pickle.dump(list(set(all_triplets)), f)"
   ]
  },
  {
   "cell_type": "code",
   "execution_count": null,
   "metadata": {},
   "outputs": [],
   "source": []
  }
 ],
 "metadata": {
  "kernelspec": {
   "display_name": "Python 3",
   "language": "python",
   "name": "python3"
  },
  "language_info": {
   "codemirror_mode": {
    "name": "ipython",
    "version": 3
   },
   "file_extension": ".py",
   "mimetype": "text/x-python",
   "name": "python",
   "nbconvert_exporter": "python",
   "pygments_lexer": "ipython3",
   "version": "3.10.12"
  }
 },
 "nbformat": 4,
 "nbformat_minor": 2
}
