{
 "cells": [
  {
   "cell_type": "code",
   "execution_count": 43,
   "metadata": {},
   "outputs": [],
   "source": [
    "import networkx as nx\n",
    "import numpy as np\n",
    "import pickle \n",
    "from tqdm import tqdm "
   ]
  },
  {
   "cell_type": "code",
   "execution_count": 29,
   "metadata": {},
   "outputs": [],
   "source": [
    "data = 'environment'\n",
    "path = \"../gs_taxo/EN/\" + str(data) + \"_eurovoc_en.taxo\"\n",
    "G = nx.DiGraph()\n",
    "\n",
    "with open(path, \"r\") as f:\n",
    "    for line in f:\n",
    "        idx, hypo, hyper = line.split(\"\\t\")\n",
    "        hyper = hyper.replace(\"\\n\", \"\")\n",
    "        G.add_node(hypo)\n",
    "        G.add_node(hyper)\n",
    "        G.add_edge(hyper, hypo)\n",
    "\n",
    "root = data\n",
    "all_verteces = list(G.nodes)\n",
    "all_verteces.remove(root)"
   ]
  },
  {
   "cell_type": "code",
   "execution_count": 40,
   "metadata": {},
   "outputs": [],
   "source": [
    "def clean_dict(pairs, use_lemma, reverse):\n",
    "    new_pairs = {}\n",
    "    for key, val in pairs.items():\n",
    "        if use_lemma:\n",
    "            term = key[0].split(\"(\")[0].strip()\n",
    "        else:\n",
    "            term = key[0]\n",
    "        target = key[1].split(\",\")[0]\n",
    "        new_key = (target, term) if reverse else (term, target)\n",
    "        new_pairs[new_key] = val\n",
    "\n",
    "    return new_pairs\n",
    "\n",
    "in_name = '../data/env/eurovoc/pred_hypernym/lemmas_ppl_clear.pickle'\n",
    "lemma = True\n",
    "reverse = True\n",
    "with open(in_name, \"rb\") as f:\n",
    "    ppls = pickle.load(f)\n",
    "\n",
    "ppls_pairs = clean_dict(ppls, use_lemma=lemma, reverse=reverse)\n",
    "\n",
    "in_name = '../data/env/eurovoc/leaf_no_leafs/lemmas_ppl_clear.pickle'\n",
    "lemma = True\n",
    "reverse = False\n",
    "with open(in_name, \"rb\") as f:\n",
    "    ppls = pickle.load(f)\n",
    "\n",
    "ppls_hypo = clean_dict(ppls, use_lemma=lemma, reverse=reverse)"
   ]
  },
  {
   "cell_type": "code",
   "execution_count": 41,
   "metadata": {},
   "outputs": [],
   "source": [
    "def get_graph(G, ppl_pairs):\n",
    "    nodes = list(G.nodes())\n",
    "    S = nx.DiGraph()\n",
    "    for node in nodes:\n",
    "        candidates = {}\n",
    "        for key, val in ppl_pairs.items():\n",
    "            u, v = key\n",
    "            if v == node:\n",
    "                candidates[u] = val\n",
    "\n",
    "        best_node, best_val = min(candidates.items(), key=lambda x: x[1])\n",
    "        S.add_edge(best_node, node, weight=best_val)\n",
    "    return S\n",
    "\n",
    "def conflict_refinment_ppl(G_pred, ppls_hypo, ppls_pairs, conflict_thr):\n",
    "    edges = list(G_pred.edges())\n",
    "    for u, v in edges:\n",
    "        diff = abs(ppls_pairs[(u, v)] - ppls_hypo[(u, v)])\n",
    "\n",
    "        if diff > conflict_thr:\n",
    "            # print(diff)\n",
    "            G_pred.remove_edge(u, v)\n",
    "\n",
    "def filter_by_child(G_pred, ppls_hypo, thr):\n",
    "    edges = list(G_pred.edges())\n",
    "    for u, v in edges:\n",
    "        if ppls_hypo[(u,v)] < thr:\n",
    "            G_pred.remove_edge(u,v)\n",
    "            "
   ]
  },
  {
   "cell_type": "code",
   "execution_count": 44,
   "metadata": {},
   "outputs": [
    {
     "name": "stderr",
     "output_type": "stream",
     "text": [
      "  0%|          | 0/149 [00:00<?, ?it/s]"
     ]
    },
    {
     "name": "stderr",
     "output_type": "stream",
     "text": [
      "100%|██████████| 149/149 [02:59<00:00,  1.21s/it]\n"
     ]
    },
    {
     "ename": "TypeError",
     "evalue": "'float' object is not iterable",
     "output_type": "error",
     "traceback": [
      "\u001b[0;31m---------------------------------------------------------------------------\u001b[0m",
      "\u001b[0;31mTypeError\u001b[0m                                 Traceback (most recent call last)",
      "\u001b[1;32m/home/LLM_Taxonomy/TExEval-2_testdata_1.2/notebooks/1parent.ipynb Cell 5\u001b[0m line \u001b[0;36m1\n\u001b[1;32m     <a href='vscode-notebook-cell://attached-container%2B7b22636f6e7461696e65724e616d65223a222f76765f7461786f6e6f6d79227d@ssh-remote%2Bmidas.skoltech.ru/home/LLM_Taxonomy/TExEval-2_testdata_1.2/notebooks/1parent.ipynb#X16sdnNjb2RlLXJlbW90ZQ%3D%3D?line=11'>12</a>\u001b[0m     F \u001b[39m=\u001b[39m (\u001b[39m2\u001b[39m \u001b[39m*\u001b[39m P \u001b[39m*\u001b[39m R) \u001b[39m/\u001b[39m (P \u001b[39m+\u001b[39m R \u001b[39m+\u001b[39m \u001b[39m1e-15\u001b[39m)\n\u001b[1;32m     <a href='vscode-notebook-cell://attached-container%2B7b22636f6e7461696e65724e616d65223a222f76765f7461786f6e6f6d79227d@ssh-remote%2Bmidas.skoltech.ru/home/LLM_Taxonomy/TExEval-2_testdata_1.2/notebooks/1parent.ipynb#X16sdnNjb2RlLXJlbW90ZQ%3D%3D?line=13'>14</a>\u001b[0m     Fs\u001b[39m.\u001b[39mappend(F)\n\u001b[0;32m---> <a href='vscode-notebook-cell://attached-container%2B7b22636f6e7461696e65724e616d65223a222f76765f7461786f6e6f6d79227d@ssh-remote%2Bmidas.skoltech.ru/home/LLM_Taxonomy/TExEval-2_testdata_1.2/notebooks/1parent.ipynb#X16sdnNjb2RlLXJlbW90ZQ%3D%3D?line=16'>17</a>\u001b[0m \u001b[39mprint\u001b[39m(\u001b[39mmax\u001b[39;49m(F))\n",
      "\u001b[0;31mTypeError\u001b[0m: 'float' object is not iterable"
     ]
    }
   ],
   "source": [
    "\n",
    "Fs = []\n",
    "thrs = np.arange(1, 150, 1)\n",
    "\n",
    "for thr in tqdm(thrs):\n",
    "    G_pred = get_graph(G, ppls_pairs)\n",
    "    conflict_refinment_ppl(G_pred, ppls_hypo, ppls_pairs, thr)\n",
    "\n",
    "    P = len(set(G.edges()) & set(G_pred.edges())) / (\n",
    "    len(set(G_pred.edges())) + 1e-15\n",
    "    )\n",
    "    R = len(set(G.edges()) & set(G_pred.edges())) / len(set(G.edges()))\n",
    "    F = (2 * P * R) / (P + R + 1e-15)\n",
    "\n",
    "    Fs.append(F)\n",
    "\n",
    "\n",
    "print(max(Fs))"
   ]
  },
  {
   "cell_type": "code",
   "execution_count": 45,
   "metadata": {},
   "outputs": [
    {
     "name": "stdout",
     "output_type": "stream",
     "text": [
      "0.4225941422594137\n"
     ]
    }
   ],
   "source": [
    "print(max(Fs))"
   ]
  },
  {
   "cell_type": "code",
   "execution_count": 46,
   "metadata": {},
   "outputs": [
    {
     "name": "stderr",
     "output_type": "stream",
     "text": [
      "  1%|▏         | 2/149 [00:03<04:28,  1.82s/it]\n"
     ]
    },
    {
     "ename": "RuntimeError",
     "evalue": "dictionary changed size during iteration",
     "output_type": "error",
     "traceback": [
      "\u001b[0;31m---------------------------------------------------------------------------\u001b[0m",
      "\u001b[0;31mRuntimeError\u001b[0m                              Traceback (most recent call last)",
      "\u001b[1;32m/home/LLM_Taxonomy/TExEval-2_testdata_1.2/notebooks/1parent.ipynb Cell 7\u001b[0m line \u001b[0;36m6\n\u001b[1;32m      <a href='vscode-notebook-cell://attached-container%2B7b22636f6e7461696e65724e616d65223a222f76765f7461786f6e6f6d79227d@ssh-remote%2Bmidas.skoltech.ru/home/LLM_Taxonomy/TExEval-2_testdata_1.2/notebooks/1parent.ipynb#X20sdnNjb2RlLXJlbW90ZQ%3D%3D?line=3'>4</a>\u001b[0m \u001b[39mfor\u001b[39;00m thr \u001b[39min\u001b[39;00m tqdm(thrs):\n\u001b[1;32m      <a href='vscode-notebook-cell://attached-container%2B7b22636f6e7461696e65724e616d65223a222f76765f7461786f6e6f6d79227d@ssh-remote%2Bmidas.skoltech.ru/home/LLM_Taxonomy/TExEval-2_testdata_1.2/notebooks/1parent.ipynb#X20sdnNjb2RlLXJlbW90ZQ%3D%3D?line=4'>5</a>\u001b[0m     G_pred \u001b[39m=\u001b[39m get_graph(G, ppls_pairs)\n\u001b[0;32m----> <a href='vscode-notebook-cell://attached-container%2B7b22636f6e7461696e65724e616d65223a222f76765f7461786f6e6f6d79227d@ssh-remote%2Bmidas.skoltech.ru/home/LLM_Taxonomy/TExEval-2_testdata_1.2/notebooks/1parent.ipynb#X20sdnNjb2RlLXJlbW90ZQ%3D%3D?line=5'>6</a>\u001b[0m     filter_by_child(G_pred, ppls_hypo, thr)\n\u001b[1;32m      <a href='vscode-notebook-cell://attached-container%2B7b22636f6e7461696e65724e616d65223a222f76765f7461786f6e6f6d79227d@ssh-remote%2Bmidas.skoltech.ru/home/LLM_Taxonomy/TExEval-2_testdata_1.2/notebooks/1parent.ipynb#X20sdnNjb2RlLXJlbW90ZQ%3D%3D?line=7'>8</a>\u001b[0m     P \u001b[39m=\u001b[39m \u001b[39mlen\u001b[39m(\u001b[39mset\u001b[39m(G\u001b[39m.\u001b[39medges()) \u001b[39m&\u001b[39m \u001b[39mset\u001b[39m(G_pred\u001b[39m.\u001b[39medges())) \u001b[39m/\u001b[39m (\n\u001b[1;32m      <a href='vscode-notebook-cell://attached-container%2B7b22636f6e7461696e65724e616d65223a222f76765f7461786f6e6f6d79227d@ssh-remote%2Bmidas.skoltech.ru/home/LLM_Taxonomy/TExEval-2_testdata_1.2/notebooks/1parent.ipynb#X20sdnNjb2RlLXJlbW90ZQ%3D%3D?line=8'>9</a>\u001b[0m     \u001b[39mlen\u001b[39m(\u001b[39mset\u001b[39m(G_pred\u001b[39m.\u001b[39medges())) \u001b[39m+\u001b[39m \u001b[39m1e-15\u001b[39m\n\u001b[1;32m     <a href='vscode-notebook-cell://attached-container%2B7b22636f6e7461696e65724e616d65223a222f76765f7461786f6e6f6d79227d@ssh-remote%2Bmidas.skoltech.ru/home/LLM_Taxonomy/TExEval-2_testdata_1.2/notebooks/1parent.ipynb#X20sdnNjb2RlLXJlbW90ZQ%3D%3D?line=9'>10</a>\u001b[0m     )\n\u001b[1;32m     <a href='vscode-notebook-cell://attached-container%2B7b22636f6e7461696e65724e616d65223a222f76765f7461786f6e6f6d79227d@ssh-remote%2Bmidas.skoltech.ru/home/LLM_Taxonomy/TExEval-2_testdata_1.2/notebooks/1parent.ipynb#X20sdnNjb2RlLXJlbW90ZQ%3D%3D?line=10'>11</a>\u001b[0m     R \u001b[39m=\u001b[39m \u001b[39mlen\u001b[39m(\u001b[39mset\u001b[39m(G\u001b[39m.\u001b[39medges()) \u001b[39m&\u001b[39m \u001b[39mset\u001b[39m(G_pred\u001b[39m.\u001b[39medges())) \u001b[39m/\u001b[39m \u001b[39mlen\u001b[39m(\u001b[39mset\u001b[39m(G\u001b[39m.\u001b[39medges()))\n",
      "\u001b[1;32m/home/LLM_Taxonomy/TExEval-2_testdata_1.2/notebooks/1parent.ipynb Cell 7\u001b[0m line \u001b[0;36m2\n\u001b[1;32m     <a href='vscode-notebook-cell://attached-container%2B7b22636f6e7461696e65724e616d65223a222f76765f7461786f6e6f6d79227d@ssh-remote%2Bmidas.skoltech.ru/home/LLM_Taxonomy/TExEval-2_testdata_1.2/notebooks/1parent.ipynb#X20sdnNjb2RlLXJlbW90ZQ%3D%3D?line=23'>24</a>\u001b[0m \u001b[39mdef\u001b[39;00m \u001b[39mfilter_by_child\u001b[39m(G_pred, ppls_hypo, thr):\n\u001b[1;32m     <a href='vscode-notebook-cell://attached-container%2B7b22636f6e7461696e65724e616d65223a222f76765f7461786f6e6f6d79227d@ssh-remote%2Bmidas.skoltech.ru/home/LLM_Taxonomy/TExEval-2_testdata_1.2/notebooks/1parent.ipynb#X20sdnNjb2RlLXJlbW90ZQ%3D%3D?line=24'>25</a>\u001b[0m     edges \u001b[39m=\u001b[39m G_pred\u001b[39m.\u001b[39medges()\n\u001b[0;32m---> <a href='vscode-notebook-cell://attached-container%2B7b22636f6e7461696e65724e616d65223a222f76765f7461786f6e6f6d79227d@ssh-remote%2Bmidas.skoltech.ru/home/LLM_Taxonomy/TExEval-2_testdata_1.2/notebooks/1parent.ipynb#X20sdnNjb2RlLXJlbW90ZQ%3D%3D?line=25'>26</a>\u001b[0m     \u001b[39mfor\u001b[39;00m u, v \u001b[39min\u001b[39;00m edges:\n\u001b[1;32m     <a href='vscode-notebook-cell://attached-container%2B7b22636f6e7461696e65724e616d65223a222f76765f7461786f6e6f6d79227d@ssh-remote%2Bmidas.skoltech.ru/home/LLM_Taxonomy/TExEval-2_testdata_1.2/notebooks/1parent.ipynb#X20sdnNjb2RlLXJlbW90ZQ%3D%3D?line=26'>27</a>\u001b[0m         \u001b[39mif\u001b[39;00m ppls_hypo[(u,v)] \u001b[39m<\u001b[39m thr:\n\u001b[1;32m     <a href='vscode-notebook-cell://attached-container%2B7b22636f6e7461696e65724e616d65223a222f76765f7461786f6e6f6d79227d@ssh-remote%2Bmidas.skoltech.ru/home/LLM_Taxonomy/TExEval-2_testdata_1.2/notebooks/1parent.ipynb#X20sdnNjb2RlLXJlbW90ZQ%3D%3D?line=27'>28</a>\u001b[0m             G_pred\u001b[39m.\u001b[39mremove_edge(u,v)\n",
      "File \u001b[0;32m/usr/local/lib/python3.10/dist-packages/networkx/classes/reportviews.py:1067\u001b[0m, in \u001b[0;36mOutEdgeView.__iter__\u001b[0;34m(self)\u001b[0m\n\u001b[1;32m   1065\u001b[0m \u001b[39mdef\u001b[39;00m \u001b[39m__iter__\u001b[39m(\u001b[39mself\u001b[39m):\n\u001b[1;32m   1066\u001b[0m     \u001b[39mfor\u001b[39;00m n, nbrs \u001b[39min\u001b[39;00m \u001b[39mself\u001b[39m\u001b[39m.\u001b[39m_nodes_nbrs():\n\u001b[0;32m-> 1067\u001b[0m         \u001b[39mfor\u001b[39;00m nbr \u001b[39min\u001b[39;00m nbrs:\n\u001b[1;32m   1068\u001b[0m             \u001b[39myield\u001b[39;00m (n, nbr)\n",
      "\u001b[0;31mRuntimeError\u001b[0m: dictionary changed size during iteration"
     ]
    }
   ],
   "source": [
    "Fs = []\n",
    "thrs = np.arange(1, 150, 1)\n",
    "\n",
    "for thr in tqdm(thrs):\n",
    "    G_pred = get_graph(G, ppls_pairs)\n",
    "    filter_by_child(G_pred, ppls_hypo, thr)\n",
    "\n",
    "    P = len(set(G.edges()) & set(G_pred.edges())) / (\n",
    "    len(set(G_pred.edges())) + 1e-15\n",
    "    )\n",
    "    R = len(set(G.edges()) & set(G_pred.edges())) / len(set(G.edges()))\n",
    "    F = (2 * P * R) / (P + R + 1e-15)\n",
    "\n",
    "    Fs.append(F)\n",
    "\n",
    "\n",
    "print(max(Fs))"
   ]
  },
  {
   "cell_type": "code",
   "execution_count": 20,
   "metadata": {},
   "outputs": [
    {
     "data": {
      "text/plain": [
       "261"
      ]
     },
     "execution_count": 20,
     "metadata": {},
     "output_type": "execute_result"
    }
   ],
   "source": [
    "len(set(G.edges()))"
   ]
  },
  {
   "cell_type": "code",
   "execution_count": null,
   "metadata": {},
   "outputs": [],
   "source": []
  }
 ],
 "metadata": {
  "kernelspec": {
   "display_name": "Python 3",
   "language": "python",
   "name": "python3"
  },
  "language_info": {
   "codemirror_mode": {
    "name": "ipython",
    "version": 3
   },
   "file_extension": ".py",
   "mimetype": "text/x-python",
   "name": "python",
   "nbconvert_exporter": "python",
   "pygments_lexer": "ipython3",
   "version": "3.10.12"
  }
 },
 "nbformat": 4,
 "nbformat_minor": 2
}
