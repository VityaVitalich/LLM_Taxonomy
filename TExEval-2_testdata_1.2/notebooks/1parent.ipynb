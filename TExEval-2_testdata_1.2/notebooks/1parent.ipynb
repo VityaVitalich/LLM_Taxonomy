{
 "cells": [
  {
   "cell_type": "code",
   "execution_count": 8,
   "metadata": {},
   "outputs": [],
   "source": [
    "import networkx as nx\n",
    "import numpy as np\n",
    "import pickle \n"
   ]
  },
  {
   "cell_type": "code",
   "execution_count": 6,
   "metadata": {},
   "outputs": [],
   "source": [
    "data = 'environment'\n",
    "path = \"../gs_taxo/EN/\" + str(data) + \"_eurovoc_en.taxo\"\n",
    "G = nx.DiGraph()\n",
    "\n",
    "with open(path, \"r\") as f:\n",
    "    for line in f:\n",
    "        idx, hypo, hyper = line.split(\"\\t\")\n",
    "        hyper = hyper.replace(\"\\n\", \"\")\n",
    "        G.add_node(hypo)\n",
    "        G.add_node(hyper)\n",
    "        G.add_edge(hyper, hypo)\n",
    "\n",
    "root = data\n",
    "all_verteces = list(G.nodes)\n",
    "all_verteces.remove(root)"
   ]
  },
  {
   "cell_type": "code",
   "execution_count": 9,
   "metadata": {},
   "outputs": [],
   "source": [
    "def clean_dict(pairs, use_lemma, reverse):\n",
    "    new_pairs = {}\n",
    "    for key, val in pairs.items():\n",
    "        if use_lemma:\n",
    "            term = key[0].split(\"(\")[0].strip()\n",
    "        else:\n",
    "            term = key[0]\n",
    "        target = key[1].split(\",\")[0]\n",
    "        new_key = (target, term) if reverse else (term, target)\n",
    "        new_pairs[new_key] = val\n",
    "\n",
    "    return new_pairs\n",
    "\n",
    "in_name = '../data/env/eurovoc/pred_hypernym/lemmas_ppl_clear.pickle'\n",
    "lemma = True\n",
    "reverse = True\n",
    "with open(in_name, \"rb\") as f:\n",
    "    ppls = pickle.load(f)\n",
    "\n",
    "ppls_pairs = clean_dict(ppls, use_lemma=lemma, reverse=reverse)"
   ]
  },
  {
   "cell_type": "code",
   "execution_count": 25,
   "metadata": {},
   "outputs": [],
   "source": [
    "def get_graph(G, ppl_pairs):\n",
    "    nodes = list(G.nodes())\n",
    "    S = nx.DiGraph()\n",
    "    for node in nodes:\n",
    "        candidates = {}\n",
    "        for key, val in ppl_pairs.items():\n",
    "            u, v = key\n",
    "            if u == node:\n",
    "                candidates[v] = val\n",
    "\n",
    "        best_node, best_val = min(candidates.items(), key=lambda x: x[1])\n",
    "        S.add_edge(node, best_node, weight=best_val)\n",
    "    return S"
   ]
  },
  {
   "cell_type": "code",
   "execution_count": 26,
   "metadata": {},
   "outputs": [],
   "source": [
    "G_pred = get_graph(G, ppls_pairs)"
   ]
  },
  {
   "cell_type": "code",
   "execution_count": 27,
   "metadata": {},
   "outputs": [
    {
     "name": "stdout",
     "output_type": "stream",
     "text": [
      "0.12643678160919541 0.12643678160919541 0.12643678160919491\n"
     ]
    }
   ],
   "source": [
    "P = len(set(G.edges()) & set(G_pred.edges())) / (\n",
    "    len(set(G_pred.edges())) + 1e-15\n",
    ")\n",
    "R = len(set(G.edges()) & set(G_pred.edges())) / len(set(G.edges()))\n",
    "F = (2 * P * R) / (P + R + 1e-15)\n",
    "\n",
    "print(P, R, F)"
   ]
  },
  {
   "cell_type": "code",
   "execution_count": 20,
   "metadata": {},
   "outputs": [
    {
     "data": {
      "text/plain": [
       "261"
      ]
     },
     "execution_count": 20,
     "metadata": {},
     "output_type": "execute_result"
    }
   ],
   "source": [
    "len(set(G.edges()))"
   ]
  },
  {
   "cell_type": "code",
   "execution_count": null,
   "metadata": {},
   "outputs": [],
   "source": []
  }
 ],
 "metadata": {
  "kernelspec": {
   "display_name": "Python 3",
   "language": "python",
   "name": "python3"
  },
  "language_info": {
   "codemirror_mode": {
    "name": "ipython",
    "version": 3
   },
   "file_extension": ".py",
   "mimetype": "text/x-python",
   "name": "python",
   "nbconvert_exporter": "python",
   "pygments_lexer": "ipython3",
   "version": "3.10.12"
  }
 },
 "nbformat": 4,
 "nbformat_minor": 2
}
