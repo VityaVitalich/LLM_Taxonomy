{
 "cells": [
  {
   "cell_type": "code",
   "execution_count": 1,
   "metadata": {},
   "outputs": [],
   "source": [
    "import networkx as nx\n",
    "import itertools\n",
    "from tqdm import tqdm\n",
    "import pickle"
   ]
  },
  {
   "cell_type": "code",
   "execution_count": 2,
   "metadata": {},
   "outputs": [],
   "source": [
    "path = '../gs_taxo/EN/environment_eurovoc_en.taxo'\n",
    "G = nx.DiGraph()\n",
    "\n",
    "with open(path, 'r') as f:\n",
    "    for line in f:\n",
    "        idx, hypo, hyper = line.split('\\t')\n",
    "        hyper = hyper.replace('\\n', '')\n",
    "        G.add_node(hypo)\n",
    "        G.add_node(hyper)\n",
    "        G.add_edge(hyper, hypo)"
   ]
  },
  {
   "cell_type": "code",
   "execution_count": 3,
   "metadata": {},
   "outputs": [],
   "source": [
    "def clean_dict(pairs, use_lemma, reverse):\n",
    "    new_pairs = {}\n",
    "    for key, val in pairs.items():\n",
    "        if use_lemma:\n",
    "            term = key[0].split(\"(\")[0].strip()\n",
    "        else:\n",
    "            term = key[0]\n",
    "        target = key[1].split(\",\")[0]\n",
    "        new_key = (target, term) if reverse else (term, target)\n",
    "        new_pairs[new_key] = val\n",
    "\n",
    "    return new_pairs\n",
    "\n",
    "\n",
    "in_name = '../data/env/eurovoc/pred_hypernym/lemmas_ppl_clear.pickle'\n",
    "lemma = True\n",
    "reverse = True\n",
    "\n",
    "with open(in_name, \"rb\") as f:\n",
    "    ppls = pickle.load(f)\n",
    "\n",
    "ppls_pairs = clean_dict(ppls, use_lemma=lemma, reverse=reverse)\n",
    "\n",
    "root = 'environment'\n",
    "all_verteces = list(G.nodes)\n",
    "all_verteces.remove(root)"
   ]
  },
  {
   "cell_type": "code",
   "execution_count": 41,
   "metadata": {},
   "outputs": [
    {
     "name": "stdout",
     "output_type": "stream",
     "text": [
      "0.2822222222222219\n"
     ]
    }
   ],
   "source": [
    "def get_graph(ppl_pairs, thr):\n",
    "    S = nx.DiGraph()\n",
    "    for key, val in ppl_pairs.items():\n",
    "        if val <thr:\n",
    "            S.add_edge(key[0], key[1], weight=val)\n",
    "    return S\n",
    "        \n",
    "\n",
    "G_pred = get_graph(ppls_pairs, 4)\n",
    "\n",
    "P = len(set(G.edges()) & set(G_pred.edges())) / (len(set(G_pred.edges())) + 1e-15)\n",
    "R = len(set(G.edges()) & set(G_pred.edges())) / len(set(G.edges()))\n",
    "# print(len(set(edges)))\n",
    "F = (2 * P * R) / (P + R + 1e-15)\n",
    "print(F)"
   ]
  },
  {
   "cell_type": "code",
   "execution_count": 33,
   "metadata": {},
   "outputs": [],
   "source": [
    "def clean_triplets_conflicts(triplets):\n",
    "    new_triplets = {}\n",
    "\n",
    "    for k, v in triplets.items():\n",
    "        first_parent, second_parent = k[0].split('_')\n",
    "\n",
    "        new_key = (first_parent, second_parent)\n",
    "        if new_key in new_triplets.keys():\n",
    "            new_triplets[new_key][k[1][:-1]] = v\n",
    "        else:\n",
    "            new_triplets[new_key] = {k[1][:-1]: v}\n",
    "\n",
    "    return new_triplets\n",
    "\n",
    "\n",
    "insertions_path = '../data/env/eurovoc/insertions/lemmas_ppl.pickle'\n",
    "with open(insertions_path, 'rb') as f:\n",
    "    insertions = pickle.load(f)\n",
    "\n",
    "new_ins = clean_triplets_conflicts(insertions)"
   ]
  },
  {
   "cell_type": "code",
   "execution_count": 37,
   "metadata": {},
   "outputs": [
    {
     "data": {
      "text/plain": [
       "('pollution', 1.3301483392715454)"
      ]
     },
     "execution_count": 37,
     "metadata": {},
     "output_type": "execute_result"
    }
   ],
   "source": [
    "min(new_ins[('hazardous waste',  'pollution of waterways')].items(), key=lambda x: x[1])"
   ]
  },
  {
   "cell_type": "code",
   "execution_count": 6,
   "metadata": {},
   "outputs": [],
   "source": [
    "in_name = '../data/env/eurovoc/leaf_no_leafs/lemmas_ppl_clear.pickle'\n",
    "lemma = True\n",
    "reverse = False\n",
    "\n",
    "with open(in_name, \"rb\") as f:\n",
    "    ppls = pickle.load(f)\n",
    "\n",
    "ppls_hypo = clean_dict(ppls, use_lemma=lemma, reverse=reverse)"
   ]
  },
  {
   "cell_type": "code",
   "execution_count": 39,
   "metadata": {},
   "outputs": [],
   "source": [
    "\n",
    "def conflict_refinment_ppl(G_pred, ppls_hypo, ppls_pairs, conflict_thr):\n",
    "    edges = list(G_pred.edges())    \n",
    "    for u,v in edges:\n",
    "\n",
    "        diff = abs(ppls_pairs[(u,v)] - ppls_hypo[(u,v)])\n",
    "pred_hypernym\n",
    "        if diff > conflict_thr:\n",
    "           # print(diff)\n",
    "            G_pred.remove_edge(u,v)\n",
    "\n",
    "def conflict_refinment_insertion(G_pred,  ppls_hypo, ppls_pairs, conflict_thr, insertions, insert_thr):\n",
    "    edges = list(G_pred.edges())    \n",
    "    for u,v in edges:\n",
    "\n",
    "        diff = abs(ppls_pairs[(u,v)] - ppls_hypo[(u,v)])\n",
    "\n",
    "        if diff > conflict_thr:\n",
    "            best_middle_node, best_ppl = min(insertions[(u, v)].items(), key=lambda x: x[1])\n",
    "            if best_ppl < insert_thr:\n",
    "                G_pred.add_edge(u, best_middle_node)\n",
    "                G_pred.add_edge(best_middle_node, v)\n",
    "\n",
    "    \n"
   ]
  },
  {
   "cell_type": "code",
   "execution_count": 46,
   "metadata": {},
   "outputs": [
    {
     "data": {
      "text/plain": [
       "array([ 1.        ,  2.38461538,  3.76923077,  5.15384615,  6.53846154,\n",
       "        7.92307692,  9.30769231, 10.69230769, 12.07692308, 13.46153846,\n",
       "       14.84615385, 16.23076923, 17.61538462, 19.        , 20.38461538,\n",
       "       21.76923077, 23.15384615, 24.53846154, 25.92307692, 27.30769231,\n",
       "       28.69230769, 30.07692308, 31.46153846, 32.84615385, 34.23076923,\n",
       "       35.61538462, 37.        , 38.38461538, 39.76923077, 41.15384615,\n",
       "       42.53846154, 43.92307692, 45.30769231, 46.69230769, 48.07692308,\n",
       "       49.46153846, 50.84615385, 52.23076923, 53.61538462, 55.        ])"
      ]
     },
     "execution_count": 46,
     "metadata": {},
     "output_type": "execute_result"
    }
   ],
   "source": [
    "import numpy as np\n",
    "\n",
    "np.linspace(1, 55, 40)"
   ]
  },
  {
   "cell_type": "code",
   "execution_count": 42,
   "metadata": {},
   "outputs": [
    {
     "name": "stdout",
     "output_type": "stream",
     "text": [
      "0.2782037239868561\n"
     ]
    }
   ],
   "source": [
    "conflict_refinment_insertion(G_pred, ppls_hypo=ppls_hypo, ppls_pairs=ppls_pairs, conflict_thr=20, insertions=new_ins, insert_thr=2)\n",
    "\n",
    "P = len(set(G.edges()) & set(G_pred.edges())) / (len(set(G_pred.edges())) + 1e-15)\n",
    "R = len(set(G.edges()) & set(G_pred.edges())) / len(set(G.edges()))\n",
    "# print(len(set(edges)))\n",
    "F = (2 * P * R) / (P + R + 1e-15)\n",
    "print(F)"
   ]
  },
  {
   "cell_type": "code",
   "execution_count": null,
   "metadata": {},
   "outputs": [],
   "source": []
  }
 ],
 "metadata": {
  "kernelspec": {
   "display_name": "Python 3",
   "language": "python",
   "name": "python3"
  },
  "language_info": {
   "codemirror_mode": {
    "name": "ipython",
    "version": 3
   },
   "file_extension": ".py",
   "mimetype": "text/x-python",
   "name": "python",
   "nbconvert_exporter": "python",
   "pygments_lexer": "ipython3",
   "version": "3.10.12"
  }
 },
 "nbformat": 4,
 "nbformat_minor": 2
}
