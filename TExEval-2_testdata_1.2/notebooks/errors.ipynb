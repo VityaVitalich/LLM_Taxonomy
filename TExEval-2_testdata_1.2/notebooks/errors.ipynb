{
 "cells": [
  {
   "cell_type": "code",
   "execution_count": 58,
   "metadata": {},
   "outputs": [],
   "source": [
    "import pickle\n",
    "import networkx as nx\n",
    "import pandas as pd\n",
    "from tqdm import tqdm\n",
    "from sklearn.metrics import f1_score\n",
    "from sklearn import preprocessing\n",
    "from sklearn.metrics import roc_auc_score, average_precision_score, precision_score, recall_score\n",
    "import pandas as pd\n",
    "from sklearn.linear_model import LogisticRegression\n",
    "import numpy as np\n",
    "import sys\n",
    "\n",
    "sys.path.append('../')\n",
    "from cycle_refinment import resolve_graph_cycles\n",
    "from multiparent_refinment import resolve_multiple_parents\n",
    "from conflict_refinment import refine_conflict"
   ]
  },
  {
   "cell_type": "code",
   "execution_count": 161,
   "metadata": {},
   "outputs": [],
   "source": [
    "def clean_dict(pairs, use_lemma, reverse):\n",
    "    new_pairs = {}\n",
    "    for key, val in pairs.items():\n",
    "        if use_lemma:\n",
    "            term = key[0].split(\"(\")[0].strip()\n",
    "        else:\n",
    "            term = key[0]\n",
    "        target = key[1].split(\",\")[0]\n",
    "        new_key = (target, term) if reverse else (term, target)\n",
    "        new_pairs[new_key] = val\n",
    "\n",
    "    return new_pairs\n",
    "\n",
    "\n",
    "data = 'science'\n",
    "in_name = '/home/LLM_Taxonomy/TExEval-2_testdata_1.2/data/sci/pred_hypernym/unified_lemmas_ppl.pickle'\n",
    "\n",
    "# sci env\n",
    "path = \"../gs_taxo/EN/\" + str(data) + \"_eurovoc_en.taxo\"\n",
    "# food\n",
    "#path = \"../gs_taxo/EN/\" + str(data) + \"_wordnet_en.taxo\"\n",
    "G = nx.DiGraph()\n",
    "\n",
    "with open(path, \"r\") as f:\n",
    "    for line in f:\n",
    "        idx, hypo, hyper = line.split(\"\\t\")\n",
    "        hyper = hyper.replace(\"\\n\", \"\")\n",
    "        G.add_node(hypo)\n",
    "        G.add_node(hyper)\n",
    "        G.add_edge(hyper, hypo)\n",
    "\n",
    "with open(in_name, \"rb\") as f:\n",
    "    ppls = pickle.load(f)\n",
    "\n",
    "ppls_pairs = clean_dict(ppls, use_lemma=True, reverse=True)"
   ]
  },
  {
   "cell_type": "code",
   "execution_count": 162,
   "metadata": {},
   "outputs": [],
   "source": [
    "def get_graph(ppl_pairs, thr):\n",
    "    S = nx.DiGraph()\n",
    "    for key, val in ppl_pairs.items():\n",
    "        if val < thr:\n",
    "            S.add_edge(key[0], key[1], weight=val)\n",
    "    return S"
   ]
  },
  {
   "cell_type": "code",
   "execution_count": 169,
   "metadata": {},
   "outputs": [
    {
     "name": "stderr",
     "output_type": "stream",
     "text": [
      "  0%|          | 0/500 [00:00<?, ?it/s]"
     ]
    },
    {
     "name": "stderr",
     "output_type": "stream",
     "text": [
      "100%|██████████| 500/500 [00:03<00:00, 149.55it/s]\n"
     ]
    }
   ],
   "source": [
    "thrs = np.arange(1, 6, 0.01)\n",
    "best = 0\n",
    "best_thr = 0\n",
    "insertions = {}\n",
    "\n",
    "for thr in tqdm(thrs):\n",
    "\n",
    "    G_pred = get_graph(ppls_pairs, thr)\n",
    "\n",
    "    resolve_graph_cycles(G_pred, insertions)\n",
    "    resolve_multiple_parents(\n",
    "        G_pred,\n",
    "        enable_mixing=False,\n",
    "        ppl_compare=1,\n",
    "        helper=1,\n",
    "        mix_thr=1,\n",
    "        n=2,\n",
    "    )\n",
    "    P = len(set(G.edges()) & set(G_pred.edges())) / (\n",
    "                            len(set(G_pred.edges())) + 1e-15\n",
    "    )\n",
    "    R = len(set(G.edges()) & set(G_pred.edges())) / len(set(G.edges()))\n",
    "    F = (2 * P * R) / (P + R + 1e-15)\n",
    "\n",
    "    if F > best:\n",
    "        best = F\n",
    "        best_thr = thr"
   ]
  },
  {
   "cell_type": "code",
   "execution_count": 170,
   "metadata": {},
   "outputs": [
    {
     "data": {
      "text/plain": [
       "(0.44334975369458085, 2.160000000000001)"
      ]
     },
     "execution_count": 170,
     "metadata": {},
     "output_type": "execute_result"
    }
   ],
   "source": [
    "best, best_thr"
   ]
  },
  {
   "cell_type": "code",
   "execution_count": 98,
   "metadata": {},
   "outputs": [],
   "source": [
    "G_pred = get_graph(ppls_pairs, best_thr)\n",
    "P = len(set(G.edges()) & set(G_pred.edges())) / (\n",
    "                        len(set(G_pred.edges())) + 1e-15\n",
    ")\n",
    "R = len(set(G.edges()) & set(G_pred.edges())) / len(set(G.edges()))\n",
    "F = (2 * P * R) / (P + R + 1e-15)"
   ]
  },
  {
   "cell_type": "code",
   "execution_count": 99,
   "metadata": {},
   "outputs": [
    {
     "data": {
      "text/plain": [
       "(0.5459183673469388, 0.4885844748858447, 0.515662650602409)"
      ]
     },
     "execution_count": 99,
     "metadata": {},
     "output_type": "execute_result"
    }
   ],
   "source": [
    "P, R, F"
   ]
  },
  {
   "cell_type": "code",
   "execution_count": 100,
   "metadata": {},
   "outputs": [
    {
     "data": {
      "text/plain": [
       "(1486, 1533)"
      ]
     },
     "execution_count": 100,
     "metadata": {},
     "output_type": "execute_result"
    }
   ],
   "source": [
    " len(G.nodes()), len(G.edges())"
   ]
  },
  {
   "cell_type": "code",
   "execution_count": 101,
   "metadata": {},
   "outputs": [
    {
     "data": {
      "text/plain": [
       "(1132, 1372)"
      ]
     },
     "execution_count": 101,
     "metadata": {},
     "output_type": "execute_result"
    }
   ],
   "source": [
    "len(G_pred.nodes()), len(G_pred.edges())"
   ]
  },
  {
   "cell_type": "code",
   "execution_count": 102,
   "metadata": {},
   "outputs": [
    {
     "data": {
      "text/plain": [
       "51"
      ]
     },
     "execution_count": 102,
     "metadata": {},
     "output_type": "execute_result"
    }
   ],
   "source": [
    "len(list(nx.weakly_connected_components(G_pred)))"
   ]
  },
  {
   "cell_type": "code",
   "execution_count": 103,
   "metadata": {},
   "outputs": [],
   "source": [
    "num_parents_ls = []\n",
    "num_child_ls = []\n",
    "num_no_conn = 0\n",
    "\n",
    "for node in G.nodes():\n",
    "    try:\n",
    "        num_parents = G_pred.in_degree()[node]\n",
    "        num_child = G_pred.out_degree()[node]\n",
    "    except KeyError:\n",
    "        num_parents = num_child = 0\n",
    "\n",
    "    num_parents_ls.append(num_parents)\n",
    "    num_child_ls.append(num_child)\n",
    "    if (num_parents == 0) and (num_child == 0):\n",
    "        num_no_conn += 1"
   ]
  },
  {
   "cell_type": "code",
   "execution_count": 104,
   "metadata": {},
   "outputs": [
    {
     "data": {
      "text/plain": [
       "354"
      ]
     },
     "execution_count": 104,
     "metadata": {},
     "output_type": "execute_result"
    }
   ],
   "source": [
    "num_no_conn"
   ]
  },
  {
   "cell_type": "code",
   "execution_count": 105,
   "metadata": {},
   "outputs": [
    {
     "data": {
      "text/plain": [
       "(0.9232839838492598, 0.9232839838492598)"
      ]
     },
     "execution_count": 105,
     "metadata": {},
     "output_type": "execute_result"
    }
   ],
   "source": [
    "np.array(num_parents_ls).mean(),np.array(num_child_ls).mean()"
   ]
  },
  {
   "cell_type": "code",
   "execution_count": 106,
   "metadata": {},
   "outputs": [
    {
     "data": {
      "text/plain": [
       "<networkx.classes.digraph.DiGraph at 0x7f89700cee30>"
      ]
     },
     "execution_count": 106,
     "metadata": {},
     "output_type": "execute_result"
    }
   ],
   "source": [
    "G"
   ]
  },
  {
   "cell_type": "code",
   "execution_count": 107,
   "metadata": {},
   "outputs": [],
   "source": [
    "paths = []\n",
    "no_parent = 0\n",
    "\n",
    "for node in G_pred.nodes():\n",
    "    real_parents = list(G.predecessors(node))\n",
    "    try:\n",
    "        parent = real_parents[0]\n",
    "    except IndexError:\n",
    "        continue\n",
    "\n",
    "    if not parent in G_pred.nodes():\n",
    "        no_parent += 1\n",
    "        continue\n",
    "\n",
    "    try:\n",
    "        paths.append(nx.shortest_path_length(G_pred, parent, node))\n",
    "    except nx.NetworkXNoPath:\n",
    "        paths.append(-1)"
   ]
  },
  {
   "cell_type": "code",
   "execution_count": 108,
   "metadata": {},
   "outputs": [
    {
     "data": {
      "text/plain": [
       "(308, 1092, 784, 39, 1.0612244897959184)"
      ]
     },
     "execution_count": 108,
     "metadata": {},
     "output_type": "execute_result"
    }
   ],
   "source": [
    "sum(np.array(paths) == -1), len(paths), len(paths) -sum(np.array(paths) == -1) ,  no_parent, np.array(paths)[np.array(paths) != -1].mean()"
   ]
  },
  {
   "cell_type": "code",
   "execution_count": 46,
   "metadata": {},
   "outputs": [
    {
     "data": {
      "text/plain": [
       "4"
      ]
     },
     "execution_count": 46,
     "metadata": {},
     "output_type": "execute_result"
    }
   ],
   "source": []
  },
  {
   "cell_type": "code",
   "execution_count": null,
   "metadata": {},
   "outputs": [],
   "source": []
  }
 ],
 "metadata": {
  "kernelspec": {
   "display_name": "Python 3",
   "language": "python",
   "name": "python3"
  },
  "language_info": {
   "codemirror_mode": {
    "name": "ipython",
    "version": 3
   },
   "file_extension": ".py",
   "mimetype": "text/x-python",
   "name": "python",
   "nbconvert_exporter": "python",
   "pygments_lexer": "ipython3",
   "version": "2.7.0"
  }
 },
 "nbformat": 4,
 "nbformat_minor": 2
}
