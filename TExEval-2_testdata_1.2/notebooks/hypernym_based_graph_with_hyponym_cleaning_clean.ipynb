{
 "cells": [
  {
   "cell_type": "code",
   "execution_count": 2,
   "metadata": {},
   "outputs": [],
   "source": [
    "import pickle\n",
    "import networkx as nx\n",
    "import matplotlib.pyplot as plt\n",
    "import numpy as np"
   ]
  },
  {
   "cell_type": "code",
   "execution_count": 3,
   "metadata": {},
   "outputs": [],
   "source": [
    "def loader(sci_env, lemmas_numbers):\n",
    "\n",
    "    if sci_env == 'sci':\n",
    "        ppl_path = 'sci'\n",
    "        main_path = 'science_eurovoc_en'\n",
    "    else:\n",
    "        ppl_path = 'env/eurovoc'\n",
    "        main_path = 'environment_eurovoc_en'\n",
    "\n",
    "    if lemmas_numbers == 'lemmas':\n",
    "        ln = 'lemmas'\n",
    "    else:\n",
    "        ln = 'numbers'\n",
    "\n",
    "    path = f'../gs_taxo/EN/{main_path}.taxo'\n",
    "    parent_path = f'../data/{ppl_path}/pred_hypernym/{ln}_ppl_clear.pickle'\n",
    "    child_path = f'../data/{ppl_path}/leaf_no_leafs/{ln}_ppl_clear.pickle'\n",
    "\n",
    "    # Гиперонимы\n",
    "    with open(parent_path, 'rb') as f:\n",
    "        parent_sci = pickle.load(f)\n",
    "\n",
    "    parent_sci_dict = dict() # словарик {гипероним: (гипоним, перплексия)}\n",
    "    for it in parent_sci.items():\n",
    "        it_00 = it[0][0].split(' (')[0]\n",
    "        if it_00 in parent_sci_dict.keys():\n",
    "            if parent_sci_dict[it_00][1] > it[1]:\n",
    "                parent_sci_dict[it_00] = (it[0][1].strip(', '), it[1])\n",
    "        else:\n",
    "            parent_sci_dict[it_00] = (it[0][1], it[1])\n",
    "\n",
    "\n",
    "    # Гипонимы\n",
    "    with open(child_path,'rb') as f:\n",
    "        children_sci = pickle.load(f)\n",
    "\n",
    "    clean_ch_sci = dict() # словарик {(гипероним, гипоним): перплексия}\n",
    "    for cs in children_sci.items():\n",
    "        key = (cs[0][0].split(' (')[0], cs[0][1].strip(', '))\n",
    "        clean_ch_sci[key] = cs[1]\n",
    "    children_sci = clean_ch_sci\n",
    "\n",
    "\n",
    "    # Эталонный граф для замерки качества\n",
    "    G = nx.DiGraph()\n",
    "\n",
    "    with open(path, \"r\") as f:\n",
    "        for line in f:\n",
    "            idx, hypo, hyper = line.split(\"\\t\")\n",
    "            hyper = hyper.replace(\"\\n\", \"\")\n",
    "            G.add_node(hypo)\n",
    "            G.add_node(hyper)\n",
    "            G.add_edge(hyper, hypo)\n",
    "\n",
    "    return parent_sci_dict, children_sci, G"
   ]
  },
  {
   "cell_type": "code",
   "execution_count": 4,
   "metadata": {},
   "outputs": [],
   "source": [
    "def build_taxo(parent_sci_dict):\n",
    "    # Создать граф на гиперонимах:\n",
    "    # каждую вершину крепим к наиболее вероятному родителю\n",
    "    edges = []\n",
    "\n",
    "    for it in parent_sci_dict.items():\n",
    "        edges.append((it[1][0].strip(', '), it[0]))\n",
    "    \n",
    "    return edges\n",
    "\n",
    "def taxo_cleaner(es, child_ppl, m):\n",
    "    # Добавляем гипонимы:\n",
    "    # оставляем только те рёбра, где перплексия гипонима меньше трешхолда\n",
    "    new_es = []\n",
    "    for e in es:\n",
    "        if child_ppl[(e[0], e[1])] < m:\n",
    "            new_es.append(e)\n",
    "    return new_es"
   ]
  },
  {
   "cell_type": "code",
   "execution_count": 8,
   "metadata": {},
   "outputs": [
    {
     "name": "stdout",
     "output_type": "stream",
     "text": [
      "Maximum F: 0.44155844155844104\n"
     ]
    },
    {
     "data": {
      "image/png": "[encoded data removed]",
      "text/plain": [
       "<Figure size 640x480 with 1 Axes>"
      ]
     },
     "metadata": {},
     "output_type": "display_data"
    }
   ],
   "source": [
    "# считаем результаты\n",
    "parent_sci_dict, children_sci, G = loader(sci_env='sci', lemmas_numbers='lemmas') # тут выбирать датасет\n",
    "edges = build_taxo(parent_sci_dict)\n",
    "\n",
    "f_metrics = []\n",
    "tresholds = [x for x in range(2, 51)]\n",
    "\n",
    "for x in tresholds:\n",
    "    pred_edges = taxo_cleaner(edges, children_sci, x)\n",
    "    P = len(set(G.edges()) & set(pred_edges)) / (len(set(pred_edges)) + 1e-15)\n",
    "    R = len(set(G.edges()) & set(pred_edges)) / len(set(G.edges()))\n",
    "    F = (2 * P * R) / (P + R + 1e-15)\n",
    "    f_metrics.append(F)\n",
    "\n",
    "# напечатаем максимальную величину\n",
    "m = np.array(f_metrics).max()\n",
    "print('Maximum F: ' + str(m))\n",
    "\n",
    "# визуализация\n",
    "fig, ax = plt.subplots()\n",
    "ax.plot(tresholds, f_metrics, linewidth=2.0)\n",
    "ax.set(yticks=np.arange(0, 0.5, 0.05),\n",
    "       xticks=np.arange(0, 51, 5))\n",
    "\n",
    "plt.grid(axis='x', color='0.8')\n",
    "plt.title(\"Env, numbers\")\n",
    "plt.show()"
   ]
  }
 ],
 "metadata": {
  "kernelspec": {
   "display_name": "Python 3",
   "language": "python",
   "name": "python3"
  },
  "language_info": {
   "codemirror_mode": {
    "name": "ipython",
    "version": 3
   },
   "file_extension": ".py",
   "mimetype": "text/x-python",
   "name": "python",
   "nbconvert_exporter": "python",
   "pygments_lexer": "ipython3",
   "version": "3.10.12"
  }
 },
 "nbformat": 4,
 "nbformat_minor": 2
}
