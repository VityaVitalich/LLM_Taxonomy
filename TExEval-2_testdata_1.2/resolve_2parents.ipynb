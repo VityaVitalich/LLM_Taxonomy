{
 "cells": [
  {
   "cell_type": "code",
   "execution_count": 48,
   "metadata": {},
   "outputs": [],
   "source": [
    "import yaml\n",
    "import matplotlib.pyplot as plt\n",
    "import sys\n",
    "from tqdm import tqdm\n",
    "import pickle\n",
    "import numpy as np\n",
    "import networkx as nx\n",
    "import copy\n",
    "import os\n",
    "\n",
    "with open(r\"./configs/build_taxo.yml\") as file:\n",
    "    params_list = yaml.load(file, Loader=yaml.FullLoader)"
   ]
  },
  {
   "cell_type": "code",
   "execution_count": 2,
   "metadata": {},
   "outputs": [],
   "source": [
    "class TaxonomyBuilder:\n",
    "    def __init__(self, root, all_verteces, max_iter=10000):\n",
    "        self.root = root\n",
    "        self.all_verteces = all_verteces\n",
    "        self.max_iter = max_iter\n",
    "\n",
    "    def build_taxonomy(self, strategy, **kwargs):\n",
    "        self.edge_collector = getattr(self, strategy)\n",
    "        self.collector_params = kwargs\n",
    "\n",
    "        # self.pbar = tqdm(total=34000)\n",
    "        self.all_edges = []\n",
    "        self.i = 0\n",
    "        self.build_tree(self.root, self.all_verteces)\n",
    "        # self.pbar.close()\n",
    "\n",
    "    #   return self.all_edges\n",
    "\n",
    "    def build_tree(self, root, possible_verteces):\n",
    "        top_edges_idx = self.edge_collector(\n",
    "            root, possible_verteces, **self.collector_params\n",
    "        )\n",
    "        new_pos_verteces = np.delete(possible_verteces, top_edges_idx)\n",
    "        for new_edge_idx in top_edges_idx:\n",
    "            self.all_edges.append((root, possible_verteces[new_edge_idx]))\n",
    "            # self.pbar.update(1)\n",
    "            self.i += 1\n",
    "            if self.i > self.max_iter:\n",
    "                break\n",
    "            self.build_tree(possible_verteces[new_edge_idx], new_pos_verteces)\n",
    "\n",
    "    @staticmethod\n",
    "    def ppl_thr_collector(root, possible_verteces, **kwargs):\n",
    "        ppls = np.array(\n",
    "            [kwargs[\"ppl_pairs\"][(root, vertex)] for vertex in possible_verteces]\n",
    "        )\n",
    "        return np.where(np.array(ppls) < kwargs[\"thr\"])[0]\n",
    "\n",
    "    @staticmethod\n",
    "    def ppl_top_collector(root, possible_verteces, **kwargs):\n",
    "        ppls = np.array(\n",
    "            [kwargs[\"ppl_pairs\"][(root, vertex)] for vertex in possible_verteces]\n",
    "        )\n",
    "        return np.argsort(ppls)[: min(kwargs[\"top_k\"], len(ppls))]\n",
    "\n",
    "\n",
    "def clean_dict(pairs, use_lemma, reverse):\n",
    "    new_pairs = {}\n",
    "    for key, val in pairs.items():\n",
    "        if use_lemma:\n",
    "            term = key[0].split(\"(\")[0].strip()\n",
    "        else:\n",
    "            term = key[0]\n",
    "        target = key[1].split(\",\")[0]\n",
    "        new_key = (target, term) if reverse else (term, target)\n",
    "        new_pairs[new_key] = val\n",
    "\n",
    "    return new_pairs\n",
    "\n",
    "\n",
    "def iterative_child(ppl_pairs, low, high, step, max_iter):\n",
    "    thrs = np.arange(low, high, step)\n",
    "    Fs = []\n",
    "    for thr in tqdm(thrs):\n",
    "        tb = TaxonomyBuilder(root, all_verteces, max_iter)\n",
    "        tb.build_taxonomy(\"ppl_thr_collector\", ppl_pairs=ppl_pairs, thr=thr)\n",
    "        edges = tb.all_edges\n",
    "\n",
    "        P = len(set(G.edges()) & set(edges)) / (len(set(edges)) + 1)\n",
    "        R = len(set(G.edges()) & set(edges)) / len(set(G.edges()))\n",
    "        F = (2 * P * R) / (P + R + 1e-15)\n",
    "\n",
    "        #  print('precision: {} \\n recall: {} \\n F-score: {}'.format(P,R,F))\n",
    "        Fs.append(F)\n",
    "\n",
    "    print(max(Fs), thrs[np.argmax(Fs)])\n",
    "    plt.plot(thrs, Fs)\n",
    "    return Fs\n",
    "\n",
    "\n",
    "def brute_child(ppl_pairs, low, high, step):\n",
    "    thrs = np.arange(low, high, step)\n",
    "    Fs = []\n",
    "    for thr in tqdm(thrs):\n",
    "        edges = []\n",
    "        for key, val in ppl_pairs.items():\n",
    "            if val < thr:\n",
    "                edges.append(key)\n",
    "\n",
    "        P = len(set(G.edges()) & set(edges)) / (len(set(edges)) + 1e-15)\n",
    "        R = len(set(G.edges()) & set(edges)) / len(set(G.edges()))\n",
    "        # print(len(set(edges)))\n",
    "        F = (2 * P * R) / (P + R + 1e-15)\n",
    "\n",
    "        Fs.append(F)\n",
    "\n",
    "    print(max(Fs), thrs[np.argmax(Fs)])\n",
    "    plt.plot(thrs, Fs)\n",
    "    return Fs"
   ]
  },
  {
   "cell_type": "code",
   "execution_count": 3,
   "metadata": {},
   "outputs": [],
   "source": [
    "def get_graph(ppl_pairs, thr):\n",
    "    S = nx.DiGraph()\n",
    "    for key, val in ppl_pairs.items():\n",
    "        if val <thr:\n",
    "            S.add_edge(key[0], key[1], weight=val)\n",
    "    return S\n",
    "        "
   ]
  },
  {
   "cell_type": "code",
   "execution_count": 4,
   "metadata": {},
   "outputs": [],
   "source": [
    "def brute_resolve(ppl_pairs, ppl_reverse, low, high, step):\n",
    "    thrs = np.arange(low, high, step)\n",
    "    Fs = []\n",
    "    counts = []\n",
    "    for thr in tqdm(thrs):\n",
    "        counter = 0\n",
    "        S = get_graph(ppl_pairs, thr)\n",
    "    \n",
    "        for node in S.nodes():\n",
    "            if S.in_degree(node) == 2:\n",
    "                edges_q = S.in_edges(node)\n",
    "                ppls = {} #попробовать еще через сумму перплексий в одну сторону + другую сторону, с макс суммой выбросить ребро\n",
    "\n",
    "                for edge in edges_q:\n",
    "                    weight_reverse = ppl_reverse[edge]\n",
    "                    ppls[edge] = weight_reverse\n",
    "                \n",
    "                # if abs(list(ppls.values())[0]-list(ppls.values())[1]) < min(ppls.values()): #эвристика, чтобы не выкидывать ребра с близкими перплексиями\n",
    "\n",
    "                max_ppl_key = max(ppls, key=ppls.get) \n",
    "                counter +=1\n",
    "                S.remove_edge(*max_ppl_key)\n",
    "\n",
    "        P = len(set(G.edges()) & set(S.edges())) / (len(set(S.edges())) + 1)\n",
    "        R = len(set(G.edges()) & set(S.edges())) / len(set(G.edges()))\n",
    "        F = (2 * P * R) / (P + R + 1e-15)\n",
    "        counts.append(counter)\n",
    "        Fs.append(F)\n",
    "\n",
    "    print(max(Fs), thrs[np.argmax(Fs)])\n",
    "    plt.plot(thrs, Fs)\n",
    "    return Fs, counts\n"
   ]
  },
  {
   "attachments": {},
   "cell_type": "markdown",
   "metadata": {},
   "source": [
    "###  Построение по гипонимам, отбрасывала ребра по гиперонимам"
   ]
  },
  {
   "cell_type": "code",
   "execution_count": 97,
   "metadata": {},
   "outputs": [
    {
     "name": "stderr",
     "output_type": "stream",
     "text": [
      "100%|██████████████████████████████████████| 2990/2990 [00:27<00:00, 109.24it/s]\n"
     ]
    },
    {
     "name": "stdout",
     "output_type": "stream",
     "text": [
      "0.13510253317249654 5.389999999999997\n"
     ]
    },
    {
     "data": {
      "image/png": "[encoded data removed]",
      "text/plain": [
       "<Figure size 640x480 with 1 Axes>"
      ]
     },
     "metadata": {},
     "output_type": "display_data"
    }
   ],
   "source": [
    "res = brute_child(ppls_pairs, low=low, high=high, step=step)"
   ]
  },
  {
   "cell_type": "code",
   "execution_count": 98,
   "metadata": {},
   "outputs": [
    {
     "data": {
      "text/plain": [
       "0.13510253317249654"
      ]
     },
     "execution_count": 98,
     "metadata": {},
     "output_type": "execute_result"
    }
   ],
   "source": [
    "max(res)"
   ]
  },
  {
   "attachments": {},
   "cell_type": "markdown",
   "metadata": {},
   "source": [
    "### Построение по гиперонимам и просто сравнение перплексий ребер, с наибольшей перплексией выкидываем"
   ]
  },
  {
   "cell_type": "code",
   "execution_count": 104,
   "metadata": {},
   "outputs": [
    {
     "name": "stderr",
     "output_type": "stream",
     "text": [
      "100%|███████████████████████████████████████| 2990/2990 [02:25<00:00, 20.55it/s]\n"
     ]
    },
    {
     "name": "stdout",
     "output_type": "stream",
     "text": [
      "0.4026548672566367 2.489999999999999\n"
     ]
    },
    {
     "data": {
      "image/png": "[encoded data removed]",
      "text/plain": [
       "<Figure size 640x480 with 1 Axes>"
      ]
     },
     "metadata": {},
     "output_type": "display_data"
    }
   ],
   "source": [
    "if __name__ == \"__main__\":\n",
    "    data = params_list[\"DATA\"][0]\n",
    "    in_name = params_list[\"IN_NAME\"][0]\n",
    "    compare_name = params_list[\"COMPARE_NAME\"][0]\n",
    "    lemma = params_list[\"LEMMA\"][0]\n",
    "    reverse = params_list[\"REVERSE\"][0]\n",
    "    low = params_list[\"LOW\"][0]\n",
    "    high = params_list[\"HIGH\"][0]\n",
    "    step = params_list[\"STEP\"][0]\n",
    "\n",
    "    # print(data, in_name, lemma, reverse, low, high, step, sep='\\n')\n",
    "    path = \"gs_taxo/EN/\" + str(data) + \"_eurovoc_en.taxo\"\n",
    "    G = nx.DiGraph()\n",
    "\n",
    "    with open(path, \"r\") as f:\n",
    "        for line in f:\n",
    "            idx, hypo, hyper = line.split(\"\\t\")\n",
    "            hyper = hyper.replace(\"\\n\", \"\")\n",
    "            G.add_node(hypo)\n",
    "            G.add_node(hyper)\n",
    "            G.add_edge(hyper, hypo)\n",
    "\n",
    "    with open(in_name, \"rb\") as f:\n",
    "        ppls = pickle.load(f)\n",
    "\n",
    "\n",
    "    ppls_pairs = clean_dict(ppls, use_lemma=lemma, reverse=reverse)\n",
    "\n",
    "    with open(compare_name, \"rb\") as f1:\n",
    "            ppls_c = pickle.load(f1)\n",
    "\n",
    "    ppl_reverse = clean_dict(ppls_c, use_lemma=lemma, reverse=False)\n",
    "\n",
    "\n",
    "    root = data\n",
    "    all_verteces = list(G.nodes)\n",
    "    all_verteces.remove(root)\n",
    "\n",
    "    #  print(ppls_pairs)\n",
    "    res1, counter = brute_resolve(ppls_pairs, ppl_reverse, low=low, high=high, step=step)"
   ]
  },
  {
   "cell_type": "code",
   "execution_count": 105,
   "metadata": {},
   "outputs": [
    {
     "data": {
      "text/plain": [
       "53"
      ]
     },
     "execution_count": 105,
     "metadata": {},
     "output_type": "execute_result"
    }
   ],
   "source": [
    "max(counter)"
   ]
  },
  {
   "attachments": {},
   "cell_type": "markdown",
   "metadata": {},
   "source": [
    "### Пробовала рассчитывать через отбрасывание через обратные перплексии"
   ]
  },
  {
   "cell_type": "code",
   "execution_count": 6,
   "metadata": {},
   "outputs": [],
   "source": [
    "def brute_resolve_summation(ppl_pairs, ppl_reverse, low, high, step):\n",
    "    thrs = np.arange(low, high, step)\n",
    "    Fs = []\n",
    "    counts = []\n",
    "    for thr in tqdm(thrs):\n",
    "        counter = 0\n",
    "        S = get_graph(ppl_pairs, thr)\n",
    "    \n",
    "        for node in S.nodes():\n",
    "            if S.in_degree(node) == 2:\n",
    "                edges_q = S.in_edges(node)\n",
    "                ppls = {} #попробовать еще через сумму перплексий в одну сторону + другую сторону, с макс суммой выбросить ребро\n",
    "\n",
    "                for edge in edges_q:\n",
    "\n",
    "                    weight_reverse = np.array(ppl_reverse[(edge[1], edge[0])])\n",
    "                    weight_straight = np.array(ppl_reverse[edge])\n",
    "\n",
    "                    summation = weight_reverse + weight_straight\n",
    "                    ppls[edge] = summation\n",
    "                \n",
    "                    \n",
    "                max_ppl_key = max(ppls, key=ppls.get) \n",
    "                counter +=1\n",
    "                S.remove_edge(*max_ppl_key)\n",
    "\n",
    "        P = len(set(G.edges()) & set(S.edges())) / (len(set(S.edges())) + 1)\n",
    "        R = len(set(G.edges()) & set(S.edges())) / len(set(G.edges()))\n",
    "        F = (2 * P * R) / (P + R + 1e-15)\n",
    "        counts.append(counter)\n",
    "        Fs.append(F)\n",
    "\n",
    "    print(max(Fs), thrs[np.argmax(Fs)])\n",
    "    plt.plot(thrs, Fs)\n",
    "    return Fs, counts"
   ]
  },
  {
   "cell_type": "code",
   "execution_count": 7,
   "metadata": {},
   "outputs": [
    {
     "name": "stderr",
     "output_type": "stream",
     "text": [
      "100%|██████████████████████████████████████████████████████████████| 2990/2990 [01:52<00:00, 26.55it/s]\n"
     ]
    },
    {
     "name": "stdout",
     "output_type": "stream",
     "text": [
      "0.376106194690265 2.489999999999999\n"
     ]
    },
    {
     "data": {
      "image/png": "[encoded data removed]",
      "text/plain": [
       "<Figure size 640x480 with 1 Axes>"
      ]
     },
     "metadata": {},
     "output_type": "display_data"
    }
   ],
   "source": [
    "res_sum = brute_resolve_summation(ppls_pairs, ppl_reverse, low, high, step)"
   ]
  },
  {
   "attachments": {},
   "cell_type": "markdown",
   "metadata": {},
   "source": [
    "### Без петель  \n",
    "Улучшения в скоре не дало, видимо петли и так отбрасываются трешхолдом."
   ]
  },
  {
   "cell_type": "code",
   "execution_count": 16,
   "metadata": {},
   "outputs": [
    {
     "name": "stderr",
     "output_type": "stream",
     "text": [
      "100%|███████████████████████████████████████████████████████████████████████████████| 2990/2990 [02:02<00:00, 24.50it/s]\n"
     ]
    },
    {
     "name": "stdout",
     "output_type": "stream",
     "text": [
      "0.4026548672566367 2.489999999999999\n"
     ]
    },
    {
     "data": {
      "image/png": "[encoded data removed]",
      "text/plain": [
       "<Figure size 640x480 with 1 Axes>"
      ]
     },
     "metadata": {},
     "output_type": "display_data"
    }
   ],
   "source": [
    "def brute_resolve_noloops(ppl_pairs, ppl_reverse, low, high, step):\n",
    "    thrs = np.arange(low, high, step)\n",
    "    Fs = []\n",
    "    counts = []\n",
    "    for thr in tqdm(thrs):\n",
    "        counter = 0\n",
    "        S = get_graph(ppl_pairs, thr)\n",
    "\n",
    "        counter += nx.number_of_selfloops(S)\n",
    "        S.remove_edges_from(nx.selfloop_edges(S))\n",
    "        \n",
    "\n",
    "        for node in S.nodes():\n",
    "            if S.in_degree(node) == 2:\n",
    "                edges_q = S.in_edges(node)\n",
    "                ppls = {} #попробовать еще через сумму перплексий в одну сторону + другую сторону, с макс суммой выбросить ребро\n",
    "\n",
    "                for edge in edges_q:\n",
    "                    weight_reverse = S[edge[0]][edge[1]]['weight']\n",
    "                    ppls[edge] = weight_reverse\n",
    "                \n",
    "                # if abs(list(ppls.values())[0]-list(ppls.values())[1]) < min(ppls.values()): #эвристика, чтобы не выкидывать ребра с близкими перплексиями\n",
    "\n",
    "                max_ppl_key = max(ppls, key=ppls.get) \n",
    "                counter +=1\n",
    "                S.remove_edge(*max_ppl_key)\n",
    "\n",
    "\n",
    "\n",
    "        P = len(set(G.edges()) & set(S.edges())) / (len(set(S.edges())) + 1)\n",
    "        R = len(set(G.edges()) & set(S.edges())) / len(set(G.edges()))\n",
    "        F = (2 * P * R) / (P + R + 1e-15)\n",
    "        counts.append(counter)\n",
    "\n",
    "        Fs.append(F)\n",
    "\n",
    "    print(max(Fs), thrs[np.argmax(Fs)])\n",
    "    plt.plot(thrs, Fs)\n",
    "\n",
    "    return Fs, counts\n",
    "\n",
    "if __name__ == \"__main__\":\n",
    "    data = params_list[\"DATA\"][0]\n",
    "    in_name = params_list[\"IN_NAME\"][0]\n",
    "    compare_name = params_list[\"COMPARE_NAME\"][0]\n",
    "    lemma = params_list[\"LEMMA\"][0]\n",
    "    reverse = params_list[\"REVERSE\"][0]\n",
    "    low = params_list[\"LOW\"][0]\n",
    "    high = params_list[\"HIGH\"][0]\n",
    "    step = params_list[\"STEP\"][0]\n",
    "\n",
    "    # print(data, in_name, lemma, reverse, low, high, step, sep='\\n')\n",
    "    path = \"gs_taxo/EN/\" + str(data) + \"_eurovoc_en.taxo\"\n",
    "    G = nx.DiGraph()\n",
    "\n",
    "    with open(path, \"r\") as f:\n",
    "        for line in f:\n",
    "            idx, hypo, hyper = line.split(\"\\t\")\n",
    "            hyper = hyper.replace(\"\\n\", \"\")\n",
    "            G.add_node(hypo)\n",
    "            G.add_node(hyper)\n",
    "            G.add_edge(hyper, hypo)\n",
    "\n",
    "    with open(in_name, \"rb\") as f:\n",
    "        ppls = pickle.load(f)\n",
    "\n",
    "\n",
    "    ppls_pairs = clean_dict(ppls, use_lemma=lemma, reverse=reverse)\n",
    "\n",
    "    with open(compare_name, \"rb\") as f1:\n",
    "            ppls_c = pickle.load(f1)\n",
    "\n",
    "    ppl_reverse = clean_dict(ppls_c, use_lemma=lemma, reverse=reverse)\n",
    "\n",
    "\n",
    "    root = data\n",
    "    all_verteces = list(G.nodes)\n",
    "    all_verteces.remove(root)\n",
    "\n",
    "    #  print(ppls_pairs)\n",
    "    res_best, counts = brute_resolve_noloops(ppls_pairs, ppl_reverse, low=low, high=high, step=step)"
   ]
  },
  {
   "cell_type": "code",
   "execution_count": 79,
   "metadata": {},
   "outputs": [
    {
     "data": {
      "text/plain": [
       "62"
      ]
     },
     "execution_count": 79,
     "metadata": {},
     "output_type": "execute_result"
    }
   ],
   "source": [
    "max(counts)"
   ]
  },
  {
   "attachments": {},
   "cell_type": "markdown",
   "metadata": {},
   "source": [
    "### Лучший вариант  \n",
    "Просто через сравнение перплексий ребер.  \n",
    "Прирост по сравнению с просто brute_child на очищенном датасете небольшой: **0.386 -> 0.402**"
   ]
  },
  {
   "cell_type": "code",
   "execution_count": 7,
   "metadata": {},
   "outputs": [
    {
     "name": "stderr",
     "output_type": "stream",
     "text": [
      "100%|███████████████████████████████████████| 2990/2990 [01:58<00:00, 25.13it/s]\n"
     ]
    },
    {
     "name": "stdout",
     "output_type": "stream",
     "text": [
      "0.4026548672566367 2.489999999999999\n"
     ]
    },
    {
     "data": {
      "image/png": "[encoded data removed]",
      "text/plain": [
       "<Figure size 640x480 with 1 Axes>"
      ]
     },
     "metadata": {},
     "output_type": "display_data"
    }
   ],
   "source": [
    "def brute_resolve(ppl_pairs, ppl_reverse, low, high, step):\n",
    "    thrs = np.arange(low, high, step)\n",
    "    Fs = []\n",
    "    counts = []\n",
    "    for thr in tqdm(thrs):\n",
    "        counter = 0\n",
    "        S = get_graph(ppl_pairs, thr)\n",
    "    \n",
    "        for node in S.nodes():\n",
    "            if S.in_degree(node) == 2:\n",
    "                edges_q = S.in_edges(node)\n",
    "                ppls = {} #попробовать еще через сумму перплексий в одну сторону + другую сторону, с макс суммой выбросить ребро\n",
    "\n",
    "                for edge in edges_q:\n",
    "                    weight_reverse = S[edge[0]][edge[1]]['weight']\n",
    "                    ppls[edge] = weight_reverse\n",
    "                \n",
    "                # if abs(list(ppls.values())[0]-list(ppls.values())[1]) < min(ppls.values()): #эвристика, чтобы не выкидывать ребра с близкими перплексиями\n",
    "\n",
    "                max_ppl_key = max(ppls, key=ppls.get) \n",
    "                counter +=1\n",
    "                S.remove_edge(*max_ppl_key)\n",
    "\n",
    "        P = len(set(G.edges()) & set(S.edges())) / (len(set(S.edges())) + 1)\n",
    "        R = len(set(G.edges()) & set(S.edges())) / len(set(G.edges()))\n",
    "        F = (2 * P * R) / (P + R + 1e-15)\n",
    "        counts.append(counter)\n",
    "\n",
    "        Fs.append(F)\n",
    "\n",
    "\n",
    "    print(max(Fs), thrs[np.argmax(Fs)])\n",
    "    plt.plot(thrs, Fs)\n",
    "    return Fs, counts\n",
    "\n",
    "\n",
    "if __name__ == \"__main__\":\n",
    "    data = params_list[\"DATA\"][0]\n",
    "    in_name = params_list[\"IN_NAME\"][0]\n",
    "    compare_name = params_list[\"COMPARE_NAME\"][0]\n",
    "    lemma = params_list[\"LEMMA\"][0]\n",
    "    reverse = params_list[\"REVERSE\"][0]\n",
    "    low = params_list[\"LOW\"][0]\n",
    "    high = params_list[\"HIGH\"][0]\n",
    "    step = params_list[\"STEP\"][0]\n",
    "\n",
    "    # print(data, in_name, lemma, reverse, low, high, step, sep='\\n')\n",
    "    path = \"gs_taxo/EN/\" + str(data) + \"_eurovoc_en.taxo\"\n",
    "    G = nx.DiGraph()\n",
    "\n",
    "    with open(path, \"r\") as f:\n",
    "        for line in f:\n",
    "            idx, hypo, hyper = line.split(\"\\t\")\n",
    "            hyper = hyper.replace(\"\\n\", \"\")\n",
    "            G.add_node(hypo)\n",
    "            G.add_node(hyper)\n",
    "            G.add_edge(hyper, hypo)\n",
    "\n",
    "    with open(in_name, \"rb\") as f:\n",
    "        ppls = pickle.load(f)\n",
    "\n",
    "\n",
    "    ppls_pairs = clean_dict(ppls, use_lemma=lemma, reverse=reverse)\n",
    "\n",
    "    with open(compare_name, \"rb\") as f1:\n",
    "            ppls_c = pickle.load(f1)\n",
    "\n",
    "    ppl_reverse = clean_dict(ppls_c, use_lemma=lemma, reverse=reverse)\n",
    "\n",
    "\n",
    "    root = data\n",
    "    all_verteces = list(G.nodes)\n",
    "    all_verteces.remove(root)\n",
    "\n",
    "    #  print(ppls_pairs)\n",
    "    res_best, counter = brute_resolve(ppls_pairs, ppl_reverse, low=low, high=high, step=step)"
   ]
  },
  {
   "cell_type": "code",
   "execution_count": 119,
   "metadata": {},
   "outputs": [
    {
     "data": {
      "text/plain": [
       "62"
      ]
     },
     "execution_count": 119,
     "metadata": {},
     "output_type": "execute_result"
    }
   ],
   "source": [
    "max(counter)"
   ]
  },
  {
   "attachments": {},
   "cell_type": "markdown",
   "metadata": {},
   "source": [
    "### Меньше свзяных компонент  \n",
    "В золотом стандарте для английского 1 связная компонента, решила подумать над добавлением ребер для бОльшей связности. Через выбор по перплексиям не получилось, скор упал"
   ]
  },
  {
   "cell_type": "code",
   "execution_count": 25,
   "metadata": {},
   "outputs": [],
   "source": [
    "def make_connection(G, G_start):\n",
    "    cc = sorted(nx.weakly_connected_components(G))\n",
    "    if len(cc) <= 1:\n",
    "        return G\n",
    "    else:\n",
    "        cc_main, cc_tomatch = cc[0], cc[1:]\n",
    "\n",
    "        minimum = {}\n",
    "        # print(len(cc), len(cc_tomatch))\n",
    "        for comp in cc_tomatch:\n",
    "            node_to_consider = {}\n",
    "\n",
    "            for node in comp:\n",
    "                weight_in = list(G_start.in_edges(node, data=\"weight\"))\n",
    "                # print(G_start.in_edges(node, data=\"weight\"))\n",
    "                weight_out = list(G_start.out_edges(node, data=\"weight\"))\n",
    "                weight = [(start, end, weight) for start, end, weight in weight_in+weight_out if end in cc_main]\n",
    "                if weight:\n",
    "                    weight = min(weight, key = lambda t: t[2])\n",
    "                else:\n",
    "                    weight = [1e+10, 1e+10, 1e+10]\n",
    "\n",
    "\n",
    "\n",
    "                node_to_consider[node] = (weight[2], weight[0])\n",
    "            # print(node_to_consider)\n",
    "            minimum = min(node_to_consider, key=node_to_consider.get)\n",
    "\n",
    "            G.add_edge(minimum, node_to_consider[minimum][1], weight=node_to_consider[minimum][0])\n",
    "\n",
    "        return G\n",
    "\n",
    "\n",
    "\n"
   ]
  },
  {
   "cell_type": "code",
   "execution_count": 30,
   "metadata": {},
   "outputs": [
    {
     "name": "stderr",
     "output_type": "stream",
     "text": [
      "100%|███████████████████████████████████████████████████████████████████████████████| 2990/2990 [02:37<00:00, 18.95it/s]\n"
     ]
    },
    {
     "name": "stdout",
     "output_type": "stream",
     "text": [
      "0.3847780126849889 2.489999999999999\n"
     ]
    },
    {
     "data": {
      "image/png": "[encoded data removed]",
      "text/plain": [
       "<Figure size 640x480 with 1 Axes>"
      ]
     },
     "metadata": {},
     "output_type": "display_data"
    }
   ],
   "source": [
    "def brute_resolve_less_cc(ppl_pairs, low, high, step):\n",
    "    thrs = np.arange(low, high, step)\n",
    "    Fs = []\n",
    "    counts = []\n",
    "    for thr in tqdm(thrs):\n",
    "        counter = 0\n",
    "        S = get_graph(ppl_pairs, thr)\n",
    "        # print(len(list(S.edges())))\n",
    "        S_start = get_graph(ppl_pairs, thr)\n",
    "        for node in S.nodes():\n",
    "            if S.in_degree(node) == 2:\n",
    "                edges_q = S.in_edges(node)\n",
    "                ppls = {} #попробовать еще через сумму перплексий в одну сторону + другую сторону, с макс суммой выбросить ребро\n",
    "\n",
    "                for edge in edges_q:\n",
    "                    weight_reverse = S[edge[0]][edge[1]]['weight']\n",
    "                    ppls[edge] = weight_reverse\n",
    "                \n",
    "                if abs(list(ppls.values())[0]-list(ppls.values())[1]) < min(ppls.values()): #эвристика, чтобы не выкидывать ребра с близкими перплексиями\n",
    "\n",
    "                    max_ppl_key = max(ppls, key=ppls.get) \n",
    "                    counter +=1\n",
    "                    S.remove_edge(*max_ppl_key)\n",
    "                \n",
    "        S = make_connection(S, S_start)\n",
    "        # print(len(list(S.edges())))\n",
    "\n",
    "        P = len(set(G.edges()) & set(S.edges())) / (len(set(S.edges())) + 1)\n",
    "        R = len(set(G.edges()) & set(S.edges())) / len(set(G.edges()))\n",
    "        F = (2 * P * R) / (P + R + 1e-15)\n",
    "        counts.append(counter)\n",
    "\n",
    "        Fs.append(F)\n",
    "\n",
    "\n",
    "    print(max(Fs), thrs[np.argmax(Fs)])\n",
    "    plt.plot(thrs, Fs)\n",
    "    return Fs, counts\n",
    "\n",
    "\n",
    "if __name__ == \"__main__\":\n",
    "    data = params_list[\"DATA\"][0]\n",
    "    in_name = params_list[\"IN_NAME\"][0]\n",
    "    compare_name = params_list[\"COMPARE_NAME\"][0]\n",
    "    lemma = params_list[\"LEMMA\"][0]\n",
    "    reverse = params_list[\"REVERSE\"][0]\n",
    "    low = params_list[\"LOW\"][0]\n",
    "    high = params_list[\"HIGH\"][0]\n",
    "    step = params_list[\"STEP\"][0]\n",
    "\n",
    "    # print(data, in_name, lemma, reverse, low, high, step, sep='\\n')\n",
    "    path = \"gs_taxo/EN/\" + str(data) + \"_eurovoc_en.taxo\"\n",
    "    G = nx.DiGraph()\n",
    "\n",
    "    with open(path, \"r\") as f:\n",
    "        for line in f:\n",
    "            idx, hypo, hyper = line.split(\"\\t\")\n",
    "            hyper = hyper.replace(\"\\n\", \"\")\n",
    "            G.add_node(hypo)\n",
    "            G.add_node(hyper)\n",
    "            G.add_edge(hyper, hypo)\n",
    "\n",
    "    with open(in_name, \"rb\") as f:\n",
    "        ppls = pickle.load(f)\n",
    "\n",
    "\n",
    "    ppls_pairs = clean_dict(ppls, use_lemma=lemma, reverse=reverse)\n",
    "\n",
    "    with open(compare_name, \"rb\") as f1:\n",
    "            ppls_c = pickle.load(f1)\n",
    "\n",
    "    ppl_reverse = clean_dict(ppls_c, use_lemma=lemma, reverse=reverse)\n",
    "\n",
    "\n",
    "    root = data\n",
    "    all_verteces = list(G.nodes)\n",
    "    all_verteces.remove(root)\n",
    "\n",
    "    #  print(ppls_pairs)\n",
    "    res_best_less_cc, counter = brute_resolve_less_cc(ppls_pairs, low=low, high=high, step=step)"
   ]
  },
  {
   "attachments": {},
   "cell_type": "markdown",
   "metadata": {},
   "source": [
    "### Подсчет нод"
   ]
  },
  {
   "cell_type": "code",
   "execution_count": 98,
   "metadata": {},
   "outputs": [],
   "source": [
    "S_new = get_graph(ppls_pairs, 10)"
   ]
  },
  {
   "cell_type": "code",
   "execution_count": 99,
   "metadata": {},
   "outputs": [],
   "source": [
    "def get_num_pairs(graph):\n",
    "    parentsnum = {}\n",
    "    if not os.path.exists('./multiple_parents_thr=10'):\n",
    "        os.mkdir('./multiple_parents_thr=10')\n",
    "    for i in tqdm(range(2, 25)):\n",
    "        filename = f'./multiple_parents_thr=10/{i}_parents.pickle'\n",
    "        counter = 0\n",
    "        pairs = []\n",
    "        for node in graph.nodes():\n",
    "            if graph.in_degree(node) == i:\n",
    "                counter += 1\n",
    "                pairs.append(graph.in_edges(node))\n",
    "        \n",
    "        with open(filename, 'wb') as f:\n",
    "            pickle.dump(pairs, f)\n",
    "\n",
    "        parentsnum[str(i)+' parents'] = counter\n",
    "    \n",
    "    return parentsnum"
   ]
  },
  {
   "cell_type": "code",
   "execution_count": 100,
   "metadata": {},
   "outputs": [
    {
     "name": "stderr",
     "output_type": "stream",
     "text": [
      "100%|██████████████████████████████████████████████████████████████████████████████████| 23/23 [00:00<00:00, 214.72it/s]\n"
     ]
    }
   ],
   "source": [
    "diction_10= get_num_pairs(S_new)"
   ]
  },
  {
   "cell_type": "code",
   "execution_count": 92,
   "metadata": {},
   "outputs": [
    {
     "name": "stderr",
     "output_type": "stream",
     "text": [
      "100%|█████████████████████████████████████████████████████████████████████████████████| 23/23 [00:00<00:00, 1633.85it/s]\n"
     ]
    }
   ],
   "source": [
    "diction_opt = get_num_pairs(S_new)"
   ]
  },
  {
   "cell_type": "code",
   "execution_count": 101,
   "metadata": {},
   "outputs": [
    {
     "name": "stdout",
     "output_type": "stream",
     "text": [
      "{'2 parents': 6, '3 parents': 10, '4 parents': 13, '5 parents': 11, '6 parents': 8, '7 parents': 13, '8 parents': 12, '9 parents': 17, '10 parents': 21, '11 parents': 17, '12 parents': 16, '13 parents': 11, '14 parents': 5, '15 parents': 7, '16 parents': 12, '17 parents': 10, '18 parents': 3, '19 parents': 8, '20 parents': 5, '21 parents': 4, '22 parents': 7, '23 parents': 9, '24 parents': 1}\n",
      "{'2 parents': 35, '3 parents': 18, '4 parents': 2, '5 parents': 1, '6 parents': 0, '7 parents': 0, '8 parents': 0, '9 parents': 0, '10 parents': 0, '11 parents': 0, '12 parents': 0, '13 parents': 0, '14 parents': 0, '15 parents': 0, '16 parents': 0, '17 parents': 0, '18 parents': 0, '19 parents': 0, '20 parents': 0, '21 parents': 0, '22 parents': 0, '23 parents': 0, '24 parents': 0}\n"
     ]
    }
   ],
   "source": [
    "print(diction_10, diction_opt, sep='\\n')"
   ]
  },
  {
   "cell_type": "code",
   "execution_count": 106,
   "metadata": {},
   "outputs": [
    {
     "name": "stdout",
     "output_type": "stream",
     "text": [
      "Mean number of parents with thr=10:  9.826086956521738\n",
      "Mean number of parents with thr=optimal (2.49):  2.4347826086956523\n"
     ]
    }
   ],
   "source": [
    "print('Mean number of parents with thr=10: ', np.mean(np.array(list(diction_10.values()))))\n",
    "print('Mean number of parents with thr=optimal (2.49): ', np.mean(np.array(list(diction_opt.values()))))"
   ]
  },
  {
   "cell_type": "code",
   "execution_count": null,
   "metadata": {},
   "outputs": [],
   "source": []
  }
 ],
 "metadata": {
  "kernelspec": {
   "display_name": "Python 3 (ipykernel)",
   "language": "python",
   "name": "python3"
  },
  "language_info": {
   "codemirror_mode": {
    "name": "ipython",
    "version": 3
   },
   "file_extension": ".py",
   "mimetype": "text/x-python",
   "name": "python",
   "nbconvert_exporter": "python",
   "pygments_lexer": "ipython3",
   "version": "3.10.9"
  },
  "orig_nbformat": 4
 },
 "nbformat": 4,
 "nbformat_minor": 2
}
