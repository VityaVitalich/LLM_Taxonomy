{
 "cells": [
  {
   "cell_type": "code",
   "execution_count": 6,
   "metadata": {},
   "outputs": [],
   "source": [
    "import pickle\n",
    "import sys\n",
    "sys.path.append('../')\n",
    "\n",
    "from pipeline_src.dataset.prompt_schemas import (\n",
    "    hypo_term_hyper,\n",
    "    predict_child_from_2_parents,\n",
    "    predict_child_from_parent,\n",
    "    predict_child_with_parent_and_grandparent,\n",
    "    predict_children_with_parent_and_brothers,\n",
    "    predict_parent_from_child_granparent,\n",
    "    predict_parent_from_child,\n",
    "    predict_multiple_parents_from_child,\n",
    ")"
   ]
  },
  {
   "cell_type": "code",
   "execution_count": 7,
   "metadata": {},
   "outputs": [],
   "source": [
    "with open('./custom_datasets/1B.italian_train.pickle', 'rb') as f:\n",
    "    train = pickle.load(f)"
   ]
  },
  {
   "cell_type": "code",
   "execution_count": 9,
   "metadata": {},
   "outputs": [],
   "source": [
    "transforms={\n",
    "        \"only_child_leaf\": predict_child_with_parent_and_grandparent,  # заменить на предсказание ребенка\n",
    "        \"only_leafs_all\": predict_child_from_parent,\n",
    "        \"only_leafs_divided\": predict_children_with_parent_and_brothers,\n",
    "        \"leafs_and_no_leafs\": predict_child_from_parent,\n",
    "        \"simple_triplet_grandparent\": predict_parent_from_child_granparent,\n",
    "        \"simple_triplet_2parent\": predict_child_from_2_parents,\n",
    "        \"predict_hypernym\": predict_parent_from_child,\n",
    "        \"predict_multiple_hypernyms\": predict_multiple_parents_from_child,\n",
    "    }\n",
    "\n"
   ]
  },
  {
   "cell_type": "code",
   "execution_count": 10,
   "metadata": {},
   "outputs": [],
   "source": [
    "\n",
    "elem = train[0]\n",
    "case = elem['case']\n",
    "processed_term, target = transforms[case](elem)"
   ]
  },
  {
   "cell_type": "code",
   "execution_count": 12,
   "metadata": {},
   "outputs": [
    {
     "data": {
      "text/plain": [
       "'hyponym: sesto | hypernyms:grado, numero ordinale, frazione, carica,'"
      ]
     },
     "execution_count": 12,
     "metadata": {},
     "output_type": "execute_result"
    }
   ],
   "source": [
    "processed_term + target"
   ]
  },
  {
   "cell_type": "code",
   "execution_count": 31,
   "metadata": {},
   "outputs": [
    {
     "name": "stdout",
     "output_type": "stream",
     "text": [
      "\n",
      "hyponym: sesto | hypernyms:grado, numero ordinale, frazione, carica,\n",
      "\n",
      "hyponym: sesto | hypernyms:grado, numero ordinale, frazione, carica,\n",
      "hyponym: Sigillo | hypernyms:comune, municipalità, comune italiano, frazione, paese, quartiere, comunità, borgo,\n",
      "\n",
      "hyponym: sesto | hypernyms:grado, numero ordinale, frazione, carica,\n",
      "hyponym: Sigillo | hypernyms:comune, municipalità, comune italiano, frazione, paese, quartiere, comunità, borgo,\n",
      "hyponym: toga | hypernyms:comune, mantella, indumento, vestito, mantello, veste, abito, costume,\n",
      "hyponym: Eduard Buchner | hypernyms:accademico, persona, professore, biochimico, scienziato, chimico, scopritore, docente,\n",
      "hyponym: montagna | hypernyms:panorama, grande quantità, rilievo,\n",
      "\n",
      "hyponym: sesto | hypernyms:grado, numero ordinale, frazione, carica,\n",
      "hyponym: Sigillo | hypernyms:comune, municipalità, comune italiano, frazione, paese, quartiere, comunità, borgo,\n",
      "hyponym: toga | hypernyms:comune, mantella, indumento, vestito, mantello, veste, abito, costume,\n",
      "hyponym: Eduard Buchner | hypernyms:accademico, persona, professore, biochimico, scienziato, chimico, scopritore, docente,\n",
      "hyponym: montagna | hypernyms:panorama, grande quantità, rilievo,\n",
      "hyponym: Renato Guttuso | hypernyms:pittore, persona, artista, politico,\n",
      "hyponym: cardamomo | hypernyms:pianta, aroma, tracheobionta, vegetale, pianta da fiore, magnoliophyta,\n",
      "hyponym: musical | hypernyms:rappresentazione, spettacolo, spettacolo teatrale, show,\n",
      "hyponym: vicino | hypernym:persona,\n",
      "hyponym: rinnovo | hypernyms:sostituzione, prosieguo, proroga, proseguimento, replica, continuamento, prosecuzione,\n",
      "hyponym: rampollo | hypernyms:parente, congiunto, persona, famigliare,\n",
      "hyponym: piccione | hypernyms:uccello, animale, volatile, vertebrato,\n",
      "hyponym: cernita | hypernym:comune,\n",
      "hyponym: gettone | hypernyms:dischetto, moneta, compenso, disco, cerchio,\n",
      "hyponym: Riunione | hypernym:isola,\n",
      "\n",
      "hyponym: sesto | hypernyms:grado, numero ordinale, frazione, carica,\n",
      "hyponym: Sigillo | hypernyms:comune, municipalità, comune italiano, frazione, paese, quartiere, comunità, borgo,\n",
      "hyponym: toga | hypernyms:comune, mantella, indumento, vestito, mantello, veste, abito, costume,\n",
      "hyponym: Eduard Buchner | hypernyms:accademico, persona, professore, biochimico, scienziato, chimico, scopritore, docente,\n",
      "hyponym: montagna | hypernyms:panorama, grande quantità, rilievo,\n",
      "hyponym: Renato Guttuso | hypernyms:pittore, persona, artista, politico,\n",
      "hyponym: cardamomo | hypernyms:pianta, aroma, tracheobionta, vegetale, pianta da fiore, magnoliophyta,\n",
      "hyponym: musical | hypernyms:rappresentazione, spettacolo, spettacolo teatrale, show,\n",
      "hyponym: vicino | hypernym:persona,\n",
      "hyponym: rinnovo | hypernyms:sostituzione, prosieguo, proroga, proseguimento, replica, continuamento, prosecuzione,\n",
      "hyponym: rampollo | hypernyms:parente, congiunto, persona, famigliare,\n",
      "hyponym: piccione | hypernyms:uccello, animale, volatile, vertebrato,\n",
      "hyponym: cernita | hypernym:comune,\n",
      "hyponym: gettone | hypernyms:dischetto, moneta, compenso, disco, cerchio,\n",
      "hyponym: Riunione | hypernym:isola,\n",
      "hyponym: fondo | hypernyms:zona, barriera, estremità, gara, limite, competizione, località, sport olimpico, sportivo,\n",
      "hyponym: nomignolo | hypernyms:nome in codice, denominazione, antroponimo, nominativo, nome di battesimo,\n",
      "hyponym: straniero | hypernyms:viaggiatore, equus,\n",
      "hyponym: bando | hypernyms:concorso, documento,\n",
      "hyponym: ottobre | hypernyms:periodo, mese civile, tempo, mese, periodo di tempo,\n",
      "hyponym: Moresco | hypernyms:comune, municipalità, comune italiano,\n",
      "hyponym: Andrea Ghetti | hypernyms:cattolico, persona, monsignore, religioso, educatore, presbitero,\n",
      "hyponym: bengalese | hypernyms:indoeuropeo, idioma, lingua, persona,\n",
      "hyponym: Dean Acheson | hypernyms:persona, patrocinante, politico, avvocato, soldato, funzionario, statista,\n",
      "hyponym: Francesco | hypernyms:nome di battesimo, antroponimo, pellicola, film, cinema, produzione, spettacolo, rassegna, manifestazione,\n",
      "hyponym: Mori | hypernyms:comune, municipalità, comune italiano, paese,\n",
      "hyponym: scalpello | hypernyms:coltello, arnese, arma,\n",
      "hyponym: insalata di cavolo | hypernyms:insalata, cibo, piatto,\n",
      "hyponym: nonno | hypernyms:capostipite, parente, congiunto, famigliare, antenato, genitore, ascendente, persona, progenitore, avo, avolo,\n",
      "hyponym: Ministero delle Finanze | hypernyms:organo, autorità, direttore, reparto, dipartimento, guru, principale, ministero, capo, capintesta, leader, branca,\n",
      "\n",
      "hyponym: sesto | hypernyms:grado, numero ordinale, frazione, carica,\n",
      "hyponym: Sigillo | hypernyms:comune, municipalità, comune italiano, frazione, paese, quartiere, comunità, borgo,\n",
      "hyponym: toga | hypernyms:comune, mantella, indumento, vestito, mantello, veste, abito, costume,\n",
      "hyponym: Eduard Buchner | hypernyms:accademico, persona, professore, biochimico, scienziato, chimico, scopritore, docente,\n",
      "hyponym: montagna | hypernyms:panorama, grande quantità, rilievo,\n",
      "hyponym: Renato Guttuso | hypernyms:pittore, persona, artista, politico,\n",
      "hyponym: cardamomo | hypernyms:pianta, aroma, tracheobionta, vegetale, pianta da fiore, magnoliophyta,\n",
      "hyponym: musical | hypernyms:rappresentazione, spettacolo, spettacolo teatrale, show,\n",
      "hyponym: vicino | hypernym:persona,\n",
      "hyponym: rinnovo | hypernyms:sostituzione, prosieguo, proroga, proseguimento, replica, continuamento, prosecuzione,\n",
      "hyponym: rampollo | hypernyms:parente, congiunto, persona, famigliare,\n",
      "hyponym: piccione | hypernyms:uccello, animale, volatile, vertebrato,\n",
      "hyponym: cernita | hypernym:comune,\n",
      "hyponym: gettone | hypernyms:dischetto, moneta, compenso, disco, cerchio,\n",
      "hyponym: Riunione | hypernym:isola,\n",
      "hyponym: fondo | hypernyms:zona, barriera, estremità, gara, limite, competizione, località, sport olimpico, sportivo,\n",
      "hyponym: nomignolo | hypernyms:nome in codice, denominazione, antroponimo, nominativo, nome di battesimo,\n",
      "hyponym: straniero | hypernyms:viaggiatore, equus,\n",
      "hyponym: bando | hypernyms:concorso, documento,\n",
      "hyponym: ottobre | hypernyms:periodo, mese civile, tempo, mese, periodo di tempo,\n",
      "hyponym: Moresco | hypernyms:comune, municipalità, comune italiano,\n",
      "hyponym: Andrea Ghetti | hypernyms:cattolico, persona, monsignore, religioso, educatore, presbitero,\n",
      "hyponym: bengalese | hypernyms:indoeuropeo, idioma, lingua, persona,\n",
      "hyponym: Dean Acheson | hypernyms:persona, patrocinante, politico, avvocato, soldato, funzionario, statista,\n",
      "hyponym: Francesco | hypernyms:nome di battesimo, antroponimo, pellicola, film, cinema, produzione, spettacolo, rassegna, manifestazione,\n",
      "hyponym: Mori | hypernyms:comune, municipalità, comune italiano, paese,\n",
      "hyponym: scalpello | hypernyms:coltello, arnese, arma,\n",
      "hyponym: insalata di cavolo | hypernyms:insalata, cibo, piatto,\n",
      "hyponym: nonno | hypernyms:capostipite, parente, congiunto, famigliare, antenato, genitore, ascendente, persona, progenitore, avo, avolo,\n",
      "hyponym: Ministero delle Finanze | hypernyms:organo, autorità, direttore, reparto, dipartimento, guru, principale, ministero, capo, capintesta, leader, branca,\n",
      "hyponym: Marsilio | hypernyms:personaggio immaginario, editore, raffigurazione, personaggio,\n",
      "hyponym: destra | hypernyms:organo, associazione, organizzazione politica, fazione, estremità, direzione, partito politico, tradizionalista, conservatore,\n",
      "hyponym: stazione ferroviaria | hypernyms:struttura architettonica, edificio, stazione, installazione,\n",
      "hyponym: Blu | hypernyms:album, brano, persona, singolo, artista, compagnia, società, canzone, azienda,\n",
      "hyponym: fusoliera | hypernyms:muso, carrozzeria, châssis, scocca,\n",
      "hyponym: mitologia greco-romana | hypernyms:mitologia, disciplina,\n",
      "hyponym: scoperta | hypernyms:lampo di genio, colpo di fortuna, identificazione, esplorazione,\n",
      "hyponym: dibattito | hypernyms:discorso, arringa, sessione, trattazione, radunata, discussione, seduta, assemblea, orazione,\n",
      "hyponym: pantera | hypernyms:mammifero, animale, felino, animale selvatico, carnivoro, vertebrato,\n",
      "hyponym: storico | hypernyms:studioso, dotto, letterato, intellettuale,\n",
      "hyponym: topo | hypernyms:mammifero, roditore, animale, topo domestico, vertebrato,\n",
      "hyponym: dimostrazione | hypernyms:prova, comunicazione visiva, azione sociale, multimedialità, indicazione, evidenza, argomentazione, ragionamento,\n",
      "hyponym: Enrico Berlinguer | hypernyms:politico, segretario, comunista,\n",
      "hyponym: Respiro | hypernyms:pellicola, film, cinema, produzione, spettacolo,\n",
      "hyponym: Franklin D. Roosevelt | hypernyms:stazione, politico, governante, persona, statista, capo di stato, stazione metropolitana, leader, presidente,\n",
      "hyponym: sassone | hypernyms:germanico, etnia, lingua,\n",
      "hyponym: stadio di baseball | hypernyms:arena, palazzetto dello sport, stadio, impianto, impianto sportivo, struttura architettonica, edificio, edificio pubblico,\n",
      "hyponym: pantofola | hypernyms:scarpa, calzare, calzatura, indumento, ciabatta, flip-flop, bene di consumo, copertura,\n",
      "hyponym: costituzione | hypernyms:legge, cominciamento, incominciamento, integrazione, scrittura, avviamento, carta, atto pubblico, regola, documento,\n",
      "hyponym: sterlina britannica | hypernyms:moneta, valuta, moneta circolante, unità monetaria, denaro, danaro,\n"
     ]
    }
   ],
   "source": [
    "# 1 - 2 - 5 - 15 - 30 - 50\n",
    "options = [1, 2, 5, 15, 30, 50]\n",
    "\n",
    "for num_few_shot in options:\n",
    "\n",
    "    resulting_prompt = ''\n",
    "\n",
    "    for i in range(num_few_shot):\n",
    "        resulting_prompt += '\\n'\n",
    "        elem = train[i]\n",
    "        case = elem['case']\n",
    "        processed_term, target = transforms[case](elem)\n",
    "        resulting_prompt += processed_term + target\n",
    "\n",
    "    print(resulting_prompt)\n",
    "    with open(f'./few_shots/italian_{num_few_shot}shot.txt', 'w') as f:\n",
    "        f.write(resulting_prompt)"
   ]
  },
  {
   "cell_type": "code",
   "execution_count": 32,
   "metadata": {},
   "outputs": [
    {
     "name": "stdout",
     "output_type": "stream",
     "text": [
      "\n",
      "hyponym: sátrapa | hypernyms:título nobiliario, gobernador, honorífico, político, dirigente, autoridad, líder, persona,\n",
      "\n",
      "hyponym: sátrapa | hypernyms:título nobiliario, gobernador, honorífico, político, dirigente, autoridad, líder, persona,\n",
      "hyponym: lengüeta | hypernyms:aleteo, instrumento de viento-madera, instrumento musical,\n",
      "\n",
      "hyponym: sátrapa | hypernyms:título nobiliario, gobernador, honorífico, político, dirigente, autoridad, líder, persona,\n",
      "hyponym: lengüeta | hypernyms:aleteo, instrumento de viento-madera, instrumento musical,\n",
      "hyponym: rocalla | hypernyms:jardín, espacio, extensión, vecindad,\n",
      "hyponym: bacinilla | hypernym:recipiente,\n",
      "hyponym: linfangitis | hypernyms:inflamación, síntoma, afección, patología, dolencia, enfermedad, mal, signo clínico,\n",
      "\n",
      "hyponym: sátrapa | hypernyms:título nobiliario, gobernador, honorífico, político, dirigente, autoridad, líder, persona,\n",
      "hyponym: lengüeta | hypernyms:aleteo, instrumento de viento-madera, instrumento musical,\n",
      "hyponym: rocalla | hypernyms:jardín, espacio, extensión, vecindad,\n",
      "hyponym: bacinilla | hypernym:recipiente,\n",
      "hyponym: linfangitis | hypernyms:inflamación, síntoma, afección, patología, dolencia, enfermedad, mal, signo clínico,\n",
      "hyponym: topología | hypernyms:configuración, trazado, asignatura, ordenación,\n",
      "hyponym: mirlo | hypernyms:ave, pájaro, animal, vertebrado,\n",
      "hyponym: Lynch Mob | hypernyms:agrupación musical, banda de música, banda, grupo de rock, banda de rock, equipo,\n",
      "hyponym: molienda | hypernyms:prensa, empuje,\n",
      "hyponym: tecladista | hypernyms:instrumentista, músico, instrumentalista, persona,\n",
      "hyponym: estación de tren | hypernyms:terminal, estación de trenes, cochera, estación, edificio, edificación, estructura arquitectónica,\n",
      "hyponym: cantinero | hypernyms:camarero, barman, trabajador, empleado, persona,\n",
      "hyponym: plato | hypernyms:instrumento de percusión, idiófono, chapa, plancha, lámina, instrumento musical, instrumento,\n",
      "hyponym: liberalismo | hypernyms:perspectiva, método,\n",
      "hyponym: trampa | hypernyms:vía de acceso, ingreso, acceso, boca, puerta, guile, astucia, engaño, fingimiento, disimulación, fraude, mentira, impostura, táctica militar, máquina, artimaña, ardid, estratagema, truco, subterfugio, argucia, deshonestidad, falsificación, estrategia, plan de acción, acción voluntaria, operación, operación militar,\n",
      "\n",
      "hyponym: sátrapa | hypernyms:título nobiliario, gobernador, honorífico, político, dirigente, autoridad, líder, persona,\n",
      "hyponym: lengüeta | hypernyms:aleteo, instrumento de viento-madera, instrumento musical,\n",
      "hyponym: rocalla | hypernyms:jardín, espacio, extensión, vecindad,\n",
      "hyponym: bacinilla | hypernym:recipiente,\n",
      "hyponym: linfangitis | hypernyms:inflamación, síntoma, afección, patología, dolencia, enfermedad, mal, signo clínico,\n",
      "hyponym: topología | hypernyms:configuración, trazado, asignatura, ordenación,\n",
      "hyponym: mirlo | hypernyms:ave, pájaro, animal, vertebrado,\n",
      "hyponym: Lynch Mob | hypernyms:agrupación musical, banda de música, banda, grupo de rock, banda de rock, equipo,\n",
      "hyponym: molienda | hypernyms:prensa, empuje,\n",
      "hyponym: tecladista | hypernyms:instrumentista, músico, instrumentalista, persona,\n",
      "hyponym: estación de tren | hypernyms:terminal, estación de trenes, cochera, estación, edificio, edificación, estructura arquitectónica,\n",
      "hyponym: cantinero | hypernyms:camarero, barman, trabajador, empleado, persona,\n",
      "hyponym: plato | hypernyms:instrumento de percusión, idiófono, chapa, plancha, lámina, instrumento musical, instrumento,\n",
      "hyponym: liberalismo | hypernyms:perspectiva, método,\n",
      "hyponym: trampa | hypernyms:vía de acceso, ingreso, acceso, boca, puerta, guile, astucia, engaño, fingimiento, disimulación, fraude, mentira, impostura, táctica militar, máquina, artimaña, ardid, estratagema, truco, subterfugio, argucia, deshonestidad, falsificación, estrategia, plan de acción, acción voluntaria, operación, operación militar,\n",
      "hyponym: protector de pantalla | hypernyms:programa informático, programa de computación, programa de ordenador, utilidad, programa de servicio, patrón, software, programa del sistema, software de sistema, código informático,\n",
      "hyponym: ingeniero civil | hypernyms:ingeniero, persona,\n",
      "hyponym: sucursal | hypernyms:división, departamento, institución financiera, firma, compañía, almacén, tienda, estructura social,\n",
      "hyponym: almizcle | hypernyms:pista, olor, perfume, secreción,\n",
      "hyponym: Maracay | hypernyms:metrópolis, zona metropolitana, metrópoli, aglomeración urbana, urbe, ciudad, área metropolitana, centro urbano, área urbana, entidad territorial,\n",
      "hyponym: astigmatismo | hypernyms:condición, afección, patología, enfermedad, defecto visual, trastorno visual, deficiencia visual, discapacidad, minusvalía,\n",
      "hyponym: abadía | hypernyms:convento, monasterio, edificio, edificación, iglesia, claustro, estructura arquitectónica, templo, lugar de culto,\n",
      "hyponym: centésimo | hypernyms:fracción simple, fracción común, quebrado, fracción, cantidad definida,\n",
      "hyponym: telencéfalo | hypernyms:estructura neurológica, estructura anatómica, parte corporal, parte del cuerpo,\n",
      "hyponym: tráfico | hypernyms:mercado, venta, mercadeo, fenómeno,\n",
      "hyponym: pretor | hypernyms:juez, togado, magistrado, honorífico, jurista, experto legal, persona,\n",
      "hyponym: virus informático | hypernyms:programa informático, programa de computación, programa de ordenador, malware, software, código informático,\n",
      "hyponym: libra esterlina | hypernyms:divisa, moneda, dinero, unidad monetaria,\n",
      "hyponym: esclavitud | hypernym:sometimiento,\n",
      "hyponym: Chablis | hypernyms:vino blanco, vino, varietal, vino varietal, bebida alcohólica, alcohol, bebida, líquido,\n",
      "\n",
      "hyponym: sátrapa | hypernyms:título nobiliario, gobernador, honorífico, político, dirigente, autoridad, líder, persona,\n",
      "hyponym: lengüeta | hypernyms:aleteo, instrumento de viento-madera, instrumento musical,\n",
      "hyponym: rocalla | hypernyms:jardín, espacio, extensión, vecindad,\n",
      "hyponym: bacinilla | hypernym:recipiente,\n",
      "hyponym: linfangitis | hypernyms:inflamación, síntoma, afección, patología, dolencia, enfermedad, mal, signo clínico,\n",
      "hyponym: topología | hypernyms:configuración, trazado, asignatura, ordenación,\n",
      "hyponym: mirlo | hypernyms:ave, pájaro, animal, vertebrado,\n",
      "hyponym: Lynch Mob | hypernyms:agrupación musical, banda de música, banda, grupo de rock, banda de rock, equipo,\n",
      "hyponym: molienda | hypernyms:prensa, empuje,\n",
      "hyponym: tecladista | hypernyms:instrumentista, músico, instrumentalista, persona,\n",
      "hyponym: estación de tren | hypernyms:terminal, estación de trenes, cochera, estación, edificio, edificación, estructura arquitectónica,\n",
      "hyponym: cantinero | hypernyms:camarero, barman, trabajador, empleado, persona,\n",
      "hyponym: plato | hypernyms:instrumento de percusión, idiófono, chapa, plancha, lámina, instrumento musical, instrumento,\n",
      "hyponym: liberalismo | hypernyms:perspectiva, método,\n",
      "hyponym: trampa | hypernyms:vía de acceso, ingreso, acceso, boca, puerta, guile, astucia, engaño, fingimiento, disimulación, fraude, mentira, impostura, táctica militar, máquina, artimaña, ardid, estratagema, truco, subterfugio, argucia, deshonestidad, falsificación, estrategia, plan de acción, acción voluntaria, operación, operación militar,\n",
      "hyponym: protector de pantalla | hypernyms:programa informático, programa de computación, programa de ordenador, utilidad, programa de servicio, patrón, software, programa del sistema, software de sistema, código informático,\n",
      "hyponym: ingeniero civil | hypernyms:ingeniero, persona,\n",
      "hyponym: sucursal | hypernyms:división, departamento, institución financiera, firma, compañía, almacén, tienda, estructura social,\n",
      "hyponym: almizcle | hypernyms:pista, olor, perfume, secreción,\n",
      "hyponym: Maracay | hypernyms:metrópolis, zona metropolitana, metrópoli, aglomeración urbana, urbe, ciudad, área metropolitana, centro urbano, área urbana, entidad territorial,\n",
      "hyponym: astigmatismo | hypernyms:condición, afección, patología, enfermedad, defecto visual, trastorno visual, deficiencia visual, discapacidad, minusvalía,\n",
      "hyponym: abadía | hypernyms:convento, monasterio, edificio, edificación, iglesia, claustro, estructura arquitectónica, templo, lugar de culto,\n",
      "hyponym: centésimo | hypernyms:fracción simple, fracción común, quebrado, fracción, cantidad definida,\n",
      "hyponym: telencéfalo | hypernyms:estructura neurológica, estructura anatómica, parte corporal, parte del cuerpo,\n",
      "hyponym: tráfico | hypernyms:mercado, venta, mercadeo, fenómeno,\n",
      "hyponym: pretor | hypernyms:juez, togado, magistrado, honorífico, jurista, experto legal, persona,\n",
      "hyponym: virus informático | hypernyms:programa informático, programa de computación, programa de ordenador, malware, software, código informático,\n",
      "hyponym: libra esterlina | hypernyms:divisa, moneda, dinero, unidad monetaria,\n",
      "hyponym: esclavitud | hypernym:sometimiento,\n",
      "hyponym: Chablis | hypernyms:vino blanco, vino, varietal, vino varietal, bebida alcohólica, alcohol, bebida, líquido,\n",
      "hyponym: Ferdinand de Saussure | hypernyms:filósofo, lingüista, erudito, sabio, docto, estudioso, persona, intelectual,\n",
      "hyponym: Carlos de Valois | hypernyms:monarca, soberano, rey, persona, jefe de estado, mandatario, gobernante, gobernador,\n",
      "hyponym: Erinias | hypernyms:criatura mitológica, criatura mítica, animal legendario, animal mítico, deidad, monstruo, personaje,\n",
      "hyponym: cuervo | hypernyms:ave, pájaro, animal, vertebrado,\n",
      "hyponym: Los Andes | hypernyms:estación ferroviaria, estación de ferrocarril, estación de tren, estación, provincia, ciudad, municipio, urbe, terminal, estación de trenes, centro urbano, población urbana, área urbana, entidad territorial, zona metropolitana, aglomeración urbana, área metropolitana,\n",
      "hyponym: proteólisis | hypernyms:catabolismo, cambio químico, proceso químico, ruta metabólica, reacción química,\n",
      "hyponym: quilombo | hypernyms:error, fallo, equivocación, colonización,\n",
      "hyponym: Renacimiento de Harlem | hypernyms:edad, época, movimiento cultural, período, movimiento, movimiento social, etapa, acción social,\n",
      "hyponym: ansiedad | hypernyms:angustia, condición psicológica, condición mental, estado mental, condición, predisposición, inclinación,\n",
      "hyponym: postimpresionismo | hypernyms:movimiento artístico, movimiento social, movimiento,\n",
      "hyponym: Ion Iliescu | hypernyms:político, presidente, dirigente, autoridad, líder, persona, jefe de estado, mandatario,\n",
      "hyponym: hockey | hypernyms:juego deportivo, deporte de equipo, deporte, deporte de pelota, juego de pelota, contienda,\n",
      "hyponym: timonel | hypernyms:marinero, tripulante, marino, persona,\n",
      "hyponym: deflagración | hypernyms:combustión, oxidación, reacción química, proceso químico,\n",
      "hyponym: hoya | hypernyms:trepadora, escandente, enredadera, planta, planta vascular, angiosperma,\n",
      "hyponym: carburador | hypernym:máquina,\n",
      "hyponym: caja registradora | hypernyms:arca, caja fuerte, caja, equipamiento,\n",
      "hyponym: cava | hypernyms:vino, depósito, bebida alcohólica, alcohol, zona, bebida, líquido, fluido,\n",
      "hyponym: camiseta | hypernyms:lencería, ropa interior, camisa, vestimenta, indumentaria, ropa, vestuario, prenda, prenda de vestir, indumento, vestido,\n",
      "hyponym: frisón | hypernyms:caballo, equino, vertebrado, animal, lengua, lenguaje, germánico, germánico occidental, lengua natural,\n"
     ]
    }
   ],
   "source": [
    "with open('./custom_datasets/1C.spanish_train.pickle', 'rb') as f:\n",
    "    train = pickle.load(f)\n",
    "\n",
    "# 1 - 2 - 5 - 15 - 30 - 50\n",
    "options = [1, 2, 5, 15, 30, 50]\n",
    "\n",
    "for num_few_shot in options:\n",
    "\n",
    "    resulting_prompt = ''\n",
    "\n",
    "    for i in range(num_few_shot):\n",
    "        resulting_prompt += '\\n'\n",
    "        elem = train[i]\n",
    "        case = elem['case']\n",
    "        processed_term, target = transforms[case](elem)\n",
    "        resulting_prompt += processed_term + target\n",
    "\n",
    "    print(resulting_prompt)\n",
    "    with open(f'./few_shots/spanish_{num_few_shot}shot.txt', 'w') as f:\n",
    "        f.write(resulting_prompt)"
   ]
  },
  {
   "cell_type": "code",
   "execution_count": 16,
   "metadata": {},
   "outputs": [],
   "source": []
  },
  {
   "cell_type": "code",
   "execution_count": 18,
   "metadata": {},
   "outputs": [],
   "source": [
    "from pipeline_src.dataset.dataset import HypernymDataset\n",
    "from transformers import AutoTokenizer"
   ]
  },
  {
   "cell_type": "code",
   "execution_count": 19,
   "metadata": {},
   "outputs": [
    {
     "data": {
      "application/vnd.jupyter.widget-view+json": {
       "model_id": "53254ef5c6ac44139872acf08e14f3d0",
       "version_major": 2,
       "version_minor": 0
      },
      "text/plain": [
       "Downloading config.json:   0%|          | 0.00/665 [00:00<?, ?B/s]"
      ]
     },
     "metadata": {},
     "output_type": "display_data"
    },
    {
     "data": {
      "application/vnd.jupyter.widget-view+json": {
       "model_id": "08859bea18344d508030647371c6dd99",
       "version_major": 2,
       "version_minor": 0
      },
      "text/plain": [
       "Downloading vocab.json:   0%|          | 0.00/1.04M [00:00<?, ?B/s]"
      ]
     },
     "metadata": {},
     "output_type": "display_data"
    },
    {
     "data": {
      "application/vnd.jupyter.widget-view+json": {
       "model_id": "c82df4c9348146b4ae758a2bffba3440",
       "version_major": 2,
       "version_minor": 0
      },
      "text/plain": [
       "Downloading merges.txt:   0%|          | 0.00/456k [00:00<?, ?B/s]"
      ]
     },
     "metadata": {},
     "output_type": "display_data"
    },
    {
     "data": {
      "application/vnd.jupyter.widget-view+json": {
       "model_id": "c4d1c6cbd3ca47c985779575706e1933",
       "version_major": 2,
       "version_minor": 0
      },
      "text/plain": [
       "Downloading tokenizer.json:   0%|          | 0.00/1.36M [00:00<?, ?B/s]"
      ]
     },
     "metadata": {},
     "output_type": "display_data"
    }
   ],
   "source": [
    "tokenizer = AutoTokenizer.from_pretrained('gpt2')"
   ]
  },
  {
   "cell_type": "code",
   "execution_count": 20,
   "metadata": {},
   "outputs": [],
   "source": [
    "with open('./few_shots/italian_5shot.txt', 'r') as f:\n",
    "    few_shot_text = f.readlines()\n"
   ]
  },
  {
   "cell_type": "code",
   "execution_count": 24,
   "metadata": {},
   "outputs": [
    {
     "data": {
      "text/plain": [
       "'\\nhyponym: sesto | hypernyms:grado, numero ordinale, frazione, carica,\\nhyponym: Sigillo | hypernyms:comune, municipalità, comune italiano, frazione, paese, quartiere, comunità, borgo,\\nhyponym: toga | hypernyms:comune, mantella, indumento, vestito, mantello, veste, abito, costume,\\nhyponym: Eduard Buchner | hypernyms:accademico, persona, professore, biochimico, scienziato, chimico, scopritore, docente,\\nhyponym: montagna | hypernyms:panorama, grande quantità, rilievo,'"
      ]
     },
     "execution_count": 24,
     "metadata": {},
     "output_type": "execute_result"
    }
   ],
   "source": [
    "''.join(few_shot_text)"
   ]
  },
  {
   "cell_type": "code",
   "execution_count": 25,
   "metadata": {},
   "outputs": [],
   "source": [
    "dataset = HypernymDataset(\n",
    "    './custom_datasets/1B.italian.pickle',\n",
    "    tokenizer,\n",
    "    few_shot_text=''.join(few_shot_text)\n",
    ")"
   ]
  },
  {
   "cell_type": "code",
   "execution_count": 27,
   "metadata": {},
   "outputs": [],
   "source": [
    "batch = dataset[0]"
   ]
  },
  {
   "cell_type": "code",
   "execution_count": 28,
   "metadata": {},
   "outputs": [
    {
     "data": {
      "text/plain": [
       "'<s>[INST] <<SYS>> You are a helpfull assistant. List all the possible words divided with a coma. Your answer should not include anything except the words divided by a coma<</SYS>>\\nhyponym: sesto | hypernyms:grado, numero ordinale, frazione, carica,\\nhyponym: Sigillo | hypernyms:comune, municipalità, comune italiano, frazione, paese, quartiere, comunità, borgo,\\nhyponym: toga | hypernyms:comune, mantella, indumento, vestito, mantello, veste, abito, costume,\\nhyponym: Eduard Buchner | hypernyms:accademico, persona, professore, biochimico, scienziato, chimico, scopritore, docente,\\nhyponym: montagna | hypernyms:panorama, grande quantità, rilievo,\\nhyponym: tecnologia | hypernyms:[/INST]'"
      ]
     },
     "execution_count": 28,
     "metadata": {},
     "output_type": "execute_result"
    }
   ],
   "source": [
    "tokenizer.decode(batch['encoded_term'])"
   ]
  },
  {
   "cell_type": "code",
   "execution_count": null,
   "metadata": {},
   "outputs": [],
   "source": []
  }
 ],
 "metadata": {
  "kernelspec": {
   "display_name": "Python 3",
   "language": "python",
   "name": "python3"
  },
  "language_info": {
   "codemirror_mode": {
    "name": "ipython",
    "version": 3
   },
   "file_extension": ".py",
   "mimetype": "text/x-python",
   "name": "python",
   "nbconvert_exporter": "python",
   "pygments_lexer": "ipython3",
   "version": "3.10.12"
  }
 },
 "nbformat": 4,
 "nbformat_minor": 2
}
